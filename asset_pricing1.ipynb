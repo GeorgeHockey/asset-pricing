{
 "metadata": {
  "language_info": {
   "codemirror_mode": {
    "name": "ipython",
    "version": 3
   },
   "file_extension": ".py",
   "mimetype": "text/x-python",
   "name": "python",
   "nbconvert_exporter": "python",
   "pygments_lexer": "ipython3",
   "version": "3.8.3-final"
  },
  "orig_nbformat": 2,
  "kernelspec": {
   "name": "python3",
   "display_name": "Python 3",
   "language": "python"
  }
 },
 "nbformat": 4,
 "nbformat_minor": 2,
 "cells": [
  {
   "cell_type": "code",
   "execution_count": 26,
   "metadata": {},
   "outputs": [],
   "source": [
    "import pandas as pd\n",
    "import numpy as np\n",
    "import seaborn as sns\n",
    "import matplotlib.pyplot as plt\n",
    "import statsmodels.api as sm"
   ]
  },
  {
   "source": [
    "Question 1 \n",
    "------------------------------------------------------------------------------"
   ],
   "cell_type": "markdown",
   "metadata": {}
  },
  {
   "cell_type": "code",
   "execution_count": 27,
   "metadata": {},
   "outputs": [],
   "source": [
    "data = pd.read_csv(\"data/25_Portfolios_5x5.csv\",skiprows=15,index_col=\"DATE\",parse_dates=True,nrows=1134)\n",
    "data = data.dropna()\n",
    "data.index = pd.to_datetime(data.index,format=\"%Y%m\")\n",
    "factors = pd.read_csv(\"data/F-F_Research_Data_Factors.csv\",skiprows=3,index_col=0,parse_dates=True,nrows=1134)\n",
    "factors = factors.dropna()\n",
    "factors.index = pd.to_datetime(factors.index,format=\"%Y%m\")\n",
    "rm = factors[\"Mkt-RF\"]\n",
    "rf = factors[\"RF\"]"
   ]
  },
  {
   "cell_type": "code",
   "execution_count": 28,
   "metadata": {},
   "outputs": [],
   "source": [
    "data = data[\"1963-07-01\":\"2020-06-01\"]\n",
    "rm = rm[\"1963-07-01\":\"2020-06-01\"]\n",
    "rf = rf[\"1963-07-01\":\"2020-06-01\"]"
   ]
  },
  {
   "cell_type": "code",
   "execution_count": 40,
   "metadata": {},
   "outputs": [
    {
     "output_type": "execute_result",
     "data": {
      "text/plain": [
       "       LoBM   BM2   BM3   BM4  HiBM\n",
       "SMALL  0.67  1.17  1.13  1.31  1.39\n",
       "ME2    0.89  1.13  1.22  1.22  1.30\n",
       "ME3    0.92  1.16  1.09  1.23  1.29\n",
       "ME4    1.02  0.99  1.05  1.17  1.17\n",
       "BIG    0.92  0.89  0.92  0.85  0.98"
      ],
      "text/html": "<div>\n<style scoped>\n    .dataframe tbody tr th:only-of-type {\n        vertical-align: middle;\n    }\n\n    .dataframe tbody tr th {\n        vertical-align: top;\n    }\n\n    .dataframe thead th {\n        text-align: right;\n    }\n</style>\n<table border=\"1\" class=\"dataframe\">\n  <thead>\n    <tr style=\"text-align: right;\">\n      <th></th>\n      <th>LoBM</th>\n      <th>BM2</th>\n      <th>BM3</th>\n      <th>BM4</th>\n      <th>HiBM</th>\n    </tr>\n  </thead>\n  <tbody>\n    <tr>\n      <th>SMALL</th>\n      <td>0.67</td>\n      <td>1.17</td>\n      <td>1.13</td>\n      <td>1.31</td>\n      <td>1.39</td>\n    </tr>\n    <tr>\n      <th>ME2</th>\n      <td>0.89</td>\n      <td>1.13</td>\n      <td>1.22</td>\n      <td>1.22</td>\n      <td>1.30</td>\n    </tr>\n    <tr>\n      <th>ME3</th>\n      <td>0.92</td>\n      <td>1.16</td>\n      <td>1.09</td>\n      <td>1.23</td>\n      <td>1.29</td>\n    </tr>\n    <tr>\n      <th>ME4</th>\n      <td>1.02</td>\n      <td>0.99</td>\n      <td>1.05</td>\n      <td>1.17</td>\n      <td>1.17</td>\n    </tr>\n    <tr>\n      <th>BIG</th>\n      <td>0.92</td>\n      <td>0.89</td>\n      <td>0.92</td>\n      <td>0.85</td>\n      <td>0.98</td>\n    </tr>\n  </tbody>\n</table>\n</div>"
     },
     "metadata": {},
     "execution_count": 40
    }
   ],
   "source": [
    "arith_mean = data.mean(0)\n",
    "simple_mean = pd.DataFrame(np.zeros((5,5)),index=[\"SMALL\",\"ME2\",\"ME3\",\"ME4\",\"BIG\"],columns=[\"LoBM\",\"BM2\",\"BM3\",\"BM4\",\"HiBM\"])\n",
    "for r in range(0,5):\n",
    "    for c in range(0,5):\n",
    "        n = r * 5 + c\n",
    "        simple_mean.iloc[r,c] = arith_mean[n]\n",
    "simple_mean.round(2)"
   ]
  },
  {
   "cell_type": "code",
   "execution_count": 30,
   "metadata": {},
   "outputs": [],
   "source": [
    "excess_data = data.subtract(rf,axis=0)"
   ]
  },
  {
   "cell_type": "code",
   "execution_count": 31,
   "metadata": {},
   "outputs": [],
   "source": [
    "betas = {}\n",
    "for column in excess_data:\n",
    "    res = sm.OLS(excess_data[column],rm,cov_type=\"HC0\").fit()\n",
    "    betas[column] = res.params\n",
    "betas = pd.DataFrame(betas).T\n",
    "\n",
    "betas = betas.squeeze()"
   ]
  },
  {
   "cell_type": "code",
   "execution_count": 39,
   "metadata": {},
   "outputs": [
    {
     "output_type": "execute_result",
     "data": {
      "text/plain": [
       "       LoBM   BM2   BM3   BM4  HiBM\n",
       "SMALL  1.41  1.25  1.12  1.05  1.09\n",
       "ME2    1.39  1.19  1.07  1.03  1.16\n",
       "ME3    1.32  1.13  1.02  1.00  1.09\n",
       "ME4    1.22  1.09  1.02  0.99  1.10\n",
       "BIG    0.98  0.93  0.87  0.89  0.98"
      ],
      "text/html": "<div>\n<style scoped>\n    .dataframe tbody tr th:only-of-type {\n        vertical-align: middle;\n    }\n\n    .dataframe tbody tr th {\n        vertical-align: top;\n    }\n\n    .dataframe thead th {\n        text-align: right;\n    }\n</style>\n<table border=\"1\" class=\"dataframe\">\n  <thead>\n    <tr style=\"text-align: right;\">\n      <th></th>\n      <th>LoBM</th>\n      <th>BM2</th>\n      <th>BM3</th>\n      <th>BM4</th>\n      <th>HiBM</th>\n    </tr>\n  </thead>\n  <tbody>\n    <tr>\n      <th>SMALL</th>\n      <td>1.41</td>\n      <td>1.25</td>\n      <td>1.12</td>\n      <td>1.05</td>\n      <td>1.09</td>\n    </tr>\n    <tr>\n      <th>ME2</th>\n      <td>1.39</td>\n      <td>1.19</td>\n      <td>1.07</td>\n      <td>1.03</td>\n      <td>1.16</td>\n    </tr>\n    <tr>\n      <th>ME3</th>\n      <td>1.32</td>\n      <td>1.13</td>\n      <td>1.02</td>\n      <td>1.00</td>\n      <td>1.09</td>\n    </tr>\n    <tr>\n      <th>ME4</th>\n      <td>1.22</td>\n      <td>1.09</td>\n      <td>1.02</td>\n      <td>0.99</td>\n      <td>1.10</td>\n    </tr>\n    <tr>\n      <th>BIG</th>\n      <td>0.98</td>\n      <td>0.93</td>\n      <td>0.87</td>\n      <td>0.89</td>\n      <td>0.98</td>\n    </tr>\n  </tbody>\n</table>\n</div>"
     },
     "metadata": {},
     "execution_count": 39
    }
   ],
   "source": [
    "beta_table = pd.DataFrame(np.zeros((5,5)),index=[\"SMALL\",\"ME2\",\"ME3\",\"ME4\",\"BIG\"],columns=[\"LoBM\",\"BM2\",\"BM3\",\"BM4\",\"HiBM\"])\n",
    "for r in range(0,5):\n",
    "    for c in range(0,5):\n",
    "        n = r * 5 + c\n",
    "        beta_table.iloc[r,c] = betas[n]\n",
    "beta_table.round(2)"
   ]
  },
  {
   "cell_type": "code",
   "execution_count": 37,
   "metadata": {},
   "outputs": [
    {
     "output_type": "execute_result",
     "data": {
      "text/plain": [
       "       LoBM   BM2   BM3   BM4  HiBM\n",
       "SMALL  7.92  6.95  6.02  5.78  6.06\n",
       "ME2    7.16  6.02  5.45  5.33  6.18\n",
       "ME3    6.57  5.49  5.01  5.05  5.79\n",
       "ME4    5.87  5.14  4.99  4.97  5.76\n",
       "BIG    4.60  4.41  4.31  4.72  5.57"
      ],
      "text/html": "<div>\n<style scoped>\n    .dataframe tbody tr th:only-of-type {\n        vertical-align: middle;\n    }\n\n    .dataframe tbody tr th {\n        vertical-align: top;\n    }\n\n    .dataframe thead th {\n        text-align: right;\n    }\n</style>\n<table border=\"1\" class=\"dataframe\">\n  <thead>\n    <tr style=\"text-align: right;\">\n      <th></th>\n      <th>LoBM</th>\n      <th>BM2</th>\n      <th>BM3</th>\n      <th>BM4</th>\n      <th>HiBM</th>\n    </tr>\n  </thead>\n  <tbody>\n    <tr>\n      <th>SMALL</th>\n      <td>7.92</td>\n      <td>6.95</td>\n      <td>6.02</td>\n      <td>5.78</td>\n      <td>6.06</td>\n    </tr>\n    <tr>\n      <th>ME2</th>\n      <td>7.16</td>\n      <td>6.02</td>\n      <td>5.45</td>\n      <td>5.33</td>\n      <td>6.18</td>\n    </tr>\n    <tr>\n      <th>ME3</th>\n      <td>6.57</td>\n      <td>5.49</td>\n      <td>5.01</td>\n      <td>5.05</td>\n      <td>5.79</td>\n    </tr>\n    <tr>\n      <th>ME4</th>\n      <td>5.87</td>\n      <td>5.14</td>\n      <td>4.99</td>\n      <td>4.97</td>\n      <td>5.76</td>\n    </tr>\n    <tr>\n      <th>BIG</th>\n      <td>4.60</td>\n      <td>4.41</td>\n      <td>4.31</td>\n      <td>4.72</td>\n      <td>5.57</td>\n    </tr>\n  </tbody>\n</table>\n</div>"
     },
     "metadata": {},
     "execution_count": 37
    }
   ],
   "source": [
    "# Standard deviation\n",
    "stds = data.std(0)\n",
    "std_dev = pd.DataFrame(np.zeros((5,5)),index=[\"SMALL\",\"ME2\",\"ME3\",\"ME4\",\"BIG\"],columns=[\"LoBM\",\"BM2\",\"BM3\",\"BM4\",\"HiBM\"])\n",
    "for r in range(0,5):\n",
    "    for c in range(0,5):\n",
    "        n = r * 5 + c\n",
    "        std_dev.iloc[r,c] = stds[n]\n",
    "#print(simple_mean.to_latex())\n",
    "std_dev.round(2)"
   ]
  },
  {
   "cell_type": "code",
   "execution_count": 34,
   "metadata": {},
   "outputs": [
    {
     "output_type": "execute_result",
     "data": {
      "text/plain": [
       "       LoBM   BM2   BM3   BM4  HiBM\n",
       "SMALL  0.13  0.40  0.43  0.56  0.58\n",
       "ME2    0.25  0.43  0.54  0.55  0.52\n",
       "ME3    0.29  0.49  0.49  0.59  0.55\n",
       "ME4    0.38  0.41  0.47  0.55  0.48\n",
       "BIG    0.41  0.40  0.44  0.35  0.38"
      ],
      "text/html": "<div>\n<style scoped>\n    .dataframe tbody tr th:only-of-type {\n        vertical-align: middle;\n    }\n\n    .dataframe tbody tr th {\n        vertical-align: top;\n    }\n\n    .dataframe thead th {\n        text-align: right;\n    }\n</style>\n<table border=\"1\" class=\"dataframe\">\n  <thead>\n    <tr style=\"text-align: right;\">\n      <th></th>\n      <th>LoBM</th>\n      <th>BM2</th>\n      <th>BM3</th>\n      <th>BM4</th>\n      <th>HiBM</th>\n    </tr>\n  </thead>\n  <tbody>\n    <tr>\n      <th>SMALL</th>\n      <td>0.13</td>\n      <td>0.40</td>\n      <td>0.43</td>\n      <td>0.56</td>\n      <td>0.58</td>\n    </tr>\n    <tr>\n      <th>ME2</th>\n      <td>0.25</td>\n      <td>0.43</td>\n      <td>0.54</td>\n      <td>0.55</td>\n      <td>0.52</td>\n    </tr>\n    <tr>\n      <th>ME3</th>\n      <td>0.29</td>\n      <td>0.49</td>\n      <td>0.49</td>\n      <td>0.59</td>\n      <td>0.55</td>\n    </tr>\n    <tr>\n      <th>ME4</th>\n      <td>0.38</td>\n      <td>0.41</td>\n      <td>0.47</td>\n      <td>0.55</td>\n      <td>0.48</td>\n    </tr>\n    <tr>\n      <th>BIG</th>\n      <td>0.41</td>\n      <td>0.40</td>\n      <td>0.44</td>\n      <td>0.35</td>\n      <td>0.38</td>\n    </tr>\n  </tbody>\n</table>\n</div>"
     },
     "metadata": {},
     "execution_count": 34
    }
   ],
   "source": [
    "# Sharpe ratio\n",
    "sharpe = ((simple_mean - rf.mean())/std_dev) * np.sqrt(12)\n",
    "sharpe"
   ]
  },
  {
   "cell_type": "code",
   "execution_count": 42,
   "metadata": {},
   "outputs": [
    {
     "output_type": "execute_result",
     "data": {
      "text/plain": [
       "       LoBM   BM2   BM3   BM4  HiBM\n",
       "SMALL  2.22  4.39  4.92  5.92  6.01\n",
       "ME2    3.25  4.93  5.84  6.00  5.51\n",
       "ME3    3.65  5.54  5.70  6.39  5.80\n",
       "ME4    4.56  5.04  5.50  6.16  5.31\n",
       "BIG    5.26  5.31  5.60  4.72  4.62"
      ],
      "text/html": "<div>\n<style scoped>\n    .dataframe tbody tr th:only-of-type {\n        vertical-align: middle;\n    }\n\n    .dataframe tbody tr th {\n        vertical-align: top;\n    }\n\n    .dataframe thead th {\n        text-align: right;\n    }\n</style>\n<table border=\"1\" class=\"dataframe\">\n  <thead>\n    <tr style=\"text-align: right;\">\n      <th></th>\n      <th>LoBM</th>\n      <th>BM2</th>\n      <th>BM3</th>\n      <th>BM4</th>\n      <th>HiBM</th>\n    </tr>\n  </thead>\n  <tbody>\n    <tr>\n      <th>SMALL</th>\n      <td>2.22</td>\n      <td>4.39</td>\n      <td>4.92</td>\n      <td>5.92</td>\n      <td>6.01</td>\n    </tr>\n    <tr>\n      <th>ME2</th>\n      <td>3.25</td>\n      <td>4.93</td>\n      <td>5.84</td>\n      <td>6.00</td>\n      <td>5.51</td>\n    </tr>\n    <tr>\n      <th>ME3</th>\n      <td>3.65</td>\n      <td>5.54</td>\n      <td>5.70</td>\n      <td>6.39</td>\n      <td>5.80</td>\n    </tr>\n    <tr>\n      <th>ME4</th>\n      <td>4.56</td>\n      <td>5.04</td>\n      <td>5.50</td>\n      <td>6.16</td>\n      <td>5.31</td>\n    </tr>\n    <tr>\n      <th>BIG</th>\n      <td>5.26</td>\n      <td>5.31</td>\n      <td>5.60</td>\n      <td>4.72</td>\n      <td>4.62</td>\n    </tr>\n  </tbody>\n</table>\n</div>"
     },
     "metadata": {},
     "execution_count": 42
    }
   ],
   "source": [
    "nobs = data.shape[0]\n",
    "tstats = (simple_mean / (std_dev/np.sqrt(nobs)) )\n",
    "tstats.round(2)"
   ]
  },
  {
   "cell_type": "code",
   "execution_count": 51,
   "metadata": {},
   "outputs": [
    {
     "output_type": "execute_result",
     "data": {
      "text/plain": [
       "            SMALL LoBM  ME1 BM2  ME1 BM3  ME1 BM4  SMALL HiBM  ME2 BM1  \\\n",
       "DATE                                                                     \n",
       "1963-07-01      1.1307  -0.1481   0.5563   0.1097     -1.3212  -1.8071   \n",
       "1963-08-01      4.2370   1.4831   1.3214   2.3701      4.6745   5.5665   \n",
       "1963-09-01     -2.8878   0.7027  -1.0869  -1.5812     -0.3581  -4.0502   \n",
       "1963-10-01      1.2885  -0.6491   1.2443   0.1000      2.3724   1.1916   \n",
       "1963-11-01     -3.3751  -4.0355  -1.5969  -1.0548     -1.0454  -4.2561   \n",
       "...                ...      ...      ...      ...         ...      ...   \n",
       "2020-02-01     -6.1676  -4.2818  -4.1692  -8.4173     -8.5877  -7.5118   \n",
       "2020-03-01    -21.3965 -14.9664 -21.9287 -26.7859    -27.8195 -19.8626   \n",
       "2020-04-01     24.3797  20.8938  14.5475  11.4337     15.8626  19.2871   \n",
       "2020-05-01     13.5510   6.4995   6.6352   4.2937      4.3929  10.1370   \n",
       "2020-06-01     11.0265   2.4121   6.8074   4.4294      6.0512   5.4178   \n",
       "\n",
       "            ME2 BM2  ME2 BM3  ME2 BM4  ME2 BM5  ...  ME4 BM1  ME4 BM2  \\\n",
       "DATE                                            ...                     \n",
       "1963-07-01   0.1899  -0.8445  -1.9644  -1.1889  ...  -0.8456  -1.7052   \n",
       "1963-08-01   4.5191   4.3639   4.4188   8.2329  ...   5.3965   4.7614   \n",
       "1963-09-01  -1.5034  -0.6417  -1.1812  -2.9149  ...  -2.6893  -2.0139   \n",
       "1963-10-01   4.2342   2.3438   2.2012   3.9335  ...  -0.4287   0.9057   \n",
       "1963-11-01  -1.7534  -0.7064  -0.1002  -0.1132  ...  -0.8648  -0.8828   \n",
       "...             ...      ...      ...      ...  ...      ...      ...   \n",
       "2020-02-01  -8.3567 -10.8356 -10.2463 -10.5911  ...  -6.9096  -7.9617   \n",
       "2020-03-01 -19.5344 -21.2570 -23.7718 -32.1435  ... -12.3195 -18.6616   \n",
       "2020-04-01  12.8404  11.9620   9.8927  26.0187  ...  16.7807  14.0032   \n",
       "2020-05-01   7.2505   4.0887   1.4932   6.4071  ...  10.6434   8.2561   \n",
       "2020-06-01   2.9359   3.6917   2.8693   2.8376  ...   2.1565   0.6645   \n",
       "\n",
       "            ME4 BM3  ME4 BM4  ME4 BM5  BIG LoBM  ME5 BM2  ME5 BM3  ME5 BM4  \\\n",
       "DATE                                                                         \n",
       "1963-07-01  -2.0042  -1.6657  -1.8567    0.1401   0.4524   1.2557  -0.4290   \n",
       "1963-08-01   6.2068   7.5619   5.3469    5.7710   4.2230   4.7487   8.1419   \n",
       "1963-09-01  -1.8941  -3.5823  -1.9943   -1.3721  -0.7720  -0.9852  -0.1905   \n",
       "1963-10-01   2.3459   5.3382   0.6113    5.3261   1.7383  -0.2829   2.4150   \n",
       "1963-11-01  -0.4882   1.1451   3.5388   -1.2561   0.9849  -1.5542  -2.1322   \n",
       "...             ...      ...      ...       ...      ...      ...      ...   \n",
       "2020-02-01  -8.8968 -10.8475 -13.4285   -6.9742  -7.9885  -8.9713 -10.7681   \n",
       "2020-03-01 -21.0827 -31.4269 -32.8024   -7.7416 -11.2389 -15.5893 -20.1142   \n",
       "2020-04-01  11.8580  16.2333  17.7799   14.0851  13.6907   9.7413  10.4612   \n",
       "2020-05-01   5.9748   3.3347   1.9301    5.6458   5.5022   3.7983   1.1571   \n",
       "2020-06-01  -0.7638   2.6486   1.8758    5.1105  -1.0308  -0.6403  -1.8727   \n",
       "\n",
       "            BIG HiBM  \n",
       "DATE                  \n",
       "1963-07-01   -1.1026  \n",
       "1963-08-01    6.3824  \n",
       "1963-09-01   -3.4963  \n",
       "1963-10-01    0.4857  \n",
       "1963-11-01    1.3455  \n",
       "...              ...  \n",
       "2020-02-01  -11.7101  \n",
       "2020-03-01  -28.4009  \n",
       "2020-04-01   15.5348  \n",
       "2020-05-01    3.7987  \n",
       "2020-06-01    2.1123  \n",
       "\n",
       "[684 rows x 25 columns]"
      ],
      "text/html": "<div>\n<style scoped>\n    .dataframe tbody tr th:only-of-type {\n        vertical-align: middle;\n    }\n\n    .dataframe tbody tr th {\n        vertical-align: top;\n    }\n\n    .dataframe thead th {\n        text-align: right;\n    }\n</style>\n<table border=\"1\" class=\"dataframe\">\n  <thead>\n    <tr style=\"text-align: right;\">\n      <th></th>\n      <th>SMALL LoBM</th>\n      <th>ME1 BM2</th>\n      <th>ME1 BM3</th>\n      <th>ME1 BM4</th>\n      <th>SMALL HiBM</th>\n      <th>ME2 BM1</th>\n      <th>ME2 BM2</th>\n      <th>ME2 BM3</th>\n      <th>ME2 BM4</th>\n      <th>ME2 BM5</th>\n      <th>...</th>\n      <th>ME4 BM1</th>\n      <th>ME4 BM2</th>\n      <th>ME4 BM3</th>\n      <th>ME4 BM4</th>\n      <th>ME4 BM5</th>\n      <th>BIG LoBM</th>\n      <th>ME5 BM2</th>\n      <th>ME5 BM3</th>\n      <th>ME5 BM4</th>\n      <th>BIG HiBM</th>\n    </tr>\n    <tr>\n      <th>DATE</th>\n      <th></th>\n      <th></th>\n      <th></th>\n      <th></th>\n      <th></th>\n      <th></th>\n      <th></th>\n      <th></th>\n      <th></th>\n      <th></th>\n      <th></th>\n      <th></th>\n      <th></th>\n      <th></th>\n      <th></th>\n      <th></th>\n      <th></th>\n      <th></th>\n      <th></th>\n      <th></th>\n      <th></th>\n    </tr>\n  </thead>\n  <tbody>\n    <tr>\n      <th>1963-07-01</th>\n      <td>1.1307</td>\n      <td>-0.1481</td>\n      <td>0.5563</td>\n      <td>0.1097</td>\n      <td>-1.3212</td>\n      <td>-1.8071</td>\n      <td>0.1899</td>\n      <td>-0.8445</td>\n      <td>-1.9644</td>\n      <td>-1.1889</td>\n      <td>...</td>\n      <td>-0.8456</td>\n      <td>-1.7052</td>\n      <td>-2.0042</td>\n      <td>-1.6657</td>\n      <td>-1.8567</td>\n      <td>0.1401</td>\n      <td>0.4524</td>\n      <td>1.2557</td>\n      <td>-0.4290</td>\n      <td>-1.1026</td>\n    </tr>\n    <tr>\n      <th>1963-08-01</th>\n      <td>4.2370</td>\n      <td>1.4831</td>\n      <td>1.3214</td>\n      <td>2.3701</td>\n      <td>4.6745</td>\n      <td>5.5665</td>\n      <td>4.5191</td>\n      <td>4.3639</td>\n      <td>4.4188</td>\n      <td>8.2329</td>\n      <td>...</td>\n      <td>5.3965</td>\n      <td>4.7614</td>\n      <td>6.2068</td>\n      <td>7.5619</td>\n      <td>5.3469</td>\n      <td>5.7710</td>\n      <td>4.2230</td>\n      <td>4.7487</td>\n      <td>8.1419</td>\n      <td>6.3824</td>\n    </tr>\n    <tr>\n      <th>1963-09-01</th>\n      <td>-2.8878</td>\n      <td>0.7027</td>\n      <td>-1.0869</td>\n      <td>-1.5812</td>\n      <td>-0.3581</td>\n      <td>-4.0502</td>\n      <td>-1.5034</td>\n      <td>-0.6417</td>\n      <td>-1.1812</td>\n      <td>-2.9149</td>\n      <td>...</td>\n      <td>-2.6893</td>\n      <td>-2.0139</td>\n      <td>-1.8941</td>\n      <td>-3.5823</td>\n      <td>-1.9943</td>\n      <td>-1.3721</td>\n      <td>-0.7720</td>\n      <td>-0.9852</td>\n      <td>-0.1905</td>\n      <td>-3.4963</td>\n    </tr>\n    <tr>\n      <th>1963-10-01</th>\n      <td>1.2885</td>\n      <td>-0.6491</td>\n      <td>1.2443</td>\n      <td>0.1000</td>\n      <td>2.3724</td>\n      <td>1.1916</td>\n      <td>4.2342</td>\n      <td>2.3438</td>\n      <td>2.2012</td>\n      <td>3.9335</td>\n      <td>...</td>\n      <td>-0.4287</td>\n      <td>0.9057</td>\n      <td>2.3459</td>\n      <td>5.3382</td>\n      <td>0.6113</td>\n      <td>5.3261</td>\n      <td>1.7383</td>\n      <td>-0.2829</td>\n      <td>2.4150</td>\n      <td>0.4857</td>\n    </tr>\n    <tr>\n      <th>1963-11-01</th>\n      <td>-3.3751</td>\n      <td>-4.0355</td>\n      <td>-1.5969</td>\n      <td>-1.0548</td>\n      <td>-1.0454</td>\n      <td>-4.2561</td>\n      <td>-1.7534</td>\n      <td>-0.7064</td>\n      <td>-0.1002</td>\n      <td>-0.1132</td>\n      <td>...</td>\n      <td>-0.8648</td>\n      <td>-0.8828</td>\n      <td>-0.4882</td>\n      <td>1.1451</td>\n      <td>3.5388</td>\n      <td>-1.2561</td>\n      <td>0.9849</td>\n      <td>-1.5542</td>\n      <td>-2.1322</td>\n      <td>1.3455</td>\n    </tr>\n    <tr>\n      <th>...</th>\n      <td>...</td>\n      <td>...</td>\n      <td>...</td>\n      <td>...</td>\n      <td>...</td>\n      <td>...</td>\n      <td>...</td>\n      <td>...</td>\n      <td>...</td>\n      <td>...</td>\n      <td>...</td>\n      <td>...</td>\n      <td>...</td>\n      <td>...</td>\n      <td>...</td>\n      <td>...</td>\n      <td>...</td>\n      <td>...</td>\n      <td>...</td>\n      <td>...</td>\n      <td>...</td>\n    </tr>\n    <tr>\n      <th>2020-02-01</th>\n      <td>-6.1676</td>\n      <td>-4.2818</td>\n      <td>-4.1692</td>\n      <td>-8.4173</td>\n      <td>-8.5877</td>\n      <td>-7.5118</td>\n      <td>-8.3567</td>\n      <td>-10.8356</td>\n      <td>-10.2463</td>\n      <td>-10.5911</td>\n      <td>...</td>\n      <td>-6.9096</td>\n      <td>-7.9617</td>\n      <td>-8.8968</td>\n      <td>-10.8475</td>\n      <td>-13.4285</td>\n      <td>-6.9742</td>\n      <td>-7.9885</td>\n      <td>-8.9713</td>\n      <td>-10.7681</td>\n      <td>-11.7101</td>\n    </tr>\n    <tr>\n      <th>2020-03-01</th>\n      <td>-21.3965</td>\n      <td>-14.9664</td>\n      <td>-21.9287</td>\n      <td>-26.7859</td>\n      <td>-27.8195</td>\n      <td>-19.8626</td>\n      <td>-19.5344</td>\n      <td>-21.2570</td>\n      <td>-23.7718</td>\n      <td>-32.1435</td>\n      <td>...</td>\n      <td>-12.3195</td>\n      <td>-18.6616</td>\n      <td>-21.0827</td>\n      <td>-31.4269</td>\n      <td>-32.8024</td>\n      <td>-7.7416</td>\n      <td>-11.2389</td>\n      <td>-15.5893</td>\n      <td>-20.1142</td>\n      <td>-28.4009</td>\n    </tr>\n    <tr>\n      <th>2020-04-01</th>\n      <td>24.3797</td>\n      <td>20.8938</td>\n      <td>14.5475</td>\n      <td>11.4337</td>\n      <td>15.8626</td>\n      <td>19.2871</td>\n      <td>12.8404</td>\n      <td>11.9620</td>\n      <td>9.8927</td>\n      <td>26.0187</td>\n      <td>...</td>\n      <td>16.7807</td>\n      <td>14.0032</td>\n      <td>11.8580</td>\n      <td>16.2333</td>\n      <td>17.7799</td>\n      <td>14.0851</td>\n      <td>13.6907</td>\n      <td>9.7413</td>\n      <td>10.4612</td>\n      <td>15.5348</td>\n    </tr>\n    <tr>\n      <th>2020-05-01</th>\n      <td>13.5510</td>\n      <td>6.4995</td>\n      <td>6.6352</td>\n      <td>4.2937</td>\n      <td>4.3929</td>\n      <td>10.1370</td>\n      <td>7.2505</td>\n      <td>4.0887</td>\n      <td>1.4932</td>\n      <td>6.4071</td>\n      <td>...</td>\n      <td>10.6434</td>\n      <td>8.2561</td>\n      <td>5.9748</td>\n      <td>3.3347</td>\n      <td>1.9301</td>\n      <td>5.6458</td>\n      <td>5.5022</td>\n      <td>3.7983</td>\n      <td>1.1571</td>\n      <td>3.7987</td>\n    </tr>\n    <tr>\n      <th>2020-06-01</th>\n      <td>11.0265</td>\n      <td>2.4121</td>\n      <td>6.8074</td>\n      <td>4.4294</td>\n      <td>6.0512</td>\n      <td>5.4178</td>\n      <td>2.9359</td>\n      <td>3.6917</td>\n      <td>2.8693</td>\n      <td>2.8376</td>\n      <td>...</td>\n      <td>2.1565</td>\n      <td>0.6645</td>\n      <td>-0.7638</td>\n      <td>2.6486</td>\n      <td>1.8758</td>\n      <td>5.1105</td>\n      <td>-1.0308</td>\n      <td>-0.6403</td>\n      <td>-1.8727</td>\n      <td>2.1123</td>\n    </tr>\n  </tbody>\n</table>\n<p>684 rows × 25 columns</p>\n</div>"
     },
     "metadata": {},
     "execution_count": 51
    }
   ],
   "source": [
    "data"
   ]
  },
  {
   "cell_type": "code",
   "execution_count": 96,
   "metadata": {},
   "outputs": [
    {
     "output_type": "execute_result",
     "data": {
      "text/plain": [
       "           LoBM       BM2       BM3       BM4      HiBM  Long Short\n",
       "SMALL  2.215130  4.386773  4.921799  5.920691  6.006604    4.573738\n",
       "ME2    3.245961  4.925551  5.842019  6.003727  5.505203    2.686372\n",
       "ME3    3.652665  5.537041  5.704868  6.391216  5.803893    2.244093\n",
       "ME4    4.563582  5.039480  5.500083  6.157275  5.313279    0.914495\n",
       "BIG    5.256925  5.310569  5.600534  4.718423  4.615675    0.358394"
      ],
      "text/html": "<div>\n<style scoped>\n    .dataframe tbody tr th:only-of-type {\n        vertical-align: middle;\n    }\n\n    .dataframe tbody tr th {\n        vertical-align: top;\n    }\n\n    .dataframe thead th {\n        text-align: right;\n    }\n</style>\n<table border=\"1\" class=\"dataframe\">\n  <thead>\n    <tr style=\"text-align: right;\">\n      <th></th>\n      <th>LoBM</th>\n      <th>BM2</th>\n      <th>BM3</th>\n      <th>BM4</th>\n      <th>HiBM</th>\n      <th>Long Short</th>\n    </tr>\n  </thead>\n  <tbody>\n    <tr>\n      <th>SMALL</th>\n      <td>2.215130</td>\n      <td>4.386773</td>\n      <td>4.921799</td>\n      <td>5.920691</td>\n      <td>6.006604</td>\n      <td>4.573738</td>\n    </tr>\n    <tr>\n      <th>ME2</th>\n      <td>3.245961</td>\n      <td>4.925551</td>\n      <td>5.842019</td>\n      <td>6.003727</td>\n      <td>5.505203</td>\n      <td>2.686372</td>\n    </tr>\n    <tr>\n      <th>ME3</th>\n      <td>3.652665</td>\n      <td>5.537041</td>\n      <td>5.704868</td>\n      <td>6.391216</td>\n      <td>5.803893</td>\n      <td>2.244093</td>\n    </tr>\n    <tr>\n      <th>ME4</th>\n      <td>4.563582</td>\n      <td>5.039480</td>\n      <td>5.500083</td>\n      <td>6.157275</td>\n      <td>5.313279</td>\n      <td>0.914495</td>\n    </tr>\n    <tr>\n      <th>BIG</th>\n      <td>5.256925</td>\n      <td>5.310569</td>\n      <td>5.600534</td>\n      <td>4.718423</td>\n      <td>4.615675</td>\n      <td>0.358394</td>\n    </tr>\n  </tbody>\n</table>\n</div>"
     },
     "metadata": {},
     "execution_count": 96
    }
   ],
   "source": [
    "long_short_row = {}\n",
    "for i in range(4,25,5):\n",
    "    long_short_row[i] = data.iloc[:,i] - data.iloc[:,i-4]\n",
    "long_short_row = pd.DataFrame(long_short_row)\n",
    "lsr_tstat = (long_short_row.mean() / (long_short_row.std() / np.sqrt(nobs))) \n",
    "\n",
    "lsr_tstat = pd.DataFrame(lsr_tstat,columns=[\"Long Short\"])\n",
    "lsr_tstat.index = [\"SMALL\",\"ME2\",\"ME3\",\"ME4\",\"BIG\"]\n",
    "\n",
    "tstats[\"Long Short\"] = lsr_tstat\n",
    "tstats"
   ]
  },
  {
   "cell_type": "code",
   "execution_count": 94,
   "metadata": {},
   "outputs": [
    {
     "output_type": "execute_result",
     "data": {
      "text/plain": [
       "            LoBM   BM2   BM3   BM4  HiBM  Long Short\n",
       "SMALL       2.22  4.39  4.92  5.92  6.01        4.57\n",
       "ME2         3.25  4.93  5.84  6.00  5.51        2.69\n",
       "ME3         3.65  5.54  5.70  6.39  5.80        2.24\n",
       "ME4         4.56  5.04  5.50  6.16  5.31        0.91\n",
       "BIG         5.26  5.31  5.60  4.72  4.62        0.36\n",
       "Long Short  1.16 -1.36 -1.22 -2.70 -2.26         NaN"
      ],
      "text/html": "<div>\n<style scoped>\n    .dataframe tbody tr th:only-of-type {\n        vertical-align: middle;\n    }\n\n    .dataframe tbody tr th {\n        vertical-align: top;\n    }\n\n    .dataframe thead th {\n        text-align: right;\n    }\n</style>\n<table border=\"1\" class=\"dataframe\">\n  <thead>\n    <tr style=\"text-align: right;\">\n      <th></th>\n      <th>LoBM</th>\n      <th>BM2</th>\n      <th>BM3</th>\n      <th>BM4</th>\n      <th>HiBM</th>\n      <th>Long Short</th>\n    </tr>\n  </thead>\n  <tbody>\n    <tr>\n      <th>SMALL</th>\n      <td>2.22</td>\n      <td>4.39</td>\n      <td>4.92</td>\n      <td>5.92</td>\n      <td>6.01</td>\n      <td>4.57</td>\n    </tr>\n    <tr>\n      <th>ME2</th>\n      <td>3.25</td>\n      <td>4.93</td>\n      <td>5.84</td>\n      <td>6.00</td>\n      <td>5.51</td>\n      <td>2.69</td>\n    </tr>\n    <tr>\n      <th>ME3</th>\n      <td>3.65</td>\n      <td>5.54</td>\n      <td>5.70</td>\n      <td>6.39</td>\n      <td>5.80</td>\n      <td>2.24</td>\n    </tr>\n    <tr>\n      <th>ME4</th>\n      <td>4.56</td>\n      <td>5.04</td>\n      <td>5.50</td>\n      <td>6.16</td>\n      <td>5.31</td>\n      <td>0.91</td>\n    </tr>\n    <tr>\n      <th>BIG</th>\n      <td>5.26</td>\n      <td>5.31</td>\n      <td>5.60</td>\n      <td>4.72</td>\n      <td>4.62</td>\n      <td>0.36</td>\n    </tr>\n    <tr>\n      <th>Long Short</th>\n      <td>1.16</td>\n      <td>-1.36</td>\n      <td>-1.22</td>\n      <td>-2.70</td>\n      <td>-2.26</td>\n      <td>NaN</td>\n    </tr>\n  </tbody>\n</table>\n</div>"
     },
     "metadata": {},
     "execution_count": 94
    }
   ],
   "source": [
    "long_short_col = {}\n",
    "for i in range(20,25):\n",
    "    long_short_col[i] = data.iloc[:,i] - data.iloc[:,i-20]\n",
    "\n",
    "long_short_col = pd.DataFrame(long_short_col)\n",
    "lsc_tstat = (long_short_col.mean() / (long_short_col.std() / np.sqrt(nobs))) \n",
    "\n",
    "lsc_tstat = pd.DataFrame(lsc_tstat,columns=[\"Long Short\"]).T\n",
    "lsc_tstat.columns = [\"LoBM\",\"BM2\",\"BM3\",\"BM4\",\"HiBM\"]\n",
    "\n",
    "#tstats[\"Long Short\"] = lsc_tstat\n",
    "tstats_extended = tstats.append(lsc_tstat)\n",
    "tstats_extended.round(2)"
   ]
  }
 ]
}