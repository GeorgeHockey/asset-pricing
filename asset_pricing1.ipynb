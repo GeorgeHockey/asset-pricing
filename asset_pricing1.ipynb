{
 "metadata": {
  "language_info": {
   "codemirror_mode": {
    "name": "ipython",
    "version": 3
   },
   "file_extension": ".py",
   "mimetype": "text/x-python",
   "name": "python",
   "nbconvert_exporter": "python",
   "pygments_lexer": "ipython3",
   "version": "3.8.3-final"
  },
  "orig_nbformat": 2,
  "kernelspec": {
   "name": "python3",
   "display_name": "Python 3",
   "language": "python"
  }
 },
 "nbformat": 4,
 "nbformat_minor": 2,
 "cells": [
  {
   "cell_type": "code",
   "execution_count": 1,
   "metadata": {},
   "outputs": [],
   "source": [
    "import pandas as pd\n",
    "import numpy as np\n",
    "import seaborn as sns\n",
    "import matplotlib.pyplot as plt\n",
    "import statsmodels.api as sm\n",
    "import pandas_datareader as pdr"
   ]
  },
  {
   "source": [
    "Question 1 \n",
    "------------------------------------------------------------------------------"
   ],
   "cell_type": "markdown",
   "metadata": {}
  },
  {
   "cell_type": "code",
   "execution_count": 2,
   "metadata": {},
   "outputs": [
    {
     "output_type": "execute_result",
     "data": {
      "text/plain": [
       "         Mkt-RF    RF\n",
       "Date                 \n",
       "1963-07   -0.39  0.27\n",
       "1963-08    5.07  0.25\n",
       "1963-09   -1.57  0.27\n",
       "1963-10    2.53  0.29\n",
       "1963-11   -0.85  0.27\n",
       "...         ...   ...\n",
       "2020-02   -8.13  0.12\n",
       "2020-03  -13.38  0.12\n",
       "2020-04   13.65  0.00\n",
       "2020-05    5.58  0.01\n",
       "2020-06    2.46  0.01\n",
       "\n",
       "[684 rows x 2 columns]"
      ],
      "text/html": "<div>\n<style scoped>\n    .dataframe tbody tr th:only-of-type {\n        vertical-align: middle;\n    }\n\n    .dataframe tbody tr th {\n        vertical-align: top;\n    }\n\n    .dataframe thead th {\n        text-align: right;\n    }\n</style>\n<table border=\"1\" class=\"dataframe\">\n  <thead>\n    <tr style=\"text-align: right;\">\n      <th></th>\n      <th>Mkt-RF</th>\n      <th>RF</th>\n    </tr>\n    <tr>\n      <th>Date</th>\n      <th></th>\n      <th></th>\n    </tr>\n  </thead>\n  <tbody>\n    <tr>\n      <th>1963-07</th>\n      <td>-0.39</td>\n      <td>0.27</td>\n    </tr>\n    <tr>\n      <th>1963-08</th>\n      <td>5.07</td>\n      <td>0.25</td>\n    </tr>\n    <tr>\n      <th>1963-09</th>\n      <td>-1.57</td>\n      <td>0.27</td>\n    </tr>\n    <tr>\n      <th>1963-10</th>\n      <td>2.53</td>\n      <td>0.29</td>\n    </tr>\n    <tr>\n      <th>1963-11</th>\n      <td>-0.85</td>\n      <td>0.27</td>\n    </tr>\n    <tr>\n      <th>...</th>\n      <td>...</td>\n      <td>...</td>\n    </tr>\n    <tr>\n      <th>2020-02</th>\n      <td>-8.13</td>\n      <td>0.12</td>\n    </tr>\n    <tr>\n      <th>2020-03</th>\n      <td>-13.38</td>\n      <td>0.12</td>\n    </tr>\n    <tr>\n      <th>2020-04</th>\n      <td>13.65</td>\n      <td>0.00</td>\n    </tr>\n    <tr>\n      <th>2020-05</th>\n      <td>5.58</td>\n      <td>0.01</td>\n    </tr>\n    <tr>\n      <th>2020-06</th>\n      <td>2.46</td>\n      <td>0.01</td>\n    </tr>\n  </tbody>\n</table>\n<p>684 rows × 2 columns</p>\n</div>"
     },
     "metadata": {},
     "execution_count": 2
    }
   ],
   "source": [
    "# OLD DATA LOADING\n",
    "\"\"\"\n",
    "\n",
    "data = pd.read_csv(\"data/25_Portfolios_5x5.csv\",skiprows=15,index_col=\"DATE\",parse_dates=True,nrows=1134)\n",
    "data = data.dropna()\n",
    "data.index = pd.to_datetime(data.index,format=\"%Y%m\")\n",
    "factors = pd.read_csv(\"data/F-F_Research_Data_Factors.csv\",skiprows=3,index_col=0,parse_dates=True,nrows=1134)\n",
    "factors = factors.dropna()\n",
    "factors.index = pd.to_datetime(factors.index,format=\"%Y%m\")\n",
    "rm = factors[\"Mkt-RF\"]\n",
    "rf = factors[\"RF\"]\n",
    "\"\"\"\n",
    "data = pdr.get_data_famafrench(\"25_Portfolios_5x5\", start=\"1963-07\", end=\"2020-06\")[0]\n",
    "data.rename(columns={\"SMALL LoBM\": \"ME1 BM1\", \"SMALL HiBM\": \"ME1 BM5\",\"BIG LoBM\": \"ME5 BM1\", \"BIG HiBM\": \"ME5 BM5\"}, inplace=True)\n",
    "factors = pdr.get_data_famafrench(\"F-F_Research_Data_Factors\", start=\"1963-07\", end=\"2020-06\")[0]\n",
    "factors = factors.drop(columns=[\"SMB\", \"HML\"])\n",
    "rf = factors[\"RF\"]\n",
    "rm = factors[\"Mkt-RF\"]\n",
    "factors\n",
    "\n"
   ]
  },
  {
   "cell_type": "code",
   "execution_count": 3,
   "metadata": {},
   "outputs": [
    {
     "output_type": "execute_result",
     "data": {
      "text/plain": [
       "Date\n",
       "1963-07    -0.39\n",
       "1963-08     5.07\n",
       "1963-09    -1.57\n",
       "1963-10     2.53\n",
       "1963-11    -0.85\n",
       "           ...  \n",
       "2020-02    -8.13\n",
       "2020-03   -13.38\n",
       "2020-04    13.65\n",
       "2020-05     5.58\n",
       "2020-06     2.46\n",
       "Freq: M, Name: Mkt-RF, Length: 684, dtype: float64"
      ]
     },
     "metadata": {},
     "execution_count": 3
    }
   ],
   "source": [
    "rm"
   ]
  },
  {
   "source": [
    "data = data[\"1963-07-01\":\"2020-06-01\"]\n",
    "rm = rm[\"1963-07-01\":\"2020-06-01\"]\n",
    "rf = rf[\"1963-07-01\":\"2020-06-01\"]"
   ],
   "cell_type": "markdown",
   "metadata": {}
  },
  {
   "cell_type": "code",
   "execution_count": 4,
   "metadata": {},
   "outputs": [
    {
     "output_type": "execute_result",
     "data": {
      "text/plain": [
       "       LoBM   BM2   BM3   BM4  HiBM\n",
       "SMALL  0.67  1.18  1.13  1.32  1.38\n",
       "ME2    0.89  1.14  1.22  1.22  1.30\n",
       "ME3    0.92  1.15  1.11  1.20  1.32\n",
       "ME4    1.02  0.99  1.04  1.17  1.18\n",
       "BIG    0.92  0.89  0.93  0.85  0.97"
      ],
      "text/html": "<div>\n<style scoped>\n    .dataframe tbody tr th:only-of-type {\n        vertical-align: middle;\n    }\n\n    .dataframe tbody tr th {\n        vertical-align: top;\n    }\n\n    .dataframe thead th {\n        text-align: right;\n    }\n</style>\n<table border=\"1\" class=\"dataframe\">\n  <thead>\n    <tr style=\"text-align: right;\">\n      <th></th>\n      <th>LoBM</th>\n      <th>BM2</th>\n      <th>BM3</th>\n      <th>BM4</th>\n      <th>HiBM</th>\n    </tr>\n  </thead>\n  <tbody>\n    <tr>\n      <th>SMALL</th>\n      <td>0.67</td>\n      <td>1.18</td>\n      <td>1.13</td>\n      <td>1.32</td>\n      <td>1.38</td>\n    </tr>\n    <tr>\n      <th>ME2</th>\n      <td>0.89</td>\n      <td>1.14</td>\n      <td>1.22</td>\n      <td>1.22</td>\n      <td>1.30</td>\n    </tr>\n    <tr>\n      <th>ME3</th>\n      <td>0.92</td>\n      <td>1.15</td>\n      <td>1.11</td>\n      <td>1.20</td>\n      <td>1.32</td>\n    </tr>\n    <tr>\n      <th>ME4</th>\n      <td>1.02</td>\n      <td>0.99</td>\n      <td>1.04</td>\n      <td>1.17</td>\n      <td>1.18</td>\n    </tr>\n    <tr>\n      <th>BIG</th>\n      <td>0.92</td>\n      <td>0.89</td>\n      <td>0.93</td>\n      <td>0.85</td>\n      <td>0.97</td>\n    </tr>\n  </tbody>\n</table>\n</div>"
     },
     "metadata": {},
     "execution_count": 4
    }
   ],
   "source": [
    "arith_mean = data.mean(0)\n",
    "simple_mean = pd.DataFrame(np.zeros((5,5)),index=[\"SMALL\",\"ME2\",\"ME3\",\"ME4\",\"BIG\"],columns=[\"LoBM\",\"BM2\",\"BM3\",\"BM4\",\"HiBM\"])\n",
    "for r in range(0,5):\n",
    "    for c in range(0,5):\n",
    "        n = r * 5 + c\n",
    "        simple_mean.iloc[r,c] = arith_mean[n]\n",
    "simple_mean.round(2)"
   ]
  },
  {
   "cell_type": "code",
   "execution_count": 5,
   "metadata": {},
   "outputs": [
    {
     "output_type": "execute_result",
     "data": {
      "text/plain": [
       "         ME1 BM1  ME1 BM2  ME1 BM3  ME1 BM4  ME1 BM5  ME2 BM1  ME2 BM2  \\\n",
       "Date                                                                     \n",
       "1963-07   0.8607  -0.6319   0.4652  -0.1603  -1.5912  -2.0771  -0.0801   \n",
       "1963-08   3.9870   1.1213   1.1474   2.1201   4.4245   5.3165   4.2691   \n",
       "1963-09  -3.1578   0.3473  -1.3477  -1.8512  -0.6281  -4.3202  -1.7734   \n",
       "1963-10   0.9985  -1.0213   1.0704  -0.1900   2.0824   0.9016   3.9442   \n",
       "1963-11  -3.6451  -3.9636  -2.0452  -1.3248  -1.3154  -4.5261  -2.0234   \n",
       "...          ...      ...      ...      ...      ...      ...      ...   \n",
       "2020-02  -6.2492  -4.3556  -4.5121  -8.5120  -8.6727  -7.6318  -8.4373   \n",
       "2020-03 -21.6093 -15.2902 -22.1317 -26.6655 -28.0484 -19.9826 -19.4271   \n",
       "2020-04  24.4356  20.9895  15.1668  10.9867  15.8564  19.2871  12.6890   \n",
       "2020-05  13.6618   6.4803   6.2833   4.4414   4.3837  10.1270   7.2511   \n",
       "2020-06  11.0799   2.3831   6.5580   4.5749   6.0451   5.4078   2.8342   \n",
       "\n",
       "         ME2 BM3  ME2 BM4  ME2 BM5  ...  ME4 BM1  ME4 BM2  ME4 BM3  ME4 BM4  \\\n",
       "Date                                ...                                       \n",
       "1963-07  -1.1145  -2.2344  -1.4589  ...  -1.1156  -2.0435  -2.1884  -1.9357   \n",
       "1963-08   4.1139   4.1688   7.9829  ...   5.1465   4.4911   5.9832   7.3119   \n",
       "1963-09  -0.9117  -1.4512  -3.1849  ...  -2.9593  -2.3753  -2.0500  -3.8523   \n",
       "1963-10   2.0538   1.9112   3.6435  ...  -0.7187   0.3889   2.3329   5.0482   \n",
       "1963-11  -0.9764  -0.3702  -0.3832  ...  -1.1348  -0.9003  -1.0633   0.8751   \n",
       "...          ...      ...      ...  ...      ...      ...      ...      ...   \n",
       "2020-02 -10.9698 -10.4070 -10.6987  ...  -7.0489  -7.8165  -9.2868 -10.9675   \n",
       "2020-03 -21.4952 -23.9676 -32.3970  ... -12.4341 -19.4122 -20.4564 -31.5469   \n",
       "2020-04  12.0894   9.9204  26.2566  ...  16.7869  13.9499  11.9545  16.2333   \n",
       "2020-05   4.0749   1.4130   6.5609  ...  10.6446   8.3209   5.8977   3.3247   \n",
       "2020-06   3.7369   2.8696   2.8931  ...   2.1287   0.6615  -0.7106   2.6386   \n",
       "\n",
       "         ME4 BM5  ME5 BM1  ME5 BM2  ME5 BM3  ME5 BM4  ME5 BM5  \n",
       "Date                                                           \n",
       "1963-07  -2.1267  -0.1299   0.2133   0.9586  -0.8562  -1.3726  \n",
       "1963-08   5.0969   5.5210   4.0050   4.3436   8.0331   6.1324  \n",
       "1963-09  -2.2643  -1.6421  -1.0754  -1.0835  -0.4845  -3.7663  \n",
       "1963-10   0.3213   5.0361   1.4527  -0.5369   2.1015   0.1957  \n",
       "1963-11   3.2688  -1.5261   0.7372  -2.0125  -2.3538   1.0755  \n",
       "...          ...      ...      ...      ...      ...      ...  \n",
       "2020-02 -13.5485  -7.0942  -8.0794  -9.1973 -10.8881 -11.8301  \n",
       "2020-03 -32.9224  -7.8616 -11.3201 -15.9014 -20.2342 -28.5209  \n",
       "2020-04  17.7799  14.0851  13.6411   9.8370  10.4612  15.5348  \n",
       "2020-05   1.9201   5.6358   5.5274   3.6371   1.1471   3.7887  \n",
       "2020-06   1.8658   5.1005  -1.0528  -0.6006  -1.8827   2.1023  \n",
       "\n",
       "[684 rows x 25 columns]"
      ],
      "text/html": "<div>\n<style scoped>\n    .dataframe tbody tr th:only-of-type {\n        vertical-align: middle;\n    }\n\n    .dataframe tbody tr th {\n        vertical-align: top;\n    }\n\n    .dataframe thead th {\n        text-align: right;\n    }\n</style>\n<table border=\"1\" class=\"dataframe\">\n  <thead>\n    <tr style=\"text-align: right;\">\n      <th></th>\n      <th>ME1 BM1</th>\n      <th>ME1 BM2</th>\n      <th>ME1 BM3</th>\n      <th>ME1 BM4</th>\n      <th>ME1 BM5</th>\n      <th>ME2 BM1</th>\n      <th>ME2 BM2</th>\n      <th>ME2 BM3</th>\n      <th>ME2 BM4</th>\n      <th>ME2 BM5</th>\n      <th>...</th>\n      <th>ME4 BM1</th>\n      <th>ME4 BM2</th>\n      <th>ME4 BM3</th>\n      <th>ME4 BM4</th>\n      <th>ME4 BM5</th>\n      <th>ME5 BM1</th>\n      <th>ME5 BM2</th>\n      <th>ME5 BM3</th>\n      <th>ME5 BM4</th>\n      <th>ME5 BM5</th>\n    </tr>\n    <tr>\n      <th>Date</th>\n      <th></th>\n      <th></th>\n      <th></th>\n      <th></th>\n      <th></th>\n      <th></th>\n      <th></th>\n      <th></th>\n      <th></th>\n      <th></th>\n      <th></th>\n      <th></th>\n      <th></th>\n      <th></th>\n      <th></th>\n      <th></th>\n      <th></th>\n      <th></th>\n      <th></th>\n      <th></th>\n      <th></th>\n    </tr>\n  </thead>\n  <tbody>\n    <tr>\n      <th>1963-07</th>\n      <td>0.8607</td>\n      <td>-0.6319</td>\n      <td>0.4652</td>\n      <td>-0.1603</td>\n      <td>-1.5912</td>\n      <td>-2.0771</td>\n      <td>-0.0801</td>\n      <td>-1.1145</td>\n      <td>-2.2344</td>\n      <td>-1.4589</td>\n      <td>...</td>\n      <td>-1.1156</td>\n      <td>-2.0435</td>\n      <td>-2.1884</td>\n      <td>-1.9357</td>\n      <td>-2.1267</td>\n      <td>-0.1299</td>\n      <td>0.2133</td>\n      <td>0.9586</td>\n      <td>-0.8562</td>\n      <td>-1.3726</td>\n    </tr>\n    <tr>\n      <th>1963-08</th>\n      <td>3.9870</td>\n      <td>1.1213</td>\n      <td>1.1474</td>\n      <td>2.1201</td>\n      <td>4.4245</td>\n      <td>5.3165</td>\n      <td>4.2691</td>\n      <td>4.1139</td>\n      <td>4.1688</td>\n      <td>7.9829</td>\n      <td>...</td>\n      <td>5.1465</td>\n      <td>4.4911</td>\n      <td>5.9832</td>\n      <td>7.3119</td>\n      <td>5.0969</td>\n      <td>5.5210</td>\n      <td>4.0050</td>\n      <td>4.3436</td>\n      <td>8.0331</td>\n      <td>6.1324</td>\n    </tr>\n    <tr>\n      <th>1963-09</th>\n      <td>-3.1578</td>\n      <td>0.3473</td>\n      <td>-1.3477</td>\n      <td>-1.8512</td>\n      <td>-0.6281</td>\n      <td>-4.3202</td>\n      <td>-1.7734</td>\n      <td>-0.9117</td>\n      <td>-1.4512</td>\n      <td>-3.1849</td>\n      <td>...</td>\n      <td>-2.9593</td>\n      <td>-2.3753</td>\n      <td>-2.0500</td>\n      <td>-3.8523</td>\n      <td>-2.2643</td>\n      <td>-1.6421</td>\n      <td>-1.0754</td>\n      <td>-1.0835</td>\n      <td>-0.4845</td>\n      <td>-3.7663</td>\n    </tr>\n    <tr>\n      <th>1963-10</th>\n      <td>0.9985</td>\n      <td>-1.0213</td>\n      <td>1.0704</td>\n      <td>-0.1900</td>\n      <td>2.0824</td>\n      <td>0.9016</td>\n      <td>3.9442</td>\n      <td>2.0538</td>\n      <td>1.9112</td>\n      <td>3.6435</td>\n      <td>...</td>\n      <td>-0.7187</td>\n      <td>0.3889</td>\n      <td>2.3329</td>\n      <td>5.0482</td>\n      <td>0.3213</td>\n      <td>5.0361</td>\n      <td>1.4527</td>\n      <td>-0.5369</td>\n      <td>2.1015</td>\n      <td>0.1957</td>\n    </tr>\n    <tr>\n      <th>1963-11</th>\n      <td>-3.6451</td>\n      <td>-3.9636</td>\n      <td>-2.0452</td>\n      <td>-1.3248</td>\n      <td>-1.3154</td>\n      <td>-4.5261</td>\n      <td>-2.0234</td>\n      <td>-0.9764</td>\n      <td>-0.3702</td>\n      <td>-0.3832</td>\n      <td>...</td>\n      <td>-1.1348</td>\n      <td>-0.9003</td>\n      <td>-1.0633</td>\n      <td>0.8751</td>\n      <td>3.2688</td>\n      <td>-1.5261</td>\n      <td>0.7372</td>\n      <td>-2.0125</td>\n      <td>-2.3538</td>\n      <td>1.0755</td>\n    </tr>\n    <tr>\n      <th>...</th>\n      <td>...</td>\n      <td>...</td>\n      <td>...</td>\n      <td>...</td>\n      <td>...</td>\n      <td>...</td>\n      <td>...</td>\n      <td>...</td>\n      <td>...</td>\n      <td>...</td>\n      <td>...</td>\n      <td>...</td>\n      <td>...</td>\n      <td>...</td>\n      <td>...</td>\n      <td>...</td>\n      <td>...</td>\n      <td>...</td>\n      <td>...</td>\n      <td>...</td>\n      <td>...</td>\n    </tr>\n    <tr>\n      <th>2020-02</th>\n      <td>-6.2492</td>\n      <td>-4.3556</td>\n      <td>-4.5121</td>\n      <td>-8.5120</td>\n      <td>-8.6727</td>\n      <td>-7.6318</td>\n      <td>-8.4373</td>\n      <td>-10.9698</td>\n      <td>-10.4070</td>\n      <td>-10.6987</td>\n      <td>...</td>\n      <td>-7.0489</td>\n      <td>-7.8165</td>\n      <td>-9.2868</td>\n      <td>-10.9675</td>\n      <td>-13.5485</td>\n      <td>-7.0942</td>\n      <td>-8.0794</td>\n      <td>-9.1973</td>\n      <td>-10.8881</td>\n      <td>-11.8301</td>\n    </tr>\n    <tr>\n      <th>2020-03</th>\n      <td>-21.6093</td>\n      <td>-15.2902</td>\n      <td>-22.1317</td>\n      <td>-26.6655</td>\n      <td>-28.0484</td>\n      <td>-19.9826</td>\n      <td>-19.4271</td>\n      <td>-21.4952</td>\n      <td>-23.9676</td>\n      <td>-32.3970</td>\n      <td>...</td>\n      <td>-12.4341</td>\n      <td>-19.4122</td>\n      <td>-20.4564</td>\n      <td>-31.5469</td>\n      <td>-32.9224</td>\n      <td>-7.8616</td>\n      <td>-11.3201</td>\n      <td>-15.9014</td>\n      <td>-20.2342</td>\n      <td>-28.5209</td>\n    </tr>\n    <tr>\n      <th>2020-04</th>\n      <td>24.4356</td>\n      <td>20.9895</td>\n      <td>15.1668</td>\n      <td>10.9867</td>\n      <td>15.8564</td>\n      <td>19.2871</td>\n      <td>12.6890</td>\n      <td>12.0894</td>\n      <td>9.9204</td>\n      <td>26.2566</td>\n      <td>...</td>\n      <td>16.7869</td>\n      <td>13.9499</td>\n      <td>11.9545</td>\n      <td>16.2333</td>\n      <td>17.7799</td>\n      <td>14.0851</td>\n      <td>13.6411</td>\n      <td>9.8370</td>\n      <td>10.4612</td>\n      <td>15.5348</td>\n    </tr>\n    <tr>\n      <th>2020-05</th>\n      <td>13.6618</td>\n      <td>6.4803</td>\n      <td>6.2833</td>\n      <td>4.4414</td>\n      <td>4.3837</td>\n      <td>10.1270</td>\n      <td>7.2511</td>\n      <td>4.0749</td>\n      <td>1.4130</td>\n      <td>6.5609</td>\n      <td>...</td>\n      <td>10.6446</td>\n      <td>8.3209</td>\n      <td>5.8977</td>\n      <td>3.3247</td>\n      <td>1.9201</td>\n      <td>5.6358</td>\n      <td>5.5274</td>\n      <td>3.6371</td>\n      <td>1.1471</td>\n      <td>3.7887</td>\n    </tr>\n    <tr>\n      <th>2020-06</th>\n      <td>11.0799</td>\n      <td>2.3831</td>\n      <td>6.5580</td>\n      <td>4.5749</td>\n      <td>6.0451</td>\n      <td>5.4078</td>\n      <td>2.8342</td>\n      <td>3.7369</td>\n      <td>2.8696</td>\n      <td>2.8931</td>\n      <td>...</td>\n      <td>2.1287</td>\n      <td>0.6615</td>\n      <td>-0.7106</td>\n      <td>2.6386</td>\n      <td>1.8658</td>\n      <td>5.1005</td>\n      <td>-1.0528</td>\n      <td>-0.6006</td>\n      <td>-1.8827</td>\n      <td>2.1023</td>\n    </tr>\n  </tbody>\n</table>\n<p>684 rows × 25 columns</p>\n</div>"
     },
     "metadata": {},
     "execution_count": 5
    }
   ],
   "source": [
    "excess_data = data.subtract(rf,axis=0)\n",
    "excess_data"
   ]
  },
  {
   "cell_type": "code",
   "execution_count": 6,
   "metadata": {},
   "outputs": [],
   "source": [
    "betas = {}\n",
    "for column in excess_data:\n",
    "    res = sm.OLS(excess_data[column],rm,cov_type=\"HC0\").fit()\n",
    "    betas[column] = res.params\n",
    "betas = pd.DataFrame(betas).T\n",
    "\n",
    "betas = betas.squeeze()"
   ]
  },
  {
   "cell_type": "code",
   "execution_count": 7,
   "metadata": {},
   "outputs": [
    {
     "output_type": "execute_result",
     "data": {
      "text/plain": [
       "       LoBM   BM2   BM3   BM4  HiBM\n",
       "SMALL  1.42  1.24  1.12  1.06  1.09\n",
       "ME2    1.39  1.19  1.08  1.03  1.17\n",
       "ME3    1.32  1.13  1.02  1.00  1.09\n",
       "ME4    1.22  1.09  1.01  1.00  1.11\n",
       "BIG    0.98  0.93  0.86  0.89  0.98"
      ],
      "text/html": "<div>\n<style scoped>\n    .dataframe tbody tr th:only-of-type {\n        vertical-align: middle;\n    }\n\n    .dataframe tbody tr th {\n        vertical-align: top;\n    }\n\n    .dataframe thead th {\n        text-align: right;\n    }\n</style>\n<table border=\"1\" class=\"dataframe\">\n  <thead>\n    <tr style=\"text-align: right;\">\n      <th></th>\n      <th>LoBM</th>\n      <th>BM2</th>\n      <th>BM3</th>\n      <th>BM4</th>\n      <th>HiBM</th>\n    </tr>\n  </thead>\n  <tbody>\n    <tr>\n      <th>SMALL</th>\n      <td>1.42</td>\n      <td>1.24</td>\n      <td>1.12</td>\n      <td>1.06</td>\n      <td>1.09</td>\n    </tr>\n    <tr>\n      <th>ME2</th>\n      <td>1.39</td>\n      <td>1.19</td>\n      <td>1.08</td>\n      <td>1.03</td>\n      <td>1.17</td>\n    </tr>\n    <tr>\n      <th>ME3</th>\n      <td>1.32</td>\n      <td>1.13</td>\n      <td>1.02</td>\n      <td>1.00</td>\n      <td>1.09</td>\n    </tr>\n    <tr>\n      <th>ME4</th>\n      <td>1.22</td>\n      <td>1.09</td>\n      <td>1.01</td>\n      <td>1.00</td>\n      <td>1.11</td>\n    </tr>\n    <tr>\n      <th>BIG</th>\n      <td>0.98</td>\n      <td>0.93</td>\n      <td>0.86</td>\n      <td>0.89</td>\n      <td>0.98</td>\n    </tr>\n  </tbody>\n</table>\n</div>"
     },
     "metadata": {},
     "execution_count": 7
    }
   ],
   "source": [
    "beta_table = pd.DataFrame(np.zeros((5,5)),index=[\"SMALL\",\"ME2\",\"ME3\",\"ME4\",\"BIG\"],columns=[\"LoBM\",\"BM2\",\"BM3\",\"BM4\",\"HiBM\"])\n",
    "for r in range(0,5):\n",
    "    for c in range(0,5):\n",
    "        n = r * 5 + c\n",
    "        beta_table.iloc[r,c] = betas[n]\n",
    "beta_table.round(2)"
   ]
  },
  {
   "cell_type": "code",
   "execution_count": 8,
   "metadata": {},
   "outputs": [
    {
     "output_type": "execute_result",
     "data": {
      "text/plain": [
       "       LoBM   BM2   BM3   BM4  HiBM\n",
       "SMALL  7.93  6.94  6.02  5.80  6.05\n",
       "ME2    7.15  6.01  5.48  5.32  6.19\n",
       "ME3    6.56  5.50  5.02  5.04  5.79\n",
       "ME4    5.85  5.16  4.95  5.00  5.79\n",
       "BIG    4.60  4.40  4.29  4.72  5.56"
      ],
      "text/html": "<div>\n<style scoped>\n    .dataframe tbody tr th:only-of-type {\n        vertical-align: middle;\n    }\n\n    .dataframe tbody tr th {\n        vertical-align: top;\n    }\n\n    .dataframe thead th {\n        text-align: right;\n    }\n</style>\n<table border=\"1\" class=\"dataframe\">\n  <thead>\n    <tr style=\"text-align: right;\">\n      <th></th>\n      <th>LoBM</th>\n      <th>BM2</th>\n      <th>BM3</th>\n      <th>BM4</th>\n      <th>HiBM</th>\n    </tr>\n  </thead>\n  <tbody>\n    <tr>\n      <th>SMALL</th>\n      <td>7.93</td>\n      <td>6.94</td>\n      <td>6.02</td>\n      <td>5.80</td>\n      <td>6.05</td>\n    </tr>\n    <tr>\n      <th>ME2</th>\n      <td>7.15</td>\n      <td>6.01</td>\n      <td>5.48</td>\n      <td>5.32</td>\n      <td>6.19</td>\n    </tr>\n    <tr>\n      <th>ME3</th>\n      <td>6.56</td>\n      <td>5.50</td>\n      <td>5.02</td>\n      <td>5.04</td>\n      <td>5.79</td>\n    </tr>\n    <tr>\n      <th>ME4</th>\n      <td>5.85</td>\n      <td>5.16</td>\n      <td>4.95</td>\n      <td>5.00</td>\n      <td>5.79</td>\n    </tr>\n    <tr>\n      <th>BIG</th>\n      <td>4.60</td>\n      <td>4.40</td>\n      <td>4.29</td>\n      <td>4.72</td>\n      <td>5.56</td>\n    </tr>\n  </tbody>\n</table>\n</div>"
     },
     "metadata": {},
     "execution_count": 8
    }
   ],
   "source": [
    "# Standard deviation\n",
    "stds = data.std(0)\n",
    "std_dev = pd.DataFrame(np.zeros((5,5)),index=[\"SMALL\",\"ME2\",\"ME3\",\"ME4\",\"BIG\"],columns=[\"LoBM\",\"BM2\",\"BM3\",\"BM4\",\"HiBM\"])\n",
    "for r in range(0,5):\n",
    "    for c in range(0,5):\n",
    "        n = r * 5 + c\n",
    "        std_dev.iloc[r,c] = stds[n]\n",
    "#print(simple_mean.to_latex())\n",
    "std_dev.round(2)"
   ]
  },
  {
   "cell_type": "code",
   "execution_count": 9,
   "metadata": {},
   "outputs": [
    {
     "output_type": "execute_result",
     "data": {
      "text/plain": [
       "           LoBM       BM2       BM3       BM4      HiBM\n",
       "SMALL  0.127981  0.398980  0.432316  0.561455  0.574869\n",
       "ME2    0.247926  0.440792  0.531493  0.547959  0.518837\n",
       "ME3    0.287120  0.485512  0.508304  0.568969  0.564580\n",
       "ME4    0.383910  0.415031  0.465588  0.549692  0.484319\n",
       "BIG    0.413268  0.407632  0.450247  0.346043  0.369699"
      ],
      "text/html": "<div>\n<style scoped>\n    .dataframe tbody tr th:only-of-type {\n        vertical-align: middle;\n    }\n\n    .dataframe tbody tr th {\n        vertical-align: top;\n    }\n\n    .dataframe thead th {\n        text-align: right;\n    }\n</style>\n<table border=\"1\" class=\"dataframe\">\n  <thead>\n    <tr style=\"text-align: right;\">\n      <th></th>\n      <th>LoBM</th>\n      <th>BM2</th>\n      <th>BM3</th>\n      <th>BM4</th>\n      <th>HiBM</th>\n    </tr>\n  </thead>\n  <tbody>\n    <tr>\n      <th>SMALL</th>\n      <td>0.127981</td>\n      <td>0.398980</td>\n      <td>0.432316</td>\n      <td>0.561455</td>\n      <td>0.574869</td>\n    </tr>\n    <tr>\n      <th>ME2</th>\n      <td>0.247926</td>\n      <td>0.440792</td>\n      <td>0.531493</td>\n      <td>0.547959</td>\n      <td>0.518837</td>\n    </tr>\n    <tr>\n      <th>ME3</th>\n      <td>0.287120</td>\n      <td>0.485512</td>\n      <td>0.508304</td>\n      <td>0.568969</td>\n      <td>0.564580</td>\n    </tr>\n    <tr>\n      <th>ME4</th>\n      <td>0.383910</td>\n      <td>0.415031</td>\n      <td>0.465588</td>\n      <td>0.549692</td>\n      <td>0.484319</td>\n    </tr>\n    <tr>\n      <th>BIG</th>\n      <td>0.413268</td>\n      <td>0.407632</td>\n      <td>0.450247</td>\n      <td>0.346043</td>\n      <td>0.369699</td>\n    </tr>\n  </tbody>\n</table>\n</div>"
     },
     "metadata": {},
     "execution_count": 9
    }
   ],
   "source": [
    "# Sharpe ratio\n",
    "sharpe = ((simple_mean - rf.mean())/std_dev) * np.sqrt(12)\n",
    "sharpe"
   ]
  },
  {
   "cell_type": "code",
   "execution_count": 10,
   "metadata": {},
   "outputs": [
    {
     "output_type": "execute_result",
     "data": {
      "text/plain": [
       "       LoBM   BM2   BM3   BM4  HiBM\n",
       "SMALL  2.21  4.43  4.90  5.93  5.97\n",
       "ME2    3.25  4.96  5.81  5.98  5.50\n",
       "ME3    3.67  5.45  5.80  6.25  5.96\n",
       "ME4    4.58  5.04  5.50  6.11  5.35\n",
       "BIG    5.26  5.31  5.69  4.70  4.56"
      ],
      "text/html": "<div>\n<style scoped>\n    .dataframe tbody tr th:only-of-type {\n        vertical-align: middle;\n    }\n\n    .dataframe tbody tr th {\n        vertical-align: top;\n    }\n\n    .dataframe thead th {\n        text-align: right;\n    }\n</style>\n<table border=\"1\" class=\"dataframe\">\n  <thead>\n    <tr style=\"text-align: right;\">\n      <th></th>\n      <th>LoBM</th>\n      <th>BM2</th>\n      <th>BM3</th>\n      <th>BM4</th>\n      <th>HiBM</th>\n    </tr>\n  </thead>\n  <tbody>\n    <tr>\n      <th>SMALL</th>\n      <td>2.21</td>\n      <td>4.43</td>\n      <td>4.90</td>\n      <td>5.93</td>\n      <td>5.97</td>\n    </tr>\n    <tr>\n      <th>ME2</th>\n      <td>3.25</td>\n      <td>4.96</td>\n      <td>5.81</td>\n      <td>5.98</td>\n      <td>5.50</td>\n    </tr>\n    <tr>\n      <th>ME3</th>\n      <td>3.67</td>\n      <td>5.45</td>\n      <td>5.80</td>\n      <td>6.25</td>\n      <td>5.96</td>\n    </tr>\n    <tr>\n      <th>ME4</th>\n      <td>4.58</td>\n      <td>5.04</td>\n      <td>5.50</td>\n      <td>6.11</td>\n      <td>5.35</td>\n    </tr>\n    <tr>\n      <th>BIG</th>\n      <td>5.26</td>\n      <td>5.31</td>\n      <td>5.69</td>\n      <td>4.70</td>\n      <td>4.56</td>\n    </tr>\n  </tbody>\n</table>\n</div>"
     },
     "metadata": {},
     "execution_count": 10
    }
   ],
   "source": [
    "nobs = data.shape[0]\n",
    "tstats = (simple_mean / (std_dev/np.sqrt(nobs)) )\n",
    "tstats.round(2)"
   ]
  },
  {
   "cell_type": "code",
   "execution_count": 11,
   "metadata": {},
   "outputs": [
    {
     "output_type": "execute_result",
     "data": {
      "text/plain": [
       "           LoBM       BM2       BM3       BM4      HiBM  Long Short\n",
       "SMALL  2.206048  4.427731  4.896276  5.932421  5.965332    4.520056\n",
       "ME2    3.245429  4.961949  5.807011  5.983933  5.504287    2.700108\n",
       "ME3    3.665573  5.450730  5.795338  6.245003  5.959252    2.440588\n",
       "ME4    4.576893  5.037013  5.501178  6.113798  5.354226    0.994514\n",
       "BIG    5.256091  5.311633  5.691276  4.695173  4.556936    0.274618"
      ],
      "text/html": "<div>\n<style scoped>\n    .dataframe tbody tr th:only-of-type {\n        vertical-align: middle;\n    }\n\n    .dataframe tbody tr th {\n        vertical-align: top;\n    }\n\n    .dataframe thead th {\n        text-align: right;\n    }\n</style>\n<table border=\"1\" class=\"dataframe\">\n  <thead>\n    <tr style=\"text-align: right;\">\n      <th></th>\n      <th>LoBM</th>\n      <th>BM2</th>\n      <th>BM3</th>\n      <th>BM4</th>\n      <th>HiBM</th>\n      <th>Long Short</th>\n    </tr>\n  </thead>\n  <tbody>\n    <tr>\n      <th>SMALL</th>\n      <td>2.206048</td>\n      <td>4.427731</td>\n      <td>4.896276</td>\n      <td>5.932421</td>\n      <td>5.965332</td>\n      <td>4.520056</td>\n    </tr>\n    <tr>\n      <th>ME2</th>\n      <td>3.245429</td>\n      <td>4.961949</td>\n      <td>5.807011</td>\n      <td>5.983933</td>\n      <td>5.504287</td>\n      <td>2.700108</td>\n    </tr>\n    <tr>\n      <th>ME3</th>\n      <td>3.665573</td>\n      <td>5.450730</td>\n      <td>5.795338</td>\n      <td>6.245003</td>\n      <td>5.959252</td>\n      <td>2.440588</td>\n    </tr>\n    <tr>\n      <th>ME4</th>\n      <td>4.576893</td>\n      <td>5.037013</td>\n      <td>5.501178</td>\n      <td>6.113798</td>\n      <td>5.354226</td>\n      <td>0.994514</td>\n    </tr>\n    <tr>\n      <th>BIG</th>\n      <td>5.256091</td>\n      <td>5.311633</td>\n      <td>5.691276</td>\n      <td>4.695173</td>\n      <td>4.556936</td>\n      <td>0.274618</td>\n    </tr>\n  </tbody>\n</table>\n</div>"
     },
     "metadata": {},
     "execution_count": 11
    }
   ],
   "source": [
    "long_short_row = {}\n",
    "for i in range(4,25,5):\n",
    "    long_short_row[i] = data.iloc[:,i] - data.iloc[:,i-4]\n",
    "long_short_row = pd.DataFrame(long_short_row)\n",
    "lsr_tstat = (long_short_row.mean() / (long_short_row.std() / np.sqrt(nobs))) \n",
    "\n",
    "lsr_tstat = pd.DataFrame(lsr_tstat,columns=[\"Long Short\"])\n",
    "lsr_tstat.index = [\"SMALL\",\"ME2\",\"ME3\",\"ME4\",\"BIG\"]\n",
    "\n",
    "tstats[\"Long Short\"] = lsr_tstat\n",
    "tstats"
   ]
  },
  {
   "cell_type": "code",
   "execution_count": 12,
   "metadata": {},
   "outputs": [
    {
     "output_type": "execute_result",
     "data": {
      "text/plain": [
       "            LoBM   BM2   BM3   BM4  HiBM  Long Short\n",
       "SMALL       2.21  4.43  4.90  5.93  5.97        4.52\n",
       "ME2         3.25  4.96  5.81  5.98  5.50        2.70\n",
       "ME3         3.67  5.45  5.80  6.25  5.96        2.44\n",
       "ME4         4.58  5.04  5.50  6.11  5.35        0.99\n",
       "BIG         5.26  5.31  5.69  4.70  4.56        0.27\n",
       "Long Short  1.17 -1.42 -1.13 -2.78 -2.27         NaN"
      ],
      "text/html": "<div>\n<style scoped>\n    .dataframe tbody tr th:only-of-type {\n        vertical-align: middle;\n    }\n\n    .dataframe tbody tr th {\n        vertical-align: top;\n    }\n\n    .dataframe thead th {\n        text-align: right;\n    }\n</style>\n<table border=\"1\" class=\"dataframe\">\n  <thead>\n    <tr style=\"text-align: right;\">\n      <th></th>\n      <th>LoBM</th>\n      <th>BM2</th>\n      <th>BM3</th>\n      <th>BM4</th>\n      <th>HiBM</th>\n      <th>Long Short</th>\n    </tr>\n  </thead>\n  <tbody>\n    <tr>\n      <th>SMALL</th>\n      <td>2.21</td>\n      <td>4.43</td>\n      <td>4.90</td>\n      <td>5.93</td>\n      <td>5.97</td>\n      <td>4.52</td>\n    </tr>\n    <tr>\n      <th>ME2</th>\n      <td>3.25</td>\n      <td>4.96</td>\n      <td>5.81</td>\n      <td>5.98</td>\n      <td>5.50</td>\n      <td>2.70</td>\n    </tr>\n    <tr>\n      <th>ME3</th>\n      <td>3.67</td>\n      <td>5.45</td>\n      <td>5.80</td>\n      <td>6.25</td>\n      <td>5.96</td>\n      <td>2.44</td>\n    </tr>\n    <tr>\n      <th>ME4</th>\n      <td>4.58</td>\n      <td>5.04</td>\n      <td>5.50</td>\n      <td>6.11</td>\n      <td>5.35</td>\n      <td>0.99</td>\n    </tr>\n    <tr>\n      <th>BIG</th>\n      <td>5.26</td>\n      <td>5.31</td>\n      <td>5.69</td>\n      <td>4.70</td>\n      <td>4.56</td>\n      <td>0.27</td>\n    </tr>\n    <tr>\n      <th>Long Short</th>\n      <td>1.17</td>\n      <td>-1.42</td>\n      <td>-1.13</td>\n      <td>-2.78</td>\n      <td>-2.27</td>\n      <td>NaN</td>\n    </tr>\n  </tbody>\n</table>\n</div>"
     },
     "metadata": {},
     "execution_count": 12
    }
   ],
   "source": [
    "long_short_col = {}\n",
    "for i in range(20,25):\n",
    "    long_short_col[i] = data.iloc[:,i] - data.iloc[:,i-20]\n",
    "\n",
    "long_short_col = pd.DataFrame(long_short_col)\n",
    "lsc_tstat = (long_short_col.mean() / (long_short_col.std() / np.sqrt(nobs))) \n",
    "\n",
    "lsc_tstat = pd.DataFrame(lsc_tstat,columns=[\"Long Short\"]).T\n",
    "lsc_tstat.columns = [\"LoBM\",\"BM2\",\"BM3\",\"BM4\",\"HiBM\"]\n",
    "\n",
    "#tstats[\"Long Short\"] = lsc_tstat\n",
    "tstats_extended = tstats.append(lsc_tstat)\n",
    "tstats_extended.round(2)"
   ]
  }
 ]
}