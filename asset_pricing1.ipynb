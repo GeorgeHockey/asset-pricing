{
 "metadata": {
  "language_info": {
   "codemirror_mode": {
    "name": "ipython",
    "version": 3
   },
   "file_extension": ".py",
   "mimetype": "text/x-python",
   "name": "python",
   "nbconvert_exporter": "python",
   "pygments_lexer": "ipython3",
   "version": "3.8.3-final"
  },
  "orig_nbformat": 2,
  "kernelspec": {
   "name": "python3",
   "display_name": "Python 3",
   "language": "python"
  }
 },
 "nbformat": 4,
 "nbformat_minor": 2,
 "cells": [
  {
   "cell_type": "code",
   "execution_count": 2,
   "metadata": {},
   "outputs": [],
   "source": [
    "import pandas as pd\n",
    "import numpy as np\n",
    "import seaborn as sns\n",
    "import matplotlib.pyplot as plt\n",
    "import statsmodels.api as sm"
   ]
  },
  {
   "source": [
    "Question 1 \n",
    "------------------------------------------------------------------------------"
   ],
   "cell_type": "markdown",
   "metadata": {}
  },
  {
   "cell_type": "code",
   "execution_count": 205,
   "metadata": {},
   "outputs": [],
   "source": [
    "data = pd.read_csv(\"data/25_Portfolios_5x5.csv\",skiprows=15,index_col=\"DATE\",parse_dates=True,nrows=1134)\n",
    "data = data.dropna()\n",
    "data.index = pd.to_datetime(data.index,format=\"%Y%m\")\n",
    "factors = pd.read_csv(\"data/F-F_Research_Data_Factors.csv\",skiprows=3,index_col=0,parse_dates=True,nrows=1134)\n",
    "factors = factors.dropna()\n",
    "factors.index = pd.to_datetime(factors.index,format=\"%Y%m\")\n",
    "rm = factors[\"Mkt-RF\"]\n",
    "rf = factors[\"RF\"]"
   ]
  },
  {
   "cell_type": "code",
   "execution_count": 206,
   "metadata": {},
   "outputs": [],
   "source": [
    "data = data[\"1963-07-01\":\"2020-06-01\"]\n",
    "rm = rm[\"1963-07-01\":\"2020-06-01\"]\n",
    "rf = rf[\"1963-07-01\":\"2020-06-01\"]"
   ]
  },
  {
   "cell_type": "code",
   "execution_count": 202,
   "metadata": {},
   "outputs": [
    {
     "output_type": "execute_result",
     "data": {
      "text/plain": [
       "       LoBM   BM2   BM3   BM4  HiBM\n",
       "SMALL  0.67  1.17  1.13  1.31  1.39\n",
       "ME2    0.89  1.13  1.22  1.22  1.30\n",
       "ME3    0.92  1.16  1.09  1.23  1.29\n",
       "ME4    1.02  0.99  1.05  1.17  1.17\n",
       "BIG    0.92  0.89  0.92  0.85  0.98"
      ],
      "text/html": "<div>\n<style scoped>\n    .dataframe tbody tr th:only-of-type {\n        vertical-align: middle;\n    }\n\n    .dataframe tbody tr th {\n        vertical-align: top;\n    }\n\n    .dataframe thead th {\n        text-align: right;\n    }\n</style>\n<table border=\"1\" class=\"dataframe\">\n  <thead>\n    <tr style=\"text-align: right;\">\n      <th></th>\n      <th>LoBM</th>\n      <th>BM2</th>\n      <th>BM3</th>\n      <th>BM4</th>\n      <th>HiBM</th>\n    </tr>\n  </thead>\n  <tbody>\n    <tr>\n      <th>SMALL</th>\n      <td>0.67</td>\n      <td>1.17</td>\n      <td>1.13</td>\n      <td>1.31</td>\n      <td>1.39</td>\n    </tr>\n    <tr>\n      <th>ME2</th>\n      <td>0.89</td>\n      <td>1.13</td>\n      <td>1.22</td>\n      <td>1.22</td>\n      <td>1.30</td>\n    </tr>\n    <tr>\n      <th>ME3</th>\n      <td>0.92</td>\n      <td>1.16</td>\n      <td>1.09</td>\n      <td>1.23</td>\n      <td>1.29</td>\n    </tr>\n    <tr>\n      <th>ME4</th>\n      <td>1.02</td>\n      <td>0.99</td>\n      <td>1.05</td>\n      <td>1.17</td>\n      <td>1.17</td>\n    </tr>\n    <tr>\n      <th>BIG</th>\n      <td>0.92</td>\n      <td>0.89</td>\n      <td>0.92</td>\n      <td>0.85</td>\n      <td>0.98</td>\n    </tr>\n  </tbody>\n</table>\n</div>"
     },
     "metadata": {},
     "execution_count": 202
    }
   ],
   "source": [
    "arith_mean = data.mean(0)\n",
    "simple_mean = pd.DataFrame(np.zeros((5,5)),index=[\"SMALL\",\"ME2\",\"ME3\",\"ME4\",\"BIG\"],columns=[\"LoBM\",\"BM2\",\"BM3\",\"BM4\",\"HiBM\"])\n",
    "for r in range(0,5):\n",
    "    for c in range(0,5):\n",
    "        n = r * 5 + c\n",
    "        simple_mean.iloc[r,c] = arith_mean[n]\n",
    "simple_mean = simple_mean.round(2)\n",
    "#print(simple_mean.to_latex())\n",
    "simple_mean"
   ]
  },
  {
   "cell_type": "code",
   "execution_count": 210,
   "metadata": {},
   "outputs": [
    {
     "output_type": "execute_result",
     "data": {
      "text/plain": [
       "       LoBM   BM2   BM3   BM4  HiBM\n",
       "SMALL  0.55  1.48  1.41  1.74  1.89\n",
       "ME2    0.96  1.41  1.57  1.57  1.72\n",
       "ME3    1.01  1.46  1.33  1.59  1.70\n",
       "ME4    1.20  1.14  1.26  1.48  1.48\n",
       "BIG    1.01  0.96  1.01  0.88  1.13"
      ],
      "text/html": "<div>\n<style scoped>\n    .dataframe tbody tr th:only-of-type {\n        vertical-align: middle;\n    }\n\n    .dataframe tbody tr th {\n        vertical-align: top;\n    }\n\n    .dataframe thead th {\n        text-align: right;\n    }\n</style>\n<table border=\"1\" class=\"dataframe\">\n  <thead>\n    <tr style=\"text-align: right;\">\n      <th></th>\n      <th>LoBM</th>\n      <th>BM2</th>\n      <th>BM3</th>\n      <th>BM4</th>\n      <th>HiBM</th>\n    </tr>\n  </thead>\n  <tbody>\n    <tr>\n      <th>SMALL</th>\n      <td>0.55</td>\n      <td>1.48</td>\n      <td>1.41</td>\n      <td>1.74</td>\n      <td>1.89</td>\n    </tr>\n    <tr>\n      <th>ME2</th>\n      <td>0.96</td>\n      <td>1.41</td>\n      <td>1.57</td>\n      <td>1.57</td>\n      <td>1.72</td>\n    </tr>\n    <tr>\n      <th>ME3</th>\n      <td>1.01</td>\n      <td>1.46</td>\n      <td>1.33</td>\n      <td>1.59</td>\n      <td>1.70</td>\n    </tr>\n    <tr>\n      <th>ME4</th>\n      <td>1.20</td>\n      <td>1.14</td>\n      <td>1.26</td>\n      <td>1.48</td>\n      <td>1.48</td>\n    </tr>\n    <tr>\n      <th>BIG</th>\n      <td>1.01</td>\n      <td>0.96</td>\n      <td>1.01</td>\n      <td>0.88</td>\n      <td>1.13</td>\n    </tr>\n  </tbody>\n</table>\n</div>"
     },
     "metadata": {},
     "execution_count": 210
    }
   ],
   "source": [
    "betas = ((simple_mean - rf.mean() )/ rm.mean()).round(2)\n",
    "betas"
   ]
  },
  {
   "cell_type": "code",
   "execution_count": 212,
   "metadata": {},
   "outputs": [
    {
     "output_type": "execute_result",
     "data": {
      "text/plain": [
       "       LoBM   BM2   BM3   BM4  HiBM\n",
       "SMALL  7.92  6.95  6.02  5.78  6.06\n",
       "ME2    7.16  6.02  5.45  5.33  6.18\n",
       "ME3    6.57  5.49  5.01  5.05  5.79\n",
       "ME4    5.87  5.14  4.99  4.97  5.76\n",
       "BIG    4.60  4.41  4.31  4.72  5.57"
      ],
      "text/html": "<div>\n<style scoped>\n    .dataframe tbody tr th:only-of-type {\n        vertical-align: middle;\n    }\n\n    .dataframe tbody tr th {\n        vertical-align: top;\n    }\n\n    .dataframe thead th {\n        text-align: right;\n    }\n</style>\n<table border=\"1\" class=\"dataframe\">\n  <thead>\n    <tr style=\"text-align: right;\">\n      <th></th>\n      <th>LoBM</th>\n      <th>BM2</th>\n      <th>BM3</th>\n      <th>BM4</th>\n      <th>HiBM</th>\n    </tr>\n  </thead>\n  <tbody>\n    <tr>\n      <th>SMALL</th>\n      <td>7.92</td>\n      <td>6.95</td>\n      <td>6.02</td>\n      <td>5.78</td>\n      <td>6.06</td>\n    </tr>\n    <tr>\n      <th>ME2</th>\n      <td>7.16</td>\n      <td>6.02</td>\n      <td>5.45</td>\n      <td>5.33</td>\n      <td>6.18</td>\n    </tr>\n    <tr>\n      <th>ME3</th>\n      <td>6.57</td>\n      <td>5.49</td>\n      <td>5.01</td>\n      <td>5.05</td>\n      <td>5.79</td>\n    </tr>\n    <tr>\n      <th>ME4</th>\n      <td>5.87</td>\n      <td>5.14</td>\n      <td>4.99</td>\n      <td>4.97</td>\n      <td>5.76</td>\n    </tr>\n    <tr>\n      <th>BIG</th>\n      <td>4.60</td>\n      <td>4.41</td>\n      <td>4.31</td>\n      <td>4.72</td>\n      <td>5.57</td>\n    </tr>\n  </tbody>\n</table>\n</div>"
     },
     "metadata": {},
     "execution_count": 212
    }
   ],
   "source": [
    "# Standard deviation\n",
    "stds = data.std(0)\n",
    "std_dev = pd.DataFrame(np.zeros((5,5)),index=[\"SMALL\",\"ME2\",\"ME3\",\"ME4\",\"BIG\"],columns=[\"LoBM\",\"BM2\",\"BM3\",\"BM4\",\"HiBM\"])\n",
    "for r in range(0,5):\n",
    "    for c in range(0,5):\n",
    "        n = r * 5 + c\n",
    "        std_dev.iloc[r,c] = stds[n]\n",
    "std_dev = std_dev.round(2)\n",
    "#print(simple_mean.to_latex())\n",
    "std_dev"
   ]
  },
  {
   "cell_type": "code",
   "execution_count": 225,
   "metadata": {},
   "outputs": [
    {
     "output_type": "execute_result",
     "data": {
      "text/plain": [
       "       LoBM   BM2   BM3   BM4  HiBM\n",
       "SMALL  0.13  0.40  0.43  0.56  0.58\n",
       "ME2    0.25  0.43  0.54  0.55  0.52\n",
       "ME3    0.29  0.49  0.49  0.59  0.55\n",
       "ME4    0.38  0.41  0.47  0.55  0.48\n",
       "BIG    0.41  0.40  0.44  0.35  0.38"
      ],
      "text/html": "<div>\n<style scoped>\n    .dataframe tbody tr th:only-of-type {\n        vertical-align: middle;\n    }\n\n    .dataframe tbody tr th {\n        vertical-align: top;\n    }\n\n    .dataframe thead th {\n        text-align: right;\n    }\n</style>\n<table border=\"1\" class=\"dataframe\">\n  <thead>\n    <tr style=\"text-align: right;\">\n      <th></th>\n      <th>LoBM</th>\n      <th>BM2</th>\n      <th>BM3</th>\n      <th>BM4</th>\n      <th>HiBM</th>\n    </tr>\n  </thead>\n  <tbody>\n    <tr>\n      <th>SMALL</th>\n      <td>0.13</td>\n      <td>0.40</td>\n      <td>0.43</td>\n      <td>0.56</td>\n      <td>0.58</td>\n    </tr>\n    <tr>\n      <th>ME2</th>\n      <td>0.25</td>\n      <td>0.43</td>\n      <td>0.54</td>\n      <td>0.55</td>\n      <td>0.52</td>\n    </tr>\n    <tr>\n      <th>ME3</th>\n      <td>0.29</td>\n      <td>0.49</td>\n      <td>0.49</td>\n      <td>0.59</td>\n      <td>0.55</td>\n    </tr>\n    <tr>\n      <th>ME4</th>\n      <td>0.38</td>\n      <td>0.41</td>\n      <td>0.47</td>\n      <td>0.55</td>\n      <td>0.48</td>\n    </tr>\n    <tr>\n      <th>BIG</th>\n      <td>0.41</td>\n      <td>0.40</td>\n      <td>0.44</td>\n      <td>0.35</td>\n      <td>0.38</td>\n    </tr>\n  </tbody>\n</table>\n</div>"
     },
     "metadata": {},
     "execution_count": 225
    }
   ],
   "source": [
    "# Sharpe ratio\n",
    "sharpe = ((simple_mean - rf.mean())/std_dev) * np.sqrt(12)\n",
    "sharpe.round(2)"
   ]
  },
  {
   "cell_type": "code",
   "execution_count": 228,
   "metadata": {},
   "outputs": [
    {
     "output_type": "execute_result",
     "data": {
      "text/plain": [
       "       LoBM   BM2   BM3   BM4  HiBM\n",
       "SMALL  0.08  0.17  0.19  0.23  0.23\n",
       "ME2    0.12  0.19  0.22  0.23  0.21\n",
       "ME3    0.14  0.21  0.22  0.24  0.22\n",
       "ME4    0.17  0.19  0.21  0.24  0.20\n",
       "BIG    0.20  0.20  0.21  0.18  0.18"
      ],
      "text/html": "<div>\n<style scoped>\n    .dataframe tbody tr th:only-of-type {\n        vertical-align: middle;\n    }\n\n    .dataframe tbody tr th {\n        vertical-align: top;\n    }\n\n    .dataframe thead th {\n        text-align: right;\n    }\n</style>\n<table border=\"1\" class=\"dataframe\">\n  <thead>\n    <tr style=\"text-align: right;\">\n      <th></th>\n      <th>LoBM</th>\n      <th>BM2</th>\n      <th>BM3</th>\n      <th>BM4</th>\n      <th>HiBM</th>\n    </tr>\n  </thead>\n  <tbody>\n    <tr>\n      <th>SMALL</th>\n      <td>0.08</td>\n      <td>0.17</td>\n      <td>0.19</td>\n      <td>0.23</td>\n      <td>0.23</td>\n    </tr>\n    <tr>\n      <th>ME2</th>\n      <td>0.12</td>\n      <td>0.19</td>\n      <td>0.22</td>\n      <td>0.23</td>\n      <td>0.21</td>\n    </tr>\n    <tr>\n      <th>ME3</th>\n      <td>0.14</td>\n      <td>0.21</td>\n      <td>0.22</td>\n      <td>0.24</td>\n      <td>0.22</td>\n    </tr>\n    <tr>\n      <th>ME4</th>\n      <td>0.17</td>\n      <td>0.19</td>\n      <td>0.21</td>\n      <td>0.24</td>\n      <td>0.20</td>\n    </tr>\n    <tr>\n      <th>BIG</th>\n      <td>0.20</td>\n      <td>0.20</td>\n      <td>0.21</td>\n      <td>0.18</td>\n      <td>0.18</td>\n    </tr>\n  </tbody>\n</table>\n</div>"
     },
     "metadata": {},
     "execution_count": 228
    }
   ],
   "source": [
    "tstats = (simple_mean / std_dev ).round(2)\n",
    "tstats"
   ]
  }
 ]
}