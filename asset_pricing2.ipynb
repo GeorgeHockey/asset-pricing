{
 "metadata": {
  "language_info": {
   "codemirror_mode": {
    "name": "ipython",
    "version": 3
   },
   "file_extension": ".py",
   "mimetype": "text/x-python",
   "name": "python",
   "nbconvert_exporter": "python",
   "pygments_lexer": "ipython3",
   "version": "3.8.3-final"
  },
  "orig_nbformat": 2,
  "kernelspec": {
   "name": "python3",
   "display_name": "Python 3",
   "language": "python"
  }
 },
 "nbformat": 4,
 "nbformat_minor": 2,
 "cells": [
  {
   "cell_type": "code",
   "execution_count": 6,
   "metadata": {},
   "outputs": [],
   "source": [
    "import pandas as pd\n",
    "import numpy as np\n",
    "import seaborn as sns\n",
    "import matplotlib.pyplot as plt\n",
    "import statsmodels.api as sm\n",
    "import scipy.stats\n",
    "from numpy.linalg import inv\n",
    "import pandas_datareader as pdr"
   ]
  },
  {
   "source": [
    "# OLD DATA LOADING\n",
    "\"\"\"\n",
    "\n",
    "data = pd.read_csv(\"data/25_Portfolios_5x5.csv\",skiprows=15,index_col=\"DATE\",parse_dates=True,nrows=1134)\n",
    "data = data.dropna()\n",
    "data.index = pd.to_datetime(data.index,format=\"%Y%m\")\n",
    "\n",
    "factors = pd.read_csv(\"data/F-F_Research_Data_Factors.csv\",skiprows=3,index_col=0,parse_dates=True,nrows=1134)\n",
    "factors = factors.dropna()\n",
    "factors.index = pd.to_datetime(factors.index,format=\"%Y%m\")\n",
    "rm = factors[\"Mkt-RF\"]\n",
    "rf = factors[\"RF\"]\n",
    "\n",
    "mom = pd.read_csv(\"data/F-F_Momentum_Factor.csv\",skiprows=13,index_col=0,parse_dates=True,nrows=1129)\n",
    "mom = mom.dropna()\n",
    "mom.index = pd.to_datetime(mom.index,format=\"%Y%m\")\n",
    "\n",
    "reversal = pd.read_csv(\"data/F-F_ST_Reversal_Factor.csv\",skiprows=13,index_col=0,parse_dates=True,nrows=1139)\n",
    "reversal = reversal.dropna()\n",
    "reversal.index = pd.to_datetime(reversal.index,format=\"%Y%m\")\n",
    "\n",
    "factors_5 = pd.read_csv(\"data/F-F_Research_Data_5_Factors_2x3.csv\",skiprows=3,index_col=0,parse_dates=True,nrows=690)\n",
    "factors_5 = factors_5.dropna()\n",
    "factors_5.index = pd.to_datetime(factors_5.index,format=\"%Y%m\")\n",
    "\n",
    "data = data[\"1963-07-01\":\"2020-06-01\"]\n",
    "rm = rm[\"1963-07-01\":\"2020-06-01\"]\n",
    "rf = rf[\"1963-07-01\":\"2020-06-01\"]\n",
    "factors_5 = factors_5[\"1963-07-01\":\"2020-06-01\"]\n",
    "factors = factors[\"1963-07-01\":\"2020-06-01\"]\n",
    "mom = mom[\"1963-07-01\":\"2020-06-01\"]\n",
    "reversal = reversal[\"1963-07-01\":\"2020-06-01\"]\n",
    "\n",
    "ex_data = data.subtract(rf,axis=0)\n",
    "factors_5 = factors_5.drop(\"RF\",axis=1)\n",
    "factors_3 = factors.drop(\"RF\",axis=1)\n",
    "factors_3_mom = factors_3.copy()\n",
    "factors_3_mom[\"Mom\"] = mom\n",
    "factors_3_rev = factors_3.copy()\n",
    "factors_3_rev[\"ST Rev\"] = reversal\n",
    "\"\"\""
   ],
   "cell_type": "code",
   "metadata": {},
   "execution_count": 7,
   "outputs": [
    {
     "output_type": "execute_result",
     "data": {
      "text/plain": [
       "'\\n\\ndata = pd.read_csv(\"data/25_Portfolios_5x5.csv\",skiprows=15,index_col=\"DATE\",parse_dates=True,nrows=1134)\\ndata = data.dropna()\\ndata.index = pd.to_datetime(data.index,format=\"%Y%m\")\\n\\nfactors = pd.read_csv(\"data/F-F_Research_Data_Factors.csv\",skiprows=3,index_col=0,parse_dates=True,nrows=1134)\\nfactors = factors.dropna()\\nfactors.index = pd.to_datetime(factors.index,format=\"%Y%m\")\\nrm = factors[\"Mkt-RF\"]\\nrf = factors[\"RF\"]\\n\\nmom = pd.read_csv(\"data/F-F_Momentum_Factor.csv\",skiprows=13,index_col=0,parse_dates=True,nrows=1129)\\nmom = mom.dropna()\\nmom.index = pd.to_datetime(mom.index,format=\"%Y%m\")\\n\\nreversal = pd.read_csv(\"data/F-F_ST_Reversal_Factor.csv\",skiprows=13,index_col=0,parse_dates=True,nrows=1139)\\nreversal = reversal.dropna()\\nreversal.index = pd.to_datetime(reversal.index,format=\"%Y%m\")\\n\\nfactors_5 = pd.read_csv(\"data/F-F_Research_Data_5_Factors_2x3.csv\",skiprows=3,index_col=0,parse_dates=True,nrows=690)\\nfactors_5 = factors_5.dropna()\\nfactors_5.index = pd.to_datetime(factors_5.index,format=\"%Y%m\")\\n\\ndata = data[\"1963-07-01\":\"2020-06-01\"]\\nrm = rm[\"1963-07-01\":\"2020-06-01\"]\\nrf = rf[\"1963-07-01\":\"2020-06-01\"]\\nfactors_5 = factors_5[\"1963-07-01\":\"2020-06-01\"]\\nfactors = factors[\"1963-07-01\":\"2020-06-01\"]\\nmom = mom[\"1963-07-01\":\"2020-06-01\"]\\nreversal = reversal[\"1963-07-01\":\"2020-06-01\"]\\n\\nex_data = data.subtract(rf,axis=0)\\nfactors_5 = factors_5.drop(\"RF\",axis=1)\\nfactors_3 = factors.drop(\"RF\",axis=1)\\nfactors_3_mom = factors_3.copy()\\nfactors_3_mom[\"Mom\"] = mom\\nfactors_3_rev = factors_3.copy()\\nfactors_3_rev[\"ST Rev\"] = reversal\\n'"
      ]
     },
     "metadata": {},
     "execution_count": 7
    }
   ]
  },
  {
   "cell_type": "code",
   "execution_count": 8,
   "metadata": {},
   "outputs": [],
   "source": [
    "# Load required data\n",
    "reversal = pdr.get_data_famafrench(\"F-F_ST_Reversal_Factor\", start=\"1963-07\", end=\"2020-06\")[0] #* (1/100)\n",
    "mom = pdr.get_data_famafrench(\"F-F_Momentum_Factor\", start=\"1963-07\", end=\"2020-06\")[0] #* (1/100)\n",
    "factors = pdr.get_data_famafrench(\"F-F_Research_Data_Factors\", start=\"1963-07\", end=\"2020-06\")[0] #* (1/100)\n",
    "factors_5 = pdr.get_data_famafrench(\"F-F_Research_Data_5_Factors_2x3\", start=\"1963-07\", end=\"2020-06\")[0] #* (1/100)\n",
    "data = pdr.get_data_famafrench(\"25_Portfolios_5x5\", start=\"1963-07\", end=\"2020-06\")[0] #* (1/100)\n",
    "\n",
    "# Portfolio returns must be excess for GRS\n",
    "ex_data = data.sub(factors[\"RF\"], axis=0)\n",
    "\n",
    "# Remove RF from dataframes\n",
    "factors_5 = factors_5.drop(columns=[\"RF\"])\n",
    "factors = factors.drop(columns=[\"RF\"])\n",
    "\n",
    "#For 5 Factors\n",
    "#ff_5_factors_constant = sm.add_constant(ff_5_factors)\n",
    "\n",
    "# For 3 Factors + Momentum\n",
    "factors_3_mom = pd.concat([factors[\"Mkt-RF\"], factors[\"SMB\"], factors[\"HML\"], mom], axis=1)\n",
    "#factors_3_mom = sm.add_constant(factors_3_mom)\n",
    "\n",
    "# For 3 Factors + reversal\n",
    "factors_3_rev = pd.concat([factors[\"Mkt-RF\"], factors[\"SMB\"], factors[\"HML\"], reversal], axis=1)\n",
    "#factors_3_rev = sm.add_constant(factors_3_rev)"
   ]
  },
  {
   "cell_type": "code",
   "execution_count": 9,
   "metadata": {},
   "outputs": [
    {
     "output_type": "execute_result",
     "data": {
      "text/plain": [
       "         Mkt-RF   SMB    HML   RMW   CMA\n",
       "Date                                    \n",
       "1963-07   -0.39 -0.45  -0.94  0.66 -1.15\n",
       "1963-08    5.07 -0.82   1.82  0.40 -0.40\n",
       "1963-09   -1.57 -0.48   0.17 -0.76  0.24\n",
       "1963-10    2.53 -1.30  -0.04  2.75 -2.24\n",
       "1963-11   -0.85 -0.85   1.70 -0.45  2.22\n",
       "...         ...   ...    ...   ...   ...\n",
       "2020-02   -8.13 -0.03  -3.92 -1.61 -2.49\n",
       "2020-03  -13.38 -8.38 -13.96 -1.38  1.21\n",
       "2020-04   13.65  2.79  -1.39  2.51 -1.03\n",
       "2020-05    5.58  1.93  -5.05  0.71 -3.28\n",
       "2020-06    2.46  1.94  -2.35  0.03  0.34\n",
       "\n",
       "[684 rows x 5 columns]"
      ],
      "text/html": "<div>\n<style scoped>\n    .dataframe tbody tr th:only-of-type {\n        vertical-align: middle;\n    }\n\n    .dataframe tbody tr th {\n        vertical-align: top;\n    }\n\n    .dataframe thead th {\n        text-align: right;\n    }\n</style>\n<table border=\"1\" class=\"dataframe\">\n  <thead>\n    <tr style=\"text-align: right;\">\n      <th></th>\n      <th>Mkt-RF</th>\n      <th>SMB</th>\n      <th>HML</th>\n      <th>RMW</th>\n      <th>CMA</th>\n    </tr>\n    <tr>\n      <th>Date</th>\n      <th></th>\n      <th></th>\n      <th></th>\n      <th></th>\n      <th></th>\n    </tr>\n  </thead>\n  <tbody>\n    <tr>\n      <th>1963-07</th>\n      <td>-0.39</td>\n      <td>-0.45</td>\n      <td>-0.94</td>\n      <td>0.66</td>\n      <td>-1.15</td>\n    </tr>\n    <tr>\n      <th>1963-08</th>\n      <td>5.07</td>\n      <td>-0.82</td>\n      <td>1.82</td>\n      <td>0.40</td>\n      <td>-0.40</td>\n    </tr>\n    <tr>\n      <th>1963-09</th>\n      <td>-1.57</td>\n      <td>-0.48</td>\n      <td>0.17</td>\n      <td>-0.76</td>\n      <td>0.24</td>\n    </tr>\n    <tr>\n      <th>1963-10</th>\n      <td>2.53</td>\n      <td>-1.30</td>\n      <td>-0.04</td>\n      <td>2.75</td>\n      <td>-2.24</td>\n    </tr>\n    <tr>\n      <th>1963-11</th>\n      <td>-0.85</td>\n      <td>-0.85</td>\n      <td>1.70</td>\n      <td>-0.45</td>\n      <td>2.22</td>\n    </tr>\n    <tr>\n      <th>...</th>\n      <td>...</td>\n      <td>...</td>\n      <td>...</td>\n      <td>...</td>\n      <td>...</td>\n    </tr>\n    <tr>\n      <th>2020-02</th>\n      <td>-8.13</td>\n      <td>-0.03</td>\n      <td>-3.92</td>\n      <td>-1.61</td>\n      <td>-2.49</td>\n    </tr>\n    <tr>\n      <th>2020-03</th>\n      <td>-13.38</td>\n      <td>-8.38</td>\n      <td>-13.96</td>\n      <td>-1.38</td>\n      <td>1.21</td>\n    </tr>\n    <tr>\n      <th>2020-04</th>\n      <td>13.65</td>\n      <td>2.79</td>\n      <td>-1.39</td>\n      <td>2.51</td>\n      <td>-1.03</td>\n    </tr>\n    <tr>\n      <th>2020-05</th>\n      <td>5.58</td>\n      <td>1.93</td>\n      <td>-5.05</td>\n      <td>0.71</td>\n      <td>-3.28</td>\n    </tr>\n    <tr>\n      <th>2020-06</th>\n      <td>2.46</td>\n      <td>1.94</td>\n      <td>-2.35</td>\n      <td>0.03</td>\n      <td>0.34</td>\n    </tr>\n  </tbody>\n</table>\n<p>684 rows × 5 columns</p>\n</div>"
     },
     "metadata": {},
     "execution_count": 9
    }
   ],
   "source": [
    "factors_5"
   ]
  },
  {
   "cell_type": "code",
   "execution_count": 83,
   "metadata": {},
   "outputs": [],
   "source": [
    "alphas_5 = []\n",
    "e5 = []\n",
    "\n",
    "\n",
    "for columns in ex_data:\n",
    "    x = sm.add_constant(factors_5)\n",
    "    res = sm.OLS(ex_data[columns],x).fit()\n",
    "    alphas_5.append(res.params[0])\n",
    "    e5.append(ex_data[columns] - res.predict())\n",
    "pd.DataFrame(np.array(e5) @ np.array(e5).T)\n",
    "e5_cov = (pd.DataFrame(e5).T).cov() "
   ]
  },
  {
   "cell_type": "code",
   "execution_count": 89,
   "metadata": {},
   "outputs": [],
   "source": [
    "alphas_5 = []\n",
    "alphas_mom = []\n",
    "alphas_rev = []\n",
    "e5 = []\n",
    "emom = []\n",
    "erev = []\n",
    "\n",
    "for columns in ex_data:\n",
    "    x = sm.add_constant(factors_5)\n",
    "    res = sm.OLS(ex_data[columns],x).fit()\n",
    "    alphas_5.append(res.params[0])\n",
    "    e5.append(ex_data[columns] - res.predict())\n",
    "\n",
    "    x = sm.add_constant(factors_3_mom)\n",
    "    res = sm.OLS(ex_data[columns],x).fit()\n",
    "    alphas_mom.append(res.params[0])\n",
    "    emom.append(ex_data[columns] - res.predict())\n",
    "\n",
    "    x = sm.add_constant(factors_3_rev)\n",
    "    res = sm.OLS(ex_data[columns],x).fit()\n",
    "    alphas_rev.append(res.params[0])\n",
    "    erev.append(ex_data[columns] - res.predict())\n",
    "\n",
    "e5_cov = (pd.DataFrame(e5).T).cov() \n",
    "emom_cov = (pd.DataFrame(emom).T).cov() \n",
    "erev_cov = (pd.DataFrame(erev).T).cov() "
   ]
  },
  {
   "cell_type": "code",
   "execution_count": 90,
   "metadata": {},
   "outputs": [],
   "source": [
    "def calc_GRS(alpha_vector, factor_dataframe, asset_returns,e_cov):\n",
    "    gen_cov = factor_dataframe.cov()\n",
    "    generalized_sharpe = factor_dataframe.mean().T @ inv(gen_cov) @ factor_dataframe.mean()     #Cochrane 2005, p.217\n",
    "    #cov = asset_returns.cov()\n",
    "    cov = e_cov\n",
    "    if isinstance(alpha_vector, list):\n",
    "        alpha_vector = np.array(alpha_vector)\n",
    "    #Calc GRS\n",
    "    df = len(asset_returns) - len(asset_returns.columns) - len(factor_dataframe.columns) # T - N - K     (N = number of assets, K = number of factors)\n",
    "    N = len(asset_returns.columns)\n",
    "    GRS = (df/ N) * ((alpha_vector.T @ inv(cov) @ alpha_vector) / (1+ generalized_sharpe))\n",
    "    p = 1-scipy.stats.f.cdf(GRS, len(asset_returns.columns), df) #find p-value of F test statistic\n",
    "    return GRS, p"
   ]
  },
  {
   "cell_type": "code",
   "execution_count": 91,
   "metadata": {},
   "outputs": [
    {
     "output_type": "execute_result",
     "data": {
      "text/plain": [
       "(3.037721469314005, 1.3217940193488431e-06)"
      ]
     },
     "metadata": {},
     "execution_count": 91
    }
   ],
   "source": [
    "calc_GRS(alphas_5,factors_5,data,e5_cov)"
   ]
  },
  {
   "cell_type": "code",
   "execution_count": 92,
   "metadata": {},
   "outputs": [
    {
     "output_type": "execute_result",
     "data": {
      "text/plain": [
       "(2.9797826379846293, 2.08801834578054e-06)"
      ]
     },
     "metadata": {},
     "execution_count": 92
    }
   ],
   "source": [
    "calc_GRS(alphas_mom,factors_3_mom,data,emom_cov)"
   ]
  },
  {
   "cell_type": "code",
   "execution_count": 93,
   "metadata": {},
   "outputs": [
    {
     "output_type": "execute_result",
     "data": {
      "text/plain": [
       "(3.7454974738078146, 4.108721696205464e-09)"
      ]
     },
     "metadata": {},
     "execution_count": 93
    }
   ],
   "source": [
    "calc_GRS(alphas_rev,factors_3_rev, data,erev_cov)"
   ]
  },
  {
   "cell_type": "code",
   "execution_count": 15,
   "metadata": {},
   "outputs": [
    {
     "output_type": "stream",
     "name": "stdout",
     "text": [
      "Factor premia and pricing error for the 5 factor model are:\n\nPricing error: 0    0.939512\ndtype: float64\n\nFactor Premia: lambda_mkt   -0.4225\nlambda_SMB    0.2639\nlambda_HML    0.2223\nlambda_RMW    0.4358\nlambda_CMA    0.0186\ndtype: float64\n\n   t_alpha  t_mkt  t_SMB  t_HML  t_RMW  t_CMA\n0     3.38  -1.28   2.15    1.9   2.54   0.11\n"
     ]
    }
   ],
   "source": [
    "## Farma MacBeth methodology for 5 factors\n",
    "\n",
    "beta_mkt = []\n",
    "beta_smb = []\n",
    "beta_hml = []\n",
    "beta_rmw = []\n",
    "beta_cma = []\n",
    "\n",
    "for columns in ex_data:\n",
    "    x = sm.add_constant(factors_5)\n",
    "    res = sm.OLS(ex_data[columns],x).fit()\n",
    "    beta_mkt.append(res.params[1])\n",
    "    beta_smb.append(res.params[2])\n",
    "    beta_hml.append(res.params[3])\n",
    "    beta_rmw.append(res.params[4])\n",
    "    beta_cma.append(res.params[5])\n",
    "\n",
    "betas = pd.DataFrame([beta_mkt,beta_smb,beta_hml,beta_rmw,beta_cma]).T\n",
    "betas.columns = [\"Mkt-RF\",\"SMB\",\"HML\",\"RMW\",\"CMA\"]\n",
    "betas = sm.add_constant(betas)\n",
    "betas.index = ex_data.T.index\n",
    "\n",
    "alpha = []\n",
    "lambda_mkt = []\n",
    "lambda_SMB = []\n",
    "lambda_HML = []\n",
    "lambda_RMW = []\n",
    "lambda_CMA = []\n",
    "\n",
    "for column in ex_data.T:\n",
    "    x = betas\n",
    "    y = ex_data.T[column]\n",
    "    res = sm.OLS(y,x).fit()\n",
    "    alpha.append(res.params[0])\n",
    "    lambda_mkt.append(res.params[1])\n",
    "    lambda_SMB.append(res.params[2])\n",
    "    lambda_HML.append(res.params[3])\n",
    "    lambda_RMW.append(res.params[4])\n",
    "    lambda_CMA.append(res.params[5])\n",
    "\n",
    "alpha = pd.DataFrame(np.array(alpha))\n",
    "lambda_mkt = pd.DataFrame(np.array(lambda_mkt))\n",
    "lambda_SMB = pd.DataFrame(np.array(lambda_SMB))\n",
    "lambda_HML = pd.DataFrame(np.array(lambda_HML))\n",
    "lambda_RMW = pd.DataFrame(np.array(lambda_RMW))\n",
    "lambda_CMA = pd.DataFrame(np.array(lambda_CMA))\n",
    "\n",
    "lambdas = pd.concat([lambda_mkt, lambda_SMB, lambda_HML, lambda_RMW, lambda_CMA], axis=1)\n",
    "lambdas.columns = ['lambda_mkt', \"lambda_SMB\", 'lambda_HML', \"lambda_RMW\", 'lambda_CMA']\n",
    "\n",
    "params = [alpha, lambda_mkt, lambda_SMB, lambda_HML, lambda_RMW, lambda_CMA]\n",
    "\n",
    "variances = []\n",
    "for i in params:\n",
    "    deviations = i - i.mean()\n",
    "    sum_of_squared_dev = (deviations ** 2).sum()\n",
    "    var = sum_of_squared_dev / (len(i) ** 2) \n",
    "    variances.append(var)\n",
    "\n",
    "\n",
    "variances = pd.DataFrame(np.array(variances)).T\n",
    "variances.columns = ['alpha', 'lambda_mkt', 'lambda_SMB', 'lambda_HML', 'lambda_RMW', 'lambda_CMA']\n",
    "\n",
    "#Shanken Adjustment\n",
    "adjustment = (1 + (lambdas.mean().T @ inv(factors_5.cov()) @ lambdas.mean()))\n",
    "#Adjusted variances\n",
    "variances = variances * adjustment\n",
    "\n",
    "#t-tests\n",
    "t_alpha = alpha.mean() / np.sqrt(variances['alpha'])\n",
    "t_mkt = lambda_mkt.mean() / np.sqrt(variances['lambda_mkt'])\n",
    "t_SMB = lambda_SMB.mean() / np.sqrt(variances['lambda_SMB'])\n",
    "t_HML = lambda_HML.mean() / np.sqrt(variances['lambda_HML'])\n",
    "t_RMW = lambda_RMW.mean() / np.sqrt(variances['lambda_RMW'])\n",
    "t_CMA = lambda_CMA.mean() / np.sqrt(variances['lambda_CMA'])\n",
    "t_stats = pd.concat([t_alpha, t_mkt, t_SMB, t_HML, t_RMW, t_CMA], axis=1)\n",
    "t_stats.columns = ['t_alpha', 't_mkt', 't_SMB', 't_HML', 't_RMW', 't_CMA']\n",
    "t_stats = np.round(t_stats,2)\n",
    "\n",
    "print(\"Factor premia and pricing error for the 5 factor model are:\")\n",
    "print()\n",
    "print(\"Pricing error:\", alpha.mean())\n",
    "print()\n",
    "print(\"Factor Premia:\", np.round(lambdas.mean(),4))\n",
    "print()\n",
    "print(t_stats)\n"
   ]
  },
  {
   "cell_type": "code",
   "execution_count": 16,
   "metadata": {},
   "outputs": [
    {
     "output_type": "stream",
     "name": "stdout",
     "text": [
      "Factor premia and pricing error for the 3 factor and momentum model are:\n\nPricing error: 0    0.403892\ndtype: float64\n\nFactor Premia: lambda_mkt    0.1996\nlambda_SMB    0.1452\nlambda_HML    0.3113\nlambda_Mom    2.4873\ndtype: float64\n\n   t_alpha  t_mkt  t_SMB  t_HML  t_Mom\n0     1.11   0.47   1.01   2.29   2.98\n"
     ]
    }
   ],
   "source": [
    "## Farma MacBeth methodology for 3 factors and momentum\n",
    "\n",
    "beta_mkt = []\n",
    "beta_smb = []\n",
    "beta_hml = []\n",
    "beta_mom = []\n",
    "\n",
    "for columns in ex_data:\n",
    "    x = sm.add_constant(factors_3_mom)\n",
    "    res = sm.OLS(ex_data[columns],x).fit()\n",
    "    beta_mkt.append(res.params[1])\n",
    "    beta_smb.append(res.params[2])\n",
    "    beta_hml.append(res.params[3])\n",
    "    beta_mom.append(res.params[4])\n",
    "\n",
    "betas = pd.DataFrame([beta_mkt,beta_smb,beta_hml,beta_mom]).T\n",
    "betas.columns = [\"Mkt-RF\",\"SMB\",\"HML\",\"Mom\"]\n",
    "betas = sm.add_constant(betas)\n",
    "betas.index = ex_data.T.index\n",
    "\n",
    "alpha = []\n",
    "lambda_mkt = []\n",
    "lambda_SMB = []\n",
    "lambda_HML = []\n",
    "lambda_Mom = []\n",
    "\n",
    "for column in ex_data.T:\n",
    "    x = betas\n",
    "    y = ex_data.T[column]\n",
    "    res = sm.OLS(y,x).fit()\n",
    "    alpha.append(res.params[0])\n",
    "    lambda_mkt.append(res.params[1])\n",
    "    lambda_SMB.append(res.params[2])\n",
    "    lambda_HML.append(res.params[3])\n",
    "    lambda_Mom.append(res.params[4])\n",
    "\n",
    "alpha = pd.DataFrame(np.array(alpha))\n",
    "lambda_mkt = pd.DataFrame(np.array(lambda_mkt))\n",
    "lambda_SMB = pd.DataFrame(np.array(lambda_SMB))\n",
    "lambda_HML = pd.DataFrame(np.array(lambda_HML))\n",
    "lambda_Mom = pd.DataFrame(np.array(lambda_Mom))\n",
    "\n",
    "lambdas = pd.concat([lambda_mkt, lambda_SMB, lambda_HML, lambda_Mom], axis=1)\n",
    "lambdas.columns = ['lambda_mkt', \"lambda_SMB\", 'lambda_HML', \"lambda_Mom\"]\n",
    "\n",
    "params = [alpha, lambda_mkt, lambda_SMB, lambda_HML, lambda_Mom]\n",
    "\n",
    "\n",
    "variances = []\n",
    "\n",
    "for i in params:\n",
    "    deviations = i - i.mean(axis=0)\n",
    "    sum_of_squared_dev = (deviations ** 2).sum()\n",
    "    var = sum_of_squared_dev / (len(i) ** 2) \n",
    "    variances.append(var)\n",
    "\n",
    "variances = pd.DataFrame(np.array(variances)).T\n",
    "variances.columns = ['alpha', 'lambda_mkt', 'lambda_SMB', 'lambda_HML', 'lambda_Mom']\n",
    "\n",
    "\"\"\"\n",
    "for i in params:\n",
    "    var = ((i.sub(i.mean(), axis=1)) ** 2).sum() / (len(i) ** 2)\n",
    "    variances.append(var)\n",
    "\n",
    "variances = pd.DataFrame(np.array(variances)).T\n",
    "variances.columns = ['alpha', 'lambda_mkt', 'lambda_SMB', 'lambda_HML', 'lambda_Mom']\n",
    "\"\"\"\n",
    "\n",
    "\n",
    "#Shanken Adjustment\n",
    "adjustment = (1 + (lambdas.mean().T @ inv(factors_3_mom.cov()) @ lambdas.mean()))\n",
    "#Adjusted variances\n",
    "variances = variances * adjustment\n",
    "\n",
    "#t-tests\n",
    "t_alpha = alpha.mean() / np.sqrt(variances['alpha'])\n",
    "t_mkt = lambda_mkt.mean() / np.sqrt(variances['lambda_mkt'])\n",
    "t_SMB = lambda_SMB.mean() / np.sqrt(variances['lambda_SMB'])\n",
    "t_HML = lambda_HML.mean() / np.sqrt(variances['lambda_HML'])\n",
    "t_Mom = lambda_Mom.mean() / np.sqrt(variances['lambda_Mom'])\n",
    "t_stats = pd.concat([t_alpha, t_mkt, t_SMB, t_HML, t_Mom], axis=1)\n",
    "t_stats.columns = ['t_alpha', 't_mkt', 't_SMB', 't_HML', 't_Mom']\n",
    "t_stats = np.round(t_stats,2)\n",
    "\n",
    "print(\"Factor premia and pricing error for the 3 factor and momentum model are:\")\n",
    "print()\n",
    "print(\"Pricing error:\", alpha.mean())\n",
    "print()\n",
    "print(\"Factor Premia:\", np.round(lambdas.mean(),4))\n",
    "print()\n",
    "print(t_stats)\n"
   ]
  },
  {
   "cell_type": "code",
   "execution_count": 17,
   "metadata": {},
   "outputs": [
    {
     "output_type": "stream",
     "name": "stdout",
     "text": [
      "Factor premia and pricing error for the 3 factor and Short Term Reversal model are:\n\nPricing error: 0    1.13857\ndtype: float64\n\nFactor Premia: lambda_mkt   -0.5653\nlambda_SMB    0.1429\nlambda_HML    0.2861\nlambda_REV   -0.7139\ndtype: float64\n\n   t_alpha  t_mkt  t_SMB  t_HML  t_REV\n0     4.25  -1.77   1.16   2.45  -1.53\n"
     ]
    }
   ],
   "source": [
    "## Farma MacBeth methodology for 3 factors and ST reversal factor\n",
    "\n",
    "beta_mkt = []\n",
    "beta_smb = []\n",
    "beta_hml = []\n",
    "beta_rev = []\n",
    "\n",
    "for columns in ex_data:\n",
    "    x = sm.add_constant(factors_3_rev)\n",
    "    res = sm.OLS(ex_data[columns],x).fit()\n",
    "    beta_mkt.append(res.params[1])\n",
    "    beta_smb.append(res.params[2])\n",
    "    beta_hml.append(res.params[3])\n",
    "    beta_rev.append(res.params[4])\n",
    "\n",
    "betas = pd.DataFrame([beta_mkt,beta_smb,beta_hml,beta_rev]).T\n",
    "betas.columns = [\"Mkt-RF\",\"SMB\",\"HML\",\"REV\"]\n",
    "betas = sm.add_constant(betas)\n",
    "betas.index = ex_data.T.index\n",
    "\n",
    "alpha = []\n",
    "lambda_mkt = []\n",
    "lambda_SMB = []\n",
    "lambda_HML = []\n",
    "lambda_REV = []\n",
    "\n",
    "for column in ex_data.T:\n",
    "    x = betas\n",
    "    y = ex_data.T[column]\n",
    "    res = sm.OLS(y,x).fit()\n",
    "    alpha.append(res.params[0])\n",
    "    lambda_mkt.append(res.params[1])\n",
    "    lambda_SMB.append(res.params[2])\n",
    "    lambda_HML.append(res.params[3])\n",
    "    lambda_REV.append(res.params[4])\n",
    "\n",
    "alpha = pd.DataFrame(np.array(alpha))\n",
    "lambda_mkt = pd.DataFrame(np.array(lambda_mkt))\n",
    "lambda_SMB = pd.DataFrame(np.array(lambda_SMB))\n",
    "lambda_HML = pd.DataFrame(np.array(lambda_HML))\n",
    "lambda_REV = pd.DataFrame(np.array(lambda_REV))\n",
    "\n",
    "lambdas = pd.concat([lambda_mkt, lambda_SMB, lambda_HML, lambda_REV], axis=1)\n",
    "lambdas.columns = ['lambda_mkt', \"lambda_SMB\", 'lambda_HML', \"lambda_REV\"]\n",
    "\n",
    "params = [alpha, lambda_mkt, lambda_SMB, lambda_HML, lambda_REV]\n",
    "\n",
    "variances = []\n",
    "for i in params:\n",
    "    deviations = i - i.mean()\n",
    "    sum_of_squared_dev = (deviations ** 2).sum()\n",
    "    var = sum_of_squared_dev / (len(i) ** 2) \n",
    "    variances.append(var)\n",
    "\n",
    "\n",
    "variances = pd.DataFrame(np.array(variances)).T\n",
    "variances.columns = ['alpha', 'lambda_mkt', 'lambda_SMB', 'lambda_HML', 'lambda_REV']\n",
    "\n",
    "#Shanken Adjustment\n",
    "adjustment = (1 + (lambdas.mean().T @ inv(factors_3_rev.cov()) @ lambdas.mean()))\n",
    "#Adjusted variances\n",
    "variances = variances * adjustment\n",
    "\n",
    "#t-tests\n",
    "t_alpha = alpha.mean() / np.sqrt(variances['alpha'])\n",
    "t_mkt = lambda_mkt.mean() / np.sqrt(variances['lambda_mkt'])\n",
    "t_SMB = lambda_SMB.mean() / np.sqrt(variances['lambda_SMB'])\n",
    "t_HML = lambda_HML.mean() / np.sqrt(variances['lambda_HML'])\n",
    "t_REV = lambda_REV.mean() / np.sqrt(variances['lambda_REV'])\n",
    "t_stats = pd.concat([t_alpha, t_mkt, t_SMB, t_HML, t_REV], axis=1)\n",
    "t_stats.columns = ['t_alpha', 't_mkt', 't_SMB', 't_HML', 't_REV']\n",
    "t_stats = np.round(t_stats,2)\n",
    "\n",
    "print(\"Factor premia and pricing error for the 3 factor and Short Term Reversal model are:\")\n",
    "print()\n",
    "print(\"Pricing error:\", alpha.mean())\n",
    "print()\n",
    "print(\"Factor Premia:\", np.round(lambdas.mean(),4))\n",
    "print()\n",
    "print(t_stats)\n"
   ]
  }
 ]
}