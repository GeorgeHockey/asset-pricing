{
 "metadata": {
  "language_info": {
   "codemirror_mode": {
    "name": "ipython",
    "version": 3
   },
   "file_extension": ".py",
   "mimetype": "text/x-python",
   "name": "python",
   "nbconvert_exporter": "python",
   "pygments_lexer": "ipython3",
   "version": "3.8.3-final"
  },
  "orig_nbformat": 2,
  "kernelspec": {
   "name": "python3",
   "display_name": "Python 3",
   "language": "python"
  }
 },
 "nbformat": 4,
 "nbformat_minor": 2,
 "cells": [
  {
   "cell_type": "code",
   "execution_count": 20,
   "metadata": {},
   "outputs": [],
   "source": [
    "import pandas as pd\n",
    "import numpy as np\n",
    "import seaborn as sns\n",
    "import matplotlib.pyplot as plt\n",
    "import statsmodels.api as sm\n",
    "import scipy.stats\n",
    "from numpy.linalg import inv"
   ]
  },
  {
   "cell_type": "code",
   "execution_count": 85,
   "metadata": {},
   "outputs": [],
   "source": [
    "data = pd.read_csv(\"data/25_Portfolios_5x5.csv\",skiprows=15,index_col=\"DATE\",parse_dates=True,nrows=1134)\n",
    "data = data.dropna()\n",
    "data.index = pd.to_datetime(data.index,format=\"%Y%m\")\n",
    "\n",
    "factors = pd.read_csv(\"data/F-F_Research_Data_Factors.csv\",skiprows=3,index_col=0,parse_dates=True,nrows=1134)\n",
    "factors = factors.dropna()\n",
    "factors.index = pd.to_datetime(factors.index,format=\"%Y%m\")\n",
    "rm = factors[\"Mkt-RF\"]\n",
    "rf = factors[\"RF\"]\n",
    "\n",
    "mom = pd.read_csv(\"data/F-F_Momentum_Factor.csv\",skiprows=13,index_col=0,parse_dates=True,nrows=1129)\n",
    "mom = mom.dropna()\n",
    "mom.index = pd.to_datetime(mom.index,format=\"%Y%m\")\n",
    "\n",
    "reversal = pd.read_csv(\"data/F-F_ST_Reversal_Factor.csv\",skiprows=13,index_col=0,parse_dates=True,nrows=1139)\n",
    "reversal = reversal.dropna()\n",
    "reversal.index = pd.to_datetime(reversal.index,format=\"%Y%m\")\n",
    "\n",
    "factors_5 = pd.read_csv(\"data/F-F_Research_Data_5_Factors_2x3.csv\",skiprows=3,index_col=0,parse_dates=True,nrows=690)\n",
    "factors_5 = factors_5.dropna()\n",
    "factors_5.index = pd.to_datetime(factors_5.index,format=\"%Y%m\")\n",
    "\n",
    "data = data[\"1963-07-01\":\"2020-06-01\"]\n",
    "rm = rm[\"1963-07-01\":\"2020-06-01\"]\n",
    "rf = rf[\"1963-07-01\":\"2020-06-01\"]\n",
    "factors_5 = factors_5[\"1963-07-01\":\"2020-06-01\"]\n",
    "factors = factors[\"1963-07-01\":\"2020-06-01\"]\n",
    "mom = mom[\"1963-07-01\":\"2020-06-01\"]\n",
    "reversal = reversal[\"1963-07-01\":\"2020-06-01\"]\n",
    "\n",
    "ex_data = data.subtract(rf,axis=0)\n",
    "factors_5 = factors_5.drop(\"RF\",axis=1)\n",
    "factors_3 = factors.drop(\"RF\",axis=1)\n",
    "factors_3_mom = factors_3.copy()\n",
    "factors_3_mom[\"Mom\"] = mom\n",
    "factors_3_rev = factors_3.copy()\n",
    "factors_3_rev[\"ST Rev\"] = reversal\n"
   ]
  },
  {
   "cell_type": "code",
   "execution_count": 86,
   "metadata": {},
   "outputs": [
    {
     "output_type": "execute_result",
     "data": {
      "text/plain": [
       "            Mkt-RF   SMB    HML  ST Rev\n",
       "1963-07-01   -0.39 -0.56  -0.83   -0.03\n",
       "1963-08-01    5.07 -0.94   1.67    1.40\n",
       "1963-09-01   -1.57 -0.30   0.18    1.19\n",
       "1963-10-01    2.53 -0.54  -0.10   -0.66\n",
       "1963-11-01   -0.85 -1.13   1.71    1.16\n",
       "...            ...   ...    ...     ...\n",
       "2020-02-01   -8.13  1.00  -3.96   -2.35\n",
       "2020-03-01  -13.38 -5.10 -14.11  -11.87\n",
       "2020-04-01   13.65  2.75  -1.35   15.58\n",
       "2020-05-01    5.58  2.47  -4.95   -3.09\n",
       "2020-06-01    2.46  2.70  -2.22   -1.91\n",
       "\n",
       "[684 rows x 4 columns]"
      ],
      "text/html": "<div>\n<style scoped>\n    .dataframe tbody tr th:only-of-type {\n        vertical-align: middle;\n    }\n\n    .dataframe tbody tr th {\n        vertical-align: top;\n    }\n\n    .dataframe thead th {\n        text-align: right;\n    }\n</style>\n<table border=\"1\" class=\"dataframe\">\n  <thead>\n    <tr style=\"text-align: right;\">\n      <th></th>\n      <th>Mkt-RF</th>\n      <th>SMB</th>\n      <th>HML</th>\n      <th>ST Rev</th>\n    </tr>\n  </thead>\n  <tbody>\n    <tr>\n      <th>1963-07-01</th>\n      <td>-0.39</td>\n      <td>-0.56</td>\n      <td>-0.83</td>\n      <td>-0.03</td>\n    </tr>\n    <tr>\n      <th>1963-08-01</th>\n      <td>5.07</td>\n      <td>-0.94</td>\n      <td>1.67</td>\n      <td>1.40</td>\n    </tr>\n    <tr>\n      <th>1963-09-01</th>\n      <td>-1.57</td>\n      <td>-0.30</td>\n      <td>0.18</td>\n      <td>1.19</td>\n    </tr>\n    <tr>\n      <th>1963-10-01</th>\n      <td>2.53</td>\n      <td>-0.54</td>\n      <td>-0.10</td>\n      <td>-0.66</td>\n    </tr>\n    <tr>\n      <th>1963-11-01</th>\n      <td>-0.85</td>\n      <td>-1.13</td>\n      <td>1.71</td>\n      <td>1.16</td>\n    </tr>\n    <tr>\n      <th>...</th>\n      <td>...</td>\n      <td>...</td>\n      <td>...</td>\n      <td>...</td>\n    </tr>\n    <tr>\n      <th>2020-02-01</th>\n      <td>-8.13</td>\n      <td>1.00</td>\n      <td>-3.96</td>\n      <td>-2.35</td>\n    </tr>\n    <tr>\n      <th>2020-03-01</th>\n      <td>-13.38</td>\n      <td>-5.10</td>\n      <td>-14.11</td>\n      <td>-11.87</td>\n    </tr>\n    <tr>\n      <th>2020-04-01</th>\n      <td>13.65</td>\n      <td>2.75</td>\n      <td>-1.35</td>\n      <td>15.58</td>\n    </tr>\n    <tr>\n      <th>2020-05-01</th>\n      <td>5.58</td>\n      <td>2.47</td>\n      <td>-4.95</td>\n      <td>-3.09</td>\n    </tr>\n    <tr>\n      <th>2020-06-01</th>\n      <td>2.46</td>\n      <td>2.70</td>\n      <td>-2.22</td>\n      <td>-1.91</td>\n    </tr>\n  </tbody>\n</table>\n<p>684 rows × 4 columns</p>\n</div>"
     },
     "metadata": {},
     "execution_count": 86
    }
   ],
   "source": [
    "factors_3_rev"
   ]
  },
  {
   "cell_type": "code",
   "execution_count": 87,
   "metadata": {},
   "outputs": [],
   "source": [
    "alphas_5 = []\n",
    "alphas_mom = []\n",
    "alphas_rev = []\n",
    "\n",
    "for columns in data:\n",
    "    x = sm.add_constant(factors_5)\n",
    "    res = sm.OLS(ex_data[columns],x).fit()\n",
    "    alphas_5.append(res.params[0])\n",
    "\n",
    "    x = sm.add_constant(factors_3_mom)\n",
    "    res = sm.OLS(ex_data[columns],x).fit()\n",
    "    alphas_mom.append(res.params[0])\n",
    "\n",
    "    x = sm.add_constant(factors_3_rev)\n",
    "    res = sm.OLS(ex_data[columns],x).fit()\n",
    "    alphas_rev.append(res.params[0])\n"
   ]
  },
  {
   "cell_type": "code",
   "execution_count": 88,
   "metadata": {},
   "outputs": [],
   "source": [
    "def calc_GRS(alpha_vector, factor_dataframe, asset_returns):\n",
    "    gen_cov = factor_dataframe.cov()\n",
    "    generalized_sharpe = factor_dataframe.mean().T @ inv(gen_cov) @ factor_dataframe.mean()     #Cochrane 2005, p.217\n",
    "    cov = asset_returns.cov()\n",
    "    if isinstance(alpha_vector, list):\n",
    "        alpha_vector = np.array(alpha_vector)\n",
    "    #Calc GRS\n",
    "    df = len(asset_returns) - len(asset_returns.columns) - len(factor_dataframe.columns) # T - N - K     (N = number of assets, K = number of factors)\n",
    "    N = len(asset_returns.columns)\n",
    "    GRS = (df/ N) * ((alpha_vector.T @ inv(cov) @ alpha_vector) / (1+ generalized_sharpe))\n",
    "    p = 1-scipy.stats.f.cdf(GRS, len(asset_returns.columns), df) #find p-value of F test statistic\n",
    "    return np.round(GRS,2), p"
   ]
  },
  {
   "cell_type": "code",
   "execution_count": 43,
   "metadata": {},
   "outputs": [
    {
     "output_type": "execute_result",
     "data": {
      "text/plain": [
       "(2.84, 6.418074695369036e-06)"
      ]
     },
     "metadata": {},
     "execution_count": 43
    }
   ],
   "source": [
    "calc_GRS(alphas_5,factors_5,ex_data)"
   ]
  },
  {
   "cell_type": "code",
   "execution_count": 89,
   "metadata": {},
   "outputs": [
    {
     "output_type": "execute_result",
     "data": {
      "text/plain": [
       "(2.77, 1.07656329082495e-05)"
      ]
     },
     "metadata": {},
     "execution_count": 89
    }
   ],
   "source": [
    "calc_GRS(alphas_mom,factors_3_mom,ex_data)"
   ]
  },
  {
   "cell_type": "code",
   "execution_count": 90,
   "metadata": {},
   "outputs": [
    {
     "output_type": "execute_result",
     "data": {
      "text/plain": [
       "(3.48, 3.5862004810205406e-08)"
      ]
     },
     "metadata": {},
     "execution_count": 90
    }
   ],
   "source": [
    "calc_GRS(alphas_rev,factors_3_mom,ex_data)"
   ]
  },
  {
   "cell_type": "code",
   "execution_count": 39,
   "metadata": {},
   "outputs": [
    {
     "output_type": "execute_result",
     "data": {
      "text/plain": [
       "0.11809704799782655"
      ]
     },
     "metadata": {},
     "execution_count": 39
    }
   ],
   "source": [
    " np.array(alphas_5).T @ inv(ex_data.cov())   @ np.array(alphas_5)"
   ]
  }
 ]
}