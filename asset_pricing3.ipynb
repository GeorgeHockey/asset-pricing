{
 "metadata": {
  "language_info": {
   "codemirror_mode": {
    "name": "ipython",
    "version": 3
   },
   "file_extension": ".py",
   "mimetype": "text/x-python",
   "name": "python",
   "nbconvert_exporter": "python",
   "pygments_lexer": "ipython3",
   "version": "3.8.3-final"
  },
  "orig_nbformat": 2,
  "kernelspec": {
   "name": "python3",
   "display_name": "Python 3",
   "language": "python"
  }
 },
 "nbformat": 4,
 "nbformat_minor": 2,
 "cells": [
  {
   "cell_type": "code",
   "execution_count": 87,
   "metadata": {},
   "outputs": [],
   "source": [
    "import pandas as pd\n",
    "import numpy as np\n",
    "import seaborn as sns\n",
    "import matplotlib.pyplot as plt\n",
    "import statsmodels.api as sm\n",
    "import scipy.stats\n",
    "from numpy.linalg import inv\n",
    "%matplotlib inline"
   ]
  },
  {
   "cell_type": "code",
   "execution_count": 137,
   "metadata": {},
   "outputs": [],
   "source": [
    "data = pd.read_csv(\"data/Portfolios_Formed_on_INV-2.csv\",skiprows=17,index_col=0,parse_dates=True,nrows=691) \n",
    "data = data.dropna()\n",
    "data.index = pd.to_datetime(data.index,format=\"%Y%m\")\n",
    "\n",
    "factors = pd.read_csv(\"data/F-F_Research_Data_Factors.csv\",skiprows=3,index_col=0,parse_dates=True,nrows=1134) \n",
    "factors = factors.dropna()\n",
    "factors.index = pd.to_datetime(factors.index,format=\"%Y%m\")\n",
    "rm = factors[\"Mkt-RF\"]\n",
    "rf = factors[\"RF\"]\n",
    "\n",
    "portfolio_25 = pd.read_csv(\"data/25_Portfolios_5x5.csv\",skiprows=15,index_col=\"DATE\",parse_dates=True,nrows=1134) \n",
    "portfolio_25 = portfolio_25.dropna()\n",
    "portfolio_25.index = pd.to_datetime(portfolio_25.index,format=\"%Y%m\")\n",
    "\n",
    "portfolio_25 = portfolio_25[\"1963-07-01\":\"2020-06-01\"]\n",
    "data = data[\"1963-07-01\":\"2020-06-01\"]\n",
    "rm = rm[\"1963-07-01\":\"2020-06-01\"]\n",
    "rf = rf[\"1963-07-01\":\"2020-06-01\"]\n",
    "factors = factors[\"1963-07-01\":\"2020-06-01\"]\n",
    "ex_data = data.subtract(rf,axis=0)\n",
    "portfolio_25_excess = portfolio_25.sub(rf,axis=0)\n",
    "factors = factors.drop(\"RF\",axis=1)"
   ]
  },
  {
   "cell_type": "code",
   "execution_count": 150,
   "metadata": {},
   "outputs": [
    {
     "output_type": "execute_result",
     "data": {
      "text/plain": [
       "            Mkt-RF   SMB    HML   INV\n",
       "1963-07-01   -0.39 -0.56  -0.83  1.35\n",
       "1963-08-01    5.07 -0.94   1.67  0.02\n",
       "1963-09-01   -1.57 -0.30   0.18  0.53\n",
       "1963-10-01    2.53 -0.54  -0.10  4.58\n",
       "1963-11-01   -0.85 -1.13   1.71 -2.67\n",
       "...            ...   ...    ...   ...\n",
       "2020-02-01   -8.13  1.00  -3.96  2.48\n",
       "2020-03-01  -13.38 -5.10 -14.11 -1.62\n",
       "2020-04-01   13.65  2.75  -1.35  2.76\n",
       "2020-05-01    5.58  2.47  -4.95  2.63\n",
       "2020-06-01    2.46  2.70  -2.22  0.04\n",
       "\n",
       "[684 rows x 4 columns]"
      ],
      "text/html": "<div>\n<style scoped>\n    .dataframe tbody tr th:only-of-type {\n        vertical-align: middle;\n    }\n\n    .dataframe tbody tr th {\n        vertical-align: top;\n    }\n\n    .dataframe thead th {\n        text-align: right;\n    }\n</style>\n<table border=\"1\" class=\"dataframe\">\n  <thead>\n    <tr style=\"text-align: right;\">\n      <th></th>\n      <th>Mkt-RF</th>\n      <th>SMB</th>\n      <th>HML</th>\n      <th>INV</th>\n    </tr>\n  </thead>\n  <tbody>\n    <tr>\n      <th>1963-07-01</th>\n      <td>-0.39</td>\n      <td>-0.56</td>\n      <td>-0.83</td>\n      <td>1.35</td>\n    </tr>\n    <tr>\n      <th>1963-08-01</th>\n      <td>5.07</td>\n      <td>-0.94</td>\n      <td>1.67</td>\n      <td>0.02</td>\n    </tr>\n    <tr>\n      <th>1963-09-01</th>\n      <td>-1.57</td>\n      <td>-0.30</td>\n      <td>0.18</td>\n      <td>0.53</td>\n    </tr>\n    <tr>\n      <th>1963-10-01</th>\n      <td>2.53</td>\n      <td>-0.54</td>\n      <td>-0.10</td>\n      <td>4.58</td>\n    </tr>\n    <tr>\n      <th>1963-11-01</th>\n      <td>-0.85</td>\n      <td>-1.13</td>\n      <td>1.71</td>\n      <td>-2.67</td>\n    </tr>\n    <tr>\n      <th>...</th>\n      <td>...</td>\n      <td>...</td>\n      <td>...</td>\n      <td>...</td>\n    </tr>\n    <tr>\n      <th>2020-02-01</th>\n      <td>-8.13</td>\n      <td>1.00</td>\n      <td>-3.96</td>\n      <td>2.48</td>\n    </tr>\n    <tr>\n      <th>2020-03-01</th>\n      <td>-13.38</td>\n      <td>-5.10</td>\n      <td>-14.11</td>\n      <td>-1.62</td>\n    </tr>\n    <tr>\n      <th>2020-04-01</th>\n      <td>13.65</td>\n      <td>2.75</td>\n      <td>-1.35</td>\n      <td>2.76</td>\n    </tr>\n    <tr>\n      <th>2020-05-01</th>\n      <td>5.58</td>\n      <td>2.47</td>\n      <td>-4.95</td>\n      <td>2.63</td>\n    </tr>\n    <tr>\n      <th>2020-06-01</th>\n      <td>2.46</td>\n      <td>2.70</td>\n      <td>-2.22</td>\n      <td>0.04</td>\n    </tr>\n  </tbody>\n</table>\n<p>684 rows × 4 columns</p>\n</div>"
     },
     "metadata": {},
     "execution_count": 150
    }
   ],
   "source": [
    "factors_inv"
   ]
  },
  {
   "cell_type": "code",
   "execution_count": 151,
   "metadata": {},
   "outputs": [],
   "source": [
    "# b, CAPM for the 10 investment portfolios, plot alphas against investment deciles\n",
    "alphas = []\n",
    "betas = []\n",
    "for i in range(8,18):\n",
    "    y = ex_data.iloc[:,i]\n",
    "    x = sm.add_constant(rm)\n",
    "    res = sm.OLS(y,x,cov_type=\"HC0\").fit()\n",
    "    alphas.append(res.params[0])\n",
    "    betas.append(res.params[1])\n",
    "\n",
    "alphas = pd.DataFrame(alphas).T\n",
    "alphas.columns = [\"Lo 10\",\"Dec 2\", \"Dec 3\",\"Dec 4\",\"Dec 5\", \"Dec 6\", \"Dec 7\",\"Dec 8\", \"Dec 9\", \"Hi 10\"]\n",
    "alphas.index = [\"Pricing error\"]\n",
    "alphas = alphas.T"
   ]
  },
  {
   "cell_type": "code",
   "execution_count": 152,
   "metadata": {},
   "outputs": [
    {
     "output_type": "execute_result",
     "data": {
      "text/plain": [
       "       Pricing error\n",
       "Lo 10       0.167358\n",
       "Dec 2       0.233005\n",
       "Dec 3       0.185294\n",
       "Dec 4       0.103203\n",
       "Dec 5       0.090755\n",
       "Dec 6       0.051453\n",
       "Dec 7       0.115504\n",
       "Dec 8      -0.010789\n",
       "Dec 9       0.022597\n",
       "Hi 10      -0.321981"
      ],
      "text/html": "<div>\n<style scoped>\n    .dataframe tbody tr th:only-of-type {\n        vertical-align: middle;\n    }\n\n    .dataframe tbody tr th {\n        vertical-align: top;\n    }\n\n    .dataframe thead th {\n        text-align: right;\n    }\n</style>\n<table border=\"1\" class=\"dataframe\">\n  <thead>\n    <tr style=\"text-align: right;\">\n      <th></th>\n      <th>Pricing error</th>\n    </tr>\n  </thead>\n  <tbody>\n    <tr>\n      <th>Lo 10</th>\n      <td>0.167358</td>\n    </tr>\n    <tr>\n      <th>Dec 2</th>\n      <td>0.233005</td>\n    </tr>\n    <tr>\n      <th>Dec 3</th>\n      <td>0.185294</td>\n    </tr>\n    <tr>\n      <th>Dec 4</th>\n      <td>0.103203</td>\n    </tr>\n    <tr>\n      <th>Dec 5</th>\n      <td>0.090755</td>\n    </tr>\n    <tr>\n      <th>Dec 6</th>\n      <td>0.051453</td>\n    </tr>\n    <tr>\n      <th>Dec 7</th>\n      <td>0.115504</td>\n    </tr>\n    <tr>\n      <th>Dec 8</th>\n      <td>-0.010789</td>\n    </tr>\n    <tr>\n      <th>Dec 9</th>\n      <td>0.022597</td>\n    </tr>\n    <tr>\n      <th>Hi 10</th>\n      <td>-0.321981</td>\n    </tr>\n  </tbody>\n</table>\n</div>"
     },
     "metadata": {},
     "execution_count": 152
    }
   ],
   "source": [
    "alphas"
   ]
  },
  {
   "cell_type": "code",
   "execution_count": 153,
   "metadata": {},
   "outputs": [
    {
     "output_type": "display_data",
     "data": {
      "text/plain": "<Figure size 432x288 with 1 Axes>",
      "image/svg+xml": "<?xml version=\"1.0\" encoding=\"utf-8\" standalone=\"no\"?>\n<!DOCTYPE svg PUBLIC \"-//W3C//DTD SVG 1.1//EN\"\n  \"http://www.w3.org/Graphics/SVG/1.1/DTD/svg11.dtd\">\n<!-- Created with matplotlib (https://matplotlib.org/) -->\n<svg height=\"319.078125pt\" version=\"1.1\" viewBox=\"0 0 477.682812 319.078125\" width=\"477.682812pt\" xmlns=\"http://www.w3.org/2000/svg\" xmlns:xlink=\"http://www.w3.org/1999/xlink\">\n <metadata>\n  <rdf:RDF xmlns:cc=\"http://creativecommons.org/ns#\" xmlns:dc=\"http://purl.org/dc/elements/1.1/\" xmlns:rdf=\"http://www.w3.org/1999/02/22-rdf-syntax-ns#\">\n   <cc:Work>\n    <dc:type rdf:resource=\"http://purl.org/dc/dcmitype/StillImage\"/>\n    <dc:date>2021-02-04T17:52:21.456570</dc:date>\n    <dc:format>image/svg+xml</dc:format>\n    <dc:creator>\n     <cc:Agent>\n      <dc:title>Matplotlib v3.3.2, https://matplotlib.org/</dc:title>\n     </cc:Agent>\n    </dc:creator>\n   </cc:Work>\n  </rdf:RDF>\n </metadata>\n <defs>\n  <style type=\"text/css\">*{stroke-linecap:butt;stroke-linejoin:round;}</style>\n </defs>\n <g id=\"figure_1\">\n  <g id=\"patch_1\">\n   <path d=\"M 0 319.078125 \nL 477.682812 319.078125 \nL 477.682812 0 \nL 0 0 \nz\n\" style=\"fill:none;\"/>\n  </g>\n  <g id=\"axes_1\">\n   <g id=\"patch_2\">\n    <path d=\"M 38.482813 295.2 \nL 470.482813 295.2 \nL 470.482813 7.2 \nL 38.482813 7.2 \nz\n\" style=\"fill:#ffffff;\"/>\n   </g>\n   <g id=\"patch_3\">\n    <path clip-path=\"url(#pcf15f8be03)\" d=\"M 58.119176 130.212568 \nL 87.210085 130.212568 \nL 87.210085 51.260594 \nL 58.119176 51.260594 \nz\n\" style=\"fill:#1f77b4;\"/>\n   </g>\n   <g id=\"patch_4\">\n    <path clip-path=\"url(#pcf15f8be03)\" d=\"M 94.482812 130.212568 \nL 123.573722 130.212568 \nL 123.573722 20.290909 \nL 94.482812 20.290909 \nz\n\" style=\"fill:#1f77b4;\"/>\n   </g>\n   <g id=\"patch_5\">\n    <path clip-path=\"url(#pcf15f8be03)\" d=\"M 130.846449 130.212568 \nL 159.937358 130.212568 \nL 159.937358 42.799054 \nL 130.846449 42.799054 \nz\n\" style=\"fill:#1f77b4;\"/>\n   </g>\n   <g id=\"patch_6\">\n    <path clip-path=\"url(#pcf15f8be03)\" d=\"M 167.210085 130.212568 \nL 196.300994 130.212568 \nL 196.300994 81.52599 \nL 167.210085 81.52599 \nz\n\" style=\"fill:#1f77b4;\"/>\n   </g>\n   <g id=\"patch_7\">\n    <path clip-path=\"url(#pcf15f8be03)\" d=\"M 203.573722 130.212568 \nL 232.664631 130.212568 \nL 232.664631 87.398407 \nL 203.573722 87.398407 \nz\n\" style=\"fill:#1f77b4;\"/>\n   </g>\n   <g id=\"patch_8\">\n    <path clip-path=\"url(#pcf15f8be03)\" d=\"M 239.937358 130.212568 \nL 269.028267 130.212568 \nL 269.028267 105.939482 \nL 239.937358 105.939482 \nz\n\" style=\"fill:#1f77b4;\"/>\n   </g>\n   <g id=\"patch_9\">\n    <path clip-path=\"url(#pcf15f8be03)\" d=\"M 276.300994 130.212568 \nL 305.391903 130.212568 \nL 305.391903 75.723028 \nL 276.300994 75.723028 \nz\n\" style=\"fill:#1f77b4;\"/>\n   </g>\n   <g id=\"patch_10\">\n    <path clip-path=\"url(#pcf15f8be03)\" d=\"M 312.664631 130.212568 \nL 341.75554 130.212568 \nL 341.75554 135.302499 \nL 312.664631 135.302499 \nz\n\" style=\"fill:#1f77b4;\"/>\n   </g>\n   <g id=\"patch_11\">\n    <path clip-path=\"url(#pcf15f8be03)\" d=\"M 349.028267 130.212568 \nL 378.119176 130.212568 \nL 378.119176 119.552224 \nL 349.028267 119.552224 \nz\n\" style=\"fill:#1f77b4;\"/>\n   </g>\n   <g id=\"patch_12\">\n    <path clip-path=\"url(#pcf15f8be03)\" d=\"M 385.391903 130.212568 \nL 414.482813 130.212568 \nL 414.482813 282.109091 \nL 385.391903 282.109091 \nz\n\" style=\"fill:#1f77b4;\"/>\n   </g>\n   <g id=\"patch_13\">\n    <path clip-path=\"url(#pcf15f8be03)\" d=\"M 421.75554 130.212568 \nL 450.846449 130.212568 \nL 450.846449 130.212568 \nL 421.75554 130.212568 \nz\n\" style=\"fill:#1f77b4;\"/>\n   </g>\n   <g id=\"matplotlib.axis_1\">\n    <g id=\"xtick_1\">\n     <g id=\"line2d_1\">\n      <defs>\n       <path d=\"M 0 0 \nL 0 3.5 \n\" id=\"m3ba7713111\" style=\"stroke:#000000;stroke-width:0.8;\"/>\n      </defs>\n      <g>\n       <use style=\"stroke:#000000;stroke-width:0.8;\" x=\"72.664631\" xlink:href=\"#m3ba7713111\" y=\"295.2\"/>\n      </g>\n     </g>\n     <g id=\"text_1\">\n      <!-- Lo 10 -->\n      <g transform=\"translate(58.955256 309.798437)scale(0.1 -0.1)\">\n       <defs>\n        <path d=\"M 9.8125 72.90625 \nL 19.671875 72.90625 \nL 19.671875 8.296875 \nL 55.171875 8.296875 \nL 55.171875 0 \nL 9.8125 0 \nz\n\" id=\"DejaVuSans-76\"/>\n        <path d=\"M 30.609375 48.390625 \nQ 23.390625 48.390625 19.1875 42.75 \nQ 14.984375 37.109375 14.984375 27.296875 \nQ 14.984375 17.484375 19.15625 11.84375 \nQ 23.34375 6.203125 30.609375 6.203125 \nQ 37.796875 6.203125 41.984375 11.859375 \nQ 46.1875 17.53125 46.1875 27.296875 \nQ 46.1875 37.015625 41.984375 42.703125 \nQ 37.796875 48.390625 30.609375 48.390625 \nz\nM 30.609375 56 \nQ 42.328125 56 49.015625 48.375 \nQ 55.71875 40.765625 55.71875 27.296875 \nQ 55.71875 13.875 49.015625 6.21875 \nQ 42.328125 -1.421875 30.609375 -1.421875 \nQ 18.84375 -1.421875 12.171875 6.21875 \nQ 5.515625 13.875 5.515625 27.296875 \nQ 5.515625 40.765625 12.171875 48.375 \nQ 18.84375 56 30.609375 56 \nz\n\" id=\"DejaVuSans-111\"/>\n        <path id=\"DejaVuSans-32\"/>\n        <path d=\"M 12.40625 8.296875 \nL 28.515625 8.296875 \nL 28.515625 63.921875 \nL 10.984375 60.40625 \nL 10.984375 69.390625 \nL 28.421875 72.90625 \nL 38.28125 72.90625 \nL 38.28125 8.296875 \nL 54.390625 8.296875 \nL 54.390625 0 \nL 12.40625 0 \nz\n\" id=\"DejaVuSans-49\"/>\n        <path d=\"M 31.78125 66.40625 \nQ 24.171875 66.40625 20.328125 58.90625 \nQ 16.5 51.421875 16.5 36.375 \nQ 16.5 21.390625 20.328125 13.890625 \nQ 24.171875 6.390625 31.78125 6.390625 \nQ 39.453125 6.390625 43.28125 13.890625 \nQ 47.125 21.390625 47.125 36.375 \nQ 47.125 51.421875 43.28125 58.90625 \nQ 39.453125 66.40625 31.78125 66.40625 \nz\nM 31.78125 74.21875 \nQ 44.046875 74.21875 50.515625 64.515625 \nQ 56.984375 54.828125 56.984375 36.375 \nQ 56.984375 17.96875 50.515625 8.265625 \nQ 44.046875 -1.421875 31.78125 -1.421875 \nQ 19.53125 -1.421875 13.0625 8.265625 \nQ 6.59375 17.96875 6.59375 36.375 \nQ 6.59375 54.828125 13.0625 64.515625 \nQ 19.53125 74.21875 31.78125 74.21875 \nz\n\" id=\"DejaVuSans-48\"/>\n       </defs>\n       <use xlink:href=\"#DejaVuSans-76\"/>\n       <use x=\"53.962891\" xlink:href=\"#DejaVuSans-111\"/>\n       <use x=\"115.144531\" xlink:href=\"#DejaVuSans-32\"/>\n       <use x=\"146.931641\" xlink:href=\"#DejaVuSans-49\"/>\n       <use x=\"210.554688\" xlink:href=\"#DejaVuSans-48\"/>\n      </g>\n     </g>\n    </g>\n    <g id=\"xtick_2\">\n     <g id=\"line2d_2\">\n      <g>\n       <use style=\"stroke:#000000;stroke-width:0.8;\" x=\"109.028267\" xlink:href=\"#m3ba7713111\" y=\"295.2\"/>\n      </g>\n     </g>\n     <g id=\"text_2\">\n      <!-- Dec 2 -->\n      <g transform=\"translate(94.582173 309.798437)scale(0.1 -0.1)\">\n       <defs>\n        <path d=\"M 19.671875 64.796875 \nL 19.671875 8.109375 \nL 31.59375 8.109375 \nQ 46.6875 8.109375 53.6875 14.9375 \nQ 60.6875 21.78125 60.6875 36.53125 \nQ 60.6875 51.171875 53.6875 57.984375 \nQ 46.6875 64.796875 31.59375 64.796875 \nz\nM 9.8125 72.90625 \nL 30.078125 72.90625 \nQ 51.265625 72.90625 61.171875 64.09375 \nQ 71.09375 55.28125 71.09375 36.53125 \nQ 71.09375 17.671875 61.125 8.828125 \nQ 51.171875 0 30.078125 0 \nL 9.8125 0 \nz\n\" id=\"DejaVuSans-68\"/>\n        <path d=\"M 56.203125 29.59375 \nL 56.203125 25.203125 \nL 14.890625 25.203125 \nQ 15.484375 15.921875 20.484375 11.0625 \nQ 25.484375 6.203125 34.421875 6.203125 \nQ 39.59375 6.203125 44.453125 7.46875 \nQ 49.3125 8.734375 54.109375 11.28125 \nL 54.109375 2.78125 \nQ 49.265625 0.734375 44.1875 -0.34375 \nQ 39.109375 -1.421875 33.890625 -1.421875 \nQ 20.796875 -1.421875 13.15625 6.1875 \nQ 5.515625 13.8125 5.515625 26.8125 \nQ 5.515625 40.234375 12.765625 48.109375 \nQ 20.015625 56 32.328125 56 \nQ 43.359375 56 49.78125 48.890625 \nQ 56.203125 41.796875 56.203125 29.59375 \nz\nM 47.21875 32.234375 \nQ 47.125 39.59375 43.09375 43.984375 \nQ 39.0625 48.390625 32.421875 48.390625 \nQ 24.90625 48.390625 20.390625 44.140625 \nQ 15.875 39.890625 15.1875 32.171875 \nz\n\" id=\"DejaVuSans-101\"/>\n        <path d=\"M 48.78125 52.59375 \nL 48.78125 44.1875 \nQ 44.96875 46.296875 41.140625 47.34375 \nQ 37.3125 48.390625 33.40625 48.390625 \nQ 24.65625 48.390625 19.8125 42.84375 \nQ 14.984375 37.3125 14.984375 27.296875 \nQ 14.984375 17.28125 19.8125 11.734375 \nQ 24.65625 6.203125 33.40625 6.203125 \nQ 37.3125 6.203125 41.140625 7.25 \nQ 44.96875 8.296875 48.78125 10.40625 \nL 48.78125 2.09375 \nQ 45.015625 0.34375 40.984375 -0.53125 \nQ 36.96875 -1.421875 32.421875 -1.421875 \nQ 20.0625 -1.421875 12.78125 6.34375 \nQ 5.515625 14.109375 5.515625 27.296875 \nQ 5.515625 40.671875 12.859375 48.328125 \nQ 20.21875 56 33.015625 56 \nQ 37.15625 56 41.109375 55.140625 \nQ 45.0625 54.296875 48.78125 52.59375 \nz\n\" id=\"DejaVuSans-99\"/>\n        <path d=\"M 19.1875 8.296875 \nL 53.609375 8.296875 \nL 53.609375 0 \nL 7.328125 0 \nL 7.328125 8.296875 \nQ 12.9375 14.109375 22.625 23.890625 \nQ 32.328125 33.6875 34.8125 36.53125 \nQ 39.546875 41.84375 41.421875 45.53125 \nQ 43.3125 49.21875 43.3125 52.78125 \nQ 43.3125 58.59375 39.234375 62.25 \nQ 35.15625 65.921875 28.609375 65.921875 \nQ 23.96875 65.921875 18.8125 64.3125 \nQ 13.671875 62.703125 7.8125 59.421875 \nL 7.8125 69.390625 \nQ 13.765625 71.78125 18.9375 73 \nQ 24.125 74.21875 28.421875 74.21875 \nQ 39.75 74.21875 46.484375 68.546875 \nQ 53.21875 62.890625 53.21875 53.421875 \nQ 53.21875 48.921875 51.53125 44.890625 \nQ 49.859375 40.875 45.40625 35.40625 \nQ 44.1875 33.984375 37.640625 27.21875 \nQ 31.109375 20.453125 19.1875 8.296875 \nz\n\" id=\"DejaVuSans-50\"/>\n       </defs>\n       <use xlink:href=\"#DejaVuSans-68\"/>\n       <use x=\"77.001953\" xlink:href=\"#DejaVuSans-101\"/>\n       <use x=\"138.525391\" xlink:href=\"#DejaVuSans-99\"/>\n       <use x=\"193.505859\" xlink:href=\"#DejaVuSans-32\"/>\n       <use x=\"225.292969\" xlink:href=\"#DejaVuSans-50\"/>\n      </g>\n     </g>\n    </g>\n    <g id=\"xtick_3\">\n     <g id=\"line2d_3\">\n      <g>\n       <use style=\"stroke:#000000;stroke-width:0.8;\" x=\"145.391903\" xlink:href=\"#m3ba7713111\" y=\"295.2\"/>\n      </g>\n     </g>\n     <g id=\"text_3\">\n      <!-- Dec 3 -->\n      <g transform=\"translate(130.94581 309.798437)scale(0.1 -0.1)\">\n       <defs>\n        <path d=\"M 40.578125 39.3125 \nQ 47.65625 37.796875 51.625 33 \nQ 55.609375 28.21875 55.609375 21.1875 \nQ 55.609375 10.40625 48.1875 4.484375 \nQ 40.765625 -1.421875 27.09375 -1.421875 \nQ 22.515625 -1.421875 17.65625 -0.515625 \nQ 12.796875 0.390625 7.625 2.203125 \nL 7.625 11.71875 \nQ 11.71875 9.328125 16.59375 8.109375 \nQ 21.484375 6.890625 26.8125 6.890625 \nQ 36.078125 6.890625 40.9375 10.546875 \nQ 45.796875 14.203125 45.796875 21.1875 \nQ 45.796875 27.640625 41.28125 31.265625 \nQ 36.765625 34.90625 28.71875 34.90625 \nL 20.21875 34.90625 \nL 20.21875 43.015625 \nL 29.109375 43.015625 \nQ 36.375 43.015625 40.234375 45.921875 \nQ 44.09375 48.828125 44.09375 54.296875 \nQ 44.09375 59.90625 40.109375 62.90625 \nQ 36.140625 65.921875 28.71875 65.921875 \nQ 24.65625 65.921875 20.015625 65.03125 \nQ 15.375 64.15625 9.8125 62.3125 \nL 9.8125 71.09375 \nQ 15.4375 72.65625 20.34375 73.4375 \nQ 25.25 74.21875 29.59375 74.21875 \nQ 40.828125 74.21875 47.359375 69.109375 \nQ 53.90625 64.015625 53.90625 55.328125 \nQ 53.90625 49.265625 50.4375 45.09375 \nQ 46.96875 40.921875 40.578125 39.3125 \nz\n\" id=\"DejaVuSans-51\"/>\n       </defs>\n       <use xlink:href=\"#DejaVuSans-68\"/>\n       <use x=\"77.001953\" xlink:href=\"#DejaVuSans-101\"/>\n       <use x=\"138.525391\" xlink:href=\"#DejaVuSans-99\"/>\n       <use x=\"193.505859\" xlink:href=\"#DejaVuSans-32\"/>\n       <use x=\"225.292969\" xlink:href=\"#DejaVuSans-51\"/>\n      </g>\n     </g>\n    </g>\n    <g id=\"xtick_4\">\n     <g id=\"line2d_4\">\n      <g>\n       <use style=\"stroke:#000000;stroke-width:0.8;\" x=\"181.75554\" xlink:href=\"#m3ba7713111\" y=\"295.2\"/>\n      </g>\n     </g>\n     <g id=\"text_4\">\n      <!-- Dec 4 -->\n      <g transform=\"translate(167.309446 309.798437)scale(0.1 -0.1)\">\n       <defs>\n        <path d=\"M 37.796875 64.3125 \nL 12.890625 25.390625 \nL 37.796875 25.390625 \nz\nM 35.203125 72.90625 \nL 47.609375 72.90625 \nL 47.609375 25.390625 \nL 58.015625 25.390625 \nL 58.015625 17.1875 \nL 47.609375 17.1875 \nL 47.609375 0 \nL 37.796875 0 \nL 37.796875 17.1875 \nL 4.890625 17.1875 \nL 4.890625 26.703125 \nz\n\" id=\"DejaVuSans-52\"/>\n       </defs>\n       <use xlink:href=\"#DejaVuSans-68\"/>\n       <use x=\"77.001953\" xlink:href=\"#DejaVuSans-101\"/>\n       <use x=\"138.525391\" xlink:href=\"#DejaVuSans-99\"/>\n       <use x=\"193.505859\" xlink:href=\"#DejaVuSans-32\"/>\n       <use x=\"225.292969\" xlink:href=\"#DejaVuSans-52\"/>\n      </g>\n     </g>\n    </g>\n    <g id=\"xtick_5\">\n     <g id=\"line2d_5\">\n      <g>\n       <use style=\"stroke:#000000;stroke-width:0.8;\" x=\"218.119176\" xlink:href=\"#m3ba7713111\" y=\"295.2\"/>\n      </g>\n     </g>\n     <g id=\"text_5\">\n      <!-- Dec 5 -->\n      <g transform=\"translate(203.673082 309.798437)scale(0.1 -0.1)\">\n       <defs>\n        <path d=\"M 10.796875 72.90625 \nL 49.515625 72.90625 \nL 49.515625 64.59375 \nL 19.828125 64.59375 \nL 19.828125 46.734375 \nQ 21.96875 47.46875 24.109375 47.828125 \nQ 26.265625 48.1875 28.421875 48.1875 \nQ 40.625 48.1875 47.75 41.5 \nQ 54.890625 34.8125 54.890625 23.390625 \nQ 54.890625 11.625 47.5625 5.09375 \nQ 40.234375 -1.421875 26.90625 -1.421875 \nQ 22.3125 -1.421875 17.546875 -0.640625 \nQ 12.796875 0.140625 7.71875 1.703125 \nL 7.71875 11.625 \nQ 12.109375 9.234375 16.796875 8.0625 \nQ 21.484375 6.890625 26.703125 6.890625 \nQ 35.15625 6.890625 40.078125 11.328125 \nQ 45.015625 15.765625 45.015625 23.390625 \nQ 45.015625 31 40.078125 35.4375 \nQ 35.15625 39.890625 26.703125 39.890625 \nQ 22.75 39.890625 18.8125 39.015625 \nQ 14.890625 38.140625 10.796875 36.28125 \nz\n\" id=\"DejaVuSans-53\"/>\n       </defs>\n       <use xlink:href=\"#DejaVuSans-68\"/>\n       <use x=\"77.001953\" xlink:href=\"#DejaVuSans-101\"/>\n       <use x=\"138.525391\" xlink:href=\"#DejaVuSans-99\"/>\n       <use x=\"193.505859\" xlink:href=\"#DejaVuSans-32\"/>\n       <use x=\"225.292969\" xlink:href=\"#DejaVuSans-53\"/>\n      </g>\n     </g>\n    </g>\n    <g id=\"xtick_6\">\n     <g id=\"line2d_6\">\n      <g>\n       <use style=\"stroke:#000000;stroke-width:0.8;\" x=\"254.482812\" xlink:href=\"#m3ba7713111\" y=\"295.2\"/>\n      </g>\n     </g>\n     <g id=\"text_6\">\n      <!-- Dec 6 -->\n      <g transform=\"translate(240.036719 309.798437)scale(0.1 -0.1)\">\n       <defs>\n        <path d=\"M 33.015625 40.375 \nQ 26.375 40.375 22.484375 35.828125 \nQ 18.609375 31.296875 18.609375 23.390625 \nQ 18.609375 15.53125 22.484375 10.953125 \nQ 26.375 6.390625 33.015625 6.390625 \nQ 39.65625 6.390625 43.53125 10.953125 \nQ 47.40625 15.53125 47.40625 23.390625 \nQ 47.40625 31.296875 43.53125 35.828125 \nQ 39.65625 40.375 33.015625 40.375 \nz\nM 52.59375 71.296875 \nL 52.59375 62.3125 \nQ 48.875 64.0625 45.09375 64.984375 \nQ 41.3125 65.921875 37.59375 65.921875 \nQ 27.828125 65.921875 22.671875 59.328125 \nQ 17.53125 52.734375 16.796875 39.40625 \nQ 19.671875 43.65625 24.015625 45.921875 \nQ 28.375 48.1875 33.59375 48.1875 \nQ 44.578125 48.1875 50.953125 41.515625 \nQ 57.328125 34.859375 57.328125 23.390625 \nQ 57.328125 12.15625 50.6875 5.359375 \nQ 44.046875 -1.421875 33.015625 -1.421875 \nQ 20.359375 -1.421875 13.671875 8.265625 \nQ 6.984375 17.96875 6.984375 36.375 \nQ 6.984375 53.65625 15.1875 63.9375 \nQ 23.390625 74.21875 37.203125 74.21875 \nQ 40.921875 74.21875 44.703125 73.484375 \nQ 48.484375 72.75 52.59375 71.296875 \nz\n\" id=\"DejaVuSans-54\"/>\n       </defs>\n       <use xlink:href=\"#DejaVuSans-68\"/>\n       <use x=\"77.001953\" xlink:href=\"#DejaVuSans-101\"/>\n       <use x=\"138.525391\" xlink:href=\"#DejaVuSans-99\"/>\n       <use x=\"193.505859\" xlink:href=\"#DejaVuSans-32\"/>\n       <use x=\"225.292969\" xlink:href=\"#DejaVuSans-54\"/>\n      </g>\n     </g>\n    </g>\n    <g id=\"xtick_7\">\n     <g id=\"line2d_7\">\n      <g>\n       <use style=\"stroke:#000000;stroke-width:0.8;\" x=\"290.846449\" xlink:href=\"#m3ba7713111\" y=\"295.2\"/>\n      </g>\n     </g>\n     <g id=\"text_7\">\n      <!-- Dec 7 -->\n      <g transform=\"translate(276.400355 309.798437)scale(0.1 -0.1)\">\n       <defs>\n        <path d=\"M 8.203125 72.90625 \nL 55.078125 72.90625 \nL 55.078125 68.703125 \nL 28.609375 0 \nL 18.3125 0 \nL 43.21875 64.59375 \nL 8.203125 64.59375 \nz\n\" id=\"DejaVuSans-55\"/>\n       </defs>\n       <use xlink:href=\"#DejaVuSans-68\"/>\n       <use x=\"77.001953\" xlink:href=\"#DejaVuSans-101\"/>\n       <use x=\"138.525391\" xlink:href=\"#DejaVuSans-99\"/>\n       <use x=\"193.505859\" xlink:href=\"#DejaVuSans-32\"/>\n       <use x=\"225.292969\" xlink:href=\"#DejaVuSans-55\"/>\n      </g>\n     </g>\n    </g>\n    <g id=\"xtick_8\">\n     <g id=\"line2d_8\">\n      <g>\n       <use style=\"stroke:#000000;stroke-width:0.8;\" x=\"327.210085\" xlink:href=\"#m3ba7713111\" y=\"295.2\"/>\n      </g>\n     </g>\n     <g id=\"text_8\">\n      <!-- Dec 8 -->\n      <g transform=\"translate(312.763991 309.798437)scale(0.1 -0.1)\">\n       <defs>\n        <path d=\"M 31.78125 34.625 \nQ 24.75 34.625 20.71875 30.859375 \nQ 16.703125 27.09375 16.703125 20.515625 \nQ 16.703125 13.921875 20.71875 10.15625 \nQ 24.75 6.390625 31.78125 6.390625 \nQ 38.8125 6.390625 42.859375 10.171875 \nQ 46.921875 13.96875 46.921875 20.515625 \nQ 46.921875 27.09375 42.890625 30.859375 \nQ 38.875 34.625 31.78125 34.625 \nz\nM 21.921875 38.8125 \nQ 15.578125 40.375 12.03125 44.71875 \nQ 8.5 49.078125 8.5 55.328125 \nQ 8.5 64.0625 14.71875 69.140625 \nQ 20.953125 74.21875 31.78125 74.21875 \nQ 42.671875 74.21875 48.875 69.140625 \nQ 55.078125 64.0625 55.078125 55.328125 \nQ 55.078125 49.078125 51.53125 44.71875 \nQ 48 40.375 41.703125 38.8125 \nQ 48.828125 37.15625 52.796875 32.3125 \nQ 56.78125 27.484375 56.78125 20.515625 \nQ 56.78125 9.90625 50.3125 4.234375 \nQ 43.84375 -1.421875 31.78125 -1.421875 \nQ 19.734375 -1.421875 13.25 4.234375 \nQ 6.78125 9.90625 6.78125 20.515625 \nQ 6.78125 27.484375 10.78125 32.3125 \nQ 14.796875 37.15625 21.921875 38.8125 \nz\nM 18.3125 54.390625 \nQ 18.3125 48.734375 21.84375 45.5625 \nQ 25.390625 42.390625 31.78125 42.390625 \nQ 38.140625 42.390625 41.71875 45.5625 \nQ 45.3125 48.734375 45.3125 54.390625 \nQ 45.3125 60.0625 41.71875 63.234375 \nQ 38.140625 66.40625 31.78125 66.40625 \nQ 25.390625 66.40625 21.84375 63.234375 \nQ 18.3125 60.0625 18.3125 54.390625 \nz\n\" id=\"DejaVuSans-56\"/>\n       </defs>\n       <use xlink:href=\"#DejaVuSans-68\"/>\n       <use x=\"77.001953\" xlink:href=\"#DejaVuSans-101\"/>\n       <use x=\"138.525391\" xlink:href=\"#DejaVuSans-99\"/>\n       <use x=\"193.505859\" xlink:href=\"#DejaVuSans-32\"/>\n       <use x=\"225.292969\" xlink:href=\"#DejaVuSans-56\"/>\n      </g>\n     </g>\n    </g>\n    <g id=\"xtick_9\">\n     <g id=\"line2d_9\">\n      <g>\n       <use style=\"stroke:#000000;stroke-width:0.8;\" x=\"363.573722\" xlink:href=\"#m3ba7713111\" y=\"295.2\"/>\n      </g>\n     </g>\n     <g id=\"text_9\">\n      <!-- Dec 9 -->\n      <g transform=\"translate(349.127628 309.798437)scale(0.1 -0.1)\">\n       <defs>\n        <path d=\"M 10.984375 1.515625 \nL 10.984375 10.5 \nQ 14.703125 8.734375 18.5 7.8125 \nQ 22.3125 6.890625 25.984375 6.890625 \nQ 35.75 6.890625 40.890625 13.453125 \nQ 46.046875 20.015625 46.78125 33.40625 \nQ 43.953125 29.203125 39.59375 26.953125 \nQ 35.25 24.703125 29.984375 24.703125 \nQ 19.046875 24.703125 12.671875 31.3125 \nQ 6.296875 37.9375 6.296875 49.421875 \nQ 6.296875 60.640625 12.9375 67.421875 \nQ 19.578125 74.21875 30.609375 74.21875 \nQ 43.265625 74.21875 49.921875 64.515625 \nQ 56.59375 54.828125 56.59375 36.375 \nQ 56.59375 19.140625 48.40625 8.859375 \nQ 40.234375 -1.421875 26.421875 -1.421875 \nQ 22.703125 -1.421875 18.890625 -0.6875 \nQ 15.09375 0.046875 10.984375 1.515625 \nz\nM 30.609375 32.421875 \nQ 37.25 32.421875 41.125 36.953125 \nQ 45.015625 41.5 45.015625 49.421875 \nQ 45.015625 57.28125 41.125 61.84375 \nQ 37.25 66.40625 30.609375 66.40625 \nQ 23.96875 66.40625 20.09375 61.84375 \nQ 16.21875 57.28125 16.21875 49.421875 \nQ 16.21875 41.5 20.09375 36.953125 \nQ 23.96875 32.421875 30.609375 32.421875 \nz\n\" id=\"DejaVuSans-57\"/>\n       </defs>\n       <use xlink:href=\"#DejaVuSans-68\"/>\n       <use x=\"77.001953\" xlink:href=\"#DejaVuSans-101\"/>\n       <use x=\"138.525391\" xlink:href=\"#DejaVuSans-99\"/>\n       <use x=\"193.505859\" xlink:href=\"#DejaVuSans-32\"/>\n       <use x=\"225.292969\" xlink:href=\"#DejaVuSans-57\"/>\n      </g>\n     </g>\n    </g>\n    <g id=\"xtick_10\">\n     <g id=\"line2d_10\">\n      <g>\n       <use style=\"stroke:#000000;stroke-width:0.8;\" x=\"399.937358\" xlink:href=\"#m3ba7713111\" y=\"295.2\"/>\n      </g>\n     </g>\n     <g id=\"text_10\">\n      <!-- Hi 10 -->\n      <g transform=\"translate(386.836577 309.798437)scale(0.1 -0.1)\">\n       <defs>\n        <path d=\"M 9.8125 72.90625 \nL 19.671875 72.90625 \nL 19.671875 43.015625 \nL 55.515625 43.015625 \nL 55.515625 72.90625 \nL 65.375 72.90625 \nL 65.375 0 \nL 55.515625 0 \nL 55.515625 34.71875 \nL 19.671875 34.71875 \nL 19.671875 0 \nL 9.8125 0 \nz\n\" id=\"DejaVuSans-72\"/>\n        <path d=\"M 9.421875 54.6875 \nL 18.40625 54.6875 \nL 18.40625 0 \nL 9.421875 0 \nz\nM 9.421875 75.984375 \nL 18.40625 75.984375 \nL 18.40625 64.59375 \nL 9.421875 64.59375 \nz\n\" id=\"DejaVuSans-105\"/>\n       </defs>\n       <use xlink:href=\"#DejaVuSans-72\"/>\n       <use x=\"75.195312\" xlink:href=\"#DejaVuSans-105\"/>\n       <use x=\"102.978516\" xlink:href=\"#DejaVuSans-32\"/>\n       <use x=\"134.765625\" xlink:href=\"#DejaVuSans-49\"/>\n       <use x=\"198.388672\" xlink:href=\"#DejaVuSans-48\"/>\n      </g>\n     </g>\n    </g>\n    <g id=\"xtick_11\">\n     <g id=\"line2d_11\">\n      <g>\n       <use style=\"stroke:#000000;stroke-width:0.8;\" x=\"436.300994\" xlink:href=\"#m3ba7713111\" y=\"295.2\"/>\n      </g>\n     </g>\n    </g>\n   </g>\n   <g id=\"matplotlib.axis_2\">\n    <g id=\"ytick_1\">\n     <g id=\"line2d_12\">\n      <defs>\n       <path d=\"M 0 0 \nL -3.5 0 \n\" id=\"m8aa44b52f7\" style=\"stroke:#000000;stroke-width:0.8;\"/>\n      </defs>\n      <g>\n       <use style=\"stroke:#000000;stroke-width:0.8;\" x=\"38.482813\" xlink:href=\"#m8aa44b52f7\" y=\"271.739319\"/>\n      </g>\n     </g>\n     <g id=\"text_11\">\n      <!-- −0.3 -->\n      <g transform=\"translate(7.2 275.538538)scale(0.1 -0.1)\">\n       <defs>\n        <path d=\"M 10.59375 35.5 \nL 73.1875 35.5 \nL 73.1875 27.203125 \nL 10.59375 27.203125 \nz\n\" id=\"DejaVuSans-8722\"/>\n        <path d=\"M 10.6875 12.40625 \nL 21 12.40625 \nL 21 0 \nL 10.6875 0 \nz\n\" id=\"DejaVuSans-46\"/>\n       </defs>\n       <use xlink:href=\"#DejaVuSans-8722\"/>\n       <use x=\"83.789062\" xlink:href=\"#DejaVuSans-48\"/>\n       <use x=\"147.412109\" xlink:href=\"#DejaVuSans-46\"/>\n       <use x=\"179.199219\" xlink:href=\"#DejaVuSans-51\"/>\n      </g>\n     </g>\n    </g>\n    <g id=\"ytick_2\">\n     <g id=\"line2d_13\">\n      <g>\n       <use style=\"stroke:#000000;stroke-width:0.8;\" x=\"38.482813\" xlink:href=\"#m8aa44b52f7\" y=\"224.563735\"/>\n      </g>\n     </g>\n     <g id=\"text_12\">\n      <!-- −0.2 -->\n      <g transform=\"translate(7.2 228.362954)scale(0.1 -0.1)\">\n       <use xlink:href=\"#DejaVuSans-8722\"/>\n       <use x=\"83.789062\" xlink:href=\"#DejaVuSans-48\"/>\n       <use x=\"147.412109\" xlink:href=\"#DejaVuSans-46\"/>\n       <use x=\"179.199219\" xlink:href=\"#DejaVuSans-50\"/>\n      </g>\n     </g>\n    </g>\n    <g id=\"ytick_3\">\n     <g id=\"line2d_14\">\n      <g>\n       <use style=\"stroke:#000000;stroke-width:0.8;\" x=\"38.482813\" xlink:href=\"#m8aa44b52f7\" y=\"177.388152\"/>\n      </g>\n     </g>\n     <g id=\"text_13\">\n      <!-- −0.1 -->\n      <g transform=\"translate(7.2 181.18737)scale(0.1 -0.1)\">\n       <use xlink:href=\"#DejaVuSans-8722\"/>\n       <use x=\"83.789062\" xlink:href=\"#DejaVuSans-48\"/>\n       <use x=\"147.412109\" xlink:href=\"#DejaVuSans-46\"/>\n       <use x=\"179.199219\" xlink:href=\"#DejaVuSans-49\"/>\n      </g>\n     </g>\n    </g>\n    <g id=\"ytick_4\">\n     <g id=\"line2d_15\">\n      <g>\n       <use style=\"stroke:#000000;stroke-width:0.8;\" x=\"38.482813\" xlink:href=\"#m8aa44b52f7\" y=\"130.212568\"/>\n      </g>\n     </g>\n     <g id=\"text_14\">\n      <!-- 0.0 -->\n      <g transform=\"translate(15.579688 134.011786)scale(0.1 -0.1)\">\n       <use xlink:href=\"#DejaVuSans-48\"/>\n       <use x=\"63.623047\" xlink:href=\"#DejaVuSans-46\"/>\n       <use x=\"95.410156\" xlink:href=\"#DejaVuSans-48\"/>\n      </g>\n     </g>\n    </g>\n    <g id=\"ytick_5\">\n     <g id=\"line2d_16\">\n      <g>\n       <use style=\"stroke:#000000;stroke-width:0.8;\" x=\"38.482813\" xlink:href=\"#m8aa44b52f7\" y=\"83.036984\"/>\n      </g>\n     </g>\n     <g id=\"text_15\">\n      <!-- 0.1 -->\n      <g transform=\"translate(15.579688 86.836202)scale(0.1 -0.1)\">\n       <use xlink:href=\"#DejaVuSans-48\"/>\n       <use x=\"63.623047\" xlink:href=\"#DejaVuSans-46\"/>\n       <use x=\"95.410156\" xlink:href=\"#DejaVuSans-49\"/>\n      </g>\n     </g>\n    </g>\n    <g id=\"ytick_6\">\n     <g id=\"line2d_17\">\n      <g>\n       <use style=\"stroke:#000000;stroke-width:0.8;\" x=\"38.482813\" xlink:href=\"#m8aa44b52f7\" y=\"35.8614\"/>\n      </g>\n     </g>\n     <g id=\"text_16\">\n      <!-- 0.2 -->\n      <g transform=\"translate(15.579688 39.660618)scale(0.1 -0.1)\">\n       <use xlink:href=\"#DejaVuSans-48\"/>\n       <use x=\"63.623047\" xlink:href=\"#DejaVuSans-46\"/>\n       <use x=\"95.410156\" xlink:href=\"#DejaVuSans-50\"/>\n      </g>\n     </g>\n    </g>\n   </g>\n   <g id=\"patch_14\">\n    <path d=\"M 38.482813 295.2 \nL 38.482813 7.2 \n\" style=\"fill:none;stroke:#000000;stroke-linecap:square;stroke-linejoin:miter;stroke-width:0.8;\"/>\n   </g>\n   <g id=\"patch_15\">\n    <path d=\"M 470.482813 295.2 \nL 470.482813 7.2 \n\" style=\"fill:none;stroke:#000000;stroke-linecap:square;stroke-linejoin:miter;stroke-width:0.8;\"/>\n   </g>\n   <g id=\"patch_16\">\n    <path d=\"M 38.482813 295.2 \nL 470.482813 295.2 \n\" style=\"fill:none;stroke:#000000;stroke-linecap:square;stroke-linejoin:miter;stroke-width:0.8;\"/>\n   </g>\n   <g id=\"patch_17\">\n    <path d=\"M 38.482813 7.2 \nL 470.482813 7.2 \n\" style=\"fill:none;stroke:#000000;stroke-linecap:square;stroke-linejoin:miter;stroke-width:0.8;\"/>\n   </g>\n  </g>\n </g>\n <defs>\n  <clipPath id=\"pcf15f8be03\">\n   <rect height=\"288\" width=\"432\" x=\"38.482813\" y=\"7.2\"/>\n  </clipPath>\n </defs>\n</svg>\n",
      "image/png": "[encoded data removed]"
     },
     "metadata": {
      "needs_background": "light"
     }
    }
   ],
   "source": [
    "\n",
    "fig = plt.figure()\n",
    "ax = fig.add_axes([0,0,1,1])\n",
    "langs = [\"Lo 10\",\"Dec 2\" ,\"Dec 3\",\"Dec 4\",\"Dec 5\", \"Dec 6\", \"Dec 7\",\"Dec 8\", \"Dec 9\", \"Hi 10\",\"\"]\n",
    "a = [alphas.iloc[0],alphas.iloc[1],alphas.iloc[2],alphas.iloc[3],alphas.iloc[4],alphas.iloc[5],alphas.iloc[6],alphas.iloc[7],alphas.iloc[8],alphas.iloc[9],0]\n",
    "ax.bar(langs,a)\n",
    "plt.show()\n"
   ]
  },
  {
   "cell_type": "code",
   "execution_count": 154,
   "metadata": {},
   "outputs": [],
   "source": [
    "inv_growth = data[\"Hi 30\"] - data[\"Lo 30\"]\n",
    "factors_inv = factors.copy()\n",
    "factors_inv[\"INV\"] = inv_growth"
   ]
  },
  {
   "cell_type": "code",
   "execution_count": 155,
   "metadata": {},
   "outputs": [],
   "source": [
    "def calc_GRS(alpha_vector, factor_dataframe, asset_returns):\n",
    "    gen_cov = factor_dataframe.cov()\n",
    "    generalized_sharpe = factor_dataframe.mean().T @ inv(gen_cov) @ factor_dataframe.mean()     #Cochrane 2005, p.217\n",
    "    cov = asset_returns.cov()\n",
    "    if isinstance(alpha_vector, list):\n",
    "        alpha_vector = np.array(alpha_vector)\n",
    "    #Calc GRS\n",
    "    df = len(asset_returns) - len(asset_returns.columns) - len(factor_dataframe.columns) # T - N - K     (N = number of assets, K = number of factors)\n",
    "    N = len(asset_returns.columns)\n",
    "    GRS = (df/ N) * ((alpha_vector.T @ inv(cov) @ alpha_vector) / (1+ generalized_sharpe))\n",
    "    p = 1-scipy.stats.f.cdf(GRS, len(asset_returns.columns), df) #find p-value of F test statistic\n",
    "    return GRS, p"
   ]
  },
  {
   "cell_type": "code",
   "execution_count": 140,
   "metadata": {},
   "outputs": [
    {
     "output_type": "execute_result",
     "data": {
      "text/plain": [
       "<class 'statsmodels.iolib.summary.Summary'>\n",
       "\"\"\"\n",
       "                            OLS Regression Results                            \n",
       "==============================================================================\n",
       "Dep. Variable:               BIG HiBM   R-squared:                       0.800\n",
       "Model:                            OLS   Adj. R-squared:                  0.799\n",
       "Method:                 Least Squares   F-statistic:                     681.0\n",
       "Date:                Thu, 04 Feb 2021   Prob (F-statistic):          6.14e-236\n",
       "Time:                        17:48:54   Log-Likelihood:                -1593.8\n",
       "No. Observations:                 684   AIC:                             3198.\n",
       "Df Residuals:                     679   BIC:                             3220.\n",
       "Df Model:                           4                                         \n",
       "Covariance Type:            nonrobust                                         \n",
       "==============================================================================\n",
       "                 coef    std err          t      P>|t|      [0.025      0.975]\n",
       "------------------------------------------------------------------------------\n",
       "const         -0.1663      0.097     -1.712      0.087      -0.357       0.024\n",
       "Mkt-RF         1.1096      0.024     46.696      0.000       1.063       1.156\n",
       "SMB           -0.1614      0.033     -4.858      0.000      -0.227      -0.096\n",
       "HML            0.9208      0.044     21.106      0.000       0.835       1.006\n",
       "INV            0.1705      0.052      3.297      0.001       0.069       0.272\n",
       "==============================================================================\n",
       "Omnibus:                      146.236   Durbin-Watson:                   1.876\n",
       "Prob(Omnibus):                  0.000   Jarque-Bera (JB):              987.695\n",
       "Skew:                          -0.769   Prob(JB):                    3.35e-215\n",
       "Kurtosis:                       8.683   Cond. No.                         4.96\n",
       "==============================================================================\n",
       "\n",
       "Notes:\n",
       "[1] Standard Errors assume that the covariance matrix of the errors is correctly specified.\n",
       "\"\"\""
      ],
      "text/html": "<table class=\"simpletable\">\n<caption>OLS Regression Results</caption>\n<tr>\n  <th>Dep. Variable:</th>        <td>BIG HiBM</td>     <th>  R-squared:         </th> <td>   0.800</td> \n</tr>\n<tr>\n  <th>Model:</th>                   <td>OLS</td>       <th>  Adj. R-squared:    </th> <td>   0.799</td> \n</tr>\n<tr>\n  <th>Method:</th>             <td>Least Squares</td>  <th>  F-statistic:       </th> <td>   681.0</td> \n</tr>\n<tr>\n  <th>Date:</th>             <td>Thu, 04 Feb 2021</td> <th>  Prob (F-statistic):</th> <td>6.14e-236</td>\n</tr>\n<tr>\n  <th>Time:</th>                 <td>17:48:54</td>     <th>  Log-Likelihood:    </th> <td> -1593.8</td> \n</tr>\n<tr>\n  <th>No. Observations:</th>      <td>   684</td>      <th>  AIC:               </th> <td>   3198.</td> \n</tr>\n<tr>\n  <th>Df Residuals:</th>          <td>   679</td>      <th>  BIC:               </th> <td>   3220.</td> \n</tr>\n<tr>\n  <th>Df Model:</th>              <td>     4</td>      <th>                     </th>     <td> </td>    \n</tr>\n<tr>\n  <th>Covariance Type:</th>      <td>nonrobust</td>    <th>                     </th>     <td> </td>    \n</tr>\n</table>\n<table class=\"simpletable\">\n<tr>\n     <td></td>       <th>coef</th>     <th>std err</th>      <th>t</th>      <th>P>|t|</th>  <th>[0.025</th>    <th>0.975]</th>  \n</tr>\n<tr>\n  <th>const</th>  <td>   -0.1663</td> <td>    0.097</td> <td>   -1.712</td> <td> 0.087</td> <td>   -0.357</td> <td>    0.024</td>\n</tr>\n<tr>\n  <th>Mkt-RF</th> <td>    1.1096</td> <td>    0.024</td> <td>   46.696</td> <td> 0.000</td> <td>    1.063</td> <td>    1.156</td>\n</tr>\n<tr>\n  <th>SMB</th>    <td>   -0.1614</td> <td>    0.033</td> <td>   -4.858</td> <td> 0.000</td> <td>   -0.227</td> <td>   -0.096</td>\n</tr>\n<tr>\n  <th>HML</th>    <td>    0.9208</td> <td>    0.044</td> <td>   21.106</td> <td> 0.000</td> <td>    0.835</td> <td>    1.006</td>\n</tr>\n<tr>\n  <th>INV</th>    <td>    0.1705</td> <td>    0.052</td> <td>    3.297</td> <td> 0.001</td> <td>    0.069</td> <td>    0.272</td>\n</tr>\n</table>\n<table class=\"simpletable\">\n<tr>\n  <th>Omnibus:</th>       <td>146.236</td> <th>  Durbin-Watson:     </th> <td>   1.876</td> \n</tr>\n<tr>\n  <th>Prob(Omnibus):</th> <td> 0.000</td>  <th>  Jarque-Bera (JB):  </th> <td> 987.695</td> \n</tr>\n<tr>\n  <th>Skew:</th>          <td>-0.769</td>  <th>  Prob(JB):          </th> <td>3.35e-215</td>\n</tr>\n<tr>\n  <th>Kurtosis:</th>      <td> 8.683</td>  <th>  Cond. No.          </th> <td>    4.96</td> \n</tr>\n</table><br/><br/>Notes:<br/>[1] Standard Errors assume that the covariance matrix of the errors is correctly specified."
     },
     "metadata": {},
     "execution_count": 140
    }
   ],
   "source": [
    "# 3 d\n",
    "\n",
    "inv_alphas = []\n",
    "inv_tvalues = []\n",
    "inv_adj_rsq = []\n",
    "\n",
    "for column in portfolio_25_excess:\n",
    "    x = sm.add_constant(factors_inv)\n",
    "    y = portfolio_25_excess[column]\n",
    "    res = sm.OLS(y,x,cov_type=\"HC0\").fit()\n",
    "    inv_alphas.append(res.params[0])\n",
    "    inv_tvalues =  res.params / x.std()\n",
    "    inv_tvalues.append(res.tvalues)\n",
    "    inv_adj_rsq.append(res.rsquared_adj)\n",
    "\n",
    "res.summary()"
   ]
  },
  {
   "cell_type": "code",
   "execution_count": 156,
   "metadata": {},
   "outputs": [
    {
     "output_type": "execute_result",
     "data": {
      "text/plain": [
       "            Alpha tval  Mkt-RF tval  SMB tval  HML tval  INV tval  Alphas  \\\n",
       "SMALL LoBM       -5.06        48.77     43.72     -6.47      1.14   -0.46   \n",
       "ME1 BM2           0.26        54.60     52.97      0.85      0.13    0.02   \n",
       "ME1 BM3          -0.50        74.57     61.80     12.90     -0.30   -0.03   \n",
       "ME1 BM4           2.77        70.87     61.91     20.51      0.57    0.14   \n",
       "SMALL HiBM        2.42        71.72     58.23     28.68      1.01    0.13   \n",
       "ME2 BM1          -2.98        72.56     45.43    -12.98     -0.80   -0.19   \n",
       "ME2 BM2           0.06        77.47     48.75      2.55     -3.68    0.00   \n",
       "ME2 BM3           1.28        70.42     37.60     13.74     -2.47    0.07   \n",
       "ME2 BM4           0.92        81.97     44.26     24.45     -2.75    0.04   \n",
       "ME2 BM5          -0.40        84.49     49.58     34.03      1.24   -0.02   \n",
       "ME3 BM1          -1.22        77.11     36.68    -13.71      3.15   -0.07   \n",
       "ME3 BM2           1.36        70.89     28.44      3.42     -2.81    0.08   \n",
       "ME3 BM3          -0.16        66.92     20.76     12.55     -3.67   -0.01   \n",
       "ME3 BM4           1.33        71.33     21.82     21.62     -3.00    0.08   \n",
       "ME3 BM5           0.05        61.89     22.72     23.81     -1.79    0.00   \n",
       "ME4 BM1           1.82        74.70     19.36    -14.49      1.37    0.11   \n",
       "ME4 BM2          -1.21        71.07      9.77      2.04     -7.34   -0.08   \n",
       "ME4 BM3          -0.74        65.01      7.52     11.20     -4.71   -0.05   \n",
       "ME4 BM4           0.62        65.30      9.50     18.05     -2.90    0.04   \n",
       "ME4 BM5          -1.22        60.93     10.45     22.59     -0.87   -0.09   \n",
       "BIG LoBM          4.33        93.63    -16.81    -15.56      5.79    0.18   \n",
       "ME5 BM2          -0.27        78.72    -10.92     -1.24     -6.71   -0.01   \n",
       "ME5 BM3          -0.26        63.48    -11.16      6.66     -5.29   -0.02   \n",
       "ME5 BM4          -3.77        71.33    -10.74     22.57     -3.44   -0.23   \n",
       "BIG HiBM         -1.71        46.70     -4.86     21.11      3.30   -0.17   \n",
       "\n",
       "            Adj R^2  \n",
       "SMALL LoBM     0.91  \n",
       "ME1 BM2        0.93  \n",
       "ME1 BM3        0.95  \n",
       "ME1 BM4        0.95  \n",
       "SMALL HiBM     0.95  \n",
       "ME2 BM1        0.95  \n",
       "ME2 BM2        0.95  \n",
       "ME2 BM3        0.93  \n",
       "ME2 BM4        0.95  \n",
       "ME2 BM5        0.95  \n",
       "ME3 BM1        0.95  \n",
       "ME3 BM2        0.92  \n",
       "ME3 BM3        0.90  \n",
       "ME3 BM4        0.91  \n",
       "ME3 BM5        0.90  \n",
       "ME4 BM1        0.93  \n",
       "ME4 BM2        0.90  \n",
       "ME4 BM3        0.88  \n",
       "ME4 BM4        0.89  \n",
       "ME4 BM5        0.88  \n",
       "BIG LoBM       0.95  \n",
       "ME5 BM2        0.91  \n",
       "ME5 BM3        0.86  \n",
       "ME5 BM4        0.89  \n",
       "BIG HiBM       0.80  "
      ],
      "text/html": "<div>\n<style scoped>\n    .dataframe tbody tr th:only-of-type {\n        vertical-align: middle;\n    }\n\n    .dataframe tbody tr th {\n        vertical-align: top;\n    }\n\n    .dataframe thead th {\n        text-align: right;\n    }\n</style>\n<table border=\"1\" class=\"dataframe\">\n  <thead>\n    <tr style=\"text-align: right;\">\n      <th></th>\n      <th>Alpha tval</th>\n      <th>Mkt-RF tval</th>\n      <th>SMB tval</th>\n      <th>HML tval</th>\n      <th>INV tval</th>\n      <th>Alphas</th>\n      <th>Adj R^2</th>\n    </tr>\n  </thead>\n  <tbody>\n    <tr>\n      <th>SMALL LoBM</th>\n      <td>-5.06</td>\n      <td>48.77</td>\n      <td>43.72</td>\n      <td>-6.47</td>\n      <td>1.14</td>\n      <td>-0.46</td>\n      <td>0.91</td>\n    </tr>\n    <tr>\n      <th>ME1 BM2</th>\n      <td>0.26</td>\n      <td>54.60</td>\n      <td>52.97</td>\n      <td>0.85</td>\n      <td>0.13</td>\n      <td>0.02</td>\n      <td>0.93</td>\n    </tr>\n    <tr>\n      <th>ME1 BM3</th>\n      <td>-0.50</td>\n      <td>74.57</td>\n      <td>61.80</td>\n      <td>12.90</td>\n      <td>-0.30</td>\n      <td>-0.03</td>\n      <td>0.95</td>\n    </tr>\n    <tr>\n      <th>ME1 BM4</th>\n      <td>2.77</td>\n      <td>70.87</td>\n      <td>61.91</td>\n      <td>20.51</td>\n      <td>0.57</td>\n      <td>0.14</td>\n      <td>0.95</td>\n    </tr>\n    <tr>\n      <th>SMALL HiBM</th>\n      <td>2.42</td>\n      <td>71.72</td>\n      <td>58.23</td>\n      <td>28.68</td>\n      <td>1.01</td>\n      <td>0.13</td>\n      <td>0.95</td>\n    </tr>\n    <tr>\n      <th>ME2 BM1</th>\n      <td>-2.98</td>\n      <td>72.56</td>\n      <td>45.43</td>\n      <td>-12.98</td>\n      <td>-0.80</td>\n      <td>-0.19</td>\n      <td>0.95</td>\n    </tr>\n    <tr>\n      <th>ME2 BM2</th>\n      <td>0.06</td>\n      <td>77.47</td>\n      <td>48.75</td>\n      <td>2.55</td>\n      <td>-3.68</td>\n      <td>0.00</td>\n      <td>0.95</td>\n    </tr>\n    <tr>\n      <th>ME2 BM3</th>\n      <td>1.28</td>\n      <td>70.42</td>\n      <td>37.60</td>\n      <td>13.74</td>\n      <td>-2.47</td>\n      <td>0.07</td>\n      <td>0.93</td>\n    </tr>\n    <tr>\n      <th>ME2 BM4</th>\n      <td>0.92</td>\n      <td>81.97</td>\n      <td>44.26</td>\n      <td>24.45</td>\n      <td>-2.75</td>\n      <td>0.04</td>\n      <td>0.95</td>\n    </tr>\n    <tr>\n      <th>ME2 BM5</th>\n      <td>-0.40</td>\n      <td>84.49</td>\n      <td>49.58</td>\n      <td>34.03</td>\n      <td>1.24</td>\n      <td>-0.02</td>\n      <td>0.95</td>\n    </tr>\n    <tr>\n      <th>ME3 BM1</th>\n      <td>-1.22</td>\n      <td>77.11</td>\n      <td>36.68</td>\n      <td>-13.71</td>\n      <td>3.15</td>\n      <td>-0.07</td>\n      <td>0.95</td>\n    </tr>\n    <tr>\n      <th>ME3 BM2</th>\n      <td>1.36</td>\n      <td>70.89</td>\n      <td>28.44</td>\n      <td>3.42</td>\n      <td>-2.81</td>\n      <td>0.08</td>\n      <td>0.92</td>\n    </tr>\n    <tr>\n      <th>ME3 BM3</th>\n      <td>-0.16</td>\n      <td>66.92</td>\n      <td>20.76</td>\n      <td>12.55</td>\n      <td>-3.67</td>\n      <td>-0.01</td>\n      <td>0.90</td>\n    </tr>\n    <tr>\n      <th>ME3 BM4</th>\n      <td>1.33</td>\n      <td>71.33</td>\n      <td>21.82</td>\n      <td>21.62</td>\n      <td>-3.00</td>\n      <td>0.08</td>\n      <td>0.91</td>\n    </tr>\n    <tr>\n      <th>ME3 BM5</th>\n      <td>0.05</td>\n      <td>61.89</td>\n      <td>22.72</td>\n      <td>23.81</td>\n      <td>-1.79</td>\n      <td>0.00</td>\n      <td>0.90</td>\n    </tr>\n    <tr>\n      <th>ME4 BM1</th>\n      <td>1.82</td>\n      <td>74.70</td>\n      <td>19.36</td>\n      <td>-14.49</td>\n      <td>1.37</td>\n      <td>0.11</td>\n      <td>0.93</td>\n    </tr>\n    <tr>\n      <th>ME4 BM2</th>\n      <td>-1.21</td>\n      <td>71.07</td>\n      <td>9.77</td>\n      <td>2.04</td>\n      <td>-7.34</td>\n      <td>-0.08</td>\n      <td>0.90</td>\n    </tr>\n    <tr>\n      <th>ME4 BM3</th>\n      <td>-0.74</td>\n      <td>65.01</td>\n      <td>7.52</td>\n      <td>11.20</td>\n      <td>-4.71</td>\n      <td>-0.05</td>\n      <td>0.88</td>\n    </tr>\n    <tr>\n      <th>ME4 BM4</th>\n      <td>0.62</td>\n      <td>65.30</td>\n      <td>9.50</td>\n      <td>18.05</td>\n      <td>-2.90</td>\n      <td>0.04</td>\n      <td>0.89</td>\n    </tr>\n    <tr>\n      <th>ME4 BM5</th>\n      <td>-1.22</td>\n      <td>60.93</td>\n      <td>10.45</td>\n      <td>22.59</td>\n      <td>-0.87</td>\n      <td>-0.09</td>\n      <td>0.88</td>\n    </tr>\n    <tr>\n      <th>BIG LoBM</th>\n      <td>4.33</td>\n      <td>93.63</td>\n      <td>-16.81</td>\n      <td>-15.56</td>\n      <td>5.79</td>\n      <td>0.18</td>\n      <td>0.95</td>\n    </tr>\n    <tr>\n      <th>ME5 BM2</th>\n      <td>-0.27</td>\n      <td>78.72</td>\n      <td>-10.92</td>\n      <td>-1.24</td>\n      <td>-6.71</td>\n      <td>-0.01</td>\n      <td>0.91</td>\n    </tr>\n    <tr>\n      <th>ME5 BM3</th>\n      <td>-0.26</td>\n      <td>63.48</td>\n      <td>-11.16</td>\n      <td>6.66</td>\n      <td>-5.29</td>\n      <td>-0.02</td>\n      <td>0.86</td>\n    </tr>\n    <tr>\n      <th>ME5 BM4</th>\n      <td>-3.77</td>\n      <td>71.33</td>\n      <td>-10.74</td>\n      <td>22.57</td>\n      <td>-3.44</td>\n      <td>-0.23</td>\n      <td>0.89</td>\n    </tr>\n    <tr>\n      <th>BIG HiBM</th>\n      <td>-1.71</td>\n      <td>46.70</td>\n      <td>-4.86</td>\n      <td>21.11</td>\n      <td>3.30</td>\n      <td>-0.17</td>\n      <td>0.80</td>\n    </tr>\n  </tbody>\n</table>\n</div>"
     },
     "metadata": {},
     "execution_count": 156
    }
   ],
   "source": [
    "# 3 d investment farma french model\n",
    "\n",
    "inv_alphas = []\n",
    "inv_tvalues = []\n",
    "inv_adj_rsq = []\n",
    "\n",
    "for column in portfolio_25_excess:\n",
    "    x = sm.add_constant(factors_inv)\n",
    "    y = portfolio_25_excess[column]\n",
    "    res = sm.OLS(y,x,cov_type=\"HC0\").fit()\n",
    "    inv_alphas.append(res.params[0])\n",
    "    inv_tvalues.append(res.tvalues)\n",
    "    inv_adj_rsq.append(res.rsquared_adj)\n",
    "\n",
    "\n",
    "grs_a = inv_alphas\n",
    "ff_investment_table = pd.DataFrame(inv_tvalues)\n",
    "inv_alphas = pd.DataFrame(inv_alphas)\n",
    "inv_alphas.columns = [\"alphas\"]\n",
    "inv_adj_rsq = pd.DataFrame(inv_adj_rsq)\n",
    "inv_adj_rsq.columns = [\"Adjusted R Squared\"]\n",
    "ff_investment_table[\"Alphas\"] = inv_alphas\n",
    "ff_investment_table[\"Adjusted R^2\"] = inv_adj_rsq\n",
    "ff_investment_table.columns = [\"Alpha tval\", \"Mkt-RF tval\",\"SMB tval\",\"HML tval\", \"INV tval\",\"Alphas\",\"Adj R^2\"]\n",
    "ff_investment_table.index = portfolio_25.columns\n",
    "ff_investment_table.round(2)"
   ]
  },
  {
   "cell_type": "code",
   "execution_count": 173,
   "metadata": {},
   "outputs": [
    {
     "output_type": "execute_result",
     "data": {
      "text/plain": [
       "          Alpha tval  Mkt-RF tval   SMB tval  HML tval  INV tval    Alphas  \\\n",
       "Averages   -0.091025    69.857458  25.470983  9.555934 -1.393402 -0.021031   \n",
       "\n",
       "           Adj R^2  \n",
       "Averages  0.915376  "
      ],
      "text/html": "<div>\n<style scoped>\n    .dataframe tbody tr th:only-of-type {\n        vertical-align: middle;\n    }\n\n    .dataframe tbody tr th {\n        vertical-align: top;\n    }\n\n    .dataframe thead th {\n        text-align: right;\n    }\n</style>\n<table border=\"1\" class=\"dataframe\">\n  <thead>\n    <tr style=\"text-align: right;\">\n      <th></th>\n      <th>Alpha tval</th>\n      <th>Mkt-RF tval</th>\n      <th>SMB tval</th>\n      <th>HML tval</th>\n      <th>INV tval</th>\n      <th>Alphas</th>\n      <th>Adj R^2</th>\n    </tr>\n  </thead>\n  <tbody>\n    <tr>\n      <th>Averages</th>\n      <td>-0.091025</td>\n      <td>69.857458</td>\n      <td>25.470983</td>\n      <td>9.555934</td>\n      <td>-1.393402</td>\n      <td>-0.021031</td>\n      <td>0.915376</td>\n    </tr>\n  </tbody>\n</table>\n</div>"
     },
     "metadata": {},
     "execution_count": 173
    }
   ],
   "source": [
    "averages_inv = ff_investment_table.mean()\n",
    "averages_inv =  pd.DataFrame(averages_inv).T\n",
    "averages_inv.index = [\"Averages\"]\n",
    "averages_inv"
   ]
  },
  {
   "cell_type": "code",
   "execution_count": 160,
   "metadata": {},
   "outputs": [
    {
     "output_type": "execute_result",
     "data": {
      "text/plain": [
       "Alpha tval      0.000869\n",
       "Mkt-RF tval    71.441837\n",
       "SMB tval       25.411070\n",
       "HML tval       13.170565\n",
       "Alphas         -0.015458\n",
       "Adj R^2         0.913864\n",
       "dtype: float64"
      ]
     },
     "metadata": {},
     "execution_count": 160
    }
   ],
   "source": [
    "ff_table.mean()"
   ]
  },
  {
   "cell_type": "code",
   "execution_count": 159,
   "metadata": {},
   "outputs": [
    {
     "output_type": "execute_result",
     "data": {
      "text/plain": [
       "            Alpha tval  Mkt-RF tval  SMB tval  HML tval  Alphas  Adj R^2\n",
       "SMALL LoBM       -5.15        50.84     43.75     -9.11   -0.47     0.91\n",
       "ME1 BM2           0.25        56.65     53.02      0.99    0.02     0.93\n",
       "ME1 BM3          -0.48        77.25     61.85     16.63   -0.02     0.95\n",
       "ME1 BM4           2.74        73.63     61.96     25.63    0.14     0.95\n",
       "SMALL HiBM        2.36        74.60     58.27     35.64    0.13     0.95\n",
       "ME2 BM1          -2.94        74.99     45.43    -15.87   -0.19     0.95\n",
       "ME2 BM2           0.31        78.56     48.24      6.07    0.02     0.95\n",
       "ME2 BM3           1.44        72.04     37.42     19.31    0.08     0.93\n",
       "ME2 BM4           1.10        83.79     44.00     33.06    0.05     0.95\n",
       "ME2 BM5          -0.49        87.85     49.60     42.24   -0.03     0.95\n",
       "ME3 BM1          -1.42        80.23     36.52    -19.75   -0.08     0.95\n",
       "ME3 BM2           1.55        72.33     28.24      6.52    0.09     0.92\n",
       "ME3 BM3           0.09        67.73     20.50     18.65    0.01     0.90\n",
       "ME3 BM4           1.53        72.68     21.64     29.65    0.09     0.91\n",
       "ME3 BM5           0.17        63.55     22.65     31.59    0.01     0.90\n",
       "ME4 BM1           1.73        77.73     19.38    -19.46    0.10     0.93\n",
       "ME4 BM2          -0.69        69.02      9.27      8.04   -0.05     0.89\n",
       "ME4 BM3          -0.42        65.08      7.31     17.65   -0.03     0.88\n",
       "ME4 BM4           0.81        66.52      9.38     25.06    0.05     0.89\n",
       "ME4 BM5          -1.16        62.91     10.43     29.38   -0.09     0.88\n",
       "BIG LoBM          3.86        96.32    -16.31    -23.73    0.16     0.94\n",
       "ME5 BM2           0.18        77.30    -10.72      3.56    0.01     0.90\n",
       "ME5 BM3           0.10        63.11    -11.06     12.36    0.01     0.85\n",
       "ME5 BM4          -3.52        72.41    -10.73     31.12   -0.21     0.89\n",
       "BIG HiBM         -1.92        48.93     -4.75     24.05   -0.19     0.80"
      ],
      "text/html": "<div>\n<style scoped>\n    .dataframe tbody tr th:only-of-type {\n        vertical-align: middle;\n    }\n\n    .dataframe tbody tr th {\n        vertical-align: top;\n    }\n\n    .dataframe thead th {\n        text-align: right;\n    }\n</style>\n<table border=\"1\" class=\"dataframe\">\n  <thead>\n    <tr style=\"text-align: right;\">\n      <th></th>\n      <th>Alpha tval</th>\n      <th>Mkt-RF tval</th>\n      <th>SMB tval</th>\n      <th>HML tval</th>\n      <th>Alphas</th>\n      <th>Adj R^2</th>\n    </tr>\n  </thead>\n  <tbody>\n    <tr>\n      <th>SMALL LoBM</th>\n      <td>-5.15</td>\n      <td>50.84</td>\n      <td>43.75</td>\n      <td>-9.11</td>\n      <td>-0.47</td>\n      <td>0.91</td>\n    </tr>\n    <tr>\n      <th>ME1 BM2</th>\n      <td>0.25</td>\n      <td>56.65</td>\n      <td>53.02</td>\n      <td>0.99</td>\n      <td>0.02</td>\n      <td>0.93</td>\n    </tr>\n    <tr>\n      <th>ME1 BM3</th>\n      <td>-0.48</td>\n      <td>77.25</td>\n      <td>61.85</td>\n      <td>16.63</td>\n      <td>-0.02</td>\n      <td>0.95</td>\n    </tr>\n    <tr>\n      <th>ME1 BM4</th>\n      <td>2.74</td>\n      <td>73.63</td>\n      <td>61.96</td>\n      <td>25.63</td>\n      <td>0.14</td>\n      <td>0.95</td>\n    </tr>\n    <tr>\n      <th>SMALL HiBM</th>\n      <td>2.36</td>\n      <td>74.60</td>\n      <td>58.27</td>\n      <td>35.64</td>\n      <td>0.13</td>\n      <td>0.95</td>\n    </tr>\n    <tr>\n      <th>ME2 BM1</th>\n      <td>-2.94</td>\n      <td>74.99</td>\n      <td>45.43</td>\n      <td>-15.87</td>\n      <td>-0.19</td>\n      <td>0.95</td>\n    </tr>\n    <tr>\n      <th>ME2 BM2</th>\n      <td>0.31</td>\n      <td>78.56</td>\n      <td>48.24</td>\n      <td>6.07</td>\n      <td>0.02</td>\n      <td>0.95</td>\n    </tr>\n    <tr>\n      <th>ME2 BM3</th>\n      <td>1.44</td>\n      <td>72.04</td>\n      <td>37.42</td>\n      <td>19.31</td>\n      <td>0.08</td>\n      <td>0.93</td>\n    </tr>\n    <tr>\n      <th>ME2 BM4</th>\n      <td>1.10</td>\n      <td>83.79</td>\n      <td>44.00</td>\n      <td>33.06</td>\n      <td>0.05</td>\n      <td>0.95</td>\n    </tr>\n    <tr>\n      <th>ME2 BM5</th>\n      <td>-0.49</td>\n      <td>87.85</td>\n      <td>49.60</td>\n      <td>42.24</td>\n      <td>-0.03</td>\n      <td>0.95</td>\n    </tr>\n    <tr>\n      <th>ME3 BM1</th>\n      <td>-1.42</td>\n      <td>80.23</td>\n      <td>36.52</td>\n      <td>-19.75</td>\n      <td>-0.08</td>\n      <td>0.95</td>\n    </tr>\n    <tr>\n      <th>ME3 BM2</th>\n      <td>1.55</td>\n      <td>72.33</td>\n      <td>28.24</td>\n      <td>6.52</td>\n      <td>0.09</td>\n      <td>0.92</td>\n    </tr>\n    <tr>\n      <th>ME3 BM3</th>\n      <td>0.09</td>\n      <td>67.73</td>\n      <td>20.50</td>\n      <td>18.65</td>\n      <td>0.01</td>\n      <td>0.90</td>\n    </tr>\n    <tr>\n      <th>ME3 BM4</th>\n      <td>1.53</td>\n      <td>72.68</td>\n      <td>21.64</td>\n      <td>29.65</td>\n      <td>0.09</td>\n      <td>0.91</td>\n    </tr>\n    <tr>\n      <th>ME3 BM5</th>\n      <td>0.17</td>\n      <td>63.55</td>\n      <td>22.65</td>\n      <td>31.59</td>\n      <td>0.01</td>\n      <td>0.90</td>\n    </tr>\n    <tr>\n      <th>ME4 BM1</th>\n      <td>1.73</td>\n      <td>77.73</td>\n      <td>19.38</td>\n      <td>-19.46</td>\n      <td>0.10</td>\n      <td>0.93</td>\n    </tr>\n    <tr>\n      <th>ME4 BM2</th>\n      <td>-0.69</td>\n      <td>69.02</td>\n      <td>9.27</td>\n      <td>8.04</td>\n      <td>-0.05</td>\n      <td>0.89</td>\n    </tr>\n    <tr>\n      <th>ME4 BM3</th>\n      <td>-0.42</td>\n      <td>65.08</td>\n      <td>7.31</td>\n      <td>17.65</td>\n      <td>-0.03</td>\n      <td>0.88</td>\n    </tr>\n    <tr>\n      <th>ME4 BM4</th>\n      <td>0.81</td>\n      <td>66.52</td>\n      <td>9.38</td>\n      <td>25.06</td>\n      <td>0.05</td>\n      <td>0.89</td>\n    </tr>\n    <tr>\n      <th>ME4 BM5</th>\n      <td>-1.16</td>\n      <td>62.91</td>\n      <td>10.43</td>\n      <td>29.38</td>\n      <td>-0.09</td>\n      <td>0.88</td>\n    </tr>\n    <tr>\n      <th>BIG LoBM</th>\n      <td>3.86</td>\n      <td>96.32</td>\n      <td>-16.31</td>\n      <td>-23.73</td>\n      <td>0.16</td>\n      <td>0.94</td>\n    </tr>\n    <tr>\n      <th>ME5 BM2</th>\n      <td>0.18</td>\n      <td>77.30</td>\n      <td>-10.72</td>\n      <td>3.56</td>\n      <td>0.01</td>\n      <td>0.90</td>\n    </tr>\n    <tr>\n      <th>ME5 BM3</th>\n      <td>0.10</td>\n      <td>63.11</td>\n      <td>-11.06</td>\n      <td>12.36</td>\n      <td>0.01</td>\n      <td>0.85</td>\n    </tr>\n    <tr>\n      <th>ME5 BM4</th>\n      <td>-3.52</td>\n      <td>72.41</td>\n      <td>-10.73</td>\n      <td>31.12</td>\n      <td>-0.21</td>\n      <td>0.89</td>\n    </tr>\n    <tr>\n      <th>BIG HiBM</th>\n      <td>-1.92</td>\n      <td>48.93</td>\n      <td>-4.75</td>\n      <td>24.05</td>\n      <td>-0.19</td>\n      <td>0.80</td>\n    </tr>\n  </tbody>\n</table>\n</div>"
     },
     "metadata": {},
     "execution_count": 159
    }
   ],
   "source": [
    "ff_alphas = []\n",
    "ff_tvalues = []\n",
    "ff_adj_rsq = []\n",
    "\n",
    "for column in portfolio_25_excess:\n",
    "    x = sm.add_constant(factors)\n",
    "    y = portfolio_25_excess[column]\n",
    "    res = sm.OLS(y,x,cov_type=\"HC0\").fit()\n",
    "    ff_alphas.append(res.params[0])\n",
    "    ff_tvalues.append(res.tvalues)\n",
    "    ff_adj_rsq.append(res.rsquared_adj)\n",
    "\n",
    "grs_b = ff_alphas\n",
    "ff_table = pd.DataFrame(ff_tvalues)\n",
    "ff_alphas = pd.DataFrame(ff_alphas)\n",
    "ff_alphas.columns = [\"alphas\"]\n",
    "ff_adj_rsq = pd.DataFrame(ff_adj_rsq)\n",
    "ff_adj_rsq.columns = [\"Adjusted R Squared\"]\n",
    "ff_table[\"Alphas\"] = ff_alphas\n",
    "ff_table[\"Adjusted R^2\"] = ff_adj_rsq\n",
    "ff_table.columns = [\"Alpha tval\", \"Mkt-RF tval\",\"SMB tval\",\"HML tval\",\"Alphas\",\"Adj R^2\"]\n",
    "ff_table.index = portfolio_25.columns\n",
    "ff_table.round(2)"
   ]
  },
  {
   "cell_type": "code",
   "execution_count": 161,
   "metadata": {},
   "outputs": [
    {
     "output_type": "execute_result",
     "data": {
      "text/plain": [
       "(3.563215755308802, 1.8629551679083534e-08)"
      ]
     },
     "metadata": {},
     "execution_count": 161
    }
   ],
   "source": [
    "# GRS and p values for ff and investment\n",
    "inv_GRS, inv_p = calc_GRS(grs_a,factors_inv,portfolio_25)\n",
    "inv_GRS, inv_p"
   ]
  },
  {
   "cell_type": "code",
   "execution_count": 162,
   "metadata": {},
   "outputs": [
    {
     "output_type": "execute_result",
     "data": {
      "text/plain": [
       "(3.4702875417798045, 3.994868091883319e-08)"
      ]
     },
     "metadata": {},
     "execution_count": 162
    }
   ],
   "source": [
    "# GRS and p values for ff alone\n",
    "ff_GRS, ff_p = calc_GRS(grs_b,factors,portfolio_25)\n",
    "ff_GRS, ff_p"
   ]
  },
  {
   "cell_type": "code",
   "execution_count": null,
   "metadata": {},
   "outputs": [],
   "source": []
  }
 ]
}