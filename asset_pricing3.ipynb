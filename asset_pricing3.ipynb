{
 "metadata": {
  "language_info": {
   "codemirror_mode": {
    "name": "ipython",
    "version": 3
   },
   "file_extension": ".py",
   "mimetype": "text/x-python",
   "name": "python",
   "nbconvert_exporter": "python",
   "pygments_lexer": "ipython3",
   "version": "3.8.3-final"
  },
  "orig_nbformat": 2,
  "kernelspec": {
   "name": "python3",
   "display_name": "Python 3",
   "language": "python"
  }
 },
 "nbformat": 4,
 "nbformat_minor": 2,
 "cells": [
  {
   "cell_type": "code",
   "execution_count": 1,
   "metadata": {},
   "outputs": [],
   "source": [
    "import pandas as pd\n",
    "import numpy as np\n",
    "import seaborn as sns\n",
    "import matplotlib.pyplot as plt\n",
    "import statsmodels.api as sm\n",
    "import scipy.stats\n",
    "from numpy.linalg import inv\n",
    "import pandas_datareader as pdr\n",
    "%matplotlib inline"
   ]
  },
  {
   "cell_type": "code",
   "execution_count": 2,
   "metadata": {},
   "outputs": [
    {
     "output_type": "execute_result",
     "data": {
      "text/plain": [
       "'\\n\\ndata = pd.read_csv(\"data/Portfolios_Formed_on_INV-2.csv\",skiprows=17,index_col=0,parse_dates=True,nrows=691) \\ndata = data.dropna()\\ndata.index = pd.to_datetime(data.index,format=\"%Y%m\")\\n\\nfactors = pd.read_csv(\"data/F-F_Research_Data_Factors.csv\",skiprows=3,index_col=0,parse_dates=True,nrows=1134) \\nfactors = factors.dropna()\\nfactors.index = pd.to_datetime(factors.index,format=\"%Y%m\")\\nrm = factors[\"Mkt-RF\"]\\nrf = factors[\"RF\"]\\n\\nportfolio_25 = pd.read_csv(\"data/25_Portfolios_5x5.csv\",skiprows=15,index_col=\"DATE\",parse_dates=True,nrows=1134) \\nportfolio_25 = portfolio_25.dropna()\\nportfolio_25.index = pd.to_datetime(portfolio_25.index,format=\"%Y%m\")\\n\\nportfolio_25 = portfolio_25[\"1963-07-01\":\"2020-06-01\"]\\ndata = data[\"1963-07-01\":\"2020-06-01\"]\\nrm = rm[\"1963-07-01\":\"2020-06-01\"]\\nrf = rf[\"1963-07-01\":\"2020-06-01\"]\\nfactors = factors[\"1963-07-01\":\"2020-06-01\"]\\nex_data = data.subtract(rf,axis=0)\\nportfolio_25_excess = portfolio_25.sub(rf,axis=0)\\nfactors = factors.drop(\"RF\",axis=1)\\n\\n'"
      ]
     },
     "metadata": {},
     "execution_count": 2
    }
   ],
   "source": [
    "# OLD DATA LOADING\n",
    "\"\"\"\n",
    "\n",
    "data = pd.read_csv(\"data/Portfolios_Formed_on_INV-2.csv\",skiprows=17,index_col=0,parse_dates=True,nrows=691) \n",
    "data = data.dropna()\n",
    "data.index = pd.to_datetime(data.index,format=\"%Y%m\")\n",
    "\n",
    "factors = pd.read_csv(\"data/F-F_Research_Data_Factors.csv\",skiprows=3,index_col=0,parse_dates=True,nrows=1134) \n",
    "factors = factors.dropna()\n",
    "factors.index = pd.to_datetime(factors.index,format=\"%Y%m\")\n",
    "rm = factors[\"Mkt-RF\"]\n",
    "rf = factors[\"RF\"]\n",
    "\n",
    "portfolio_25 = pd.read_csv(\"data/25_Portfolios_5x5.csv\",skiprows=15,index_col=\"DATE\",parse_dates=True,nrows=1134) \n",
    "portfolio_25 = portfolio_25.dropna()\n",
    "portfolio_25.index = pd.to_datetime(portfolio_25.index,format=\"%Y%m\")\n",
    "\n",
    "portfolio_25 = portfolio_25[\"1963-07-01\":\"2020-06-01\"]\n",
    "data = data[\"1963-07-01\":\"2020-06-01\"]\n",
    "rm = rm[\"1963-07-01\":\"2020-06-01\"]\n",
    "rf = rf[\"1963-07-01\":\"2020-06-01\"]\n",
    "factors = factors[\"1963-07-01\":\"2020-06-01\"]\n",
    "ex_data = data.subtract(rf,axis=0)\n",
    "portfolio_25_excess = portfolio_25.sub(rf,axis=0)\n",
    "factors = factors.drop(\"RF\",axis=1)\n",
    "\n",
    "\"\"\""
   ]
  },
  {
   "cell_type": "code",
   "execution_count": 3,
   "metadata": {},
   "outputs": [],
   "source": [
    "data = pdr.get_data_famafrench(\"Portfolios_Formed_on_INV\",start=\"1963-07\",end=\"2020-06\")[0]\n",
    "portfolio_25 = pdr.get_data_famafrench(\"25_Portfolios_5x5\", start=\"1963-07\", end=\"2020-06\")[0]\n",
    "\n",
    "factors = pdr.get_data_famafrench(\"F-F_Research_Data_Factors\", start=\"1963-07\", end=\"2020-06\")[0] \n",
    "rm = factors[\"Mkt-RF\"]\n",
    "rf = factors[\"RF\"]\n",
    "\n",
    "ex_data = data.subtract(rf,axis=0)\n",
    "portfolio_25_excess = portfolio_25.sub(rf,axis=0)\n",
    "factors = factors.drop(\"RF\",axis=1)"
   ]
  },
  {
   "cell_type": "code",
   "execution_count": 4,
   "metadata": {},
   "outputs": [
    {
     "output_type": "execute_result",
     "data": {
      "text/plain": [
       "         Lo 30  Med 40  Hi 30  Lo 20  Qnt 2  Qnt 3  Qnt 4  Hi 20  Lo 10  \\\n",
       "Date                                                                      \n",
       "1963-07  -1.23    0.55   0.12  -1.14  -0.34   0.66   0.17   0.64  -2.07   \n",
       "1963-08   6.03    4.78   6.05   6.22   5.22   5.11   4.65   6.67   5.37   \n",
       "1963-09  -1.16   -1.40  -0.63  -1.15  -0.97  -2.81  -0.13  -1.16  -0.67   \n",
       "1963-10   2.10    1.83   6.68   2.48   0.98   0.55   4.00   7.81   2.79   \n",
       "1963-11   0.08    0.14  -2.59   0.52  -1.13  -1.10   0.90  -3.82   1.98   \n",
       "...        ...     ...    ...    ...    ...    ...    ...    ...    ...   \n",
       "2020-02  -8.99   -8.67  -6.51  -8.31  -9.56  -9.48  -6.34  -6.62  -7.48   \n",
       "2020-03 -11.49  -14.59 -13.11 -11.27 -13.94 -15.86 -11.86 -12.66 -10.35   \n",
       "2020-04  12.99   12.30  15.75  12.65  13.44  12.22  13.01  16.10  13.81   \n",
       "2020-05   4.35    4.84   6.98   4.57   3.94   5.30   6.32   6.58   5.51   \n",
       "2020-06   2.99    1.30   3.03   0.62   2.94   0.19   3.27   3.75   3.19   \n",
       "\n",
       "         Dec 2  Dec 3  Dec 4  Dec 5  Dec 6  Dec 7  Dec 8  Dec 9  Hi 10  \n",
       "Date                                                                    \n",
       "1963-07  -0.15  -1.42   0.37   1.17   0.38   0.51  -0.55   0.50   1.05  \n",
       "1963-08   7.11   5.62   4.95   5.57   4.87   4.39   5.22   6.32   7.68  \n",
       "1963-09  -1.65  -1.16  -0.84  -2.67  -2.88  -0.23   0.09  -0.94  -1.79  \n",
       "1963-10   2.15   1.27   0.78   0.79   0.43   3.44   5.18   8.86   4.82  \n",
       "1963-11  -1.00  -0.91  -1.27  -1.68  -0.78   1.79  -0.92  -4.92  -0.59  \n",
       "...        ...    ...    ...    ...    ...    ...    ...    ...    ...  \n",
       "2020-02  -9.08  -9.64  -9.44  -8.35 -10.22  -6.43  -6.24  -7.39  -5.12  \n",
       "2020-03 -12.13 -11.71 -17.46 -16.26 -15.59  -9.84 -14.21 -12.01 -13.91  \n",
       "2020-04  11.55  13.31  13.66  12.30  12.17  11.47  14.89  16.31  15.67  \n",
       "2020-05   3.66   4.14   3.61   6.96   4.17   4.93   7.98   4.79  10.12  \n",
       "2020-06  -1.92   5.28  -1.08   0.09   0.25   5.03   1.22   4.64   2.06  \n",
       "\n",
       "[684 rows x 18 columns]"
      ],
      "text/html": "<div>\n<style scoped>\n    .dataframe tbody tr th:only-of-type {\n        vertical-align: middle;\n    }\n\n    .dataframe tbody tr th {\n        vertical-align: top;\n    }\n\n    .dataframe thead th {\n        text-align: right;\n    }\n</style>\n<table border=\"1\" class=\"dataframe\">\n  <thead>\n    <tr style=\"text-align: right;\">\n      <th></th>\n      <th>Lo 30</th>\n      <th>Med 40</th>\n      <th>Hi 30</th>\n      <th>Lo 20</th>\n      <th>Qnt 2</th>\n      <th>Qnt 3</th>\n      <th>Qnt 4</th>\n      <th>Hi 20</th>\n      <th>Lo 10</th>\n      <th>Dec 2</th>\n      <th>Dec 3</th>\n      <th>Dec 4</th>\n      <th>Dec 5</th>\n      <th>Dec 6</th>\n      <th>Dec 7</th>\n      <th>Dec 8</th>\n      <th>Dec 9</th>\n      <th>Hi 10</th>\n    </tr>\n    <tr>\n      <th>Date</th>\n      <th></th>\n      <th></th>\n      <th></th>\n      <th></th>\n      <th></th>\n      <th></th>\n      <th></th>\n      <th></th>\n      <th></th>\n      <th></th>\n      <th></th>\n      <th></th>\n      <th></th>\n      <th></th>\n      <th></th>\n      <th></th>\n      <th></th>\n      <th></th>\n    </tr>\n  </thead>\n  <tbody>\n    <tr>\n      <th>1963-07</th>\n      <td>-1.23</td>\n      <td>0.55</td>\n      <td>0.12</td>\n      <td>-1.14</td>\n      <td>-0.34</td>\n      <td>0.66</td>\n      <td>0.17</td>\n      <td>0.64</td>\n      <td>-2.07</td>\n      <td>-0.15</td>\n      <td>-1.42</td>\n      <td>0.37</td>\n      <td>1.17</td>\n      <td>0.38</td>\n      <td>0.51</td>\n      <td>-0.55</td>\n      <td>0.50</td>\n      <td>1.05</td>\n    </tr>\n    <tr>\n      <th>1963-08</th>\n      <td>6.03</td>\n      <td>4.78</td>\n      <td>6.05</td>\n      <td>6.22</td>\n      <td>5.22</td>\n      <td>5.11</td>\n      <td>4.65</td>\n      <td>6.67</td>\n      <td>5.37</td>\n      <td>7.11</td>\n      <td>5.62</td>\n      <td>4.95</td>\n      <td>5.57</td>\n      <td>4.87</td>\n      <td>4.39</td>\n      <td>5.22</td>\n      <td>6.32</td>\n      <td>7.68</td>\n    </tr>\n    <tr>\n      <th>1963-09</th>\n      <td>-1.16</td>\n      <td>-1.40</td>\n      <td>-0.63</td>\n      <td>-1.15</td>\n      <td>-0.97</td>\n      <td>-2.81</td>\n      <td>-0.13</td>\n      <td>-1.16</td>\n      <td>-0.67</td>\n      <td>-1.65</td>\n      <td>-1.16</td>\n      <td>-0.84</td>\n      <td>-2.67</td>\n      <td>-2.88</td>\n      <td>-0.23</td>\n      <td>0.09</td>\n      <td>-0.94</td>\n      <td>-1.79</td>\n    </tr>\n    <tr>\n      <th>1963-10</th>\n      <td>2.10</td>\n      <td>1.83</td>\n      <td>6.68</td>\n      <td>2.48</td>\n      <td>0.98</td>\n      <td>0.55</td>\n      <td>4.00</td>\n      <td>7.81</td>\n      <td>2.79</td>\n      <td>2.15</td>\n      <td>1.27</td>\n      <td>0.78</td>\n      <td>0.79</td>\n      <td>0.43</td>\n      <td>3.44</td>\n      <td>5.18</td>\n      <td>8.86</td>\n      <td>4.82</td>\n    </tr>\n    <tr>\n      <th>1963-11</th>\n      <td>0.08</td>\n      <td>0.14</td>\n      <td>-2.59</td>\n      <td>0.52</td>\n      <td>-1.13</td>\n      <td>-1.10</td>\n      <td>0.90</td>\n      <td>-3.82</td>\n      <td>1.98</td>\n      <td>-1.00</td>\n      <td>-0.91</td>\n      <td>-1.27</td>\n      <td>-1.68</td>\n      <td>-0.78</td>\n      <td>1.79</td>\n      <td>-0.92</td>\n      <td>-4.92</td>\n      <td>-0.59</td>\n    </tr>\n    <tr>\n      <th>...</th>\n      <td>...</td>\n      <td>...</td>\n      <td>...</td>\n      <td>...</td>\n      <td>...</td>\n      <td>...</td>\n      <td>...</td>\n      <td>...</td>\n      <td>...</td>\n      <td>...</td>\n      <td>...</td>\n      <td>...</td>\n      <td>...</td>\n      <td>...</td>\n      <td>...</td>\n      <td>...</td>\n      <td>...</td>\n      <td>...</td>\n    </tr>\n    <tr>\n      <th>2020-02</th>\n      <td>-8.99</td>\n      <td>-8.67</td>\n      <td>-6.51</td>\n      <td>-8.31</td>\n      <td>-9.56</td>\n      <td>-9.48</td>\n      <td>-6.34</td>\n      <td>-6.62</td>\n      <td>-7.48</td>\n      <td>-9.08</td>\n      <td>-9.64</td>\n      <td>-9.44</td>\n      <td>-8.35</td>\n      <td>-10.22</td>\n      <td>-6.43</td>\n      <td>-6.24</td>\n      <td>-7.39</td>\n      <td>-5.12</td>\n    </tr>\n    <tr>\n      <th>2020-03</th>\n      <td>-11.49</td>\n      <td>-14.59</td>\n      <td>-13.11</td>\n      <td>-11.27</td>\n      <td>-13.94</td>\n      <td>-15.86</td>\n      <td>-11.86</td>\n      <td>-12.66</td>\n      <td>-10.35</td>\n      <td>-12.13</td>\n      <td>-11.71</td>\n      <td>-17.46</td>\n      <td>-16.26</td>\n      <td>-15.59</td>\n      <td>-9.84</td>\n      <td>-14.21</td>\n      <td>-12.01</td>\n      <td>-13.91</td>\n    </tr>\n    <tr>\n      <th>2020-04</th>\n      <td>12.99</td>\n      <td>12.30</td>\n      <td>15.75</td>\n      <td>12.65</td>\n      <td>13.44</td>\n      <td>12.22</td>\n      <td>13.01</td>\n      <td>16.10</td>\n      <td>13.81</td>\n      <td>11.55</td>\n      <td>13.31</td>\n      <td>13.66</td>\n      <td>12.30</td>\n      <td>12.17</td>\n      <td>11.47</td>\n      <td>14.89</td>\n      <td>16.31</td>\n      <td>15.67</td>\n    </tr>\n    <tr>\n      <th>2020-05</th>\n      <td>4.35</td>\n      <td>4.84</td>\n      <td>6.98</td>\n      <td>4.57</td>\n      <td>3.94</td>\n      <td>5.30</td>\n      <td>6.32</td>\n      <td>6.58</td>\n      <td>5.51</td>\n      <td>3.66</td>\n      <td>4.14</td>\n      <td>3.61</td>\n      <td>6.96</td>\n      <td>4.17</td>\n      <td>4.93</td>\n      <td>7.98</td>\n      <td>4.79</td>\n      <td>10.12</td>\n    </tr>\n    <tr>\n      <th>2020-06</th>\n      <td>2.99</td>\n      <td>1.30</td>\n      <td>3.03</td>\n      <td>0.62</td>\n      <td>2.94</td>\n      <td>0.19</td>\n      <td>3.27</td>\n      <td>3.75</td>\n      <td>3.19</td>\n      <td>-1.92</td>\n      <td>5.28</td>\n      <td>-1.08</td>\n      <td>0.09</td>\n      <td>0.25</td>\n      <td>5.03</td>\n      <td>1.22</td>\n      <td>4.64</td>\n      <td>2.06</td>\n    </tr>\n  </tbody>\n</table>\n<p>684 rows × 18 columns</p>\n</div>"
     },
     "metadata": {},
     "execution_count": 4
    }
   ],
   "source": [
    "data"
   ]
  },
  {
   "cell_type": "code",
   "execution_count": 5,
   "metadata": {},
   "outputs": [],
   "source": [
    "# b, CAPM for the 10 investment portfolios, plot alphas against investment deciles\n",
    "alphas = []\n",
    "betas = []\n",
    "for i in range(8,18):\n",
    "    y = ex_data.iloc[:,i]\n",
    "    x = sm.add_constant(rm)\n",
    "    res = sm.OLS(y,x,cov_type=\"HC0\").fit()\n",
    "    alphas.append(res.params[0])\n",
    "    betas.append(res.params[1])\n",
    "\n",
    "alphas = pd.DataFrame(alphas).T\n",
    "alphas.columns = [\"Lo 10\",\"Dec 2\", \"Dec 3\",\"Dec 4\",\"Dec 5\", \"Dec 6\", \"Dec 7\",\"Dec 8\", \"Dec 9\", \"Hi 10\"]\n",
    "alphas.index = [\"Pricing error\"]\n",
    "alphas = alphas.T"
   ]
  },
  {
   "cell_type": "code",
   "execution_count": 6,
   "metadata": {},
   "outputs": [
    {
     "output_type": "execute_result",
     "data": {
      "text/plain": [
       "       Pricing error\n",
       "Lo 10       0.167358\n",
       "Dec 2       0.233005\n",
       "Dec 3       0.185294\n",
       "Dec 4       0.103203\n",
       "Dec 5       0.090755\n",
       "Dec 6       0.051453\n",
       "Dec 7       0.115504\n",
       "Dec 8      -0.010789\n",
       "Dec 9       0.022597\n",
       "Hi 10      -0.321981"
      ],
      "text/html": "<div>\n<style scoped>\n    .dataframe tbody tr th:only-of-type {\n        vertical-align: middle;\n    }\n\n    .dataframe tbody tr th {\n        vertical-align: top;\n    }\n\n    .dataframe thead th {\n        text-align: right;\n    }\n</style>\n<table border=\"1\" class=\"dataframe\">\n  <thead>\n    <tr style=\"text-align: right;\">\n      <th></th>\n      <th>Pricing error</th>\n    </tr>\n  </thead>\n  <tbody>\n    <tr>\n      <th>Lo 10</th>\n      <td>0.167358</td>\n    </tr>\n    <tr>\n      <th>Dec 2</th>\n      <td>0.233005</td>\n    </tr>\n    <tr>\n      <th>Dec 3</th>\n      <td>0.185294</td>\n    </tr>\n    <tr>\n      <th>Dec 4</th>\n      <td>0.103203</td>\n    </tr>\n    <tr>\n      <th>Dec 5</th>\n      <td>0.090755</td>\n    </tr>\n    <tr>\n      <th>Dec 6</th>\n      <td>0.051453</td>\n    </tr>\n    <tr>\n      <th>Dec 7</th>\n      <td>0.115504</td>\n    </tr>\n    <tr>\n      <th>Dec 8</th>\n      <td>-0.010789</td>\n    </tr>\n    <tr>\n      <th>Dec 9</th>\n      <td>0.022597</td>\n    </tr>\n    <tr>\n      <th>Hi 10</th>\n      <td>-0.321981</td>\n    </tr>\n  </tbody>\n</table>\n</div>"
     },
     "metadata": {},
     "execution_count": 6
    }
   ],
   "source": [
    "alphas"
   ]
  },
  {
   "cell_type": "code",
   "execution_count": 35,
   "metadata": {},
   "outputs": [
    {
     "output_type": "display_data",
     "data": {
      "text/plain": "<Figure size 432x288 with 1 Axes>",
      "image/svg+xml": "<?xml version=\"1.0\" encoding=\"utf-8\" standalone=\"no\"?>\n<!DOCTYPE svg PUBLIC \"-//W3C//DTD SVG 1.1//EN\"\n  \"http://www.w3.org/Graphics/SVG/1.1/DTD/svg11.dtd\">\n<!-- Created with matplotlib (https://matplotlib.org/) -->\n<svg height=\"319.078125pt\" version=\"1.1\" viewBox=\"0 0 477.682812 319.078125\" width=\"477.682812pt\" xmlns=\"http://www.w3.org/2000/svg\" xmlns:xlink=\"http://www.w3.org/1999/xlink\">\n <metadata>\n  <rdf:RDF xmlns:cc=\"http://creativecommons.org/ns#\" xmlns:dc=\"http://purl.org/dc/elements/1.1/\" xmlns:rdf=\"http://www.w3.org/1999/02/22-rdf-syntax-ns#\">\n   <cc:Work>\n    <dc:type rdf:resource=\"http://purl.org/dc/dcmitype/StillImage\"/>\n    <dc:date>2021-02-08T20:04:55.458228</dc:date>\n    <dc:format>image/svg+xml</dc:format>\n    <dc:creator>\n     <cc:Agent>\n      <dc:title>Matplotlib v3.3.2, https://matplotlib.org/</dc:title>\n     </cc:Agent>\n    </dc:creator>\n   </cc:Work>\n  </rdf:RDF>\n </metadata>\n <defs>\n  <style type=\"text/css\">*{stroke-linecap:butt;stroke-linejoin:round;}</style>\n </defs>\n <g id=\"figure_1\">\n  <g id=\"patch_1\">\n   <path d=\"M 0 319.078125 \nL 477.682812 319.078125 \nL 477.682812 0 \nL 0 0 \nz\n\" style=\"fill:none;\"/>\n  </g>\n  <g id=\"axes_1\">\n   <g id=\"patch_2\">\n    <path d=\"M 38.482813 295.2 \nL 470.482813 295.2 \nL 470.482813 7.2 \nL 38.482813 7.2 \nz\n\" style=\"fill:#ffffff;\"/>\n   </g>\n   <g id=\"patch_3\">\n    <path clip-path=\"url(#p0bc4944fd5)\" d=\"M 58.119176 130.606379 \nL 90.178545 130.606379 \nL 90.178545 51.371548 \nL 58.119176 51.371548 \nz\n\" style=\"fill:#1f77b4;\"/>\n   </g>\n   <g id=\"patch_4\">\n    <path clip-path=\"url(#p0bc4944fd5)\" d=\"M 98.193388 130.606379 \nL 130.252757 130.606379 \nL 130.252757 20.290909 \nL 98.193388 20.290909 \nz\n\" style=\"fill:#1f77b4;\"/>\n   </g>\n   <g id=\"patch_5\">\n    <path clip-path=\"url(#p0bc4944fd5)\" d=\"M 138.267599 130.606379 \nL 170.326968 130.606379 \nL 170.326968 42.879692 \nL 138.267599 42.879692 \nz\n\" style=\"fill:#1f77b4;\"/>\n   </g>\n   <g id=\"patch_6\">\n    <path clip-path=\"url(#p0bc4944fd5)\" d=\"M 178.341811 130.606379 \nL 210.40118 130.606379 \nL 210.40118 81.745374 \nL 178.341811 81.745374 \nz\n\" style=\"fill:#1f77b4;\"/>\n   </g>\n   <g id=\"patch_7\">\n    <path clip-path=\"url(#p0bc4944fd5)\" d=\"M 218.416022 130.606379 \nL 250.475391 130.606379 \nL 250.475391 87.63883 \nL 218.416022 87.63883 \nz\n\" style=\"fill:#1f77b4;\"/>\n   </g>\n   <g id=\"patch_8\">\n    <path clip-path=\"url(#p0bc4944fd5)\" d=\"M 258.490234 130.606379 \nL 290.549603 130.606379 \nL 290.549603 106.24633 \nL 258.490234 106.24633 \nz\n\" style=\"fill:#1f77b4;\"/>\n   </g>\n   <g id=\"patch_9\">\n    <path clip-path=\"url(#p0bc4944fd5)\" d=\"M 298.564445 130.606379 \nL 330.623814 130.606379 \nL 330.623814 75.921622 \nL 298.564445 75.921622 \nz\n\" style=\"fill:#1f77b4;\"/>\n   </g>\n   <g id=\"patch_10\">\n    <path clip-path=\"url(#p0bc4944fd5)\" d=\"M 338.638657 130.606379 \nL 370.698026 130.606379 \nL 370.698026 135.714546 \nL 338.638657 135.714546 \nz\n\" style=\"fill:#1f77b4;\"/>\n   </g>\n   <g id=\"patch_11\">\n    <path clip-path=\"url(#p0bc4944fd5)\" d=\"M 378.712868 130.606379 \nL 410.772237 130.606379 \nL 410.772237 119.907843 \nL 378.712868 119.907843 \nz\n\" style=\"fill:#1f77b4;\"/>\n   </g>\n   <g id=\"patch_12\">\n    <path clip-path=\"url(#p0bc4944fd5)\" d=\"M 418.78708 130.606379 \nL 450.846449 130.606379 \nL 450.846449 282.109091 \nL 418.78708 282.109091 \nz\n\" style=\"fill:#1f77b4;\"/>\n   </g>\n   <g id=\"matplotlib.axis_1\">\n    <g id=\"xtick_1\">\n     <g id=\"line2d_1\">\n      <defs>\n       <path d=\"M 0 0 \nL 0 3.5 \n\" id=\"m494d048b6b\" style=\"stroke:#000000;stroke-width:0.8;\"/>\n      </defs>\n      <g>\n       <use style=\"stroke:#000000;stroke-width:0.8;\" x=\"74.148861\" xlink:href=\"#m494d048b6b\" y=\"295.2\"/>\n      </g>\n     </g>\n     <g id=\"text_1\">\n      <!-- Lo 10 -->\n      <g transform=\"translate(60.439486 309.798437)scale(0.1 -0.1)\">\n       <defs>\n        <path d=\"M 9.8125 72.90625 \nL 19.671875 72.90625 \nL 19.671875 8.296875 \nL 55.171875 8.296875 \nL 55.171875 0 \nL 9.8125 0 \nz\n\" id=\"DejaVuSans-76\"/>\n        <path d=\"M 30.609375 48.390625 \nQ 23.390625 48.390625 19.1875 42.75 \nQ 14.984375 37.109375 14.984375 27.296875 \nQ 14.984375 17.484375 19.15625 11.84375 \nQ 23.34375 6.203125 30.609375 6.203125 \nQ 37.796875 6.203125 41.984375 11.859375 \nQ 46.1875 17.53125 46.1875 27.296875 \nQ 46.1875 37.015625 41.984375 42.703125 \nQ 37.796875 48.390625 30.609375 48.390625 \nz\nM 30.609375 56 \nQ 42.328125 56 49.015625 48.375 \nQ 55.71875 40.765625 55.71875 27.296875 \nQ 55.71875 13.875 49.015625 6.21875 \nQ 42.328125 -1.421875 30.609375 -1.421875 \nQ 18.84375 -1.421875 12.171875 6.21875 \nQ 5.515625 13.875 5.515625 27.296875 \nQ 5.515625 40.765625 12.171875 48.375 \nQ 18.84375 56 30.609375 56 \nz\n\" id=\"DejaVuSans-111\"/>\n        <path id=\"DejaVuSans-32\"/>\n        <path d=\"M 12.40625 8.296875 \nL 28.515625 8.296875 \nL 28.515625 63.921875 \nL 10.984375 60.40625 \nL 10.984375 69.390625 \nL 28.421875 72.90625 \nL 38.28125 72.90625 \nL 38.28125 8.296875 \nL 54.390625 8.296875 \nL 54.390625 0 \nL 12.40625 0 \nz\n\" id=\"DejaVuSans-49\"/>\n        <path d=\"M 31.78125 66.40625 \nQ 24.171875 66.40625 20.328125 58.90625 \nQ 16.5 51.421875 16.5 36.375 \nQ 16.5 21.390625 20.328125 13.890625 \nQ 24.171875 6.390625 31.78125 6.390625 \nQ 39.453125 6.390625 43.28125 13.890625 \nQ 47.125 21.390625 47.125 36.375 \nQ 47.125 51.421875 43.28125 58.90625 \nQ 39.453125 66.40625 31.78125 66.40625 \nz\nM 31.78125 74.21875 \nQ 44.046875 74.21875 50.515625 64.515625 \nQ 56.984375 54.828125 56.984375 36.375 \nQ 56.984375 17.96875 50.515625 8.265625 \nQ 44.046875 -1.421875 31.78125 -1.421875 \nQ 19.53125 -1.421875 13.0625 8.265625 \nQ 6.59375 17.96875 6.59375 36.375 \nQ 6.59375 54.828125 13.0625 64.515625 \nQ 19.53125 74.21875 31.78125 74.21875 \nz\n\" id=\"DejaVuSans-48\"/>\n       </defs>\n       <use xlink:href=\"#DejaVuSans-76\"/>\n       <use x=\"53.962891\" xlink:href=\"#DejaVuSans-111\"/>\n       <use x=\"115.144531\" xlink:href=\"#DejaVuSans-32\"/>\n       <use x=\"146.931641\" xlink:href=\"#DejaVuSans-49\"/>\n       <use x=\"210.554688\" xlink:href=\"#DejaVuSans-48\"/>\n      </g>\n     </g>\n    </g>\n    <g id=\"xtick_2\">\n     <g id=\"line2d_2\">\n      <g>\n       <use style=\"stroke:#000000;stroke-width:0.8;\" x=\"114.223072\" xlink:href=\"#m494d048b6b\" y=\"295.2\"/>\n      </g>\n     </g>\n     <g id=\"text_2\">\n      <!-- Dec 2 -->\n      <g transform=\"translate(99.776978 309.798437)scale(0.1 -0.1)\">\n       <defs>\n        <path d=\"M 19.671875 64.796875 \nL 19.671875 8.109375 \nL 31.59375 8.109375 \nQ 46.6875 8.109375 53.6875 14.9375 \nQ 60.6875 21.78125 60.6875 36.53125 \nQ 60.6875 51.171875 53.6875 57.984375 \nQ 46.6875 64.796875 31.59375 64.796875 \nz\nM 9.8125 72.90625 \nL 30.078125 72.90625 \nQ 51.265625 72.90625 61.171875 64.09375 \nQ 71.09375 55.28125 71.09375 36.53125 \nQ 71.09375 17.671875 61.125 8.828125 \nQ 51.171875 0 30.078125 0 \nL 9.8125 0 \nz\n\" id=\"DejaVuSans-68\"/>\n        <path d=\"M 56.203125 29.59375 \nL 56.203125 25.203125 \nL 14.890625 25.203125 \nQ 15.484375 15.921875 20.484375 11.0625 \nQ 25.484375 6.203125 34.421875 6.203125 \nQ 39.59375 6.203125 44.453125 7.46875 \nQ 49.3125 8.734375 54.109375 11.28125 \nL 54.109375 2.78125 \nQ 49.265625 0.734375 44.1875 -0.34375 \nQ 39.109375 -1.421875 33.890625 -1.421875 \nQ 20.796875 -1.421875 13.15625 6.1875 \nQ 5.515625 13.8125 5.515625 26.8125 \nQ 5.515625 40.234375 12.765625 48.109375 \nQ 20.015625 56 32.328125 56 \nQ 43.359375 56 49.78125 48.890625 \nQ 56.203125 41.796875 56.203125 29.59375 \nz\nM 47.21875 32.234375 \nQ 47.125 39.59375 43.09375 43.984375 \nQ 39.0625 48.390625 32.421875 48.390625 \nQ 24.90625 48.390625 20.390625 44.140625 \nQ 15.875 39.890625 15.1875 32.171875 \nz\n\" id=\"DejaVuSans-101\"/>\n        <path d=\"M 48.78125 52.59375 \nL 48.78125 44.1875 \nQ 44.96875 46.296875 41.140625 47.34375 \nQ 37.3125 48.390625 33.40625 48.390625 \nQ 24.65625 48.390625 19.8125 42.84375 \nQ 14.984375 37.3125 14.984375 27.296875 \nQ 14.984375 17.28125 19.8125 11.734375 \nQ 24.65625 6.203125 33.40625 6.203125 \nQ 37.3125 6.203125 41.140625 7.25 \nQ 44.96875 8.296875 48.78125 10.40625 \nL 48.78125 2.09375 \nQ 45.015625 0.34375 40.984375 -0.53125 \nQ 36.96875 -1.421875 32.421875 -1.421875 \nQ 20.0625 -1.421875 12.78125 6.34375 \nQ 5.515625 14.109375 5.515625 27.296875 \nQ 5.515625 40.671875 12.859375 48.328125 \nQ 20.21875 56 33.015625 56 \nQ 37.15625 56 41.109375 55.140625 \nQ 45.0625 54.296875 48.78125 52.59375 \nz\n\" id=\"DejaVuSans-99\"/>\n        <path d=\"M 19.1875 8.296875 \nL 53.609375 8.296875 \nL 53.609375 0 \nL 7.328125 0 \nL 7.328125 8.296875 \nQ 12.9375 14.109375 22.625 23.890625 \nQ 32.328125 33.6875 34.8125 36.53125 \nQ 39.546875 41.84375 41.421875 45.53125 \nQ 43.3125 49.21875 43.3125 52.78125 \nQ 43.3125 58.59375 39.234375 62.25 \nQ 35.15625 65.921875 28.609375 65.921875 \nQ 23.96875 65.921875 18.8125 64.3125 \nQ 13.671875 62.703125 7.8125 59.421875 \nL 7.8125 69.390625 \nQ 13.765625 71.78125 18.9375 73 \nQ 24.125 74.21875 28.421875 74.21875 \nQ 39.75 74.21875 46.484375 68.546875 \nQ 53.21875 62.890625 53.21875 53.421875 \nQ 53.21875 48.921875 51.53125 44.890625 \nQ 49.859375 40.875 45.40625 35.40625 \nQ 44.1875 33.984375 37.640625 27.21875 \nQ 31.109375 20.453125 19.1875 8.296875 \nz\n\" id=\"DejaVuSans-50\"/>\n       </defs>\n       <use xlink:href=\"#DejaVuSans-68\"/>\n       <use x=\"77.001953\" xlink:href=\"#DejaVuSans-101\"/>\n       <use x=\"138.525391\" xlink:href=\"#DejaVuSans-99\"/>\n       <use x=\"193.505859\" xlink:href=\"#DejaVuSans-32\"/>\n       <use x=\"225.292969\" xlink:href=\"#DejaVuSans-50\"/>\n      </g>\n     </g>\n    </g>\n    <g id=\"xtick_3\">\n     <g id=\"line2d_3\">\n      <g>\n       <use style=\"stroke:#000000;stroke-width:0.8;\" x=\"154.297284\" xlink:href=\"#m494d048b6b\" y=\"295.2\"/>\n      </g>\n     </g>\n     <g id=\"text_3\">\n      <!-- Dec 3 -->\n      <g transform=\"translate(139.85119 309.798437)scale(0.1 -0.1)\">\n       <defs>\n        <path d=\"M 40.578125 39.3125 \nQ 47.65625 37.796875 51.625 33 \nQ 55.609375 28.21875 55.609375 21.1875 \nQ 55.609375 10.40625 48.1875 4.484375 \nQ 40.765625 -1.421875 27.09375 -1.421875 \nQ 22.515625 -1.421875 17.65625 -0.515625 \nQ 12.796875 0.390625 7.625 2.203125 \nL 7.625 11.71875 \nQ 11.71875 9.328125 16.59375 8.109375 \nQ 21.484375 6.890625 26.8125 6.890625 \nQ 36.078125 6.890625 40.9375 10.546875 \nQ 45.796875 14.203125 45.796875 21.1875 \nQ 45.796875 27.640625 41.28125 31.265625 \nQ 36.765625 34.90625 28.71875 34.90625 \nL 20.21875 34.90625 \nL 20.21875 43.015625 \nL 29.109375 43.015625 \nQ 36.375 43.015625 40.234375 45.921875 \nQ 44.09375 48.828125 44.09375 54.296875 \nQ 44.09375 59.90625 40.109375 62.90625 \nQ 36.140625 65.921875 28.71875 65.921875 \nQ 24.65625 65.921875 20.015625 65.03125 \nQ 15.375 64.15625 9.8125 62.3125 \nL 9.8125 71.09375 \nQ 15.4375 72.65625 20.34375 73.4375 \nQ 25.25 74.21875 29.59375 74.21875 \nQ 40.828125 74.21875 47.359375 69.109375 \nQ 53.90625 64.015625 53.90625 55.328125 \nQ 53.90625 49.265625 50.4375 45.09375 \nQ 46.96875 40.921875 40.578125 39.3125 \nz\n\" id=\"DejaVuSans-51\"/>\n       </defs>\n       <use xlink:href=\"#DejaVuSans-68\"/>\n       <use x=\"77.001953\" xlink:href=\"#DejaVuSans-101\"/>\n       <use x=\"138.525391\" xlink:href=\"#DejaVuSans-99\"/>\n       <use x=\"193.505859\" xlink:href=\"#DejaVuSans-32\"/>\n       <use x=\"225.292969\" xlink:href=\"#DejaVuSans-51\"/>\n      </g>\n     </g>\n    </g>\n    <g id=\"xtick_4\">\n     <g id=\"line2d_4\">\n      <g>\n       <use style=\"stroke:#000000;stroke-width:0.8;\" x=\"194.371495\" xlink:href=\"#m494d048b6b\" y=\"295.2\"/>\n      </g>\n     </g>\n     <g id=\"text_4\">\n      <!-- Dec 4 -->\n      <g transform=\"translate(179.925401 309.798437)scale(0.1 -0.1)\">\n       <defs>\n        <path d=\"M 37.796875 64.3125 \nL 12.890625 25.390625 \nL 37.796875 25.390625 \nz\nM 35.203125 72.90625 \nL 47.609375 72.90625 \nL 47.609375 25.390625 \nL 58.015625 25.390625 \nL 58.015625 17.1875 \nL 47.609375 17.1875 \nL 47.609375 0 \nL 37.796875 0 \nL 37.796875 17.1875 \nL 4.890625 17.1875 \nL 4.890625 26.703125 \nz\n\" id=\"DejaVuSans-52\"/>\n       </defs>\n       <use xlink:href=\"#DejaVuSans-68\"/>\n       <use x=\"77.001953\" xlink:href=\"#DejaVuSans-101\"/>\n       <use x=\"138.525391\" xlink:href=\"#DejaVuSans-99\"/>\n       <use x=\"193.505859\" xlink:href=\"#DejaVuSans-32\"/>\n       <use x=\"225.292969\" xlink:href=\"#DejaVuSans-52\"/>\n      </g>\n     </g>\n    </g>\n    <g id=\"xtick_5\">\n     <g id=\"line2d_5\">\n      <g>\n       <use style=\"stroke:#000000;stroke-width:0.8;\" x=\"234.445707\" xlink:href=\"#m494d048b6b\" y=\"295.2\"/>\n      </g>\n     </g>\n     <g id=\"text_5\">\n      <!-- Dec 5 -->\n      <g transform=\"translate(219.999613 309.798437)scale(0.1 -0.1)\">\n       <defs>\n        <path d=\"M 10.796875 72.90625 \nL 49.515625 72.90625 \nL 49.515625 64.59375 \nL 19.828125 64.59375 \nL 19.828125 46.734375 \nQ 21.96875 47.46875 24.109375 47.828125 \nQ 26.265625 48.1875 28.421875 48.1875 \nQ 40.625 48.1875 47.75 41.5 \nQ 54.890625 34.8125 54.890625 23.390625 \nQ 54.890625 11.625 47.5625 5.09375 \nQ 40.234375 -1.421875 26.90625 -1.421875 \nQ 22.3125 -1.421875 17.546875 -0.640625 \nQ 12.796875 0.140625 7.71875 1.703125 \nL 7.71875 11.625 \nQ 12.109375 9.234375 16.796875 8.0625 \nQ 21.484375 6.890625 26.703125 6.890625 \nQ 35.15625 6.890625 40.078125 11.328125 \nQ 45.015625 15.765625 45.015625 23.390625 \nQ 45.015625 31 40.078125 35.4375 \nQ 35.15625 39.890625 26.703125 39.890625 \nQ 22.75 39.890625 18.8125 39.015625 \nQ 14.890625 38.140625 10.796875 36.28125 \nz\n\" id=\"DejaVuSans-53\"/>\n       </defs>\n       <use xlink:href=\"#DejaVuSans-68\"/>\n       <use x=\"77.001953\" xlink:href=\"#DejaVuSans-101\"/>\n       <use x=\"138.525391\" xlink:href=\"#DejaVuSans-99\"/>\n       <use x=\"193.505859\" xlink:href=\"#DejaVuSans-32\"/>\n       <use x=\"225.292969\" xlink:href=\"#DejaVuSans-53\"/>\n      </g>\n     </g>\n    </g>\n    <g id=\"xtick_6\">\n     <g id=\"line2d_6\">\n      <g>\n       <use style=\"stroke:#000000;stroke-width:0.8;\" x=\"274.519918\" xlink:href=\"#m494d048b6b\" y=\"295.2\"/>\n      </g>\n     </g>\n     <g id=\"text_6\">\n      <!-- Dec 6 -->\n      <g transform=\"translate(260.073825 309.798437)scale(0.1 -0.1)\">\n       <defs>\n        <path d=\"M 33.015625 40.375 \nQ 26.375 40.375 22.484375 35.828125 \nQ 18.609375 31.296875 18.609375 23.390625 \nQ 18.609375 15.53125 22.484375 10.953125 \nQ 26.375 6.390625 33.015625 6.390625 \nQ 39.65625 6.390625 43.53125 10.953125 \nQ 47.40625 15.53125 47.40625 23.390625 \nQ 47.40625 31.296875 43.53125 35.828125 \nQ 39.65625 40.375 33.015625 40.375 \nz\nM 52.59375 71.296875 \nL 52.59375 62.3125 \nQ 48.875 64.0625 45.09375 64.984375 \nQ 41.3125 65.921875 37.59375 65.921875 \nQ 27.828125 65.921875 22.671875 59.328125 \nQ 17.53125 52.734375 16.796875 39.40625 \nQ 19.671875 43.65625 24.015625 45.921875 \nQ 28.375 48.1875 33.59375 48.1875 \nQ 44.578125 48.1875 50.953125 41.515625 \nQ 57.328125 34.859375 57.328125 23.390625 \nQ 57.328125 12.15625 50.6875 5.359375 \nQ 44.046875 -1.421875 33.015625 -1.421875 \nQ 20.359375 -1.421875 13.671875 8.265625 \nQ 6.984375 17.96875 6.984375 36.375 \nQ 6.984375 53.65625 15.1875 63.9375 \nQ 23.390625 74.21875 37.203125 74.21875 \nQ 40.921875 74.21875 44.703125 73.484375 \nQ 48.484375 72.75 52.59375 71.296875 \nz\n\" id=\"DejaVuSans-54\"/>\n       </defs>\n       <use xlink:href=\"#DejaVuSans-68\"/>\n       <use x=\"77.001953\" xlink:href=\"#DejaVuSans-101\"/>\n       <use x=\"138.525391\" xlink:href=\"#DejaVuSans-99\"/>\n       <use x=\"193.505859\" xlink:href=\"#DejaVuSans-32\"/>\n       <use x=\"225.292969\" xlink:href=\"#DejaVuSans-54\"/>\n      </g>\n     </g>\n    </g>\n    <g id=\"xtick_7\">\n     <g id=\"line2d_7\">\n      <g>\n       <use style=\"stroke:#000000;stroke-width:0.8;\" x=\"314.59413\" xlink:href=\"#m494d048b6b\" y=\"295.2\"/>\n      </g>\n     </g>\n     <g id=\"text_7\">\n      <!-- Dec 7 -->\n      <g transform=\"translate(300.148036 309.798437)scale(0.1 -0.1)\">\n       <defs>\n        <path d=\"M 8.203125 72.90625 \nL 55.078125 72.90625 \nL 55.078125 68.703125 \nL 28.609375 0 \nL 18.3125 0 \nL 43.21875 64.59375 \nL 8.203125 64.59375 \nz\n\" id=\"DejaVuSans-55\"/>\n       </defs>\n       <use xlink:href=\"#DejaVuSans-68\"/>\n       <use x=\"77.001953\" xlink:href=\"#DejaVuSans-101\"/>\n       <use x=\"138.525391\" xlink:href=\"#DejaVuSans-99\"/>\n       <use x=\"193.505859\" xlink:href=\"#DejaVuSans-32\"/>\n       <use x=\"225.292969\" xlink:href=\"#DejaVuSans-55\"/>\n      </g>\n     </g>\n    </g>\n    <g id=\"xtick_8\">\n     <g id=\"line2d_8\">\n      <g>\n       <use style=\"stroke:#000000;stroke-width:0.8;\" x=\"354.668341\" xlink:href=\"#m494d048b6b\" y=\"295.2\"/>\n      </g>\n     </g>\n     <g id=\"text_8\">\n      <!-- Dec 8 -->\n      <g transform=\"translate(340.222248 309.798437)scale(0.1 -0.1)\">\n       <defs>\n        <path d=\"M 31.78125 34.625 \nQ 24.75 34.625 20.71875 30.859375 \nQ 16.703125 27.09375 16.703125 20.515625 \nQ 16.703125 13.921875 20.71875 10.15625 \nQ 24.75 6.390625 31.78125 6.390625 \nQ 38.8125 6.390625 42.859375 10.171875 \nQ 46.921875 13.96875 46.921875 20.515625 \nQ 46.921875 27.09375 42.890625 30.859375 \nQ 38.875 34.625 31.78125 34.625 \nz\nM 21.921875 38.8125 \nQ 15.578125 40.375 12.03125 44.71875 \nQ 8.5 49.078125 8.5 55.328125 \nQ 8.5 64.0625 14.71875 69.140625 \nQ 20.953125 74.21875 31.78125 74.21875 \nQ 42.671875 74.21875 48.875 69.140625 \nQ 55.078125 64.0625 55.078125 55.328125 \nQ 55.078125 49.078125 51.53125 44.71875 \nQ 48 40.375 41.703125 38.8125 \nQ 48.828125 37.15625 52.796875 32.3125 \nQ 56.78125 27.484375 56.78125 20.515625 \nQ 56.78125 9.90625 50.3125 4.234375 \nQ 43.84375 -1.421875 31.78125 -1.421875 \nQ 19.734375 -1.421875 13.25 4.234375 \nQ 6.78125 9.90625 6.78125 20.515625 \nQ 6.78125 27.484375 10.78125 32.3125 \nQ 14.796875 37.15625 21.921875 38.8125 \nz\nM 18.3125 54.390625 \nQ 18.3125 48.734375 21.84375 45.5625 \nQ 25.390625 42.390625 31.78125 42.390625 \nQ 38.140625 42.390625 41.71875 45.5625 \nQ 45.3125 48.734375 45.3125 54.390625 \nQ 45.3125 60.0625 41.71875 63.234375 \nQ 38.140625 66.40625 31.78125 66.40625 \nQ 25.390625 66.40625 21.84375 63.234375 \nQ 18.3125 60.0625 18.3125 54.390625 \nz\n\" id=\"DejaVuSans-56\"/>\n       </defs>\n       <use xlink:href=\"#DejaVuSans-68\"/>\n       <use x=\"77.001953\" xlink:href=\"#DejaVuSans-101\"/>\n       <use x=\"138.525391\" xlink:href=\"#DejaVuSans-99\"/>\n       <use x=\"193.505859\" xlink:href=\"#DejaVuSans-32\"/>\n       <use x=\"225.292969\" xlink:href=\"#DejaVuSans-56\"/>\n      </g>\n     </g>\n    </g>\n    <g id=\"xtick_9\">\n     <g id=\"line2d_9\">\n      <g>\n       <use style=\"stroke:#000000;stroke-width:0.8;\" x=\"394.742553\" xlink:href=\"#m494d048b6b\" y=\"295.2\"/>\n      </g>\n     </g>\n     <g id=\"text_9\">\n      <!-- Dec 9 -->\n      <g transform=\"translate(380.296459 309.798437)scale(0.1 -0.1)\">\n       <defs>\n        <path d=\"M 10.984375 1.515625 \nL 10.984375 10.5 \nQ 14.703125 8.734375 18.5 7.8125 \nQ 22.3125 6.890625 25.984375 6.890625 \nQ 35.75 6.890625 40.890625 13.453125 \nQ 46.046875 20.015625 46.78125 33.40625 \nQ 43.953125 29.203125 39.59375 26.953125 \nQ 35.25 24.703125 29.984375 24.703125 \nQ 19.046875 24.703125 12.671875 31.3125 \nQ 6.296875 37.9375 6.296875 49.421875 \nQ 6.296875 60.640625 12.9375 67.421875 \nQ 19.578125 74.21875 30.609375 74.21875 \nQ 43.265625 74.21875 49.921875 64.515625 \nQ 56.59375 54.828125 56.59375 36.375 \nQ 56.59375 19.140625 48.40625 8.859375 \nQ 40.234375 -1.421875 26.421875 -1.421875 \nQ 22.703125 -1.421875 18.890625 -0.6875 \nQ 15.09375 0.046875 10.984375 1.515625 \nz\nM 30.609375 32.421875 \nQ 37.25 32.421875 41.125 36.953125 \nQ 45.015625 41.5 45.015625 49.421875 \nQ 45.015625 57.28125 41.125 61.84375 \nQ 37.25 66.40625 30.609375 66.40625 \nQ 23.96875 66.40625 20.09375 61.84375 \nQ 16.21875 57.28125 16.21875 49.421875 \nQ 16.21875 41.5 20.09375 36.953125 \nQ 23.96875 32.421875 30.609375 32.421875 \nz\n\" id=\"DejaVuSans-57\"/>\n       </defs>\n       <use xlink:href=\"#DejaVuSans-68\"/>\n       <use x=\"77.001953\" xlink:href=\"#DejaVuSans-101\"/>\n       <use x=\"138.525391\" xlink:href=\"#DejaVuSans-99\"/>\n       <use x=\"193.505859\" xlink:href=\"#DejaVuSans-32\"/>\n       <use x=\"225.292969\" xlink:href=\"#DejaVuSans-57\"/>\n      </g>\n     </g>\n    </g>\n    <g id=\"xtick_10\">\n     <g id=\"line2d_10\">\n      <g>\n       <use style=\"stroke:#000000;stroke-width:0.8;\" x=\"434.816764\" xlink:href=\"#m494d048b6b\" y=\"295.2\"/>\n      </g>\n     </g>\n     <g id=\"text_10\">\n      <!-- Hi 10 -->\n      <g transform=\"translate(421.715983 309.798437)scale(0.1 -0.1)\">\n       <defs>\n        <path d=\"M 9.8125 72.90625 \nL 19.671875 72.90625 \nL 19.671875 43.015625 \nL 55.515625 43.015625 \nL 55.515625 72.90625 \nL 65.375 72.90625 \nL 65.375 0 \nL 55.515625 0 \nL 55.515625 34.71875 \nL 19.671875 34.71875 \nL 19.671875 0 \nL 9.8125 0 \nz\n\" id=\"DejaVuSans-72\"/>\n        <path d=\"M 9.421875 54.6875 \nL 18.40625 54.6875 \nL 18.40625 0 \nL 9.421875 0 \nz\nM 9.421875 75.984375 \nL 18.40625 75.984375 \nL 18.40625 64.59375 \nL 9.421875 64.59375 \nz\n\" id=\"DejaVuSans-105\"/>\n       </defs>\n       <use xlink:href=\"#DejaVuSans-72\"/>\n       <use x=\"75.195312\" xlink:href=\"#DejaVuSans-105\"/>\n       <use x=\"102.978516\" xlink:href=\"#DejaVuSans-32\"/>\n       <use x=\"134.765625\" xlink:href=\"#DejaVuSans-49\"/>\n       <use x=\"198.388672\" xlink:href=\"#DejaVuSans-48\"/>\n      </g>\n     </g>\n    </g>\n   </g>\n   <g id=\"matplotlib.axis_2\">\n    <g id=\"ytick_1\">\n     <g id=\"line2d_11\">\n      <defs>\n       <path d=\"M 0 0 \nL -3.5 0 \n\" id=\"md5fa77f620\" style=\"stroke:#000000;stroke-width:0.8;\"/>\n      </defs>\n      <g>\n       <use style=\"stroke:#000000;stroke-width:0.8;\" x=\"38.482813\" xlink:href=\"#md5fa77f620\" y=\"272.640171\"/>\n      </g>\n     </g>\n     <g id=\"text_11\">\n      <!-- −0.3 -->\n      <g transform=\"translate(7.2 276.43939)scale(0.1 -0.1)\">\n       <defs>\n        <path d=\"M 10.59375 35.5 \nL 73.1875 35.5 \nL 73.1875 27.203125 \nL 10.59375 27.203125 \nz\n\" id=\"DejaVuSans-8722\"/>\n        <path d=\"M 10.6875 12.40625 \nL 21 12.40625 \nL 21 0 \nL 10.6875 0 \nz\n\" id=\"DejaVuSans-46\"/>\n       </defs>\n       <use xlink:href=\"#DejaVuSans-8722\"/>\n       <use x=\"83.789062\" xlink:href=\"#DejaVuSans-48\"/>\n       <use x=\"147.412109\" xlink:href=\"#DejaVuSans-46\"/>\n       <use x=\"179.199219\" xlink:href=\"#DejaVuSans-51\"/>\n      </g>\n     </g>\n    </g>\n    <g id=\"ytick_2\">\n     <g id=\"line2d_12\">\n      <g>\n       <use style=\"stroke:#000000;stroke-width:0.8;\" x=\"38.482813\" xlink:href=\"#md5fa77f620\" y=\"225.295574\"/>\n      </g>\n     </g>\n     <g id=\"text_12\">\n      <!-- −0.2 -->\n      <g transform=\"translate(7.2 229.094793)scale(0.1 -0.1)\">\n       <use xlink:href=\"#DejaVuSans-8722\"/>\n       <use x=\"83.789062\" xlink:href=\"#DejaVuSans-48\"/>\n       <use x=\"147.412109\" xlink:href=\"#DejaVuSans-46\"/>\n       <use x=\"179.199219\" xlink:href=\"#DejaVuSans-50\"/>\n      </g>\n     </g>\n    </g>\n    <g id=\"ytick_3\">\n     <g id=\"line2d_13\">\n      <g>\n       <use style=\"stroke:#000000;stroke-width:0.8;\" x=\"38.482813\" xlink:href=\"#md5fa77f620\" y=\"177.950976\"/>\n      </g>\n     </g>\n     <g id=\"text_13\">\n      <!-- −0.1 -->\n      <g transform=\"translate(7.2 181.750195)scale(0.1 -0.1)\">\n       <use xlink:href=\"#DejaVuSans-8722\"/>\n       <use x=\"83.789062\" xlink:href=\"#DejaVuSans-48\"/>\n       <use x=\"147.412109\" xlink:href=\"#DejaVuSans-46\"/>\n       <use x=\"179.199219\" xlink:href=\"#DejaVuSans-49\"/>\n      </g>\n     </g>\n    </g>\n    <g id=\"ytick_4\">\n     <g id=\"line2d_14\">\n      <g>\n       <use style=\"stroke:#000000;stroke-width:0.8;\" x=\"38.482813\" xlink:href=\"#md5fa77f620\" y=\"130.606379\"/>\n      </g>\n     </g>\n     <g id=\"text_14\">\n      <!-- 0.0 -->\n      <g transform=\"translate(15.579688 134.405597)scale(0.1 -0.1)\">\n       <use xlink:href=\"#DejaVuSans-48\"/>\n       <use x=\"63.623047\" xlink:href=\"#DejaVuSans-46\"/>\n       <use x=\"95.410156\" xlink:href=\"#DejaVuSans-48\"/>\n      </g>\n     </g>\n    </g>\n    <g id=\"ytick_5\">\n     <g id=\"line2d_15\">\n      <g>\n       <use style=\"stroke:#000000;stroke-width:0.8;\" x=\"38.482813\" xlink:href=\"#md5fa77f620\" y=\"83.261781\"/>\n      </g>\n     </g>\n     <g id=\"text_15\">\n      <!-- 0.1 -->\n      <g transform=\"translate(15.579688 87.061)scale(0.1 -0.1)\">\n       <use xlink:href=\"#DejaVuSans-48\"/>\n       <use x=\"63.623047\" xlink:href=\"#DejaVuSans-46\"/>\n       <use x=\"95.410156\" xlink:href=\"#DejaVuSans-49\"/>\n      </g>\n     </g>\n    </g>\n    <g id=\"ytick_6\">\n     <g id=\"line2d_16\">\n      <g>\n       <use style=\"stroke:#000000;stroke-width:0.8;\" x=\"38.482813\" xlink:href=\"#md5fa77f620\" y=\"35.917183\"/>\n      </g>\n     </g>\n     <g id=\"text_16\">\n      <!-- 0.2 -->\n      <g transform=\"translate(15.579688 39.716402)scale(0.1 -0.1)\">\n       <use xlink:href=\"#DejaVuSans-48\"/>\n       <use x=\"63.623047\" xlink:href=\"#DejaVuSans-46\"/>\n       <use x=\"95.410156\" xlink:href=\"#DejaVuSans-50\"/>\n      </g>\n     </g>\n    </g>\n   </g>\n   <g id=\"patch_13\">\n    <path d=\"M 38.482813 295.2 \nL 38.482813 7.2 \n\" style=\"fill:none;stroke:#000000;stroke-linecap:square;stroke-linejoin:miter;stroke-width:0.8;\"/>\n   </g>\n   <g id=\"patch_14\">\n    <path d=\"M 470.482813 295.2 \nL 470.482813 7.2 \n\" style=\"fill:none;stroke:#000000;stroke-linecap:square;stroke-linejoin:miter;stroke-width:0.8;\"/>\n   </g>\n   <g id=\"patch_15\">\n    <path d=\"M 38.482812 295.2 \nL 470.482813 295.2 \n\" style=\"fill:none;stroke:#000000;stroke-linecap:square;stroke-linejoin:miter;stroke-width:0.8;\"/>\n   </g>\n   <g id=\"patch_16\">\n    <path d=\"M 38.482812 7.2 \nL 470.482813 7.2 \n\" style=\"fill:none;stroke:#000000;stroke-linecap:square;stroke-linejoin:miter;stroke-width:0.8;\"/>\n   </g>\n  </g>\n </g>\n <defs>\n  <clipPath id=\"p0bc4944fd5\">\n   <rect height=\"288\" width=\"432\" x=\"38.482813\" y=\"7.2\"/>\n  </clipPath>\n </defs>\n</svg>\n",
      "image/png": "[encoded data removed]"
     },
     "metadata": {
      "needs_background": "light"
     }
    }
   ],
   "source": [
    "\n",
    "fig = plt.figure()\n",
    "ax = fig.add_axes([0,0,1,1])\n",
    "langs = [\"Lo 10\",\"Dec 2\" ,\"Dec 3\",\"Dec 4\",\"Dec 5\", \"Dec 6\", \"Dec 7\",\"Dec 8\", \"Dec 9\", \"Hi 10\"]\n",
    "a = [alphas.iloc[0],alphas.iloc[1],alphas.iloc[2],alphas.iloc[3],alphas.iloc[4],alphas.iloc[5],alphas.iloc[6],alphas.iloc[7],alphas.iloc[8],-0.32]\n",
    "ax.bar(langs,a)\n",
    "plt.show()\n"
   ]
  },
  {
   "cell_type": "code",
   "execution_count": null,
   "metadata": {},
   "outputs": [],
   "source": []
  },
  {
   "cell_type": "code",
   "execution_count": 8,
   "metadata": {},
   "outputs": [
    {
     "output_type": "execute_result",
     "data": {
      "text/plain": [
       "Mkt-RF    0.536681\n",
       "SMB       0.185702\n",
       "HML       0.256213\n",
       "INV      -0.195731\n",
       "dtype: float64"
      ]
     },
     "metadata": {},
     "execution_count": 8
    }
   ],
   "source": [
    "inv_growth = data[\"Hi 30\"] - data[\"Lo 30\"]\n",
    "factors_inv = factors.copy()\n",
    "factors_inv[\"INV\"] = inv_growth\n",
    "factors_inv.mean()"
   ]
  },
  {
   "cell_type": "code",
   "execution_count": 26,
   "metadata": {},
   "outputs": [],
   "source": [
    "def calc_GRS(alpha_vector, factor_dataframe, asset_returns,e_cov):\n",
    "    gen_cov = factor_dataframe.cov()\n",
    "    generalized_sharpe = factor_dataframe.mean().T @ inv(gen_cov) @ factor_dataframe.mean()     #Cochrane 2005, p.217\n",
    "    #cov = asset_returns.cov()\n",
    "    cov = e_cov\n",
    "    if isinstance(alpha_vector, list):\n",
    "        alpha_vector = np.array(alpha_vector)\n",
    "    #Calc GRS\n",
    "    df = len(asset_returns) - len(asset_returns.columns) - len(factor_dataframe.columns) # T - N - K     (N = number of assets, K = number of factors)\n",
    "    N = len(asset_returns.columns)\n",
    "    GRS = (df/ N) * ((alpha_vector.T @ inv(cov) @ alpha_vector) / (1+ generalized_sharpe))\n",
    "    p = 1-scipy.stats.f.cdf(GRS, len(asset_returns.columns), df) #find p-value of F test statistic\n",
    "    return GRS, p"
   ]
  },
  {
   "source": [
    "# 3 d\n",
    "\n",
    "inv_alphas = []\n",
    "inv_tvalues = []\n",
    "inv_adj_rsq = []\n",
    "\n",
    "for column in portfolio_25_excess:\n",
    "    x = sm.add_constant(factors_inv)\n",
    "    y = portfolio_25_excess[column]\n",
    "    res = sm.OLS(y,x,cov_type=\"HC0\").fit()\n",
    "    inv_alphas.append(res.params[0])\n",
    "    inv_tvalues =  res.params / x.std()\n",
    "    inv_tvalues.append(res.tvalues)\n",
    "    inv_adj_rsq.append(res.rsquared_adj)\n",
    "\n",
    "res.summary()"
   ],
   "cell_type": "markdown",
   "metadata": {}
  },
  {
   "cell_type": "code",
   "execution_count": 23,
   "metadata": {},
   "outputs": [
    {
     "output_type": "execute_result",
     "data": {
      "text/plain": [
       "            Alpha tval  Mkt-RF tval  SMB tval  HML tval  INV tval  Alphas  \\\n",
       "SMALL LoBM       -5.17        49.09     43.70     -6.36      1.11   -0.47   \n",
       "ME1 BM2           0.42        54.64     53.32      0.80      0.26    0.03   \n",
       "ME1 BM3          -0.58        73.59     61.54     12.81     -0.37   -0.03   \n",
       "ME1 BM4           2.89        71.45     62.31     20.87      0.57    0.15   \n",
       "SMALL HiBM        2.27        71.45     57.72     28.52      0.89    0.12   \n",
       "ME2 BM1          -3.04        72.51     45.31    -12.99     -0.78   -0.20   \n",
       "ME2 BM2           0.19        77.62     48.86      2.65     -3.61    0.01   \n",
       "ME2 BM3           1.25        71.56     38.88     13.75     -2.64    0.07   \n",
       "ME2 BM4           0.85        81.99     43.83     24.63     -2.77    0.04   \n",
       "ME2 BM5          -0.32        84.53     49.47     34.33      1.31   -0.02   \n",
       "ME3 BM1          -1.23        77.15     36.59    -13.64      3.24   -0.07   \n",
       "ME3 BM2           1.07        71.02     28.56      3.52     -2.70    0.06   \n",
       "ME3 BM3           0.16        66.66     20.47     12.64     -3.64    0.01   \n",
       "ME3 BM4           0.88        71.45     21.69     21.39     -3.34    0.05   \n",
       "ME3 BM5           0.59        62.01     22.89     24.02     -1.70    0.04   \n",
       "ME4 BM1           1.80        74.59     19.29    -14.50      1.39    0.11   \n",
       "ME4 BM2          -1.24        71.10      9.80      2.30     -7.41   -0.08   \n",
       "ME4 BM3          -0.77        65.66      7.36     11.38     -4.73   -0.05   \n",
       "ME4 BM4           0.63        65.13      9.54     18.05     -2.58    0.04   \n",
       "ME4 BM5          -1.02        59.74     10.22     21.47     -1.82   -0.08   \n",
       "BIG LoBM          4.27        94.39    -16.81    -15.69      5.63    0.18   \n",
       "ME5 BM2          -0.23        78.62    -11.00     -0.86     -6.04   -0.01   \n",
       "ME5 BM3          -0.05        63.66    -11.48      6.24     -5.98   -0.00   \n",
       "ME5 BM4          -3.77        71.71    -10.65     22.75     -3.17   -0.22   \n",
       "BIG HiBM         -1.76        46.64     -5.18     21.12      3.22   -0.17   \n",
       "Averages         -0.08        69.92     25.45      9.57     -1.43   -0.02   \n",
       "\n",
       "            Adj R^2  \n",
       "SMALL LoBM     0.91  \n",
       "ME1 BM2        0.93  \n",
       "ME1 BM3        0.95  \n",
       "ME1 BM4        0.95  \n",
       "SMALL HiBM     0.95  \n",
       "ME2 BM1        0.95  \n",
       "ME2 BM2        0.95  \n",
       "ME2 BM3        0.93  \n",
       "ME2 BM4        0.95  \n",
       "ME2 BM5        0.95  \n",
       "ME3 BM1        0.95  \n",
       "ME3 BM2        0.92  \n",
       "ME3 BM3        0.90  \n",
       "ME3 BM4        0.91  \n",
       "ME3 BM5        0.90  \n",
       "ME4 BM1        0.93  \n",
       "ME4 BM2        0.90  \n",
       "ME4 BM3        0.88  \n",
       "ME4 BM4        0.89  \n",
       "ME4 BM5        0.87  \n",
       "BIG LoBM       0.95  \n",
       "ME5 BM2        0.91  \n",
       "ME5 BM3        0.86  \n",
       "ME5 BM4        0.89  \n",
       "BIG HiBM       0.80  \n",
       "Averages       0.92  "
      ],
      "text/html": "<div>\n<style scoped>\n    .dataframe tbody tr th:only-of-type {\n        vertical-align: middle;\n    }\n\n    .dataframe tbody tr th {\n        vertical-align: top;\n    }\n\n    .dataframe thead th {\n        text-align: right;\n    }\n</style>\n<table border=\"1\" class=\"dataframe\">\n  <thead>\n    <tr style=\"text-align: right;\">\n      <th></th>\n      <th>Alpha tval</th>\n      <th>Mkt-RF tval</th>\n      <th>SMB tval</th>\n      <th>HML tval</th>\n      <th>INV tval</th>\n      <th>Alphas</th>\n      <th>Adj R^2</th>\n    </tr>\n  </thead>\n  <tbody>\n    <tr>\n      <th>SMALL LoBM</th>\n      <td>-5.17</td>\n      <td>49.09</td>\n      <td>43.70</td>\n      <td>-6.36</td>\n      <td>1.11</td>\n      <td>-0.47</td>\n      <td>0.91</td>\n    </tr>\n    <tr>\n      <th>ME1 BM2</th>\n      <td>0.42</td>\n      <td>54.64</td>\n      <td>53.32</td>\n      <td>0.80</td>\n      <td>0.26</td>\n      <td>0.03</td>\n      <td>0.93</td>\n    </tr>\n    <tr>\n      <th>ME1 BM3</th>\n      <td>-0.58</td>\n      <td>73.59</td>\n      <td>61.54</td>\n      <td>12.81</td>\n      <td>-0.37</td>\n      <td>-0.03</td>\n      <td>0.95</td>\n    </tr>\n    <tr>\n      <th>ME1 BM4</th>\n      <td>2.89</td>\n      <td>71.45</td>\n      <td>62.31</td>\n      <td>20.87</td>\n      <td>0.57</td>\n      <td>0.15</td>\n      <td>0.95</td>\n    </tr>\n    <tr>\n      <th>SMALL HiBM</th>\n      <td>2.27</td>\n      <td>71.45</td>\n      <td>57.72</td>\n      <td>28.52</td>\n      <td>0.89</td>\n      <td>0.12</td>\n      <td>0.95</td>\n    </tr>\n    <tr>\n      <th>ME2 BM1</th>\n      <td>-3.04</td>\n      <td>72.51</td>\n      <td>45.31</td>\n      <td>-12.99</td>\n      <td>-0.78</td>\n      <td>-0.20</td>\n      <td>0.95</td>\n    </tr>\n    <tr>\n      <th>ME2 BM2</th>\n      <td>0.19</td>\n      <td>77.62</td>\n      <td>48.86</td>\n      <td>2.65</td>\n      <td>-3.61</td>\n      <td>0.01</td>\n      <td>0.95</td>\n    </tr>\n    <tr>\n      <th>ME2 BM3</th>\n      <td>1.25</td>\n      <td>71.56</td>\n      <td>38.88</td>\n      <td>13.75</td>\n      <td>-2.64</td>\n      <td>0.07</td>\n      <td>0.93</td>\n    </tr>\n    <tr>\n      <th>ME2 BM4</th>\n      <td>0.85</td>\n      <td>81.99</td>\n      <td>43.83</td>\n      <td>24.63</td>\n      <td>-2.77</td>\n      <td>0.04</td>\n      <td>0.95</td>\n    </tr>\n    <tr>\n      <th>ME2 BM5</th>\n      <td>-0.32</td>\n      <td>84.53</td>\n      <td>49.47</td>\n      <td>34.33</td>\n      <td>1.31</td>\n      <td>-0.02</td>\n      <td>0.95</td>\n    </tr>\n    <tr>\n      <th>ME3 BM1</th>\n      <td>-1.23</td>\n      <td>77.15</td>\n      <td>36.59</td>\n      <td>-13.64</td>\n      <td>3.24</td>\n      <td>-0.07</td>\n      <td>0.95</td>\n    </tr>\n    <tr>\n      <th>ME3 BM2</th>\n      <td>1.07</td>\n      <td>71.02</td>\n      <td>28.56</td>\n      <td>3.52</td>\n      <td>-2.70</td>\n      <td>0.06</td>\n      <td>0.92</td>\n    </tr>\n    <tr>\n      <th>ME3 BM3</th>\n      <td>0.16</td>\n      <td>66.66</td>\n      <td>20.47</td>\n      <td>12.64</td>\n      <td>-3.64</td>\n      <td>0.01</td>\n      <td>0.90</td>\n    </tr>\n    <tr>\n      <th>ME3 BM4</th>\n      <td>0.88</td>\n      <td>71.45</td>\n      <td>21.69</td>\n      <td>21.39</td>\n      <td>-3.34</td>\n      <td>0.05</td>\n      <td>0.91</td>\n    </tr>\n    <tr>\n      <th>ME3 BM5</th>\n      <td>0.59</td>\n      <td>62.01</td>\n      <td>22.89</td>\n      <td>24.02</td>\n      <td>-1.70</td>\n      <td>0.04</td>\n      <td>0.90</td>\n    </tr>\n    <tr>\n      <th>ME4 BM1</th>\n      <td>1.80</td>\n      <td>74.59</td>\n      <td>19.29</td>\n      <td>-14.50</td>\n      <td>1.39</td>\n      <td>0.11</td>\n      <td>0.93</td>\n    </tr>\n    <tr>\n      <th>ME4 BM2</th>\n      <td>-1.24</td>\n      <td>71.10</td>\n      <td>9.80</td>\n      <td>2.30</td>\n      <td>-7.41</td>\n      <td>-0.08</td>\n      <td>0.90</td>\n    </tr>\n    <tr>\n      <th>ME4 BM3</th>\n      <td>-0.77</td>\n      <td>65.66</td>\n      <td>7.36</td>\n      <td>11.38</td>\n      <td>-4.73</td>\n      <td>-0.05</td>\n      <td>0.88</td>\n    </tr>\n    <tr>\n      <th>ME4 BM4</th>\n      <td>0.63</td>\n      <td>65.13</td>\n      <td>9.54</td>\n      <td>18.05</td>\n      <td>-2.58</td>\n      <td>0.04</td>\n      <td>0.89</td>\n    </tr>\n    <tr>\n      <th>ME4 BM5</th>\n      <td>-1.02</td>\n      <td>59.74</td>\n      <td>10.22</td>\n      <td>21.47</td>\n      <td>-1.82</td>\n      <td>-0.08</td>\n      <td>0.87</td>\n    </tr>\n    <tr>\n      <th>BIG LoBM</th>\n      <td>4.27</td>\n      <td>94.39</td>\n      <td>-16.81</td>\n      <td>-15.69</td>\n      <td>5.63</td>\n      <td>0.18</td>\n      <td>0.95</td>\n    </tr>\n    <tr>\n      <th>ME5 BM2</th>\n      <td>-0.23</td>\n      <td>78.62</td>\n      <td>-11.00</td>\n      <td>-0.86</td>\n      <td>-6.04</td>\n      <td>-0.01</td>\n      <td>0.91</td>\n    </tr>\n    <tr>\n      <th>ME5 BM3</th>\n      <td>-0.05</td>\n      <td>63.66</td>\n      <td>-11.48</td>\n      <td>6.24</td>\n      <td>-5.98</td>\n      <td>-0.00</td>\n      <td>0.86</td>\n    </tr>\n    <tr>\n      <th>ME5 BM4</th>\n      <td>-3.77</td>\n      <td>71.71</td>\n      <td>-10.65</td>\n      <td>22.75</td>\n      <td>-3.17</td>\n      <td>-0.22</td>\n      <td>0.89</td>\n    </tr>\n    <tr>\n      <th>BIG HiBM</th>\n      <td>-1.76</td>\n      <td>46.64</td>\n      <td>-5.18</td>\n      <td>21.12</td>\n      <td>3.22</td>\n      <td>-0.17</td>\n      <td>0.80</td>\n    </tr>\n    <tr>\n      <th>Averages</th>\n      <td>-0.08</td>\n      <td>69.92</td>\n      <td>25.45</td>\n      <td>9.57</td>\n      <td>-1.43</td>\n      <td>-0.02</td>\n      <td>0.92</td>\n    </tr>\n  </tbody>\n</table>\n</div>"
     },
     "metadata": {},
     "execution_count": 23
    }
   ],
   "source": [
    "# 3 d investment farma french model\n",
    "\n",
    "inv_alphas = []\n",
    "inv_tvalues = []\n",
    "inv_adj_rsq = []\n",
    "einv = []\n",
    "\n",
    "for column in portfolio_25_excess:\n",
    "    x = sm.add_constant(factors_inv)\n",
    "    y = portfolio_25_excess[column]\n",
    "    res = sm.OLS(y,x,cov_type=\"HC0\").fit()\n",
    "    inv_alphas.append(res.params[0])\n",
    "    inv_tvalues.append(res.tvalues)\n",
    "    inv_adj_rsq.append(res.rsquared_adj)\n",
    "    einv.append(portfolio_25_excess[column] - res.predict())\n",
    "\n",
    "einv_cov = (pd.DataFrame(einv).T).cov() \n",
    "\n",
    "\n",
    "\n",
    "grs_a = inv_alphas\n",
    "ff_investment_table = pd.DataFrame(inv_tvalues)\n",
    "inv_alphas = pd.DataFrame(inv_alphas)\n",
    "inv_alphas.columns = [\"alphas\"]\n",
    "inv_adj_rsq = pd.DataFrame(inv_adj_rsq)\n",
    "inv_adj_rsq.columns = [\"Adjusted R Squared\"]\n",
    "ff_investment_table[\"Alphas\"] = inv_alphas\n",
    "ff_investment_table[\"Adjusted R^2\"] = inv_adj_rsq\n",
    "ff_investment_table.columns = [\"Alpha tval\", \"Mkt-RF tval\",\"SMB tval\",\"HML tval\", \"INV tval\",\"Alphas\",\"Adj R^2\"]\n",
    "ff_investment_table.index = portfolio_25.columns\n",
    "\n",
    "averages_inv = ff_investment_table.mean()\n",
    "averages_inv =  pd.DataFrame(averages_inv).T\n",
    "averages_inv.index = [\"Averages\"]\n",
    "\n",
    "ff_investment_table = ff_investment_table.append(averages_inv)\n",
    "ff_investment_table.round(2)"
   ]
  },
  {
   "cell_type": "code",
   "execution_count": 24,
   "metadata": {},
   "outputs": [
    {
     "output_type": "execute_result",
     "data": {
      "text/plain": [
       "            Alpha tval  Mkt-RF tval  SMB tval  HML tval  Alphas  Adj R^2\n",
       "SMALL LoBM       -5.26        51.22     43.73     -8.92   -0.48     0.91\n",
       "ME1 BM2           0.40        56.79     53.38      0.82    0.03     0.93\n",
       "ME1 BM3          -0.56        76.29     61.59     16.53   -0.03     0.95\n",
       "ME1 BM4           2.86        74.32     62.36     26.02    0.14     0.95\n",
       "SMALL HiBM        2.22        74.38     57.76     35.46    0.12     0.95\n",
       "ME2 BM1          -3.00        75.02     45.32    -15.86   -0.19     0.95\n",
       "ME2 BM2           0.44        78.83     48.36      6.12    0.02     0.95\n",
       "ME2 BM3           1.43        73.19     38.67     19.41    0.08     0.93\n",
       "ME2 BM4           1.04        83.88     43.57     33.21    0.05     0.95\n",
       "ME2 BM5          -0.41        88.00     49.49     42.48   -0.02     0.95\n",
       "ME3 BM1          -1.45        80.36     36.42    -19.68   -0.09     0.95\n",
       "ME3 BM2           1.26        72.59     28.38      6.53    0.08     0.92\n",
       "ME3 BM3           0.41        67.54     20.21     18.69    0.03     0.90\n",
       "ME3 BM4           1.11        72.66     21.46     29.49    0.06     0.91\n",
       "ME3 BM5           0.71        63.76     22.83     31.72    0.05     0.90\n",
       "ME4 BM1           1.71        77.70     19.31    -19.45    0.10     0.93\n",
       "ME4 BM2          -0.69        69.02      9.27      8.36   -0.05     0.89\n",
       "ME4 BM3          -0.43        65.79      7.15     17.83   -0.03     0.88\n",
       "ME4 BM4           0.81        66.57      9.45     24.78    0.05     0.89\n",
       "ME4 BM5          -0.89        61.36     10.17     28.59   -0.07     0.87\n",
       "BIG LoBM          3.80        97.29    -16.32    -23.74    0.16     0.94\n",
       "ME5 BM2           0.19        77.89    -10.85      3.52    0.01     0.90\n",
       "ME5 BM3           0.36        62.80    -11.33     12.26    0.02     0.85\n",
       "ME5 BM4          -3.53        73.03    -10.65     31.10   -0.21     0.89\n",
       "BIG HiBM         -1.98        48.93     -5.07     24.10   -0.19     0.80\n",
       "Averages          0.02        71.57     25.39     13.18   -0.01     0.91"
      ],
      "text/html": "<div>\n<style scoped>\n    .dataframe tbody tr th:only-of-type {\n        vertical-align: middle;\n    }\n\n    .dataframe tbody tr th {\n        vertical-align: top;\n    }\n\n    .dataframe thead th {\n        text-align: right;\n    }\n</style>\n<table border=\"1\" class=\"dataframe\">\n  <thead>\n    <tr style=\"text-align: right;\">\n      <th></th>\n      <th>Alpha tval</th>\n      <th>Mkt-RF tval</th>\n      <th>SMB tval</th>\n      <th>HML tval</th>\n      <th>Alphas</th>\n      <th>Adj R^2</th>\n    </tr>\n  </thead>\n  <tbody>\n    <tr>\n      <th>SMALL LoBM</th>\n      <td>-5.26</td>\n      <td>51.22</td>\n      <td>43.73</td>\n      <td>-8.92</td>\n      <td>-0.48</td>\n      <td>0.91</td>\n    </tr>\n    <tr>\n      <th>ME1 BM2</th>\n      <td>0.40</td>\n      <td>56.79</td>\n      <td>53.38</td>\n      <td>0.82</td>\n      <td>0.03</td>\n      <td>0.93</td>\n    </tr>\n    <tr>\n      <th>ME1 BM3</th>\n      <td>-0.56</td>\n      <td>76.29</td>\n      <td>61.59</td>\n      <td>16.53</td>\n      <td>-0.03</td>\n      <td>0.95</td>\n    </tr>\n    <tr>\n      <th>ME1 BM4</th>\n      <td>2.86</td>\n      <td>74.32</td>\n      <td>62.36</td>\n      <td>26.02</td>\n      <td>0.14</td>\n      <td>0.95</td>\n    </tr>\n    <tr>\n      <th>SMALL HiBM</th>\n      <td>2.22</td>\n      <td>74.38</td>\n      <td>57.76</td>\n      <td>35.46</td>\n      <td>0.12</td>\n      <td>0.95</td>\n    </tr>\n    <tr>\n      <th>ME2 BM1</th>\n      <td>-3.00</td>\n      <td>75.02</td>\n      <td>45.32</td>\n      <td>-15.86</td>\n      <td>-0.19</td>\n      <td>0.95</td>\n    </tr>\n    <tr>\n      <th>ME2 BM2</th>\n      <td>0.44</td>\n      <td>78.83</td>\n      <td>48.36</td>\n      <td>6.12</td>\n      <td>0.02</td>\n      <td>0.95</td>\n    </tr>\n    <tr>\n      <th>ME2 BM3</th>\n      <td>1.43</td>\n      <td>73.19</td>\n      <td>38.67</td>\n      <td>19.41</td>\n      <td>0.08</td>\n      <td>0.93</td>\n    </tr>\n    <tr>\n      <th>ME2 BM4</th>\n      <td>1.04</td>\n      <td>83.88</td>\n      <td>43.57</td>\n      <td>33.21</td>\n      <td>0.05</td>\n      <td>0.95</td>\n    </tr>\n    <tr>\n      <th>ME2 BM5</th>\n      <td>-0.41</td>\n      <td>88.00</td>\n      <td>49.49</td>\n      <td>42.48</td>\n      <td>-0.02</td>\n      <td>0.95</td>\n    </tr>\n    <tr>\n      <th>ME3 BM1</th>\n      <td>-1.45</td>\n      <td>80.36</td>\n      <td>36.42</td>\n      <td>-19.68</td>\n      <td>-0.09</td>\n      <td>0.95</td>\n    </tr>\n    <tr>\n      <th>ME3 BM2</th>\n      <td>1.26</td>\n      <td>72.59</td>\n      <td>28.38</td>\n      <td>6.53</td>\n      <td>0.08</td>\n      <td>0.92</td>\n    </tr>\n    <tr>\n      <th>ME3 BM3</th>\n      <td>0.41</td>\n      <td>67.54</td>\n      <td>20.21</td>\n      <td>18.69</td>\n      <td>0.03</td>\n      <td>0.90</td>\n    </tr>\n    <tr>\n      <th>ME3 BM4</th>\n      <td>1.11</td>\n      <td>72.66</td>\n      <td>21.46</td>\n      <td>29.49</td>\n      <td>0.06</td>\n      <td>0.91</td>\n    </tr>\n    <tr>\n      <th>ME3 BM5</th>\n      <td>0.71</td>\n      <td>63.76</td>\n      <td>22.83</td>\n      <td>31.72</td>\n      <td>0.05</td>\n      <td>0.90</td>\n    </tr>\n    <tr>\n      <th>ME4 BM1</th>\n      <td>1.71</td>\n      <td>77.70</td>\n      <td>19.31</td>\n      <td>-19.45</td>\n      <td>0.10</td>\n      <td>0.93</td>\n    </tr>\n    <tr>\n      <th>ME4 BM2</th>\n      <td>-0.69</td>\n      <td>69.02</td>\n      <td>9.27</td>\n      <td>8.36</td>\n      <td>-0.05</td>\n      <td>0.89</td>\n    </tr>\n    <tr>\n      <th>ME4 BM3</th>\n      <td>-0.43</td>\n      <td>65.79</td>\n      <td>7.15</td>\n      <td>17.83</td>\n      <td>-0.03</td>\n      <td>0.88</td>\n    </tr>\n    <tr>\n      <th>ME4 BM4</th>\n      <td>0.81</td>\n      <td>66.57</td>\n      <td>9.45</td>\n      <td>24.78</td>\n      <td>0.05</td>\n      <td>0.89</td>\n    </tr>\n    <tr>\n      <th>ME4 BM5</th>\n      <td>-0.89</td>\n      <td>61.36</td>\n      <td>10.17</td>\n      <td>28.59</td>\n      <td>-0.07</td>\n      <td>0.87</td>\n    </tr>\n    <tr>\n      <th>BIG LoBM</th>\n      <td>3.80</td>\n      <td>97.29</td>\n      <td>-16.32</td>\n      <td>-23.74</td>\n      <td>0.16</td>\n      <td>0.94</td>\n    </tr>\n    <tr>\n      <th>ME5 BM2</th>\n      <td>0.19</td>\n      <td>77.89</td>\n      <td>-10.85</td>\n      <td>3.52</td>\n      <td>0.01</td>\n      <td>0.90</td>\n    </tr>\n    <tr>\n      <th>ME5 BM3</th>\n      <td>0.36</td>\n      <td>62.80</td>\n      <td>-11.33</td>\n      <td>12.26</td>\n      <td>0.02</td>\n      <td>0.85</td>\n    </tr>\n    <tr>\n      <th>ME5 BM4</th>\n      <td>-3.53</td>\n      <td>73.03</td>\n      <td>-10.65</td>\n      <td>31.10</td>\n      <td>-0.21</td>\n      <td>0.89</td>\n    </tr>\n    <tr>\n      <th>BIG HiBM</th>\n      <td>-1.98</td>\n      <td>48.93</td>\n      <td>-5.07</td>\n      <td>24.10</td>\n      <td>-0.19</td>\n      <td>0.80</td>\n    </tr>\n    <tr>\n      <th>Averages</th>\n      <td>0.02</td>\n      <td>71.57</td>\n      <td>25.39</td>\n      <td>13.18</td>\n      <td>-0.01</td>\n      <td>0.91</td>\n    </tr>\n  </tbody>\n</table>\n</div>"
     },
     "metadata": {},
     "execution_count": 24
    }
   ],
   "source": [
    "ff_alphas = []\n",
    "ff_tvalues = []\n",
    "ff_adj_rsq = []\n",
    "e_noninv = []\n",
    "\n",
    "for column in portfolio_25_excess:\n",
    "    x = sm.add_constant(factors)\n",
    "    y = portfolio_25_excess[column]\n",
    "    res = sm.OLS(y,x,cov_type=\"HC0\").fit()\n",
    "    ff_alphas.append(res.params[0])\n",
    "    ff_tvalues.append(res.tvalues)\n",
    "    ff_adj_rsq.append(res.rsquared_adj)\n",
    "    e_noninv.append(portfolio_25_excess[column] - res.predict())\n",
    "\n",
    "e_noninv_cov = (pd.DataFrame(e_noninv).T).cov() \n",
    "\n",
    "grs_b = ff_alphas\n",
    "ff_table = pd.DataFrame(ff_tvalues)\n",
    "ff_alphas = pd.DataFrame(ff_alphas)\n",
    "ff_alphas.columns = [\"alphas\"]\n",
    "ff_adj_rsq = pd.DataFrame(ff_adj_rsq)\n",
    "ff_adj_rsq.columns = [\"Adjusted R Squared\"]\n",
    "ff_table[\"Alphas\"] = ff_alphas\n",
    "ff_table[\"Adjusted R^2\"] = ff_adj_rsq\n",
    "ff_table.columns = [\"Alpha tval\", \"Mkt-RF tval\",\"SMB tval\",\"HML tval\",\"Alphas\",\"Adj R^2\"]\n",
    "ff_table.index = portfolio_25.columns\n",
    "ff_table.round(2)\n",
    "\n",
    "averages = ff_table.mean()\n",
    "averages =  pd.DataFrame(averages).T\n",
    "averages.index = [\"Averages\"]\n",
    "\n",
    "ff_table = ff_table.append(averages)\n",
    "ff_table.round(2)"
   ]
  },
  {
   "cell_type": "code",
   "execution_count": 36,
   "metadata": {},
   "outputs": [
    {
     "output_type": "execute_result",
     "data": {
      "text/plain": [
       "(3.7372179845177462, 4.4020659339949475e-09)"
      ]
     },
     "metadata": {},
     "execution_count": 36
    }
   ],
   "source": [
    "# GRS and p values for ff and investment\n",
    "inv_GRS, inv_p = calc_GRS(grs_a,factors_inv,portfolio_25,einv_cov)\n",
    "inv_GRS, inv_p"
   ]
  },
  {
   "cell_type": "code",
   "execution_count": 37,
   "metadata": {},
   "outputs": [
    {
     "output_type": "execute_result",
     "data": {
      "text/plain": [
       "(3.6054350969627005, 1.311474340237595e-08)"
      ]
     },
     "metadata": {},
     "execution_count": 37
    }
   ],
   "source": [
    "# GRS and p values for ff alone\n",
    "ff_GRS, ff_p = calc_GRS(grs_b,factors,portfolio_25,e_noninv_cov)\n",
    "ff_GRS, ff_p"
   ]
  },
  {
   "source": [
    "Investment Tables\n",
    "---"
   ],
   "cell_type": "markdown",
   "metadata": {}
  },
  {
   "cell_type": "code",
   "execution_count": 15,
   "metadata": {},
   "outputs": [
    {
     "output_type": "execute_result",
     "data": {
      "text/plain": [
       "       LoBM   BM2   BM3   BM4  HiBM\n",
       "SMALL -0.47  0.03 -0.03  0.15  0.12\n",
       "ME2   -0.20  0.01  0.07  0.04 -0.02\n",
       "ME3   -0.07  0.06  0.01  0.05  0.04\n",
       "ME4    0.11 -0.08 -0.05  0.04 -0.08\n",
       "BIG    0.18 -0.01 -0.00 -0.22 -0.17"
      ],
      "text/html": "<div>\n<style scoped>\n    .dataframe tbody tr th:only-of-type {\n        vertical-align: middle;\n    }\n\n    .dataframe tbody tr th {\n        vertical-align: top;\n    }\n\n    .dataframe thead th {\n        text-align: right;\n    }\n</style>\n<table border=\"1\" class=\"dataframe\">\n  <thead>\n    <tr style=\"text-align: right;\">\n      <th></th>\n      <th>LoBM</th>\n      <th>BM2</th>\n      <th>BM3</th>\n      <th>BM4</th>\n      <th>HiBM</th>\n    </tr>\n  </thead>\n  <tbody>\n    <tr>\n      <th>SMALL</th>\n      <td>-0.47</td>\n      <td>0.03</td>\n      <td>-0.03</td>\n      <td>0.15</td>\n      <td>0.12</td>\n    </tr>\n    <tr>\n      <th>ME2</th>\n      <td>-0.20</td>\n      <td>0.01</td>\n      <td>0.07</td>\n      <td>0.04</td>\n      <td>-0.02</td>\n    </tr>\n    <tr>\n      <th>ME3</th>\n      <td>-0.07</td>\n      <td>0.06</td>\n      <td>0.01</td>\n      <td>0.05</td>\n      <td>0.04</td>\n    </tr>\n    <tr>\n      <th>ME4</th>\n      <td>0.11</td>\n      <td>-0.08</td>\n      <td>-0.05</td>\n      <td>0.04</td>\n      <td>-0.08</td>\n    </tr>\n    <tr>\n      <th>BIG</th>\n      <td>0.18</td>\n      <td>-0.01</td>\n      <td>-0.00</td>\n      <td>-0.22</td>\n      <td>-0.17</td>\n    </tr>\n  </tbody>\n</table>\n</div>"
     },
     "metadata": {},
     "execution_count": 15
    }
   ],
   "source": [
    "# Alphas : pricing error from inv farma french\n",
    "a = ff_investment_table[\"Alphas\"]\n",
    "inv_alphas_table = pd.DataFrame(np.zeros((5,5)),index=[\"SMALL\",\"ME2\",\"ME3\",\"ME4\",\"BIG\"],columns=[\"LoBM\",\"BM2\",\"BM3\",\"BM4\",\"HiBM\"])\n",
    "for r in range(0,5):\n",
    "    for c in range(0,5):\n",
    "        n = r * 5 + c\n",
    "        inv_alphas_table.iloc[r,c] = a[n]\n",
    "inv_alphas_table.round(2)"
   ]
  },
  {
   "cell_type": "code",
   "execution_count": 16,
   "metadata": {},
   "outputs": [
    {
     "output_type": "execute_result",
     "data": {
      "text/plain": [
       "       LoBM   BM2   BM3   BM4  HiBM\n",
       "SMALL -5.17  0.42 -0.58  2.89  2.27\n",
       "ME2   -3.04  0.19  1.25  0.85 -0.32\n",
       "ME3   -1.23  1.07  0.16  0.88  0.59\n",
       "ME4    1.80 -1.24 -0.77  0.63 -1.02\n",
       "BIG    4.27 -0.23 -0.05 -3.77 -1.76"
      ],
      "text/html": "<div>\n<style scoped>\n    .dataframe tbody tr th:only-of-type {\n        vertical-align: middle;\n    }\n\n    .dataframe tbody tr th {\n        vertical-align: top;\n    }\n\n    .dataframe thead th {\n        text-align: right;\n    }\n</style>\n<table border=\"1\" class=\"dataframe\">\n  <thead>\n    <tr style=\"text-align: right;\">\n      <th></th>\n      <th>LoBM</th>\n      <th>BM2</th>\n      <th>BM3</th>\n      <th>BM4</th>\n      <th>HiBM</th>\n    </tr>\n  </thead>\n  <tbody>\n    <tr>\n      <th>SMALL</th>\n      <td>-5.17</td>\n      <td>0.42</td>\n      <td>-0.58</td>\n      <td>2.89</td>\n      <td>2.27</td>\n    </tr>\n    <tr>\n      <th>ME2</th>\n      <td>-3.04</td>\n      <td>0.19</td>\n      <td>1.25</td>\n      <td>0.85</td>\n      <td>-0.32</td>\n    </tr>\n    <tr>\n      <th>ME3</th>\n      <td>-1.23</td>\n      <td>1.07</td>\n      <td>0.16</td>\n      <td>0.88</td>\n      <td>0.59</td>\n    </tr>\n    <tr>\n      <th>ME4</th>\n      <td>1.80</td>\n      <td>-1.24</td>\n      <td>-0.77</td>\n      <td>0.63</td>\n      <td>-1.02</td>\n    </tr>\n    <tr>\n      <th>BIG</th>\n      <td>4.27</td>\n      <td>-0.23</td>\n      <td>-0.05</td>\n      <td>-3.77</td>\n      <td>-1.76</td>\n    </tr>\n  </tbody>\n</table>\n</div>"
     },
     "metadata": {},
     "execution_count": 16
    }
   ],
   "source": [
    "# Alpha t values : pricing error from inv farma french\n",
    "a = ff_investment_table[\"Alpha tval\"]\n",
    "inv_alpha_t_table = pd.DataFrame(np.zeros((5,5)),index=[\"SMALL\",\"ME2\",\"ME3\",\"ME4\",\"BIG\"],columns=[\"LoBM\",\"BM2\",\"BM3\",\"BM4\",\"HiBM\"])\n",
    "for r in range(0,5):\n",
    "    for c in range(0,5):\n",
    "        n = r * 5 + c\n",
    "        inv_alpha_t_table.iloc[r,c] = a[n]\n",
    "inv_alpha_t_table.round(2)"
   ]
  },
  {
   "cell_type": "code",
   "execution_count": 17,
   "metadata": {},
   "outputs": [
    {
     "output_type": "execute_result",
     "data": {
      "text/plain": [
       "       LoBM   BM2   BM3   BM4  HiBM\n",
       "SMALL  0.91  0.93  0.95  0.95  0.95\n",
       "ME2    0.95  0.95  0.93  0.95  0.95\n",
       "ME3    0.95  0.92  0.90  0.91  0.90\n",
       "ME4    0.93  0.90  0.88  0.89  0.87\n",
       "BIG    0.95  0.91  0.86  0.89  0.80"
      ],
      "text/html": "<div>\n<style scoped>\n    .dataframe tbody tr th:only-of-type {\n        vertical-align: middle;\n    }\n\n    .dataframe tbody tr th {\n        vertical-align: top;\n    }\n\n    .dataframe thead th {\n        text-align: right;\n    }\n</style>\n<table border=\"1\" class=\"dataframe\">\n  <thead>\n    <tr style=\"text-align: right;\">\n      <th></th>\n      <th>LoBM</th>\n      <th>BM2</th>\n      <th>BM3</th>\n      <th>BM4</th>\n      <th>HiBM</th>\n    </tr>\n  </thead>\n  <tbody>\n    <tr>\n      <th>SMALL</th>\n      <td>0.91</td>\n      <td>0.93</td>\n      <td>0.95</td>\n      <td>0.95</td>\n      <td>0.95</td>\n    </tr>\n    <tr>\n      <th>ME2</th>\n      <td>0.95</td>\n      <td>0.95</td>\n      <td>0.93</td>\n      <td>0.95</td>\n      <td>0.95</td>\n    </tr>\n    <tr>\n      <th>ME3</th>\n      <td>0.95</td>\n      <td>0.92</td>\n      <td>0.90</td>\n      <td>0.91</td>\n      <td>0.90</td>\n    </tr>\n    <tr>\n      <th>ME4</th>\n      <td>0.93</td>\n      <td>0.90</td>\n      <td>0.88</td>\n      <td>0.89</td>\n      <td>0.87</td>\n    </tr>\n    <tr>\n      <th>BIG</th>\n      <td>0.95</td>\n      <td>0.91</td>\n      <td>0.86</td>\n      <td>0.89</td>\n      <td>0.80</td>\n    </tr>\n  </tbody>\n</table>\n</div>"
     },
     "metadata": {},
     "execution_count": 17
    }
   ],
   "source": [
    "# Model r^2: explanatory power of the ff + investment model\n",
    "a = ff_investment_table[\"Adj R^2\"]\n",
    "inv_r2_table = pd.DataFrame(np.zeros((5,5)),index=[\"SMALL\",\"ME2\",\"ME3\",\"ME4\",\"BIG\"],columns=[\"LoBM\",\"BM2\",\"BM3\",\"BM4\",\"HiBM\"])\n",
    "for r in range(0,5):\n",
    "    for c in range(0,5):\n",
    "        n = r * 5 + c\n",
    "        inv_r2_table.iloc[r,c] = a[n]\n",
    "inv_r2_table.round(2)"
   ]
  },
  {
   "source": [
    "Standard Farma tables\n",
    "---"
   ],
   "cell_type": "markdown",
   "metadata": {}
  },
  {
   "cell_type": "code",
   "execution_count": 18,
   "metadata": {},
   "outputs": [
    {
     "output_type": "execute_result",
     "data": {
      "text/plain": [
       "       LoBM   BM2   BM3   BM4  HiBM\n",
       "SMALL -0.48  0.03 -0.03  0.14  0.12\n",
       "ME2   -0.19  0.02  0.08  0.05 -0.02\n",
       "ME3   -0.09  0.08  0.03  0.06  0.05\n",
       "ME4    0.10 -0.05 -0.03  0.05 -0.07\n",
       "BIG    0.16  0.01  0.02 -0.21 -0.19"
      ],
      "text/html": "<div>\n<style scoped>\n    .dataframe tbody tr th:only-of-type {\n        vertical-align: middle;\n    }\n\n    .dataframe tbody tr th {\n        vertical-align: top;\n    }\n\n    .dataframe thead th {\n        text-align: right;\n    }\n</style>\n<table border=\"1\" class=\"dataframe\">\n  <thead>\n    <tr style=\"text-align: right;\">\n      <th></th>\n      <th>LoBM</th>\n      <th>BM2</th>\n      <th>BM3</th>\n      <th>BM4</th>\n      <th>HiBM</th>\n    </tr>\n  </thead>\n  <tbody>\n    <tr>\n      <th>SMALL</th>\n      <td>-0.48</td>\n      <td>0.03</td>\n      <td>-0.03</td>\n      <td>0.14</td>\n      <td>0.12</td>\n    </tr>\n    <tr>\n      <th>ME2</th>\n      <td>-0.19</td>\n      <td>0.02</td>\n      <td>0.08</td>\n      <td>0.05</td>\n      <td>-0.02</td>\n    </tr>\n    <tr>\n      <th>ME3</th>\n      <td>-0.09</td>\n      <td>0.08</td>\n      <td>0.03</td>\n      <td>0.06</td>\n      <td>0.05</td>\n    </tr>\n    <tr>\n      <th>ME4</th>\n      <td>0.10</td>\n      <td>-0.05</td>\n      <td>-0.03</td>\n      <td>0.05</td>\n      <td>-0.07</td>\n    </tr>\n    <tr>\n      <th>BIG</th>\n      <td>0.16</td>\n      <td>0.01</td>\n      <td>0.02</td>\n      <td>-0.21</td>\n      <td>-0.19</td>\n    </tr>\n  </tbody>\n</table>\n</div>"
     },
     "metadata": {},
     "execution_count": 18
    }
   ],
   "source": [
    "# Alphas : pricing error from standard 3 factor farma french\n",
    "a = ff_table[\"Alphas\"]\n",
    "alphas_table = pd.DataFrame(np.zeros((5,5)),index=[\"SMALL\",\"ME2\",\"ME3\",\"ME4\",\"BIG\"],columns=[\"LoBM\",\"BM2\",\"BM3\",\"BM4\",\"HiBM\"])\n",
    "for r in range(0,5):\n",
    "    for c in range(0,5):\n",
    "        n = r * 5 + c\n",
    "        alphas_table.iloc[r,c] = a[n]\n",
    "alphas_table.round(2)"
   ]
  },
  {
   "cell_type": "code",
   "execution_count": 19,
   "metadata": {},
   "outputs": [
    {
     "output_type": "execute_result",
     "data": {
      "text/plain": [
       "       LoBM   BM2   BM3   BM4  HiBM\n",
       "SMALL -5.26  0.40 -0.56  2.86  2.22\n",
       "ME2   -3.00  0.44  1.43  1.04 -0.41\n",
       "ME3   -1.45  1.26  0.41  1.11  0.71\n",
       "ME4    1.71 -0.69 -0.43  0.81 -0.89\n",
       "BIG    3.80  0.19  0.36 -3.53 -1.98"
      ],
      "text/html": "<div>\n<style scoped>\n    .dataframe tbody tr th:only-of-type {\n        vertical-align: middle;\n    }\n\n    .dataframe tbody tr th {\n        vertical-align: top;\n    }\n\n    .dataframe thead th {\n        text-align: right;\n    }\n</style>\n<table border=\"1\" class=\"dataframe\">\n  <thead>\n    <tr style=\"text-align: right;\">\n      <th></th>\n      <th>LoBM</th>\n      <th>BM2</th>\n      <th>BM3</th>\n      <th>BM4</th>\n      <th>HiBM</th>\n    </tr>\n  </thead>\n  <tbody>\n    <tr>\n      <th>SMALL</th>\n      <td>-5.26</td>\n      <td>0.40</td>\n      <td>-0.56</td>\n      <td>2.86</td>\n      <td>2.22</td>\n    </tr>\n    <tr>\n      <th>ME2</th>\n      <td>-3.00</td>\n      <td>0.44</td>\n      <td>1.43</td>\n      <td>1.04</td>\n      <td>-0.41</td>\n    </tr>\n    <tr>\n      <th>ME3</th>\n      <td>-1.45</td>\n      <td>1.26</td>\n      <td>0.41</td>\n      <td>1.11</td>\n      <td>0.71</td>\n    </tr>\n    <tr>\n      <th>ME4</th>\n      <td>1.71</td>\n      <td>-0.69</td>\n      <td>-0.43</td>\n      <td>0.81</td>\n      <td>-0.89</td>\n    </tr>\n    <tr>\n      <th>BIG</th>\n      <td>3.80</td>\n      <td>0.19</td>\n      <td>0.36</td>\n      <td>-3.53</td>\n      <td>-1.98</td>\n    </tr>\n  </tbody>\n</table>\n</div>"
     },
     "metadata": {},
     "execution_count": 19
    }
   ],
   "source": [
    "# Alpha t values : pricing error from standard 3 factor farma french\n",
    "a = ff_table[\"Alpha tval\"]\n",
    "alpha_t_table = pd.DataFrame(np.zeros((5,5)),index=[\"SMALL\",\"ME2\",\"ME3\",\"ME4\",\"BIG\"],columns=[\"LoBM\",\"BM2\",\"BM3\",\"BM4\",\"HiBM\"])\n",
    "for r in range(0,5):\n",
    "    for c in range(0,5):\n",
    "        n = r * 5 + c\n",
    "        alpha_t_table.iloc[r,c] = a[n]\n",
    "alpha_t_table.round(2)"
   ]
  },
  {
   "cell_type": "code",
   "execution_count": 20,
   "metadata": {},
   "outputs": [
    {
     "output_type": "execute_result",
     "data": {
      "text/plain": [
       "       LoBM   BM2   BM3   BM4  HiBM\n",
       "SMALL  0.91  0.93  0.95  0.95  0.95\n",
       "ME2    0.95  0.95  0.93  0.95  0.95\n",
       "ME3    0.95  0.92  0.90  0.91  0.90\n",
       "ME4    0.93  0.89  0.88  0.89  0.87\n",
       "BIG    0.94  0.90  0.85  0.89  0.80"
      ],
      "text/html": "<div>\n<style scoped>\n    .dataframe tbody tr th:only-of-type {\n        vertical-align: middle;\n    }\n\n    .dataframe tbody tr th {\n        vertical-align: top;\n    }\n\n    .dataframe thead th {\n        text-align: right;\n    }\n</style>\n<table border=\"1\" class=\"dataframe\">\n  <thead>\n    <tr style=\"text-align: right;\">\n      <th></th>\n      <th>LoBM</th>\n      <th>BM2</th>\n      <th>BM3</th>\n      <th>BM4</th>\n      <th>HiBM</th>\n    </tr>\n  </thead>\n  <tbody>\n    <tr>\n      <th>SMALL</th>\n      <td>0.91</td>\n      <td>0.93</td>\n      <td>0.95</td>\n      <td>0.95</td>\n      <td>0.95</td>\n    </tr>\n    <tr>\n      <th>ME2</th>\n      <td>0.95</td>\n      <td>0.95</td>\n      <td>0.93</td>\n      <td>0.95</td>\n      <td>0.95</td>\n    </tr>\n    <tr>\n      <th>ME3</th>\n      <td>0.95</td>\n      <td>0.92</td>\n      <td>0.90</td>\n      <td>0.91</td>\n      <td>0.90</td>\n    </tr>\n    <tr>\n      <th>ME4</th>\n      <td>0.93</td>\n      <td>0.89</td>\n      <td>0.88</td>\n      <td>0.89</td>\n      <td>0.87</td>\n    </tr>\n    <tr>\n      <th>BIG</th>\n      <td>0.94</td>\n      <td>0.90</td>\n      <td>0.85</td>\n      <td>0.89</td>\n      <td>0.80</td>\n    </tr>\n  </tbody>\n</table>\n</div>"
     },
     "metadata": {},
     "execution_count": 20
    }
   ],
   "source": [
    "# Model R^2: explanatory power of the standard farma french 3 factor model\n",
    "a = ff_table[\"Adj R^2\"]\n",
    "r2_table = pd.DataFrame(np.zeros((5,5)),index=[\"SMALL\",\"ME2\",\"ME3\",\"ME4\",\"BIG\"],columns=[\"LoBM\",\"BM2\",\"BM3\",\"BM4\",\"HiBM\"])\n",
    "for r in range(0,5):\n",
    "    for c in range(0,5):\n",
    "        n = r * 5 + c\n",
    "        r2_table.iloc[r,c] = a[n]\n",
    "r2_table.round(2)"
   ]
  },
  {
   "cell_type": "code",
   "execution_count": 21,
   "metadata": {},
   "outputs": [
    {
     "output_type": "execute_result",
     "data": {
      "text/plain": [
       "         LoBM     BM2     BM3     BM4    HiBM\n",
       "SMALL  0.0000 -0.0001 -0.0001 -0.0000 -0.0000\n",
       "ME2   -0.0000  0.0009  0.0006  0.0005  0.0000\n",
       "ME3    0.0007  0.0007  0.0018  0.0013  0.0003\n",
       "ME4    0.0001  0.0079  0.0036  0.0009  0.0004\n",
       "BIG    0.0024  0.0048  0.0071  0.0014  0.0028"
      ],
      "text/html": "<div>\n<style scoped>\n    .dataframe tbody tr th:only-of-type {\n        vertical-align: middle;\n    }\n\n    .dataframe tbody tr th {\n        vertical-align: top;\n    }\n\n    .dataframe thead th {\n        text-align: right;\n    }\n</style>\n<table border=\"1\" class=\"dataframe\">\n  <thead>\n    <tr style=\"text-align: right;\">\n      <th></th>\n      <th>LoBM</th>\n      <th>BM2</th>\n      <th>BM3</th>\n      <th>BM4</th>\n      <th>HiBM</th>\n    </tr>\n  </thead>\n  <tbody>\n    <tr>\n      <th>SMALL</th>\n      <td>0.0000</td>\n      <td>-0.0001</td>\n      <td>-0.0001</td>\n      <td>-0.0000</td>\n      <td>-0.0000</td>\n    </tr>\n    <tr>\n      <th>ME2</th>\n      <td>-0.0000</td>\n      <td>0.0009</td>\n      <td>0.0006</td>\n      <td>0.0005</td>\n      <td>0.0000</td>\n    </tr>\n    <tr>\n      <th>ME3</th>\n      <td>0.0007</td>\n      <td>0.0007</td>\n      <td>0.0018</td>\n      <td>0.0013</td>\n      <td>0.0003</td>\n    </tr>\n    <tr>\n      <th>ME4</th>\n      <td>0.0001</td>\n      <td>0.0079</td>\n      <td>0.0036</td>\n      <td>0.0009</td>\n      <td>0.0004</td>\n    </tr>\n    <tr>\n      <th>BIG</th>\n      <td>0.0024</td>\n      <td>0.0048</td>\n      <td>0.0071</td>\n      <td>0.0014</td>\n      <td>0.0028</td>\n    </tr>\n  </tbody>\n</table>\n</div>"
     },
     "metadata": {},
     "execution_count": 21
    }
   ],
   "source": [
    "# Inv R^2 - standard R^2 : difference in explanatory power between models\n",
    "a = ff_investment_table[\"Adj R^2\"] - ff_table[\"Adj R^2\"]\n",
    "r2_diff_table = pd.DataFrame(np.zeros((5,5)),index=[\"SMALL\",\"ME2\",\"ME3\",\"ME4\",\"BIG\"],columns=[\"LoBM\",\"BM2\",\"BM3\",\"BM4\",\"HiBM\"])\n",
    "for r in range(0,5):\n",
    "    for c in range(0,5):\n",
    "        n = r * 5 + c\n",
    "        r2_diff_table.iloc[r,c] = a[n]\n",
    "\n",
    "r2_diff_table.round(4)"
   ]
  }
 ]
}