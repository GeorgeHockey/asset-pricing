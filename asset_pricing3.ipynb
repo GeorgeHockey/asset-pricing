{
 "metadata": {
  "language_info": {
   "codemirror_mode": {
    "name": "ipython",
    "version": 3
   },
   "file_extension": ".py",
   "mimetype": "text/x-python",
   "name": "python",
   "nbconvert_exporter": "python",
   "pygments_lexer": "ipython3",
   "version": "3.8.3-final"
  },
  "orig_nbformat": 2,
  "kernelspec": {
   "name": "python3",
   "display_name": "Python 3",
   "language": "python"
  }
 },
 "nbformat": 4,
 "nbformat_minor": 2,
 "cells": [
  {
   "cell_type": "code",
   "execution_count": 1,
   "metadata": {},
   "outputs": [],
   "source": [
    "import pandas as pd\n",
    "import numpy as np\n",
    "import seaborn as sns\n",
    "import matplotlib.pyplot as plt\n",
    "import statsmodels.api as sm\n",
    "import scipy.stats\n",
    "from numpy.linalg import inv\n",
    "%matplotlib inline"
   ]
  },
  {
   "cell_type": "code",
   "execution_count": 2,
   "metadata": {},
   "outputs": [],
   "source": [
    "data = pd.read_csv(\"data/Portfolios_Formed_on_INV-2.csv\",skiprows=17,index_col=0,parse_dates=True,nrows=691)\n",
    "data = data.dropna()\n",
    "data.index = pd.to_datetime(data.index,format=\"%Y%m\")\n",
    "\n",
    "factors = pd.read_csv(\"data/F-F_Research_Data_Factors.csv\",skiprows=3,index_col=0,parse_dates=True,nrows=1134)\n",
    "factors = factors.dropna()\n",
    "factors.index = pd.to_datetime(factors.index,format=\"%Y%m\")\n",
    "rm = factors[\"Mkt-RF\"]\n",
    "rf = factors[\"RF\"]\n",
    "\n",
    "portfolio_25 = pd.read_csv(\"data/25_Portfolios_5x5.csv\",skiprows=15,index_col=\"DATE\",parse_dates=True,nrows=1134)\n",
    "portfolio_25 = portfolio_25.dropna()\n",
    "portfolio_25.index = pd.to_datetime(portfolio_25.index,format=\"%Y%m\")\n",
    "\n",
    "portfolio_25 = portfolio_25[\"1963-07-01\":\"2020-06-01\"]\n",
    "data = data[\"1963-07-01\":\"2020-06-01\"]\n",
    "rm = rm[\"1963-07-01\":\"2020-06-01\"]\n",
    "rf = rf[\"1963-07-01\":\"2020-06-01\"]\n",
    "factors = factors[\"1963-07-01\":\"2020-06-01\"]\n",
    "ex_data = data.subtract(rf,axis=0)\n",
    "factors = factors.drop(\"RF\",axis=1)"
   ]
  },
  {
   "cell_type": "code",
   "execution_count": 3,
   "metadata": {},
   "outputs": [],
   "source": [
    "# b, CAPM for the 10 investment portfolios, plot alphas against investment deciles\n",
    "alphas = []\n",
    "betas = []\n",
    "for i in range(8,18):\n",
    "    y = ex_data.iloc[:,i]\n",
    "    x = sm.add_constant(rm)\n",
    "    res = sm.OLS(y,x,cov_type=\"HC0\").fit()\n",
    "    alphas.append(res.params[0])\n",
    "    betas.append(res.params[1])\n",
    "\n",
    "alphas = pd.DataFrame(alphas).T\n",
    "alphas.columns = [\"Lo 10\",\"Dec 2\", \"Dec 3\",\"Dec 4\",\"Dec 5\", \"Dec 6\", \"Dec 7\",\"Dec 8\", \"Dec 9\", \"Hi 10\"]\n",
    "alphas.index = [\"Pricing error\"]\n",
    "alphas = alphas.T"
   ]
  },
  {
   "cell_type": "code",
   "execution_count": 4,
   "metadata": {},
   "outputs": [
    {
     "output_type": "execute_result",
     "data": {
      "text/plain": [
       "       Pricing error\n",
       "Lo 10       0.167358\n",
       "Dec 2       0.233005\n",
       "Dec 3       0.185294\n",
       "Dec 4       0.103203\n",
       "Dec 5       0.090755\n",
       "Dec 6       0.051453\n",
       "Dec 7       0.115504\n",
       "Dec 8      -0.010789\n",
       "Dec 9       0.022597\n",
       "Hi 10      -0.321981"
      ],
      "text/html": "<div>\n<style scoped>\n    .dataframe tbody tr th:only-of-type {\n        vertical-align: middle;\n    }\n\n    .dataframe tbody tr th {\n        vertical-align: top;\n    }\n\n    .dataframe thead th {\n        text-align: right;\n    }\n</style>\n<table border=\"1\" class=\"dataframe\">\n  <thead>\n    <tr style=\"text-align: right;\">\n      <th></th>\n      <th>Pricing error</th>\n    </tr>\n  </thead>\n  <tbody>\n    <tr>\n      <th>Lo 10</th>\n      <td>0.167358</td>\n    </tr>\n    <tr>\n      <th>Dec 2</th>\n      <td>0.233005</td>\n    </tr>\n    <tr>\n      <th>Dec 3</th>\n      <td>0.185294</td>\n    </tr>\n    <tr>\n      <th>Dec 4</th>\n      <td>0.103203</td>\n    </tr>\n    <tr>\n      <th>Dec 5</th>\n      <td>0.090755</td>\n    </tr>\n    <tr>\n      <th>Dec 6</th>\n      <td>0.051453</td>\n    </tr>\n    <tr>\n      <th>Dec 7</th>\n      <td>0.115504</td>\n    </tr>\n    <tr>\n      <th>Dec 8</th>\n      <td>-0.010789</td>\n    </tr>\n    <tr>\n      <th>Dec 9</th>\n      <td>0.022597</td>\n    </tr>\n    <tr>\n      <th>Hi 10</th>\n      <td>-0.321981</td>\n    </tr>\n  </tbody>\n</table>\n</div>"
     },
     "metadata": {},
     "execution_count": 4
    }
   ],
   "source": [
    "alphas"
   ]
  },
  {
   "cell_type": "code",
   "execution_count": 5,
   "metadata": {},
   "outputs": [
    {
     "output_type": "display_data",
     "data": {
      "text/plain": "<Figure size 432x288 with 1 Axes>",
      "image/svg+xml": "<?xml version=\"1.0\" encoding=\"utf-8\" standalone=\"no\"?>\n<!DOCTYPE svg PUBLIC \"-//W3C//DTD SVG 1.1//EN\"\n  \"http://www.w3.org/Graphics/SVG/1.1/DTD/svg11.dtd\">\n<!-- Created with matplotlib (https://matplotlib.org/) -->\n<svg height=\"319.078125pt\" version=\"1.1\" viewBox=\"0 0 477.682812 319.078125\" width=\"477.682812pt\" xmlns=\"http://www.w3.org/2000/svg\" xmlns:xlink=\"http://www.w3.org/1999/xlink\">\n <metadata>\n  <rdf:RDF xmlns:cc=\"http://creativecommons.org/ns#\" xmlns:dc=\"http://purl.org/dc/elements/1.1/\" xmlns:rdf=\"http://www.w3.org/1999/02/22-rdf-syntax-ns#\">\n   <cc:Work>\n    <dc:type rdf:resource=\"http://purl.org/dc/dcmitype/StillImage\"/>\n    <dc:date>2021-01-30T19:19:12.067174</dc:date>\n    <dc:format>image/svg+xml</dc:format>\n    <dc:creator>\n     <cc:Agent>\n      <dc:title>Matplotlib v3.3.2, https://matplotlib.org/</dc:title>\n     </cc:Agent>\n    </dc:creator>\n   </cc:Work>\n  </rdf:RDF>\n </metadata>\n <defs>\n  <style type=\"text/css\">*{stroke-linecap:butt;stroke-linejoin:round;}</style>\n </defs>\n <g id=\"figure_1\">\n  <g id=\"patch_1\">\n   <path d=\"M 0 319.078125 \nL 477.682812 319.078125 \nL 477.682812 0 \nL 0 0 \nz\n\" style=\"fill:none;\"/>\n  </g>\n  <g id=\"axes_1\">\n   <g id=\"patch_2\">\n    <path d=\"M 38.482813 295.2 \nL 470.482813 295.2 \nL 470.482813 7.2 \nL 38.482813 7.2 \nz\n\" style=\"fill:#ffffff;\"/>\n   </g>\n   <g id=\"patch_3\">\n    <path clip-path=\"url(#p0261cfb83d)\" d=\"M 58.119176 130.212568 \nL 87.210085 130.212568 \nL 87.210085 51.260594 \nL 58.119176 51.260594 \nz\n\" style=\"fill:#1f77b4;\"/>\n   </g>\n   <g id=\"patch_4\">\n    <path clip-path=\"url(#p0261cfb83d)\" d=\"M 94.482812 130.212568 \nL 123.573722 130.212568 \nL 123.573722 20.290909 \nL 94.482812 20.290909 \nz\n\" style=\"fill:#1f77b4;\"/>\n   </g>\n   <g id=\"patch_5\">\n    <path clip-path=\"url(#p0261cfb83d)\" d=\"M 130.846449 130.212568 \nL 159.937358 130.212568 \nL 159.937358 42.799054 \nL 130.846449 42.799054 \nz\n\" style=\"fill:#1f77b4;\"/>\n   </g>\n   <g id=\"patch_6\">\n    <path clip-path=\"url(#p0261cfb83d)\" d=\"M 167.210085 130.212568 \nL 196.300994 130.212568 \nL 196.300994 81.52599 \nL 167.210085 81.52599 \nz\n\" style=\"fill:#1f77b4;\"/>\n   </g>\n   <g id=\"patch_7\">\n    <path clip-path=\"url(#p0261cfb83d)\" d=\"M 203.573722 130.212568 \nL 232.664631 130.212568 \nL 232.664631 87.398407 \nL 203.573722 87.398407 \nz\n\" style=\"fill:#1f77b4;\"/>\n   </g>\n   <g id=\"patch_8\">\n    <path clip-path=\"url(#p0261cfb83d)\" d=\"M 239.937358 130.212568 \nL 269.028267 130.212568 \nL 269.028267 105.939482 \nL 239.937358 105.939482 \nz\n\" style=\"fill:#1f77b4;\"/>\n   </g>\n   <g id=\"patch_9\">\n    <path clip-path=\"url(#p0261cfb83d)\" d=\"M 276.300994 130.212568 \nL 305.391903 130.212568 \nL 305.391903 75.723028 \nL 276.300994 75.723028 \nz\n\" style=\"fill:#1f77b4;\"/>\n   </g>\n   <g id=\"patch_10\">\n    <path clip-path=\"url(#p0261cfb83d)\" d=\"M 312.664631 130.212568 \nL 341.75554 130.212568 \nL 341.75554 135.302499 \nL 312.664631 135.302499 \nz\n\" style=\"fill:#1f77b4;\"/>\n   </g>\n   <g id=\"patch_11\">\n    <path clip-path=\"url(#p0261cfb83d)\" d=\"M 349.028267 130.212568 \nL 378.119176 130.212568 \nL 378.119176 119.552224 \nL 349.028267 119.552224 \nz\n\" style=\"fill:#1f77b4;\"/>\n   </g>\n   <g id=\"patch_12\">\n    <path clip-path=\"url(#p0261cfb83d)\" d=\"M 385.391903 130.212568 \nL 414.482813 130.212568 \nL 414.482813 282.109091 \nL 385.391903 282.109091 \nz\n\" style=\"fill:#1f77b4;\"/>\n   </g>\n   <g id=\"patch_13\">\n    <path clip-path=\"url(#p0261cfb83d)\" d=\"M 421.75554 130.212568 \nL 450.846449 130.212568 \nL 450.846449 130.212568 \nL 421.75554 130.212568 \nz\n\" style=\"fill:#1f77b4;\"/>\n   </g>\n   <g id=\"matplotlib.axis_1\">\n    <g id=\"xtick_1\">\n     <g id=\"line2d_1\">\n      <defs>\n       <path d=\"M 0 0 \nL 0 3.5 \n\" id=\"m5329e7a85b\" style=\"stroke:#000000;stroke-width:0.8;\"/>\n      </defs>\n      <g>\n       <use style=\"stroke:#000000;stroke-width:0.8;\" x=\"72.664631\" xlink:href=\"#m5329e7a85b\" y=\"295.2\"/>\n      </g>\n     </g>\n     <g id=\"text_1\">\n      <!-- Lo 10 -->\n      <g transform=\"translate(58.955256 309.798437)scale(0.1 -0.1)\">\n       <defs>\n        <path d=\"M 9.8125 72.90625 \nL 19.671875 72.90625 \nL 19.671875 8.296875 \nL 55.171875 8.296875 \nL 55.171875 0 \nL 9.8125 0 \nz\n\" id=\"DejaVuSans-76\"/>\n        <path d=\"M 30.609375 48.390625 \nQ 23.390625 48.390625 19.1875 42.75 \nQ 14.984375 37.109375 14.984375 27.296875 \nQ 14.984375 17.484375 19.15625 11.84375 \nQ 23.34375 6.203125 30.609375 6.203125 \nQ 37.796875 6.203125 41.984375 11.859375 \nQ 46.1875 17.53125 46.1875 27.296875 \nQ 46.1875 37.015625 41.984375 42.703125 \nQ 37.796875 48.390625 30.609375 48.390625 \nz\nM 30.609375 56 \nQ 42.328125 56 49.015625 48.375 \nQ 55.71875 40.765625 55.71875 27.296875 \nQ 55.71875 13.875 49.015625 6.21875 \nQ 42.328125 -1.421875 30.609375 -1.421875 \nQ 18.84375 -1.421875 12.171875 6.21875 \nQ 5.515625 13.875 5.515625 27.296875 \nQ 5.515625 40.765625 12.171875 48.375 \nQ 18.84375 56 30.609375 56 \nz\n\" id=\"DejaVuSans-111\"/>\n        <path id=\"DejaVuSans-32\"/>\n        <path d=\"M 12.40625 8.296875 \nL 28.515625 8.296875 \nL 28.515625 63.921875 \nL 10.984375 60.40625 \nL 10.984375 69.390625 \nL 28.421875 72.90625 \nL 38.28125 72.90625 \nL 38.28125 8.296875 \nL 54.390625 8.296875 \nL 54.390625 0 \nL 12.40625 0 \nz\n\" id=\"DejaVuSans-49\"/>\n        <path d=\"M 31.78125 66.40625 \nQ 24.171875 66.40625 20.328125 58.90625 \nQ 16.5 51.421875 16.5 36.375 \nQ 16.5 21.390625 20.328125 13.890625 \nQ 24.171875 6.390625 31.78125 6.390625 \nQ 39.453125 6.390625 43.28125 13.890625 \nQ 47.125 21.390625 47.125 36.375 \nQ 47.125 51.421875 43.28125 58.90625 \nQ 39.453125 66.40625 31.78125 66.40625 \nz\nM 31.78125 74.21875 \nQ 44.046875 74.21875 50.515625 64.515625 \nQ 56.984375 54.828125 56.984375 36.375 \nQ 56.984375 17.96875 50.515625 8.265625 \nQ 44.046875 -1.421875 31.78125 -1.421875 \nQ 19.53125 -1.421875 13.0625 8.265625 \nQ 6.59375 17.96875 6.59375 36.375 \nQ 6.59375 54.828125 13.0625 64.515625 \nQ 19.53125 74.21875 31.78125 74.21875 \nz\n\" id=\"DejaVuSans-48\"/>\n       </defs>\n       <use xlink:href=\"#DejaVuSans-76\"/>\n       <use x=\"53.962891\" xlink:href=\"#DejaVuSans-111\"/>\n       <use x=\"115.144531\" xlink:href=\"#DejaVuSans-32\"/>\n       <use x=\"146.931641\" xlink:href=\"#DejaVuSans-49\"/>\n       <use x=\"210.554688\" xlink:href=\"#DejaVuSans-48\"/>\n      </g>\n     </g>\n    </g>\n    <g id=\"xtick_2\">\n     <g id=\"line2d_2\">\n      <g>\n       <use style=\"stroke:#000000;stroke-width:0.8;\" x=\"109.028267\" xlink:href=\"#m5329e7a85b\" y=\"295.2\"/>\n      </g>\n     </g>\n     <g id=\"text_2\">\n      <!-- Dec 2 -->\n      <g transform=\"translate(94.582173 309.798437)scale(0.1 -0.1)\">\n       <defs>\n        <path d=\"M 19.671875 64.796875 \nL 19.671875 8.109375 \nL 31.59375 8.109375 \nQ 46.6875 8.109375 53.6875 14.9375 \nQ 60.6875 21.78125 60.6875 36.53125 \nQ 60.6875 51.171875 53.6875 57.984375 \nQ 46.6875 64.796875 31.59375 64.796875 \nz\nM 9.8125 72.90625 \nL 30.078125 72.90625 \nQ 51.265625 72.90625 61.171875 64.09375 \nQ 71.09375 55.28125 71.09375 36.53125 \nQ 71.09375 17.671875 61.125 8.828125 \nQ 51.171875 0 30.078125 0 \nL 9.8125 0 \nz\n\" id=\"DejaVuSans-68\"/>\n        <path d=\"M 56.203125 29.59375 \nL 56.203125 25.203125 \nL 14.890625 25.203125 \nQ 15.484375 15.921875 20.484375 11.0625 \nQ 25.484375 6.203125 34.421875 6.203125 \nQ 39.59375 6.203125 44.453125 7.46875 \nQ 49.3125 8.734375 54.109375 11.28125 \nL 54.109375 2.78125 \nQ 49.265625 0.734375 44.1875 -0.34375 \nQ 39.109375 -1.421875 33.890625 -1.421875 \nQ 20.796875 -1.421875 13.15625 6.1875 \nQ 5.515625 13.8125 5.515625 26.8125 \nQ 5.515625 40.234375 12.765625 48.109375 \nQ 20.015625 56 32.328125 56 \nQ 43.359375 56 49.78125 48.890625 \nQ 56.203125 41.796875 56.203125 29.59375 \nz\nM 47.21875 32.234375 \nQ 47.125 39.59375 43.09375 43.984375 \nQ 39.0625 48.390625 32.421875 48.390625 \nQ 24.90625 48.390625 20.390625 44.140625 \nQ 15.875 39.890625 15.1875 32.171875 \nz\n\" id=\"DejaVuSans-101\"/>\n        <path d=\"M 48.78125 52.59375 \nL 48.78125 44.1875 \nQ 44.96875 46.296875 41.140625 47.34375 \nQ 37.3125 48.390625 33.40625 48.390625 \nQ 24.65625 48.390625 19.8125 42.84375 \nQ 14.984375 37.3125 14.984375 27.296875 \nQ 14.984375 17.28125 19.8125 11.734375 \nQ 24.65625 6.203125 33.40625 6.203125 \nQ 37.3125 6.203125 41.140625 7.25 \nQ 44.96875 8.296875 48.78125 10.40625 \nL 48.78125 2.09375 \nQ 45.015625 0.34375 40.984375 -0.53125 \nQ 36.96875 -1.421875 32.421875 -1.421875 \nQ 20.0625 -1.421875 12.78125 6.34375 \nQ 5.515625 14.109375 5.515625 27.296875 \nQ 5.515625 40.671875 12.859375 48.328125 \nQ 20.21875 56 33.015625 56 \nQ 37.15625 56 41.109375 55.140625 \nQ 45.0625 54.296875 48.78125 52.59375 \nz\n\" id=\"DejaVuSans-99\"/>\n        <path d=\"M 19.1875 8.296875 \nL 53.609375 8.296875 \nL 53.609375 0 \nL 7.328125 0 \nL 7.328125 8.296875 \nQ 12.9375 14.109375 22.625 23.890625 \nQ 32.328125 33.6875 34.8125 36.53125 \nQ 39.546875 41.84375 41.421875 45.53125 \nQ 43.3125 49.21875 43.3125 52.78125 \nQ 43.3125 58.59375 39.234375 62.25 \nQ 35.15625 65.921875 28.609375 65.921875 \nQ 23.96875 65.921875 18.8125 64.3125 \nQ 13.671875 62.703125 7.8125 59.421875 \nL 7.8125 69.390625 \nQ 13.765625 71.78125 18.9375 73 \nQ 24.125 74.21875 28.421875 74.21875 \nQ 39.75 74.21875 46.484375 68.546875 \nQ 53.21875 62.890625 53.21875 53.421875 \nQ 53.21875 48.921875 51.53125 44.890625 \nQ 49.859375 40.875 45.40625 35.40625 \nQ 44.1875 33.984375 37.640625 27.21875 \nQ 31.109375 20.453125 19.1875 8.296875 \nz\n\" id=\"DejaVuSans-50\"/>\n       </defs>\n       <use xlink:href=\"#DejaVuSans-68\"/>\n       <use x=\"77.001953\" xlink:href=\"#DejaVuSans-101\"/>\n       <use x=\"138.525391\" xlink:href=\"#DejaVuSans-99\"/>\n       <use x=\"193.505859\" xlink:href=\"#DejaVuSans-32\"/>\n       <use x=\"225.292969\" xlink:href=\"#DejaVuSans-50\"/>\n      </g>\n     </g>\n    </g>\n    <g id=\"xtick_3\">\n     <g id=\"line2d_3\">\n      <g>\n       <use style=\"stroke:#000000;stroke-width:0.8;\" x=\"145.391903\" xlink:href=\"#m5329e7a85b\" y=\"295.2\"/>\n      </g>\n     </g>\n     <g id=\"text_3\">\n      <!-- Dec 3 -->\n      <g transform=\"translate(130.94581 309.798437)scale(0.1 -0.1)\">\n       <defs>\n        <path d=\"M 40.578125 39.3125 \nQ 47.65625 37.796875 51.625 33 \nQ 55.609375 28.21875 55.609375 21.1875 \nQ 55.609375 10.40625 48.1875 4.484375 \nQ 40.765625 -1.421875 27.09375 -1.421875 \nQ 22.515625 -1.421875 17.65625 -0.515625 \nQ 12.796875 0.390625 7.625 2.203125 \nL 7.625 11.71875 \nQ 11.71875 9.328125 16.59375 8.109375 \nQ 21.484375 6.890625 26.8125 6.890625 \nQ 36.078125 6.890625 40.9375 10.546875 \nQ 45.796875 14.203125 45.796875 21.1875 \nQ 45.796875 27.640625 41.28125 31.265625 \nQ 36.765625 34.90625 28.71875 34.90625 \nL 20.21875 34.90625 \nL 20.21875 43.015625 \nL 29.109375 43.015625 \nQ 36.375 43.015625 40.234375 45.921875 \nQ 44.09375 48.828125 44.09375 54.296875 \nQ 44.09375 59.90625 40.109375 62.90625 \nQ 36.140625 65.921875 28.71875 65.921875 \nQ 24.65625 65.921875 20.015625 65.03125 \nQ 15.375 64.15625 9.8125 62.3125 \nL 9.8125 71.09375 \nQ 15.4375 72.65625 20.34375 73.4375 \nQ 25.25 74.21875 29.59375 74.21875 \nQ 40.828125 74.21875 47.359375 69.109375 \nQ 53.90625 64.015625 53.90625 55.328125 \nQ 53.90625 49.265625 50.4375 45.09375 \nQ 46.96875 40.921875 40.578125 39.3125 \nz\n\" id=\"DejaVuSans-51\"/>\n       </defs>\n       <use xlink:href=\"#DejaVuSans-68\"/>\n       <use x=\"77.001953\" xlink:href=\"#DejaVuSans-101\"/>\n       <use x=\"138.525391\" xlink:href=\"#DejaVuSans-99\"/>\n       <use x=\"193.505859\" xlink:href=\"#DejaVuSans-32\"/>\n       <use x=\"225.292969\" xlink:href=\"#DejaVuSans-51\"/>\n      </g>\n     </g>\n    </g>\n    <g id=\"xtick_4\">\n     <g id=\"line2d_4\">\n      <g>\n       <use style=\"stroke:#000000;stroke-width:0.8;\" x=\"181.75554\" xlink:href=\"#m5329e7a85b\" y=\"295.2\"/>\n      </g>\n     </g>\n     <g id=\"text_4\">\n      <!-- Dec 4 -->\n      <g transform=\"translate(167.309446 309.798437)scale(0.1 -0.1)\">\n       <defs>\n        <path d=\"M 37.796875 64.3125 \nL 12.890625 25.390625 \nL 37.796875 25.390625 \nz\nM 35.203125 72.90625 \nL 47.609375 72.90625 \nL 47.609375 25.390625 \nL 58.015625 25.390625 \nL 58.015625 17.1875 \nL 47.609375 17.1875 \nL 47.609375 0 \nL 37.796875 0 \nL 37.796875 17.1875 \nL 4.890625 17.1875 \nL 4.890625 26.703125 \nz\n\" id=\"DejaVuSans-52\"/>\n       </defs>\n       <use xlink:href=\"#DejaVuSans-68\"/>\n       <use x=\"77.001953\" xlink:href=\"#DejaVuSans-101\"/>\n       <use x=\"138.525391\" xlink:href=\"#DejaVuSans-99\"/>\n       <use x=\"193.505859\" xlink:href=\"#DejaVuSans-32\"/>\n       <use x=\"225.292969\" xlink:href=\"#DejaVuSans-52\"/>\n      </g>\n     </g>\n    </g>\n    <g id=\"xtick_5\">\n     <g id=\"line2d_5\">\n      <g>\n       <use style=\"stroke:#000000;stroke-width:0.8;\" x=\"218.119176\" xlink:href=\"#m5329e7a85b\" y=\"295.2\"/>\n      </g>\n     </g>\n     <g id=\"text_5\">\n      <!-- Dec 5 -->\n      <g transform=\"translate(203.673082 309.798437)scale(0.1 -0.1)\">\n       <defs>\n        <path d=\"M 10.796875 72.90625 \nL 49.515625 72.90625 \nL 49.515625 64.59375 \nL 19.828125 64.59375 \nL 19.828125 46.734375 \nQ 21.96875 47.46875 24.109375 47.828125 \nQ 26.265625 48.1875 28.421875 48.1875 \nQ 40.625 48.1875 47.75 41.5 \nQ 54.890625 34.8125 54.890625 23.390625 \nQ 54.890625 11.625 47.5625 5.09375 \nQ 40.234375 -1.421875 26.90625 -1.421875 \nQ 22.3125 -1.421875 17.546875 -0.640625 \nQ 12.796875 0.140625 7.71875 1.703125 \nL 7.71875 11.625 \nQ 12.109375 9.234375 16.796875 8.0625 \nQ 21.484375 6.890625 26.703125 6.890625 \nQ 35.15625 6.890625 40.078125 11.328125 \nQ 45.015625 15.765625 45.015625 23.390625 \nQ 45.015625 31 40.078125 35.4375 \nQ 35.15625 39.890625 26.703125 39.890625 \nQ 22.75 39.890625 18.8125 39.015625 \nQ 14.890625 38.140625 10.796875 36.28125 \nz\n\" id=\"DejaVuSans-53\"/>\n       </defs>\n       <use xlink:href=\"#DejaVuSans-68\"/>\n       <use x=\"77.001953\" xlink:href=\"#DejaVuSans-101\"/>\n       <use x=\"138.525391\" xlink:href=\"#DejaVuSans-99\"/>\n       <use x=\"193.505859\" xlink:href=\"#DejaVuSans-32\"/>\n       <use x=\"225.292969\" xlink:href=\"#DejaVuSans-53\"/>\n      </g>\n     </g>\n    </g>\n    <g id=\"xtick_6\">\n     <g id=\"line2d_6\">\n      <g>\n       <use style=\"stroke:#000000;stroke-width:0.8;\" x=\"254.482812\" xlink:href=\"#m5329e7a85b\" y=\"295.2\"/>\n      </g>\n     </g>\n     <g id=\"text_6\">\n      <!-- Dec 6 -->\n      <g transform=\"translate(240.036719 309.798437)scale(0.1 -0.1)\">\n       <defs>\n        <path d=\"M 33.015625 40.375 \nQ 26.375 40.375 22.484375 35.828125 \nQ 18.609375 31.296875 18.609375 23.390625 \nQ 18.609375 15.53125 22.484375 10.953125 \nQ 26.375 6.390625 33.015625 6.390625 \nQ 39.65625 6.390625 43.53125 10.953125 \nQ 47.40625 15.53125 47.40625 23.390625 \nQ 47.40625 31.296875 43.53125 35.828125 \nQ 39.65625 40.375 33.015625 40.375 \nz\nM 52.59375 71.296875 \nL 52.59375 62.3125 \nQ 48.875 64.0625 45.09375 64.984375 \nQ 41.3125 65.921875 37.59375 65.921875 \nQ 27.828125 65.921875 22.671875 59.328125 \nQ 17.53125 52.734375 16.796875 39.40625 \nQ 19.671875 43.65625 24.015625 45.921875 \nQ 28.375 48.1875 33.59375 48.1875 \nQ 44.578125 48.1875 50.953125 41.515625 \nQ 57.328125 34.859375 57.328125 23.390625 \nQ 57.328125 12.15625 50.6875 5.359375 \nQ 44.046875 -1.421875 33.015625 -1.421875 \nQ 20.359375 -1.421875 13.671875 8.265625 \nQ 6.984375 17.96875 6.984375 36.375 \nQ 6.984375 53.65625 15.1875 63.9375 \nQ 23.390625 74.21875 37.203125 74.21875 \nQ 40.921875 74.21875 44.703125 73.484375 \nQ 48.484375 72.75 52.59375 71.296875 \nz\n\" id=\"DejaVuSans-54\"/>\n       </defs>\n       <use xlink:href=\"#DejaVuSans-68\"/>\n       <use x=\"77.001953\" xlink:href=\"#DejaVuSans-101\"/>\n       <use x=\"138.525391\" xlink:href=\"#DejaVuSans-99\"/>\n       <use x=\"193.505859\" xlink:href=\"#DejaVuSans-32\"/>\n       <use x=\"225.292969\" xlink:href=\"#DejaVuSans-54\"/>\n      </g>\n     </g>\n    </g>\n    <g id=\"xtick_7\">\n     <g id=\"line2d_7\">\n      <g>\n       <use style=\"stroke:#000000;stroke-width:0.8;\" x=\"290.846449\" xlink:href=\"#m5329e7a85b\" y=\"295.2\"/>\n      </g>\n     </g>\n     <g id=\"text_7\">\n      <!-- Dec 7 -->\n      <g transform=\"translate(276.400355 309.798437)scale(0.1 -0.1)\">\n       <defs>\n        <path d=\"M 8.203125 72.90625 \nL 55.078125 72.90625 \nL 55.078125 68.703125 \nL 28.609375 0 \nL 18.3125 0 \nL 43.21875 64.59375 \nL 8.203125 64.59375 \nz\n\" id=\"DejaVuSans-55\"/>\n       </defs>\n       <use xlink:href=\"#DejaVuSans-68\"/>\n       <use x=\"77.001953\" xlink:href=\"#DejaVuSans-101\"/>\n       <use x=\"138.525391\" xlink:href=\"#DejaVuSans-99\"/>\n       <use x=\"193.505859\" xlink:href=\"#DejaVuSans-32\"/>\n       <use x=\"225.292969\" xlink:href=\"#DejaVuSans-55\"/>\n      </g>\n     </g>\n    </g>\n    <g id=\"xtick_8\">\n     <g id=\"line2d_8\">\n      <g>\n       <use style=\"stroke:#000000;stroke-width:0.8;\" x=\"327.210085\" xlink:href=\"#m5329e7a85b\" y=\"295.2\"/>\n      </g>\n     </g>\n     <g id=\"text_8\">\n      <!-- Dec 8 -->\n      <g transform=\"translate(312.763991 309.798437)scale(0.1 -0.1)\">\n       <defs>\n        <path d=\"M 31.78125 34.625 \nQ 24.75 34.625 20.71875 30.859375 \nQ 16.703125 27.09375 16.703125 20.515625 \nQ 16.703125 13.921875 20.71875 10.15625 \nQ 24.75 6.390625 31.78125 6.390625 \nQ 38.8125 6.390625 42.859375 10.171875 \nQ 46.921875 13.96875 46.921875 20.515625 \nQ 46.921875 27.09375 42.890625 30.859375 \nQ 38.875 34.625 31.78125 34.625 \nz\nM 21.921875 38.8125 \nQ 15.578125 40.375 12.03125 44.71875 \nQ 8.5 49.078125 8.5 55.328125 \nQ 8.5 64.0625 14.71875 69.140625 \nQ 20.953125 74.21875 31.78125 74.21875 \nQ 42.671875 74.21875 48.875 69.140625 \nQ 55.078125 64.0625 55.078125 55.328125 \nQ 55.078125 49.078125 51.53125 44.71875 \nQ 48 40.375 41.703125 38.8125 \nQ 48.828125 37.15625 52.796875 32.3125 \nQ 56.78125 27.484375 56.78125 20.515625 \nQ 56.78125 9.90625 50.3125 4.234375 \nQ 43.84375 -1.421875 31.78125 -1.421875 \nQ 19.734375 -1.421875 13.25 4.234375 \nQ 6.78125 9.90625 6.78125 20.515625 \nQ 6.78125 27.484375 10.78125 32.3125 \nQ 14.796875 37.15625 21.921875 38.8125 \nz\nM 18.3125 54.390625 \nQ 18.3125 48.734375 21.84375 45.5625 \nQ 25.390625 42.390625 31.78125 42.390625 \nQ 38.140625 42.390625 41.71875 45.5625 \nQ 45.3125 48.734375 45.3125 54.390625 \nQ 45.3125 60.0625 41.71875 63.234375 \nQ 38.140625 66.40625 31.78125 66.40625 \nQ 25.390625 66.40625 21.84375 63.234375 \nQ 18.3125 60.0625 18.3125 54.390625 \nz\n\" id=\"DejaVuSans-56\"/>\n       </defs>\n       <use xlink:href=\"#DejaVuSans-68\"/>\n       <use x=\"77.001953\" xlink:href=\"#DejaVuSans-101\"/>\n       <use x=\"138.525391\" xlink:href=\"#DejaVuSans-99\"/>\n       <use x=\"193.505859\" xlink:href=\"#DejaVuSans-32\"/>\n       <use x=\"225.292969\" xlink:href=\"#DejaVuSans-56\"/>\n      </g>\n     </g>\n    </g>\n    <g id=\"xtick_9\">\n     <g id=\"line2d_9\">\n      <g>\n       <use style=\"stroke:#000000;stroke-width:0.8;\" x=\"363.573722\" xlink:href=\"#m5329e7a85b\" y=\"295.2\"/>\n      </g>\n     </g>\n     <g id=\"text_9\">\n      <!-- Dec 9 -->\n      <g transform=\"translate(349.127628 309.798437)scale(0.1 -0.1)\">\n       <defs>\n        <path d=\"M 10.984375 1.515625 \nL 10.984375 10.5 \nQ 14.703125 8.734375 18.5 7.8125 \nQ 22.3125 6.890625 25.984375 6.890625 \nQ 35.75 6.890625 40.890625 13.453125 \nQ 46.046875 20.015625 46.78125 33.40625 \nQ 43.953125 29.203125 39.59375 26.953125 \nQ 35.25 24.703125 29.984375 24.703125 \nQ 19.046875 24.703125 12.671875 31.3125 \nQ 6.296875 37.9375 6.296875 49.421875 \nQ 6.296875 60.640625 12.9375 67.421875 \nQ 19.578125 74.21875 30.609375 74.21875 \nQ 43.265625 74.21875 49.921875 64.515625 \nQ 56.59375 54.828125 56.59375 36.375 \nQ 56.59375 19.140625 48.40625 8.859375 \nQ 40.234375 -1.421875 26.421875 -1.421875 \nQ 22.703125 -1.421875 18.890625 -0.6875 \nQ 15.09375 0.046875 10.984375 1.515625 \nz\nM 30.609375 32.421875 \nQ 37.25 32.421875 41.125 36.953125 \nQ 45.015625 41.5 45.015625 49.421875 \nQ 45.015625 57.28125 41.125 61.84375 \nQ 37.25 66.40625 30.609375 66.40625 \nQ 23.96875 66.40625 20.09375 61.84375 \nQ 16.21875 57.28125 16.21875 49.421875 \nQ 16.21875 41.5 20.09375 36.953125 \nQ 23.96875 32.421875 30.609375 32.421875 \nz\n\" id=\"DejaVuSans-57\"/>\n       </defs>\n       <use xlink:href=\"#DejaVuSans-68\"/>\n       <use x=\"77.001953\" xlink:href=\"#DejaVuSans-101\"/>\n       <use x=\"138.525391\" xlink:href=\"#DejaVuSans-99\"/>\n       <use x=\"193.505859\" xlink:href=\"#DejaVuSans-32\"/>\n       <use x=\"225.292969\" xlink:href=\"#DejaVuSans-57\"/>\n      </g>\n     </g>\n    </g>\n    <g id=\"xtick_10\">\n     <g id=\"line2d_10\">\n      <g>\n       <use style=\"stroke:#000000;stroke-width:0.8;\" x=\"399.937358\" xlink:href=\"#m5329e7a85b\" y=\"295.2\"/>\n      </g>\n     </g>\n     <g id=\"text_10\">\n      <!-- Hi 10 -->\n      <g transform=\"translate(386.836577 309.798437)scale(0.1 -0.1)\">\n       <defs>\n        <path d=\"M 9.8125 72.90625 \nL 19.671875 72.90625 \nL 19.671875 43.015625 \nL 55.515625 43.015625 \nL 55.515625 72.90625 \nL 65.375 72.90625 \nL 65.375 0 \nL 55.515625 0 \nL 55.515625 34.71875 \nL 19.671875 34.71875 \nL 19.671875 0 \nL 9.8125 0 \nz\n\" id=\"DejaVuSans-72\"/>\n        <path d=\"M 9.421875 54.6875 \nL 18.40625 54.6875 \nL 18.40625 0 \nL 9.421875 0 \nz\nM 9.421875 75.984375 \nL 18.40625 75.984375 \nL 18.40625 64.59375 \nL 9.421875 64.59375 \nz\n\" id=\"DejaVuSans-105\"/>\n       </defs>\n       <use xlink:href=\"#DejaVuSans-72\"/>\n       <use x=\"75.195312\" xlink:href=\"#DejaVuSans-105\"/>\n       <use x=\"102.978516\" xlink:href=\"#DejaVuSans-32\"/>\n       <use x=\"134.765625\" xlink:href=\"#DejaVuSans-49\"/>\n       <use x=\"198.388672\" xlink:href=\"#DejaVuSans-48\"/>\n      </g>\n     </g>\n    </g>\n    <g id=\"xtick_11\">\n     <g id=\"line2d_11\">\n      <g>\n       <use style=\"stroke:#000000;stroke-width:0.8;\" x=\"436.300994\" xlink:href=\"#m5329e7a85b\" y=\"295.2\"/>\n      </g>\n     </g>\n    </g>\n   </g>\n   <g id=\"matplotlib.axis_2\">\n    <g id=\"ytick_1\">\n     <g id=\"line2d_12\">\n      <defs>\n       <path d=\"M 0 0 \nL -3.5 0 \n\" id=\"m0774d97547\" style=\"stroke:#000000;stroke-width:0.8;\"/>\n      </defs>\n      <g>\n       <use style=\"stroke:#000000;stroke-width:0.8;\" x=\"38.482813\" xlink:href=\"#m0774d97547\" y=\"271.739319\"/>\n      </g>\n     </g>\n     <g id=\"text_11\">\n      <!-- −0.3 -->\n      <g transform=\"translate(7.2 275.538538)scale(0.1 -0.1)\">\n       <defs>\n        <path d=\"M 10.59375 35.5 \nL 73.1875 35.5 \nL 73.1875 27.203125 \nL 10.59375 27.203125 \nz\n\" id=\"DejaVuSans-8722\"/>\n        <path d=\"M 10.6875 12.40625 \nL 21 12.40625 \nL 21 0 \nL 10.6875 0 \nz\n\" id=\"DejaVuSans-46\"/>\n       </defs>\n       <use xlink:href=\"#DejaVuSans-8722\"/>\n       <use x=\"83.789062\" xlink:href=\"#DejaVuSans-48\"/>\n       <use x=\"147.412109\" xlink:href=\"#DejaVuSans-46\"/>\n       <use x=\"179.199219\" xlink:href=\"#DejaVuSans-51\"/>\n      </g>\n     </g>\n    </g>\n    <g id=\"ytick_2\">\n     <g id=\"line2d_13\">\n      <g>\n       <use style=\"stroke:#000000;stroke-width:0.8;\" x=\"38.482813\" xlink:href=\"#m0774d97547\" y=\"224.563735\"/>\n      </g>\n     </g>\n     <g id=\"text_12\">\n      <!-- −0.2 -->\n      <g transform=\"translate(7.2 228.362954)scale(0.1 -0.1)\">\n       <use xlink:href=\"#DejaVuSans-8722\"/>\n       <use x=\"83.789062\" xlink:href=\"#DejaVuSans-48\"/>\n       <use x=\"147.412109\" xlink:href=\"#DejaVuSans-46\"/>\n       <use x=\"179.199219\" xlink:href=\"#DejaVuSans-50\"/>\n      </g>\n     </g>\n    </g>\n    <g id=\"ytick_3\">\n     <g id=\"line2d_14\">\n      <g>\n       <use style=\"stroke:#000000;stroke-width:0.8;\" x=\"38.482813\" xlink:href=\"#m0774d97547\" y=\"177.388152\"/>\n      </g>\n     </g>\n     <g id=\"text_13\">\n      <!-- −0.1 -->\n      <g transform=\"translate(7.2 181.18737)scale(0.1 -0.1)\">\n       <use xlink:href=\"#DejaVuSans-8722\"/>\n       <use x=\"83.789062\" xlink:href=\"#DejaVuSans-48\"/>\n       <use x=\"147.412109\" xlink:href=\"#DejaVuSans-46\"/>\n       <use x=\"179.199219\" xlink:href=\"#DejaVuSans-49\"/>\n      </g>\n     </g>\n    </g>\n    <g id=\"ytick_4\">\n     <g id=\"line2d_15\">\n      <g>\n       <use style=\"stroke:#000000;stroke-width:0.8;\" x=\"38.482813\" xlink:href=\"#m0774d97547\" y=\"130.212568\"/>\n      </g>\n     </g>\n     <g id=\"text_14\">\n      <!-- 0.0 -->\n      <g transform=\"translate(15.579688 134.011786)scale(0.1 -0.1)\">\n       <use xlink:href=\"#DejaVuSans-48\"/>\n       <use x=\"63.623047\" xlink:href=\"#DejaVuSans-46\"/>\n       <use x=\"95.410156\" xlink:href=\"#DejaVuSans-48\"/>\n      </g>\n     </g>\n    </g>\n    <g id=\"ytick_5\">\n     <g id=\"line2d_16\">\n      <g>\n       <use style=\"stroke:#000000;stroke-width:0.8;\" x=\"38.482813\" xlink:href=\"#m0774d97547\" y=\"83.036984\"/>\n      </g>\n     </g>\n     <g id=\"text_15\">\n      <!-- 0.1 -->\n      <g transform=\"translate(15.579688 86.836202)scale(0.1 -0.1)\">\n       <use xlink:href=\"#DejaVuSans-48\"/>\n       <use x=\"63.623047\" xlink:href=\"#DejaVuSans-46\"/>\n       <use x=\"95.410156\" xlink:href=\"#DejaVuSans-49\"/>\n      </g>\n     </g>\n    </g>\n    <g id=\"ytick_6\">\n     <g id=\"line2d_17\">\n      <g>\n       <use style=\"stroke:#000000;stroke-width:0.8;\" x=\"38.482813\" xlink:href=\"#m0774d97547\" y=\"35.8614\"/>\n      </g>\n     </g>\n     <g id=\"text_16\">\n      <!-- 0.2 -->\n      <g transform=\"translate(15.579688 39.660618)scale(0.1 -0.1)\">\n       <use xlink:href=\"#DejaVuSans-48\"/>\n       <use x=\"63.623047\" xlink:href=\"#DejaVuSans-46\"/>\n       <use x=\"95.410156\" xlink:href=\"#DejaVuSans-50\"/>\n      </g>\n     </g>\n    </g>\n   </g>\n   <g id=\"patch_14\">\n    <path d=\"M 38.482813 295.2 \nL 38.482813 7.2 \n\" style=\"fill:none;stroke:#000000;stroke-linecap:square;stroke-linejoin:miter;stroke-width:0.8;\"/>\n   </g>\n   <g id=\"patch_15\">\n    <path d=\"M 470.482813 295.2 \nL 470.482813 7.2 \n\" style=\"fill:none;stroke:#000000;stroke-linecap:square;stroke-linejoin:miter;stroke-width:0.8;\"/>\n   </g>\n   <g id=\"patch_16\">\n    <path d=\"M 38.482813 295.2 \nL 470.482813 295.2 \n\" style=\"fill:none;stroke:#000000;stroke-linecap:square;stroke-linejoin:miter;stroke-width:0.8;\"/>\n   </g>\n   <g id=\"patch_17\">\n    <path d=\"M 38.482813 7.2 \nL 470.482813 7.2 \n\" style=\"fill:none;stroke:#000000;stroke-linecap:square;stroke-linejoin:miter;stroke-width:0.8;\"/>\n   </g>\n  </g>\n </g>\n <defs>\n  <clipPath id=\"p0261cfb83d\">\n   <rect height=\"288\" width=\"432\" x=\"38.482813\" y=\"7.2\"/>\n  </clipPath>\n </defs>\n</svg>\n",
      "image/png": "[encoded data removed]"
     },
     "metadata": {
      "needs_background": "light"
     }
    }
   ],
   "source": [
    "\n",
    "fig = plt.figure()\n",
    "ax = fig.add_axes([0,0,1,1])\n",
    "langs = [\"Lo 10\",\"Dec 2\" ,\"Dec 3\",\"Dec 4\",\"Dec 5\", \"Dec 6\", \"Dec 7\",\"Dec 8\", \"Dec 9\", \"Hi 10\",\"\"]\n",
    "a = [alphas.iloc[0],alphas.iloc[1],alphas.iloc[2],alphas.iloc[3],alphas.iloc[4],alphas.iloc[5],alphas.iloc[6],alphas.iloc[7],alphas.iloc[8],alphas.iloc[9],0]\n",
    "ax.bar(langs,a)\n",
    "plt.show()\n"
   ]
  },
  {
   "cell_type": "code",
   "execution_count": 6,
   "metadata": {},
   "outputs": [],
   "source": [
    "inv_growth = data[\"Hi 30\"] - data[\"Lo 30\"]\n",
    "factors_inv = factors.copy()\n",
    "factors_inv[\"INV\"] = inv_growth"
   ]
  },
  {
   "cell_type": "code",
   "execution_count": 7,
   "metadata": {},
   "outputs": [],
   "source": [
    "def calc_GRS(alpha_vector, factor_dataframe, asset_returns):\n",
    "    gen_cov = factor_dataframe.cov()\n",
    "    generalized_sharpe = factor_dataframe.mean().T @ inv(gen_cov) @ factor_dataframe.mean()     #Cochrane 2005, p.217\n",
    "    cov = asset_returns.cov()\n",
    "    if isinstance(alpha_vector, list):\n",
    "        alpha_vector = np.array(alpha_vector)\n",
    "    #Calc GRS\n",
    "    df = len(asset_returns) - len(asset_returns.columns) - len(factor_dataframe.columns) # T - N - K     (N = number of assets, K = number of factors)\n",
    "    N = len(asset_returns.columns)\n",
    "    GRS = (df/ N) * ((alpha_vector.T @ inv(cov) @ alpha_vector) / (1+ generalized_sharpe))\n",
    "    p = 1-scipy.stats.f.cdf(GRS, len(asset_returns.columns), df) #find p-value of F test statistic\n",
    "    return np.round(GRS,2), p"
   ]
  },
  {
   "cell_type": "code",
   "execution_count": 8,
   "metadata": {},
   "outputs": [
    {
     "output_type": "execute_result",
     "data": {
      "text/plain": [
       "            Alpha tval  Mkt-RF tval   SMB tval   HML tval  INV tval    Alphas  \\\n",
       "SMALL LoBM   -0.955953    48.270263  43.399488  -6.260469  1.096222 -0.088237   \n",
       "ME1 BM2       5.358494    53.774390  52.342645   1.051935  0.081967  0.394331   \n",
       "ME1 BM3       6.677780    72.745816  60.485084  12.927008 -0.350418  0.349972   \n",
       "ME1 BM4      10.014632    69.538102  60.964522  20.509297  0.498911  0.516596   \n",
       "SMALL HiBM    9.349253    71.336429  58.111123  28.917505  0.946575  0.506306   \n",
       "ME2 BM1       2.807352    71.277773  44.746136 -12.553242 -0.831935  0.183423   \n",
       "ME2 BM2       6.852061    75.630992  47.736714   2.774268 -3.666211  0.379005   \n",
       "ME2 BM3       7.788852    69.442036  37.188519  13.865212 -2.494965  0.448281   \n",
       "ME2 BM4       8.430981    78.932095  42.748041  23.939259 -2.722922  0.419781   \n",
       "ME2 BM5       6.635245    82.345207  48.454624  33.567033  1.154793  0.354514   \n",
       "ME3 BM1       5.088858    75.046973  35.794871 -13.132657  3.019949  0.304453   \n",
       "ME3 BM2       7.523914    69.615637  28.002524   3.626705 -2.820902  0.456971   \n",
       "ME3 BM3       5.961105    66.093295  20.559456  12.693878 -3.692453  0.365956   \n",
       "ME3 BM4       7.831247    70.751701  21.696888  21.790739 -3.042970  0.452116   \n",
       "ME3 BM5       5.177598    60.847530  22.386691  23.691144 -1.807452  0.379108   \n",
       "ME4 BM1       8.021875    72.854516  18.916327 -13.920945  1.291130  0.483090   \n",
       "ME4 BM2       4.722564    70.632876   9.721904   2.279030 -7.365674  0.299032   \n",
       "ME4 BM3       4.819310    64.042255   7.412701  11.297576 -4.703387  0.326170   \n",
       "ME4 BM4       6.365528    64.749302   9.424990  18.195327 -2.929927  0.415699   \n",
       "ME4 BM5       3.555919    60.030425  10.306585  22.517766 -0.903785  0.280746   \n",
       "BIG LoBM     12.944188    90.654195 -16.373462 -14.761720  5.550549  0.556549   \n",
       "ME5 BM2       6.775725    76.835231 -10.722943  -0.928615 -6.627429  0.361412   \n",
       "ME5 BM3       5.695659    62.988141 -11.140287   6.872486 -5.315982  0.359450   \n",
       "ME5 BM4       2.437163    69.435069 -10.511726  22.298549 -3.407698  0.149575   \n",
       "BIG HiBM      2.141614    46.259501  -4.843262  21.132840  3.244539  0.209304   \n",
       "\n",
       "             Adj R^2  \n",
       "SMALL LoBM  0.910286  \n",
       "ME1 BM2     0.925893  \n",
       "ME1 BM3     0.949873  \n",
       "ME1 BM4     0.947335  \n",
       "SMALL HiBM  0.947196  \n",
       "ME2 BM1     0.944964  \n",
       "ME2 BM2     0.944262  \n",
       "ME2 BM3     0.926285  \n",
       "ME2 BM4     0.942451  \n",
       "ME2 BM5     0.950579  \n",
       "ME3 BM1     0.945242  \n",
       "ME3 BM2     0.919282  \n",
       "ME3 BM3     0.900978  \n",
       "ME3 BM4     0.913644  \n",
       "ME3 BM5     0.894469  \n",
       "ME4 BM1     0.930470  \n",
       "ME4 BM2     0.899817  \n",
       "ME4 BM3     0.878661  \n",
       "ME4 BM4     0.885859  \n",
       "ME4 BM5     0.876102  \n",
       "BIG LoBM    0.942260  \n",
       "ME5 BM2     0.903158  \n",
       "ME5 BM3     0.858427  \n",
       "ME5 BM4     0.888275  \n",
       "BIG HiBM    0.796729  "
      ],
      "text/html": "<div>\n<style scoped>\n    .dataframe tbody tr th:only-of-type {\n        vertical-align: middle;\n    }\n\n    .dataframe tbody tr th {\n        vertical-align: top;\n    }\n\n    .dataframe thead th {\n        text-align: right;\n    }\n</style>\n<table border=\"1\" class=\"dataframe\">\n  <thead>\n    <tr style=\"text-align: right;\">\n      <th></th>\n      <th>Alpha tval</th>\n      <th>Mkt-RF tval</th>\n      <th>SMB tval</th>\n      <th>HML tval</th>\n      <th>INV tval</th>\n      <th>Alphas</th>\n      <th>Adj R^2</th>\n    </tr>\n  </thead>\n  <tbody>\n    <tr>\n      <th>SMALL LoBM</th>\n      <td>-0.955953</td>\n      <td>48.270263</td>\n      <td>43.399488</td>\n      <td>-6.260469</td>\n      <td>1.096222</td>\n      <td>-0.088237</td>\n      <td>0.910286</td>\n    </tr>\n    <tr>\n      <th>ME1 BM2</th>\n      <td>5.358494</td>\n      <td>53.774390</td>\n      <td>52.342645</td>\n      <td>1.051935</td>\n      <td>0.081967</td>\n      <td>0.394331</td>\n      <td>0.925893</td>\n    </tr>\n    <tr>\n      <th>ME1 BM3</th>\n      <td>6.677780</td>\n      <td>72.745816</td>\n      <td>60.485084</td>\n      <td>12.927008</td>\n      <td>-0.350418</td>\n      <td>0.349972</td>\n      <td>0.949873</td>\n    </tr>\n    <tr>\n      <th>ME1 BM4</th>\n      <td>10.014632</td>\n      <td>69.538102</td>\n      <td>60.964522</td>\n      <td>20.509297</td>\n      <td>0.498911</td>\n      <td>0.516596</td>\n      <td>0.947335</td>\n    </tr>\n    <tr>\n      <th>SMALL HiBM</th>\n      <td>9.349253</td>\n      <td>71.336429</td>\n      <td>58.111123</td>\n      <td>28.917505</td>\n      <td>0.946575</td>\n      <td>0.506306</td>\n      <td>0.947196</td>\n    </tr>\n    <tr>\n      <th>ME2 BM1</th>\n      <td>2.807352</td>\n      <td>71.277773</td>\n      <td>44.746136</td>\n      <td>-12.553242</td>\n      <td>-0.831935</td>\n      <td>0.183423</td>\n      <td>0.944964</td>\n    </tr>\n    <tr>\n      <th>ME2 BM2</th>\n      <td>6.852061</td>\n      <td>75.630992</td>\n      <td>47.736714</td>\n      <td>2.774268</td>\n      <td>-3.666211</td>\n      <td>0.379005</td>\n      <td>0.944262</td>\n    </tr>\n    <tr>\n      <th>ME2 BM3</th>\n      <td>7.788852</td>\n      <td>69.442036</td>\n      <td>37.188519</td>\n      <td>13.865212</td>\n      <td>-2.494965</td>\n      <td>0.448281</td>\n      <td>0.926285</td>\n    </tr>\n    <tr>\n      <th>ME2 BM4</th>\n      <td>8.430981</td>\n      <td>78.932095</td>\n      <td>42.748041</td>\n      <td>23.939259</td>\n      <td>-2.722922</td>\n      <td>0.419781</td>\n      <td>0.942451</td>\n    </tr>\n    <tr>\n      <th>ME2 BM5</th>\n      <td>6.635245</td>\n      <td>82.345207</td>\n      <td>48.454624</td>\n      <td>33.567033</td>\n      <td>1.154793</td>\n      <td>0.354514</td>\n      <td>0.950579</td>\n    </tr>\n    <tr>\n      <th>ME3 BM1</th>\n      <td>5.088858</td>\n      <td>75.046973</td>\n      <td>35.794871</td>\n      <td>-13.132657</td>\n      <td>3.019949</td>\n      <td>0.304453</td>\n      <td>0.945242</td>\n    </tr>\n    <tr>\n      <th>ME3 BM2</th>\n      <td>7.523914</td>\n      <td>69.615637</td>\n      <td>28.002524</td>\n      <td>3.626705</td>\n      <td>-2.820902</td>\n      <td>0.456971</td>\n      <td>0.919282</td>\n    </tr>\n    <tr>\n      <th>ME3 BM3</th>\n      <td>5.961105</td>\n      <td>66.093295</td>\n      <td>20.559456</td>\n      <td>12.693878</td>\n      <td>-3.692453</td>\n      <td>0.365956</td>\n      <td>0.900978</td>\n    </tr>\n    <tr>\n      <th>ME3 BM4</th>\n      <td>7.831247</td>\n      <td>70.751701</td>\n      <td>21.696888</td>\n      <td>21.790739</td>\n      <td>-3.042970</td>\n      <td>0.452116</td>\n      <td>0.913644</td>\n    </tr>\n    <tr>\n      <th>ME3 BM5</th>\n      <td>5.177598</td>\n      <td>60.847530</td>\n      <td>22.386691</td>\n      <td>23.691144</td>\n      <td>-1.807452</td>\n      <td>0.379108</td>\n      <td>0.894469</td>\n    </tr>\n    <tr>\n      <th>ME4 BM1</th>\n      <td>8.021875</td>\n      <td>72.854516</td>\n      <td>18.916327</td>\n      <td>-13.920945</td>\n      <td>1.291130</td>\n      <td>0.483090</td>\n      <td>0.930470</td>\n    </tr>\n    <tr>\n      <th>ME4 BM2</th>\n      <td>4.722564</td>\n      <td>70.632876</td>\n      <td>9.721904</td>\n      <td>2.279030</td>\n      <td>-7.365674</td>\n      <td>0.299032</td>\n      <td>0.899817</td>\n    </tr>\n    <tr>\n      <th>ME4 BM3</th>\n      <td>4.819310</td>\n      <td>64.042255</td>\n      <td>7.412701</td>\n      <td>11.297576</td>\n      <td>-4.703387</td>\n      <td>0.326170</td>\n      <td>0.878661</td>\n    </tr>\n    <tr>\n      <th>ME4 BM4</th>\n      <td>6.365528</td>\n      <td>64.749302</td>\n      <td>9.424990</td>\n      <td>18.195327</td>\n      <td>-2.929927</td>\n      <td>0.415699</td>\n      <td>0.885859</td>\n    </tr>\n    <tr>\n      <th>ME4 BM5</th>\n      <td>3.555919</td>\n      <td>60.030425</td>\n      <td>10.306585</td>\n      <td>22.517766</td>\n      <td>-0.903785</td>\n      <td>0.280746</td>\n      <td>0.876102</td>\n    </tr>\n    <tr>\n      <th>BIG LoBM</th>\n      <td>12.944188</td>\n      <td>90.654195</td>\n      <td>-16.373462</td>\n      <td>-14.761720</td>\n      <td>5.550549</td>\n      <td>0.556549</td>\n      <td>0.942260</td>\n    </tr>\n    <tr>\n      <th>ME5 BM2</th>\n      <td>6.775725</td>\n      <td>76.835231</td>\n      <td>-10.722943</td>\n      <td>-0.928615</td>\n      <td>-6.627429</td>\n      <td>0.361412</td>\n      <td>0.903158</td>\n    </tr>\n    <tr>\n      <th>ME5 BM3</th>\n      <td>5.695659</td>\n      <td>62.988141</td>\n      <td>-11.140287</td>\n      <td>6.872486</td>\n      <td>-5.315982</td>\n      <td>0.359450</td>\n      <td>0.858427</td>\n    </tr>\n    <tr>\n      <th>ME5 BM4</th>\n      <td>2.437163</td>\n      <td>69.435069</td>\n      <td>-10.511726</td>\n      <td>22.298549</td>\n      <td>-3.407698</td>\n      <td>0.149575</td>\n      <td>0.888275</td>\n    </tr>\n    <tr>\n      <th>BIG HiBM</th>\n      <td>2.141614</td>\n      <td>46.259501</td>\n      <td>-4.843262</td>\n      <td>21.132840</td>\n      <td>3.244539</td>\n      <td>0.209304</td>\n      <td>0.796729</td>\n    </tr>\n  </tbody>\n</table>\n</div>"
     },
     "metadata": {},
     "execution_count": 8
    }
   ],
   "source": [
    "# 3 d\n",
    "\n",
    "inv_alphas = []\n",
    "inv_tvalues = []\n",
    "inv_adj_rsq = []\n",
    "\n",
    "for column in portfolio_25:\n",
    "    x = sm.add_constant(factors_inv)\n",
    "    y = portfolio_25[column]\n",
    "    res = sm.OLS(y,x,cov_type=\"HC0\").fit()\n",
    "    inv_alphas.append(res.params[0])\n",
    "    inv_tvalues.append(res.tvalues)\n",
    "    inv_adj_rsq.append(res.rsquared_adj)\n",
    "\n",
    "\n",
    "grs_a = inv_alphas\n",
    "ff_investment_table = pd.DataFrame(inv_tvalues)\n",
    "inv_alphas = pd.DataFrame(inv_alphas)\n",
    "inv_alphas.columns = [\"alphas\"]\n",
    "inv_adj_rsq = pd.DataFrame(inv_adj_rsq)\n",
    "inv_adj_rsq.columns = [\"Adjusted R Squared\"]\n",
    "ff_investment_table[\"Alphas\"] = inv_alphas\n",
    "ff_investment_table[\"Adjusted R^2\"] = inv_adj_rsq\n",
    "ff_investment_table.columns = [\"Alpha tval\", \"Mkt-RF tval\",\"SMB tval\",\"HML tval\", \"INV tval\",\"Alphas\",\"Adj R^2\"]\n",
    "ff_investment_table.index = portfolio_25.columns\n",
    "ff_investment_table"
   ]
  },
  {
   "cell_type": "code",
   "execution_count": 9,
   "metadata": {},
   "outputs": [
    {
     "output_type": "execute_result",
     "data": {
      "text/plain": [
       "            Alpha tval  Mkt-RF tval   SMB tval   HML tval    Alphas   Adj R^2\n",
       "SMALL LoBM   -1.032013    50.311514  43.426278  -8.810059 -0.095055  0.910260\n",
       "ME1 BM2       5.369088    55.787860  52.394565   1.272987  0.393924  0.926001\n",
       "ME1 BM3       6.720995    75.337735  60.530411  16.706377  0.351209  0.949938\n",
       "ME1 BM4      10.009280    72.235789  61.022719  25.676189  0.514862  0.947393\n",
       "SMALL HiBM    9.307333    74.186772  58.148952  35.994970  0.502852  0.947204\n",
       "ME2 BM1       2.870584    73.653651  44.748699 -15.298067  0.187086  0.944989\n",
       "ME2 BM2       7.051066    76.679553  47.239224   6.338362  0.392670  0.943242\n",
       "ME2 BM3       7.944635    71.010414  37.001899  19.492593  0.457957  0.925719\n",
       "ME2 BM4       8.593649    80.675414  42.499730  32.390497  0.428917  0.941909\n",
       "ME2 BM5       6.570757    85.624762  48.478363  41.725143  0.350357  0.950555\n",
       "ME3 BM1       4.867516    78.124629  35.655130 -18.935305  0.292278  0.944588\n",
       "ME3 BM2       7.692317    71.011662  27.806858   6.782141  0.468516  0.918456\n",
       "ME3 BM3       6.167034    66.868718  20.297716  18.843211  0.381231  0.899139\n",
       "ME3 BM4       8.006123    72.054649  21.506725  29.883422  0.463954  0.912595\n",
       "ME3 BM5       5.302632    62.459285  22.316080  31.458196  0.388026  0.894117\n",
       "ME4 BM1       7.949052    75.810713  18.938863 -18.685940  0.477851  0.930402\n",
       "ME4 BM2       5.037253    68.559084   9.213134   8.344398  0.330459  0.891971\n",
       "ME4 BM3       5.069806    64.098996   7.203104  17.761916  0.347620  0.874892\n",
       "ME4 BM4       6.541527    65.934862   9.312878  25.268059  0.428592  0.884586\n",
       "ME4 BM5       3.625546    61.970499  10.291046  29.316108  0.285554  0.876136\n",
       "BIG LoBM     12.331425    93.425003 -15.913796 -22.609530  0.540468  0.939729\n",
       "ME5 BM2       7.020572    75.475364 -10.539128   3.891093  0.385232  0.897045\n",
       "ME5 BM3       5.949579    62.585922 -11.037092  12.643445  0.382057  0.852751\n",
       "ME5 BM4       2.652245    70.479589 -10.505104  30.756076  0.163667  0.886532\n",
       "BIG HiBM      1.914005    48.480688  -4.742092  24.134805  0.187937  0.793881"
      ],
      "text/html": "<div>\n<style scoped>\n    .dataframe tbody tr th:only-of-type {\n        vertical-align: middle;\n    }\n\n    .dataframe tbody tr th {\n        vertical-align: top;\n    }\n\n    .dataframe thead th {\n        text-align: right;\n    }\n</style>\n<table border=\"1\" class=\"dataframe\">\n  <thead>\n    <tr style=\"text-align: right;\">\n      <th></th>\n      <th>Alpha tval</th>\n      <th>Mkt-RF tval</th>\n      <th>SMB tval</th>\n      <th>HML tval</th>\n      <th>Alphas</th>\n      <th>Adj R^2</th>\n    </tr>\n  </thead>\n  <tbody>\n    <tr>\n      <th>SMALL LoBM</th>\n      <td>-1.032013</td>\n      <td>50.311514</td>\n      <td>43.426278</td>\n      <td>-8.810059</td>\n      <td>-0.095055</td>\n      <td>0.910260</td>\n    </tr>\n    <tr>\n      <th>ME1 BM2</th>\n      <td>5.369088</td>\n      <td>55.787860</td>\n      <td>52.394565</td>\n      <td>1.272987</td>\n      <td>0.393924</td>\n      <td>0.926001</td>\n    </tr>\n    <tr>\n      <th>ME1 BM3</th>\n      <td>6.720995</td>\n      <td>75.337735</td>\n      <td>60.530411</td>\n      <td>16.706377</td>\n      <td>0.351209</td>\n      <td>0.949938</td>\n    </tr>\n    <tr>\n      <th>ME1 BM4</th>\n      <td>10.009280</td>\n      <td>72.235789</td>\n      <td>61.022719</td>\n      <td>25.676189</td>\n      <td>0.514862</td>\n      <td>0.947393</td>\n    </tr>\n    <tr>\n      <th>SMALL HiBM</th>\n      <td>9.307333</td>\n      <td>74.186772</td>\n      <td>58.148952</td>\n      <td>35.994970</td>\n      <td>0.502852</td>\n      <td>0.947204</td>\n    </tr>\n    <tr>\n      <th>ME2 BM1</th>\n      <td>2.870584</td>\n      <td>73.653651</td>\n      <td>44.748699</td>\n      <td>-15.298067</td>\n      <td>0.187086</td>\n      <td>0.944989</td>\n    </tr>\n    <tr>\n      <th>ME2 BM2</th>\n      <td>7.051066</td>\n      <td>76.679553</td>\n      <td>47.239224</td>\n      <td>6.338362</td>\n      <td>0.392670</td>\n      <td>0.943242</td>\n    </tr>\n    <tr>\n      <th>ME2 BM3</th>\n      <td>7.944635</td>\n      <td>71.010414</td>\n      <td>37.001899</td>\n      <td>19.492593</td>\n      <td>0.457957</td>\n      <td>0.925719</td>\n    </tr>\n    <tr>\n      <th>ME2 BM4</th>\n      <td>8.593649</td>\n      <td>80.675414</td>\n      <td>42.499730</td>\n      <td>32.390497</td>\n      <td>0.428917</td>\n      <td>0.941909</td>\n    </tr>\n    <tr>\n      <th>ME2 BM5</th>\n      <td>6.570757</td>\n      <td>85.624762</td>\n      <td>48.478363</td>\n      <td>41.725143</td>\n      <td>0.350357</td>\n      <td>0.950555</td>\n    </tr>\n    <tr>\n      <th>ME3 BM1</th>\n      <td>4.867516</td>\n      <td>78.124629</td>\n      <td>35.655130</td>\n      <td>-18.935305</td>\n      <td>0.292278</td>\n      <td>0.944588</td>\n    </tr>\n    <tr>\n      <th>ME3 BM2</th>\n      <td>7.692317</td>\n      <td>71.011662</td>\n      <td>27.806858</td>\n      <td>6.782141</td>\n      <td>0.468516</td>\n      <td>0.918456</td>\n    </tr>\n    <tr>\n      <th>ME3 BM3</th>\n      <td>6.167034</td>\n      <td>66.868718</td>\n      <td>20.297716</td>\n      <td>18.843211</td>\n      <td>0.381231</td>\n      <td>0.899139</td>\n    </tr>\n    <tr>\n      <th>ME3 BM4</th>\n      <td>8.006123</td>\n      <td>72.054649</td>\n      <td>21.506725</td>\n      <td>29.883422</td>\n      <td>0.463954</td>\n      <td>0.912595</td>\n    </tr>\n    <tr>\n      <th>ME3 BM5</th>\n      <td>5.302632</td>\n      <td>62.459285</td>\n      <td>22.316080</td>\n      <td>31.458196</td>\n      <td>0.388026</td>\n      <td>0.894117</td>\n    </tr>\n    <tr>\n      <th>ME4 BM1</th>\n      <td>7.949052</td>\n      <td>75.810713</td>\n      <td>18.938863</td>\n      <td>-18.685940</td>\n      <td>0.477851</td>\n      <td>0.930402</td>\n    </tr>\n    <tr>\n      <th>ME4 BM2</th>\n      <td>5.037253</td>\n      <td>68.559084</td>\n      <td>9.213134</td>\n      <td>8.344398</td>\n      <td>0.330459</td>\n      <td>0.891971</td>\n    </tr>\n    <tr>\n      <th>ME4 BM3</th>\n      <td>5.069806</td>\n      <td>64.098996</td>\n      <td>7.203104</td>\n      <td>17.761916</td>\n      <td>0.347620</td>\n      <td>0.874892</td>\n    </tr>\n    <tr>\n      <th>ME4 BM4</th>\n      <td>6.541527</td>\n      <td>65.934862</td>\n      <td>9.312878</td>\n      <td>25.268059</td>\n      <td>0.428592</td>\n      <td>0.884586</td>\n    </tr>\n    <tr>\n      <th>ME4 BM5</th>\n      <td>3.625546</td>\n      <td>61.970499</td>\n      <td>10.291046</td>\n      <td>29.316108</td>\n      <td>0.285554</td>\n      <td>0.876136</td>\n    </tr>\n    <tr>\n      <th>BIG LoBM</th>\n      <td>12.331425</td>\n      <td>93.425003</td>\n      <td>-15.913796</td>\n      <td>-22.609530</td>\n      <td>0.540468</td>\n      <td>0.939729</td>\n    </tr>\n    <tr>\n      <th>ME5 BM2</th>\n      <td>7.020572</td>\n      <td>75.475364</td>\n      <td>-10.539128</td>\n      <td>3.891093</td>\n      <td>0.385232</td>\n      <td>0.897045</td>\n    </tr>\n    <tr>\n      <th>ME5 BM3</th>\n      <td>5.949579</td>\n      <td>62.585922</td>\n      <td>-11.037092</td>\n      <td>12.643445</td>\n      <td>0.382057</td>\n      <td>0.852751</td>\n    </tr>\n    <tr>\n      <th>ME5 BM4</th>\n      <td>2.652245</td>\n      <td>70.479589</td>\n      <td>-10.505104</td>\n      <td>30.756076</td>\n      <td>0.163667</td>\n      <td>0.886532</td>\n    </tr>\n    <tr>\n      <th>BIG HiBM</th>\n      <td>1.914005</td>\n      <td>48.480688</td>\n      <td>-4.742092</td>\n      <td>24.134805</td>\n      <td>0.187937</td>\n      <td>0.793881</td>\n    </tr>\n  </tbody>\n</table>\n</div>"
     },
     "metadata": {},
     "execution_count": 9
    }
   ],
   "source": [
    "ff_alphas = []\n",
    "ff_tvalues = []\n",
    "ff_adj_rsq = []\n",
    "\n",
    "for column in portfolio_25:\n",
    "    x = sm.add_constant(factors)\n",
    "    y = portfolio_25[column]\n",
    "    res = sm.OLS(y,x,cov_type=\"HC0\").fit()\n",
    "    ff_alphas.append(res.params[0])\n",
    "    ff_tvalues.append(res.tvalues)\n",
    "    ff_adj_rsq.append(res.rsquared_adj)\n",
    "\n",
    "grs_b = ff_alphas\n",
    "ff_table = pd.DataFrame(ff_tvalues)\n",
    "ff_alphas = pd.DataFrame(ff_alphas)\n",
    "ff_alphas.columns = [\"alphas\"]\n",
    "ff_adj_rsq = pd.DataFrame(ff_adj_rsq)\n",
    "ff_adj_rsq.columns = [\"Adjusted R Squared\"]\n",
    "ff_table[\"Alphas\"] = ff_alphas\n",
    "ff_table[\"Adjusted R^2\"] = ff_adj_rsq\n",
    "ff_table.columns = [\"Alpha tval\", \"Mkt-RF tval\",\"SMB tval\",\"HML tval\",\"Alphas\",\"Adj R^2\"]\n",
    "ff_table.index = portfolio_25.columns\n",
    "ff_table"
   ]
  },
  {
   "cell_type": "code",
   "execution_count": 10,
   "metadata": {},
   "outputs": [
    {
     "output_type": "execute_result",
     "data": {
      "text/plain": [
       "(4.65, 1.8728352202401766e-12)"
      ]
     },
     "metadata": {},
     "execution_count": 10
    }
   ],
   "source": [
    "# GRS and p values for ff and investment\n",
    "inv_GRS, inv_p = calc_GRS(grs_a,factors_inv,portfolio_25)\n",
    "inv_GRS, inv_p"
   ]
  },
  {
   "cell_type": "code",
   "execution_count": 11,
   "metadata": {},
   "outputs": [
    {
     "output_type": "execute_result",
     "data": {
      "text/plain": [
       "(4.55, 4.7488679655316446e-12)"
      ]
     },
     "metadata": {},
     "execution_count": 11
    }
   ],
   "source": [
    "# GRS and p values for ff alone\n",
    "ff_GRS, ff_p = calc_GRS(grs_b,factors_inv,portfolio_25)\n",
    "ff_GRS, ff_p"
   ]
  }
 ]
}